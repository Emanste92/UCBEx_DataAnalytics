{
 "cells": [
  {
   "cell_type": "markdown",
   "metadata": {},
   "source": [
    "# WeatherPy\n",
    "----\n",
    "\n",
    "### Analysis\n",
    "* As expected, the weather becomes significantly warmer as one approaches the equator (0 Deg. Latitude). More interestingly, however, is the fact that the southern hemisphere tends to be warmer this time of year than the northern hemisphere. This may be due to the tilt of the earth.\n",
    "* There is no strong relationship between latitude and cloudiness. However, it is interesting to see that a strong band of cities sits at 0, 80, and 100% cloudiness.\n",
    "* There is no strong relationship between latitude and wind speed. However, in northern hemispheres there is a flurry of cities with over 20 mph of wind.\n",
    "\n",
    "---\n",
    "\n",
    "#### Note\n",
    "* Instructions have been included for each segment. You do not have to follow them exactly, but they are included to help you think through the steps."
   ]
  },
  {
   "cell_type": "code",
   "execution_count": null,
   "metadata": {},
   "outputs": [],
   "source": [
    "# Installing citipy via jupyter notebook\n",
    "# to determine city based on latitude and longitude\n",
    "# ! pip install citipy"
   ]
  },
  {
   "cell_type": "code",
   "execution_count": 55,
   "metadata": {
    "scrolled": true
   },
   "outputs": [],
   "source": [
    "# Importing packages and API key\n",
    "% matplotlib notebook\n",
    "import matplotlib.pyplot as plt\n",
    "import pandas as pd\n",
    "import numpy as np\n",
    "import requests\n",
    "import time\n",
    "from pprint import pprint\n",
    "from citipy import citipy\n",
    "from IPython.core.interactiveshell import InteractiveShell\n",
    "InteractiveShell.ast_node_interactivity = \"all\"\n",
    "# Remember to enter in the cell twice for this to work\n",
    "from weatherweatherlang import owm_key\n",
    "\n",
    "# Creating variables for range for latitude and longitude\n",
    "lat_range = (-90, 90)\n",
    "lon_range = (-180, 180)\n",
    "\n",
    "# Creating lists for holding lat_lons, cities, and country codes\n",
    "lat_lons = []\n",
    "cities = []\n",
    "countries = []"
   ]
  },
  {
   "cell_type": "markdown",
   "metadata": {},
   "source": [
    "## Generate Cities List"
   ]
  },
  {
   "cell_type": "code",
   "execution_count": 2,
   "metadata": {},
   "outputs": [
    {
     "data": {
      "text/plain": [
       "626"
      ]
     },
     "execution_count": 2,
     "metadata": {},
     "output_type": "execute_result"
    }
   ],
   "source": [
    "# When running, need to reset everything so that we're \n",
    "# not generating too many API calls\n",
    "\n",
    "# Creating a set of random lat and lon combinations\n",
    "lats = np.random.uniform(low=-90.000, high=90.000, size=1500)\n",
    "lons = np.random.uniform(low=-180.000, high=180.000, size=1500)\n",
    "lat_lons = zip(lats, lons)\n",
    "\n",
    "# Identifing nearest city for each lat, lon combination\n",
    "# (Using functions and variables already defined in citipy)\n",
    "for lat_lon in lat_lons:\n",
    "    city = citipy.nearest_city(lat_lon[0], lat_lon[1]).city_name\n",
    "    country = citipy.nearest_city(lat_lon[0], lat_lon[1]).country_code\n",
    "    \n",
    "# Making sure that duplicate cities are not added by making\n",
    "# appends conditional\n",
    "    if city not in cities:\n",
    "        cities.append(city)\n",
    "        countries.append(country)\n",
    "\n",
    "# Printing the city count to confirm sufficient \n",
    "# count for JSON requests\n",
    "len(cities)"
   ]
  },
  {
   "cell_type": "code",
   "execution_count": 3,
   "metadata": {},
   "outputs": [
    {
     "data": {
      "text/html": [
       "<div>\n",
       "<style scoped>\n",
       "    .dataframe tbody tr th:only-of-type {\n",
       "        vertical-align: middle;\n",
       "    }\n",
       "\n",
       "    .dataframe tbody tr th {\n",
       "        vertical-align: top;\n",
       "    }\n",
       "\n",
       "    .dataframe thead th {\n",
       "        text-align: right;\n",
       "    }\n",
       "</style>\n",
       "<table border=\"1\" class=\"dataframe\">\n",
       "  <thead>\n",
       "    <tr style=\"text-align: right;\">\n",
       "      <th></th>\n",
       "      <th>City</th>\n",
       "      <th>Country Code</th>\n",
       "    </tr>\n",
       "  </thead>\n",
       "  <tbody>\n",
       "    <tr>\n",
       "      <th>0</th>\n",
       "      <td>northam</td>\n",
       "      <td>au</td>\n",
       "    </tr>\n",
       "    <tr>\n",
       "      <th>1</th>\n",
       "      <td>khani</td>\n",
       "      <td>ru</td>\n",
       "    </tr>\n",
       "    <tr>\n",
       "      <th>2</th>\n",
       "      <td>namibe</td>\n",
       "      <td>ao</td>\n",
       "    </tr>\n",
       "  </tbody>\n",
       "</table>\n",
       "</div>"
      ],
      "text/plain": [
       "      City Country Code\n",
       "0  northam           au\n",
       "1    khani           ru\n",
       "2   namibe           ao"
      ]
     },
     "execution_count": 3,
     "metadata": {},
     "output_type": "execute_result"
    },
    {
     "data": {
      "text/html": [
       "<div>\n",
       "<style scoped>\n",
       "    .dataframe tbody tr th:only-of-type {\n",
       "        vertical-align: middle;\n",
       "    }\n",
       "\n",
       "    .dataframe tbody tr th {\n",
       "        vertical-align: top;\n",
       "    }\n",
       "\n",
       "    .dataframe thead th {\n",
       "        text-align: right;\n",
       "    }\n",
       "</style>\n",
       "<table border=\"1\" class=\"dataframe\">\n",
       "  <thead>\n",
       "    <tr style=\"text-align: right;\">\n",
       "      <th></th>\n",
       "      <th>City</th>\n",
       "      <th>Country Code</th>\n",
       "    </tr>\n",
       "  </thead>\n",
       "  <tbody>\n",
       "    <tr>\n",
       "      <th>623</th>\n",
       "      <td>cagliliog</td>\n",
       "      <td>ph</td>\n",
       "    </tr>\n",
       "    <tr>\n",
       "      <th>624</th>\n",
       "      <td>kindia</td>\n",
       "      <td>gn</td>\n",
       "    </tr>\n",
       "    <tr>\n",
       "      <th>625</th>\n",
       "      <td>itaituba</td>\n",
       "      <td>br</td>\n",
       "    </tr>\n",
       "  </tbody>\n",
       "</table>\n",
       "</div>"
      ],
      "text/plain": [
       "          City Country Code\n",
       "623  cagliliog           ph\n",
       "624     kindia           gn\n",
       "625   itaituba           br"
      ]
     },
     "execution_count": 3,
     "metadata": {},
     "output_type": "execute_result"
    },
    {
     "data": {
      "text/html": [
       "<div>\n",
       "<style scoped>\n",
       "    .dataframe tbody tr th:only-of-type {\n",
       "        vertical-align: middle;\n",
       "    }\n",
       "\n",
       "    .dataframe tbody tr th {\n",
       "        vertical-align: top;\n",
       "    }\n",
       "\n",
       "    .dataframe thead th {\n",
       "        text-align: right;\n",
       "    }\n",
       "</style>\n",
       "<table border=\"1\" class=\"dataframe\">\n",
       "  <thead>\n",
       "    <tr style=\"text-align: right;\">\n",
       "      <th></th>\n",
       "      <th>City</th>\n",
       "      <th>Country Code</th>\n",
       "      <th>Lat</th>\n",
       "      <th>Lon</th>\n",
       "      <th>Date</th>\n",
       "      <th>Temp (F)</th>\n",
       "      <th>Humidity</th>\n",
       "      <th>Cloudiness</th>\n",
       "      <th>Wind Speed</th>\n",
       "    </tr>\n",
       "  </thead>\n",
       "  <tbody>\n",
       "    <tr>\n",
       "      <th>0</th>\n",
       "      <td>northam</td>\n",
       "      <td>au</td>\n",
       "      <td></td>\n",
       "      <td></td>\n",
       "      <td></td>\n",
       "      <td></td>\n",
       "      <td></td>\n",
       "      <td></td>\n",
       "      <td></td>\n",
       "    </tr>\n",
       "    <tr>\n",
       "      <th>1</th>\n",
       "      <td>khani</td>\n",
       "      <td>ru</td>\n",
       "      <td></td>\n",
       "      <td></td>\n",
       "      <td></td>\n",
       "      <td></td>\n",
       "      <td></td>\n",
       "      <td></td>\n",
       "      <td></td>\n",
       "    </tr>\n",
       "    <tr>\n",
       "      <th>2</th>\n",
       "      <td>namibe</td>\n",
       "      <td>ao</td>\n",
       "      <td></td>\n",
       "      <td></td>\n",
       "      <td></td>\n",
       "      <td></td>\n",
       "      <td></td>\n",
       "      <td></td>\n",
       "      <td></td>\n",
       "    </tr>\n",
       "  </tbody>\n",
       "</table>\n",
       "</div>"
      ],
      "text/plain": [
       "      City Country Code Lat Lon Date Temp (F) Humidity Cloudiness Wind Speed\n",
       "0  northam           au                                                     \n",
       "1    khani           ru                                                     \n",
       "2   namibe           ao                                                     "
      ]
     },
     "execution_count": 3,
     "metadata": {},
     "output_type": "execute_result"
    }
   ],
   "source": [
    "# Making an initial dataframe for these pairings\n",
    "citiweather_df = pd.DataFrame({'City':cities, 'Country Code':countries})\n",
    "\n",
    "# Checking if city-country code pairings are accurate\n",
    "citiweather_df.head(3)\n",
    "citiweather_df.tail(3)\n",
    "\n",
    "# Adding additional columns to dataframe to add from later OWM requests\n",
    "citiweather_df['Lat'] = \"\"\n",
    "citiweather_df['Lon'] = \"\"\n",
    "citiweather_df['Date'] = \"\"\n",
    "citiweather_df['Temp (F)'] = \"\"\n",
    "citiweather_df['Humidity'] = \"\"\n",
    "citiweather_df['Cloudiness'] = \"\"\n",
    "citiweather_df['Wind Speed'] = \"\"\n",
    "citiweather_df.head(3)"
   ]
  },
  {
   "cell_type": "markdown",
   "metadata": {},
   "source": [
    "### Perform API Calls\n",
    "* Perform a weather check on each city using a series of successive API calls.\n",
    "* Include a print log of each city as it'sbeing processed (with the city number and city name).\n"
   ]
  },
  {
   "cell_type": "code",
   "execution_count": 5,
   "metadata": {},
   "outputs": [
    {
     "data": {
      "text/plain": [
       "'Initiating data retrieval from OpenWeatherMap API...'"
      ]
     },
     "execution_count": 5,
     "metadata": {},
     "output_type": "execute_result"
    },
    {
     "data": {
      "text/plain": [
       "'----------------------------------------------------'"
      ]
     },
     "execution_count": 5,
     "metadata": {},
     "output_type": "execute_result"
    },
    {
     "data": {
      "text/plain": [
       "'Processing request for city 1: northam'"
      ]
     },
     "execution_count": 5,
     "metadata": {},
     "output_type": "execute_result"
    },
    {
     "data": {
      "text/plain": [
       "'http://api.openweathermap.org/data/2.5/weather?q=northam,au&units=imperial&APPID=275d975a1c2099dde8c73d59417061cd'"
      ]
     },
     "execution_count": 5,
     "metadata": {},
     "output_type": "execute_result"
    },
    {
     "data": {
      "text/plain": [
       "'----------------------------------------------------'"
      ]
     },
     "execution_count": 5,
     "metadata": {},
     "output_type": "execute_result"
    },
    {
     "data": {
      "text/plain": [
       "'Processing request for city 2: khani'"
      ]
     },
     "execution_count": 5,
     "metadata": {},
     "output_type": "execute_result"
    },
    {
     "data": {
      "text/plain": [
       "'http://api.openweathermap.org/data/2.5/weather?q=khani,ru&units=imperial&APPID=275d975a1c2099dde8c73d59417061cd'"
      ]
     },
     "execution_count": 5,
     "metadata": {},
     "output_type": "execute_result"
    },
    {
     "data": {
      "text/plain": [
       "'City not found. Proceeding to next city on list...'"
      ]
     },
     "execution_count": 5,
     "metadata": {},
     "output_type": "execute_result"
    },
    {
     "data": {
      "text/plain": [
       "'----------------------------------------------------'"
      ]
     },
     "execution_count": 5,
     "metadata": {},
     "output_type": "execute_result"
    },
    {
     "data": {
      "text/plain": [
       "'Processing request for city 3: namibe'"
      ]
     },
     "execution_count": 5,
     "metadata": {},
     "output_type": "execute_result"
    },
    {
     "data": {
      "text/plain": [
       "'http://api.openweathermap.org/data/2.5/weather?q=namibe,ao&units=imperial&APPID=275d975a1c2099dde8c73d59417061cd'"
      ]
     },
     "execution_count": 5,
     "metadata": {},
     "output_type": "execute_result"
    },
    {
     "data": {
      "text/plain": [
       "'----------------------------------------------------'"
      ]
     },
     "execution_count": 5,
     "metadata": {},
     "output_type": "execute_result"
    },
    {
     "data": {
      "text/plain": [
       "'Processing request for city 4: sartell'"
      ]
     },
     "execution_count": 5,
     "metadata": {},
     "output_type": "execute_result"
    },
    {
     "data": {
      "text/plain": [
       "'http://api.openweathermap.org/data/2.5/weather?q=sartell,us&units=imperial&APPID=275d975a1c2099dde8c73d59417061cd'"
      ]
     },
     "execution_count": 5,
     "metadata": {},
     "output_type": "execute_result"
    },
    {
     "data": {
      "text/plain": [
       "'----------------------------------------------------'"
      ]
     },
     "execution_count": 5,
     "metadata": {},
     "output_type": "execute_result"
    },
    {
     "data": {
      "text/plain": [
       "'Processing request for city 5: monrovia'"
      ]
     },
     "execution_count": 5,
     "metadata": {},
     "output_type": "execute_result"
    },
    {
     "data": {
      "text/plain": [
       "'http://api.openweathermap.org/data/2.5/weather?q=monrovia,lr&units=imperial&APPID=275d975a1c2099dde8c73d59417061cd'"
      ]
     },
     "execution_count": 5,
     "metadata": {},
     "output_type": "execute_result"
    },
    {
     "data": {
      "text/plain": [
       "'----------------------------------------------------'"
      ]
     },
     "execution_count": 5,
     "metadata": {},
     "output_type": "execute_result"
    },
    {
     "data": {
      "text/plain": [
       "'Processing request for city 6: cherskiy'"
      ]
     },
     "execution_count": 5,
     "metadata": {},
     "output_type": "execute_result"
    },
    {
     "data": {
      "text/plain": [
       "'http://api.openweathermap.org/data/2.5/weather?q=cherskiy,ru&units=imperial&APPID=275d975a1c2099dde8c73d59417061cd'"
      ]
     },
     "execution_count": 5,
     "metadata": {},
     "output_type": "execute_result"
    },
    {
     "data": {
      "text/plain": [
       "'----------------------------------------------------'"
      ]
     },
     "execution_count": 5,
     "metadata": {},
     "output_type": "execute_result"
    },
    {
     "data": {
      "text/plain": [
       "'Processing request for city 7: kiama'"
      ]
     },
     "execution_count": 5,
     "metadata": {},
     "output_type": "execute_result"
    },
    {
     "data": {
      "text/plain": [
       "'http://api.openweathermap.org/data/2.5/weather?q=kiama,au&units=imperial&APPID=275d975a1c2099dde8c73d59417061cd'"
      ]
     },
     "execution_count": 5,
     "metadata": {},
     "output_type": "execute_result"
    },
    {
     "data": {
      "text/plain": [
       "'----------------------------------------------------'"
      ]
     },
     "execution_count": 5,
     "metadata": {},
     "output_type": "execute_result"
    },
    {
     "data": {
      "text/plain": [
       "'Processing request for city 8: new norfolk'"
      ]
     },
     "execution_count": 5,
     "metadata": {},
     "output_type": "execute_result"
    },
    {
     "data": {
      "text/plain": [
       "'http://api.openweathermap.org/data/2.5/weather?q=new norfolk,au&units=imperial&APPID=275d975a1c2099dde8c73d59417061cd'"
      ]
     },
     "execution_count": 5,
     "metadata": {},
     "output_type": "execute_result"
    },
    {
     "data": {
      "text/plain": [
       "'----------------------------------------------------'"
      ]
     },
     "execution_count": 5,
     "metadata": {},
     "output_type": "execute_result"
    },
    {
     "data": {
      "text/plain": [
       "'Processing request for city 9: cape town'"
      ]
     },
     "execution_count": 5,
     "metadata": {},
     "output_type": "execute_result"
    },
    {
     "data": {
      "text/plain": [
       "'http://api.openweathermap.org/data/2.5/weather?q=cape town,za&units=imperial&APPID=275d975a1c2099dde8c73d59417061cd'"
      ]
     },
     "execution_count": 5,
     "metadata": {},
     "output_type": "execute_result"
    },
    {
     "data": {
      "text/plain": [
       "'----------------------------------------------------'"
      ]
     },
     "execution_count": 5,
     "metadata": {},
     "output_type": "execute_result"
    },
    {
     "data": {
      "text/plain": [
       "'Processing request for city 10: khatanga'"
      ]
     },
     "execution_count": 5,
     "metadata": {},
     "output_type": "execute_result"
    },
    {
     "data": {
      "text/plain": [
       "'http://api.openweathermap.org/data/2.5/weather?q=khatanga,ru&units=imperial&APPID=275d975a1c2099dde8c73d59417061cd'"
      ]
     },
     "execution_count": 5,
     "metadata": {},
     "output_type": "execute_result"
    },
    {
     "data": {
      "text/plain": [
       "'----------------------------------------------------'"
      ]
     },
     "execution_count": 5,
     "metadata": {},
     "output_type": "execute_result"
    },
    {
     "data": {
      "text/plain": [
       "'Processing request for city 11: saint-philippe'"
      ]
     },
     "execution_count": 5,
     "metadata": {},
     "output_type": "execute_result"
    },
    {
     "data": {
      "text/plain": [
       "'http://api.openweathermap.org/data/2.5/weather?q=saint-philippe,re&units=imperial&APPID=275d975a1c2099dde8c73d59417061cd'"
      ]
     },
     "execution_count": 5,
     "metadata": {},
     "output_type": "execute_result"
    },
    {
     "data": {
      "text/plain": [
       "'----------------------------------------------------'"
      ]
     },
     "execution_count": 5,
     "metadata": {},
     "output_type": "execute_result"
    },
    {
     "data": {
      "text/plain": [
       "'Processing request for city 12: souillac'"
      ]
     },
     "execution_count": 5,
     "metadata": {},
     "output_type": "execute_result"
    },
    {
     "data": {
      "text/plain": [
       "'http://api.openweathermap.org/data/2.5/weather?q=souillac,mu&units=imperial&APPID=275d975a1c2099dde8c73d59417061cd'"
      ]
     },
     "execution_count": 5,
     "metadata": {},
     "output_type": "execute_result"
    },
    {
     "data": {
      "text/plain": [
       "'----------------------------------------------------'"
      ]
     },
     "execution_count": 5,
     "metadata": {},
     "output_type": "execute_result"
    },
    {
     "data": {
      "text/plain": [
       "'Processing request for city 13: ushuaia'"
      ]
     },
     "execution_count": 5,
     "metadata": {},
     "output_type": "execute_result"
    },
    {
     "data": {
      "text/plain": [
       "'http://api.openweathermap.org/data/2.5/weather?q=ushuaia,ar&units=imperial&APPID=275d975a1c2099dde8c73d59417061cd'"
      ]
     },
     "execution_count": 5,
     "metadata": {},
     "output_type": "execute_result"
    },
    {
     "data": {
      "text/plain": [
       "'----------------------------------------------------'"
      ]
     },
     "execution_count": 5,
     "metadata": {},
     "output_type": "execute_result"
    },
    {
     "data": {
      "text/plain": [
       "'Processing request for city 14: yanan'"
      ]
     },
     "execution_count": 5,
     "metadata": {},
     "output_type": "execute_result"
    },
    {
     "data": {
      "text/plain": [
       "'http://api.openweathermap.org/data/2.5/weather?q=yanan,cn&units=imperial&APPID=275d975a1c2099dde8c73d59417061cd'"
      ]
     },
     "execution_count": 5,
     "metadata": {},
     "output_type": "execute_result"
    },
    {
     "data": {
      "text/plain": [
       "'City not found. Proceeding to next city on list...'"
      ]
     },
     "execution_count": 5,
     "metadata": {},
     "output_type": "execute_result"
    },
    {
     "data": {
      "text/plain": [
       "'----------------------------------------------------'"
      ]
     },
     "execution_count": 5,
     "metadata": {},
     "output_type": "execute_result"
    },
    {
     "data": {
      "text/plain": [
       "'Processing request for city 15: amahai'"
      ]
     },
     "execution_count": 5,
     "metadata": {},
     "output_type": "execute_result"
    },
    {
     "data": {
      "text/plain": [
       "'http://api.openweathermap.org/data/2.5/weather?q=amahai,id&units=imperial&APPID=275d975a1c2099dde8c73d59417061cd'"
      ]
     },
     "execution_count": 5,
     "metadata": {},
     "output_type": "execute_result"
    },
    {
     "data": {
      "text/plain": [
       "'----------------------------------------------------'"
      ]
     },
     "execution_count": 5,
     "metadata": {},
     "output_type": "execute_result"
    },
    {
     "data": {
      "text/plain": [
       "'Processing request for city 16: taolanaro'"
      ]
     },
     "execution_count": 5,
     "metadata": {},
     "output_type": "execute_result"
    },
    {
     "data": {
      "text/plain": [
       "'http://api.openweathermap.org/data/2.5/weather?q=taolanaro,mg&units=imperial&APPID=275d975a1c2099dde8c73d59417061cd'"
      ]
     },
     "execution_count": 5,
     "metadata": {},
     "output_type": "execute_result"
    },
    {
     "data": {
      "text/plain": [
       "'City not found. Proceeding to next city on list...'"
      ]
     },
     "execution_count": 5,
     "metadata": {},
     "output_type": "execute_result"
    },
    {
     "data": {
      "text/plain": [
       "'----------------------------------------------------'"
      ]
     },
     "execution_count": 5,
     "metadata": {},
     "output_type": "execute_result"
    },
    {
     "data": {
      "text/plain": [
       "'Processing request for city 17: torbay'"
      ]
     },
     "execution_count": 5,
     "metadata": {},
     "output_type": "execute_result"
    },
    {
     "data": {
      "text/plain": [
       "'http://api.openweathermap.org/data/2.5/weather?q=torbay,ca&units=imperial&APPID=275d975a1c2099dde8c73d59417061cd'"
      ]
     },
     "execution_count": 5,
     "metadata": {},
     "output_type": "execute_result"
    },
    {
     "data": {
      "text/plain": [
       "'----------------------------------------------------'"
      ]
     },
     "execution_count": 5,
     "metadata": {},
     "output_type": "execute_result"
    },
    {
     "data": {
      "text/plain": [
       "'Processing request for city 18: punta arenas'"
      ]
     },
     "execution_count": 5,
     "metadata": {},
     "output_type": "execute_result"
    },
    {
     "data": {
      "text/plain": [
       "'http://api.openweathermap.org/data/2.5/weather?q=punta arenas,cl&units=imperial&APPID=275d975a1c2099dde8c73d59417061cd'"
      ]
     },
     "execution_count": 5,
     "metadata": {},
     "output_type": "execute_result"
    },
    {
     "data": {
      "text/plain": [
       "'----------------------------------------------------'"
      ]
     },
     "execution_count": 5,
     "metadata": {},
     "output_type": "execute_result"
    },
    {
     "data": {
      "text/plain": [
       "'Processing request for city 19: dikson'"
      ]
     },
     "execution_count": 5,
     "metadata": {},
     "output_type": "execute_result"
    },
    {
     "data": {
      "text/plain": [
       "'http://api.openweathermap.org/data/2.5/weather?q=dikson,ru&units=imperial&APPID=275d975a1c2099dde8c73d59417061cd'"
      ]
     },
     "execution_count": 5,
     "metadata": {},
     "output_type": "execute_result"
    },
    {
     "data": {
      "text/plain": [
       "'----------------------------------------------------'"
      ]
     },
     "execution_count": 5,
     "metadata": {},
     "output_type": "execute_result"
    },
    {
     "data": {
      "text/plain": [
       "'Processing request for city 20: tuktoyaktuk'"
      ]
     },
     "execution_count": 5,
     "metadata": {},
     "output_type": "execute_result"
    },
    {
     "data": {
      "text/plain": [
       "'http://api.openweathermap.org/data/2.5/weather?q=tuktoyaktuk,ca&units=imperial&APPID=275d975a1c2099dde8c73d59417061cd'"
      ]
     },
     "execution_count": 5,
     "metadata": {},
     "output_type": "execute_result"
    },
    {
     "data": {
      "text/plain": [
       "'----------------------------------------------------'"
      ]
     },
     "execution_count": 5,
     "metadata": {},
     "output_type": "execute_result"
    },
    {
     "data": {
      "text/plain": [
       "'Processing request for city 21: illoqqortoormiut'"
      ]
     },
     "execution_count": 5,
     "metadata": {},
     "output_type": "execute_result"
    },
    {
     "data": {
      "text/plain": [
       "'http://api.openweathermap.org/data/2.5/weather?q=illoqqortoormiut,gl&units=imperial&APPID=275d975a1c2099dde8c73d59417061cd'"
      ]
     },
     "execution_count": 5,
     "metadata": {},
     "output_type": "execute_result"
    },
    {
     "data": {
      "text/plain": [
       "'City not found. Proceeding to next city on list...'"
      ]
     },
     "execution_count": 5,
     "metadata": {},
     "output_type": "execute_result"
    },
    {
     "data": {
      "text/plain": [
       "'----------------------------------------------------'"
      ]
     },
     "execution_count": 5,
     "metadata": {},
     "output_type": "execute_result"
    },
    {
     "data": {
      "text/plain": [
       "'Processing request for city 22: busselton'"
      ]
     },
     "execution_count": 5,
     "metadata": {},
     "output_type": "execute_result"
    },
    {
     "data": {
      "text/plain": [
       "'http://api.openweathermap.org/data/2.5/weather?q=busselton,au&units=imperial&APPID=275d975a1c2099dde8c73d59417061cd'"
      ]
     },
     "execution_count": 5,
     "metadata": {},
     "output_type": "execute_result"
    },
    {
     "data": {
      "text/plain": [
       "'----------------------------------------------------'"
      ]
     },
     "execution_count": 5,
     "metadata": {},
     "output_type": "execute_result"
    },
    {
     "data": {
      "text/plain": [
       "'Processing request for city 23: danville'"
      ]
     },
     "execution_count": 5,
     "metadata": {},
     "output_type": "execute_result"
    },
    {
     "data": {
      "text/plain": [
       "'http://api.openweathermap.org/data/2.5/weather?q=danville,us&units=imperial&APPID=275d975a1c2099dde8c73d59417061cd'"
      ]
     },
     "execution_count": 5,
     "metadata": {},
     "output_type": "execute_result"
    },
    {
     "data": {
      "text/plain": [
       "'----------------------------------------------------'"
      ]
     },
     "execution_count": 5,
     "metadata": {},
     "output_type": "execute_result"
    },
    {
     "data": {
      "text/plain": [
       "'Processing request for city 24: prince rupert'"
      ]
     },
     "execution_count": 5,
     "metadata": {},
     "output_type": "execute_result"
    },
    {
     "data": {
      "text/plain": [
       "'http://api.openweathermap.org/data/2.5/weather?q=prince rupert,ca&units=imperial&APPID=275d975a1c2099dde8c73d59417061cd'"
      ]
     },
     "execution_count": 5,
     "metadata": {},
     "output_type": "execute_result"
    },
    {
     "data": {
      "text/plain": [
       "'----------------------------------------------------'"
      ]
     },
     "execution_count": 5,
     "metadata": {},
     "output_type": "execute_result"
    },
    {
     "data": {
      "text/plain": [
       "'Processing request for city 25: beira'"
      ]
     },
     "execution_count": 5,
     "metadata": {},
     "output_type": "execute_result"
    },
    {
     "data": {
      "text/plain": [
       "'http://api.openweathermap.org/data/2.5/weather?q=beira,mz&units=imperial&APPID=275d975a1c2099dde8c73d59417061cd'"
      ]
     },
     "execution_count": 5,
     "metadata": {},
     "output_type": "execute_result"
    },
    {
     "data": {
      "text/plain": [
       "'----------------------------------------------------'"
      ]
     },
     "execution_count": 5,
     "metadata": {},
     "output_type": "execute_result"
    },
    {
     "data": {
      "text/plain": [
       "'Processing request for city 26: tasiilaq'"
      ]
     },
     "execution_count": 5,
     "metadata": {},
     "output_type": "execute_result"
    },
    {
     "data": {
      "text/plain": [
       "'http://api.openweathermap.org/data/2.5/weather?q=tasiilaq,gl&units=imperial&APPID=275d975a1c2099dde8c73d59417061cd'"
      ]
     },
     "execution_count": 5,
     "metadata": {},
     "output_type": "execute_result"
    },
    {
     "data": {
      "text/plain": [
       "'----------------------------------------------------'"
      ]
     },
     "execution_count": 5,
     "metadata": {},
     "output_type": "execute_result"
    },
    {
     "data": {
      "text/plain": [
       "'Processing request for city 27: luanda'"
      ]
     },
     "execution_count": 5,
     "metadata": {},
     "output_type": "execute_result"
    },
    {
     "data": {
      "text/plain": [
       "'http://api.openweathermap.org/data/2.5/weather?q=luanda,ao&units=imperial&APPID=275d975a1c2099dde8c73d59417061cd'"
      ]
     },
     "execution_count": 5,
     "metadata": {},
     "output_type": "execute_result"
    },
    {
     "data": {
      "text/plain": [
       "'----------------------------------------------------'"
      ]
     },
     "execution_count": 5,
     "metadata": {},
     "output_type": "execute_result"
    },
    {
     "data": {
      "text/plain": [
       "'Processing request for city 28: hilo'"
      ]
     },
     "execution_count": 5,
     "metadata": {},
     "output_type": "execute_result"
    },
    {
     "data": {
      "text/plain": [
       "'http://api.openweathermap.org/data/2.5/weather?q=hilo,us&units=imperial&APPID=275d975a1c2099dde8c73d59417061cd'"
      ]
     },
     "execution_count": 5,
     "metadata": {},
     "output_type": "execute_result"
    },
    {
     "data": {
      "text/plain": [
       "'----------------------------------------------------'"
      ]
     },
     "execution_count": 5,
     "metadata": {},
     "output_type": "execute_result"
    },
    {
     "data": {
      "text/plain": [
       "'Processing request for city 29: sao filipe'"
      ]
     },
     "execution_count": 5,
     "metadata": {},
     "output_type": "execute_result"
    },
    {
     "data": {
      "text/plain": [
       "'http://api.openweathermap.org/data/2.5/weather?q=sao filipe,cv&units=imperial&APPID=275d975a1c2099dde8c73d59417061cd'"
      ]
     },
     "execution_count": 5,
     "metadata": {},
     "output_type": "execute_result"
    },
    {
     "data": {
      "text/plain": [
       "'----------------------------------------------------'"
      ]
     },
     "execution_count": 5,
     "metadata": {},
     "output_type": "execute_result"
    },
    {
     "data": {
      "text/plain": [
       "'Processing request for city 30: albany'"
      ]
     },
     "execution_count": 5,
     "metadata": {},
     "output_type": "execute_result"
    },
    {
     "data": {
      "text/plain": [
       "'http://api.openweathermap.org/data/2.5/weather?q=albany,au&units=imperial&APPID=275d975a1c2099dde8c73d59417061cd'"
      ]
     },
     "execution_count": 5,
     "metadata": {},
     "output_type": "execute_result"
    },
    {
     "data": {
      "text/plain": [
       "'----------------------------------------------------'"
      ]
     },
     "execution_count": 5,
     "metadata": {},
     "output_type": "execute_result"
    },
    {
     "data": {
      "text/plain": [
       "'Processing request for city 31: astana'"
      ]
     },
     "execution_count": 5,
     "metadata": {},
     "output_type": "execute_result"
    },
    {
     "data": {
      "text/plain": [
       "'http://api.openweathermap.org/data/2.5/weather?q=astana,kz&units=imperial&APPID=275d975a1c2099dde8c73d59417061cd'"
      ]
     },
     "execution_count": 5,
     "metadata": {},
     "output_type": "execute_result"
    },
    {
     "data": {
      "text/plain": [
       "'----------------------------------------------------'"
      ]
     },
     "execution_count": 5,
     "metadata": {},
     "output_type": "execute_result"
    },
    {
     "data": {
      "text/plain": [
       "'Processing request for city 32: qabis'"
      ]
     },
     "execution_count": 5,
     "metadata": {},
     "output_type": "execute_result"
    },
    {
     "data": {
      "text/plain": [
       "'http://api.openweathermap.org/data/2.5/weather?q=qabis,tn&units=imperial&APPID=275d975a1c2099dde8c73d59417061cd'"
      ]
     },
     "execution_count": 5,
     "metadata": {},
     "output_type": "execute_result"
    },
    {
     "data": {
      "text/plain": [
       "'City not found. Proceeding to next city on list...'"
      ]
     },
     "execution_count": 5,
     "metadata": {},
     "output_type": "execute_result"
    },
    {
     "data": {
      "text/plain": [
       "'----------------------------------------------------'"
      ]
     },
     "execution_count": 5,
     "metadata": {},
     "output_type": "execute_result"
    },
    {
     "data": {
      "text/plain": [
       "'Processing request for city 33: maba'"
      ]
     },
     "execution_count": 5,
     "metadata": {},
     "output_type": "execute_result"
    },
    {
     "data": {
      "text/plain": [
       "'http://api.openweathermap.org/data/2.5/weather?q=maba,cn&units=imperial&APPID=275d975a1c2099dde8c73d59417061cd'"
      ]
     },
     "execution_count": 5,
     "metadata": {},
     "output_type": "execute_result"
    },
    {
     "data": {
      "text/plain": [
       "'----------------------------------------------------'"
      ]
     },
     "execution_count": 5,
     "metadata": {},
     "output_type": "execute_result"
    },
    {
     "data": {
      "text/plain": [
       "'Processing request for city 34: athabasca'"
      ]
     },
     "execution_count": 5,
     "metadata": {},
     "output_type": "execute_result"
    },
    {
     "data": {
      "text/plain": [
       "'http://api.openweathermap.org/data/2.5/weather?q=athabasca,ca&units=imperial&APPID=275d975a1c2099dde8c73d59417061cd'"
      ]
     },
     "execution_count": 5,
     "metadata": {},
     "output_type": "execute_result"
    },
    {
     "data": {
      "text/plain": [
       "'----------------------------------------------------'"
      ]
     },
     "execution_count": 5,
     "metadata": {},
     "output_type": "execute_result"
    },
    {
     "data": {
      "text/plain": [
       "'Processing request for city 35: mataura'"
      ]
     },
     "execution_count": 5,
     "metadata": {},
     "output_type": "execute_result"
    },
    {
     "data": {
      "text/plain": [
       "'http://api.openweathermap.org/data/2.5/weather?q=mataura,pf&units=imperial&APPID=275d975a1c2099dde8c73d59417061cd'"
      ]
     },
     "execution_count": 5,
     "metadata": {},
     "output_type": "execute_result"
    },
    {
     "data": {
      "text/plain": [
       "'City not found. Proceeding to next city on list...'"
      ]
     },
     "execution_count": 5,
     "metadata": {},
     "output_type": "execute_result"
    },
    {
     "data": {
      "text/plain": [
       "'----------------------------------------------------'"
      ]
     },
     "execution_count": 5,
     "metadata": {},
     "output_type": "execute_result"
    },
    {
     "data": {
      "text/plain": [
       "'Processing request for city 36: atuona'"
      ]
     },
     "execution_count": 5,
     "metadata": {},
     "output_type": "execute_result"
    },
    {
     "data": {
      "text/plain": [
       "'http://api.openweathermap.org/data/2.5/weather?q=atuona,pf&units=imperial&APPID=275d975a1c2099dde8c73d59417061cd'"
      ]
     },
     "execution_count": 5,
     "metadata": {},
     "output_type": "execute_result"
    },
    {
     "data": {
      "text/plain": [
       "'----------------------------------------------------'"
      ]
     },
     "execution_count": 5,
     "metadata": {},
     "output_type": "execute_result"
    },
    {
     "data": {
      "text/plain": [
       "'Processing request for city 37: chokurdakh'"
      ]
     },
     "execution_count": 5,
     "metadata": {},
     "output_type": "execute_result"
    },
    {
     "data": {
      "text/plain": [
       "'http://api.openweathermap.org/data/2.5/weather?q=chokurdakh,ru&units=imperial&APPID=275d975a1c2099dde8c73d59417061cd'"
      ]
     },
     "execution_count": 5,
     "metadata": {},
     "output_type": "execute_result"
    },
    {
     "data": {
      "text/plain": [
       "'----------------------------------------------------'"
      ]
     },
     "execution_count": 5,
     "metadata": {},
     "output_type": "execute_result"
    },
    {
     "data": {
      "text/plain": [
       "'Processing request for city 38: mount isa'"
      ]
     },
     "execution_count": 5,
     "metadata": {},
     "output_type": "execute_result"
    },
    {
     "data": {
      "text/plain": [
       "'http://api.openweathermap.org/data/2.5/weather?q=mount isa,au&units=imperial&APPID=275d975a1c2099dde8c73d59417061cd'"
      ]
     },
     "execution_count": 5,
     "metadata": {},
     "output_type": "execute_result"
    },
    {
     "data": {
      "text/plain": [
       "'----------------------------------------------------'"
      ]
     },
     "execution_count": 5,
     "metadata": {},
     "output_type": "execute_result"
    },
    {
     "data": {
      "text/plain": [
       "'Processing request for city 39: yangzhou'"
      ]
     },
     "execution_count": 5,
     "metadata": {},
     "output_type": "execute_result"
    },
    {
     "data": {
      "text/plain": [
       "'http://api.openweathermap.org/data/2.5/weather?q=yangzhou,cn&units=imperial&APPID=275d975a1c2099dde8c73d59417061cd'"
      ]
     },
     "execution_count": 5,
     "metadata": {},
     "output_type": "execute_result"
    },
    {
     "data": {
      "text/plain": [
       "'----------------------------------------------------'"
      ]
     },
     "execution_count": 5,
     "metadata": {},
     "output_type": "execute_result"
    },
    {
     "data": {
      "text/plain": [
       "'Processing request for city 40: avarua'"
      ]
     },
     "execution_count": 5,
     "metadata": {},
     "output_type": "execute_result"
    },
    {
     "data": {
      "text/plain": [
       "'http://api.openweathermap.org/data/2.5/weather?q=avarua,ck&units=imperial&APPID=275d975a1c2099dde8c73d59417061cd'"
      ]
     },
     "execution_count": 5,
     "metadata": {},
     "output_type": "execute_result"
    },
    {
     "data": {
      "text/plain": [
       "'----------------------------------------------------'"
      ]
     },
     "execution_count": 5,
     "metadata": {},
     "output_type": "execute_result"
    },
    {
     "data": {
      "text/plain": [
       "'Processing request for city 41: fenoarivo'"
      ]
     },
     "execution_count": 5,
     "metadata": {},
     "output_type": "execute_result"
    },
    {
     "data": {
      "text/plain": [
       "'http://api.openweathermap.org/data/2.5/weather?q=fenoarivo,mg&units=imperial&APPID=275d975a1c2099dde8c73d59417061cd'"
      ]
     },
     "execution_count": 5,
     "metadata": {},
     "output_type": "execute_result"
    },
    {
     "data": {
      "text/plain": [
       "'----------------------------------------------------'"
      ]
     },
     "execution_count": 5,
     "metadata": {},
     "output_type": "execute_result"
    },
    {
     "data": {
      "text/plain": [
       "'Processing request for city 42: lompoc'"
      ]
     },
     "execution_count": 5,
     "metadata": {},
     "output_type": "execute_result"
    },
    {
     "data": {
      "text/plain": [
       "'http://api.openweathermap.org/data/2.5/weather?q=lompoc,us&units=imperial&APPID=275d975a1c2099dde8c73d59417061cd'"
      ]
     },
     "execution_count": 5,
     "metadata": {},
     "output_type": "execute_result"
    },
    {
     "data": {
      "text/plain": [
       "'----------------------------------------------------'"
      ]
     },
     "execution_count": 5,
     "metadata": {},
     "output_type": "execute_result"
    },
    {
     "data": {
      "text/plain": [
       "'Processing request for city 43: jamestown'"
      ]
     },
     "execution_count": 5,
     "metadata": {},
     "output_type": "execute_result"
    },
    {
     "data": {
      "text/plain": [
       "'http://api.openweathermap.org/data/2.5/weather?q=jamestown,sh&units=imperial&APPID=275d975a1c2099dde8c73d59417061cd'"
      ]
     },
     "execution_count": 5,
     "metadata": {},
     "output_type": "execute_result"
    },
    {
     "data": {
      "text/plain": [
       "'----------------------------------------------------'"
      ]
     },
     "execution_count": 5,
     "metadata": {},
     "output_type": "execute_result"
    },
    {
     "data": {
      "text/plain": [
       "'Processing request for city 44: touros'"
      ]
     },
     "execution_count": 5,
     "metadata": {},
     "output_type": "execute_result"
    },
    {
     "data": {
      "text/plain": [
       "'http://api.openweathermap.org/data/2.5/weather?q=touros,br&units=imperial&APPID=275d975a1c2099dde8c73d59417061cd'"
      ]
     },
     "execution_count": 5,
     "metadata": {},
     "output_type": "execute_result"
    },
    {
     "data": {
      "text/plain": [
       "'----------------------------------------------------'"
      ]
     },
     "execution_count": 5,
     "metadata": {},
     "output_type": "execute_result"
    },
    {
     "data": {
      "text/plain": [
       "'Processing request for city 45: waki'"
      ]
     },
     "execution_count": 5,
     "metadata": {},
     "output_type": "execute_result"
    },
    {
     "data": {
      "text/plain": [
       "'http://api.openweathermap.org/data/2.5/weather?q=waki,jp&units=imperial&APPID=275d975a1c2099dde8c73d59417061cd'"
      ]
     },
     "execution_count": 5,
     "metadata": {},
     "output_type": "execute_result"
    },
    {
     "data": {
      "text/plain": [
       "'----------------------------------------------------'"
      ]
     },
     "execution_count": 5,
     "metadata": {},
     "output_type": "execute_result"
    },
    {
     "data": {
      "text/plain": [
       "'Processing request for city 46: sentyabrskiy'"
      ]
     },
     "execution_count": 5,
     "metadata": {},
     "output_type": "execute_result"
    },
    {
     "data": {
      "text/plain": [
       "'http://api.openweathermap.org/data/2.5/weather?q=sentyabrskiy,ru&units=imperial&APPID=275d975a1c2099dde8c73d59417061cd'"
      ]
     },
     "execution_count": 5,
     "metadata": {},
     "output_type": "execute_result"
    },
    {
     "data": {
      "text/plain": [
       "'City not found. Proceeding to next city on list...'"
      ]
     },
     "execution_count": 5,
     "metadata": {},
     "output_type": "execute_result"
    },
    {
     "data": {
      "text/plain": [
       "'----------------------------------------------------'"
      ]
     },
     "execution_count": 5,
     "metadata": {},
     "output_type": "execute_result"
    },
    {
     "data": {
      "text/plain": [
       "'Processing request for city 47: nizhneyansk'"
      ]
     },
     "execution_count": 5,
     "metadata": {},
     "output_type": "execute_result"
    },
    {
     "data": {
      "text/plain": [
       "'http://api.openweathermap.org/data/2.5/weather?q=nizhneyansk,ru&units=imperial&APPID=275d975a1c2099dde8c73d59417061cd'"
      ]
     },
     "execution_count": 5,
     "metadata": {},
     "output_type": "execute_result"
    },
    {
     "data": {
      "text/plain": [
       "'City not found. Proceeding to next city on list...'"
      ]
     },
     "execution_count": 5,
     "metadata": {},
     "output_type": "execute_result"
    },
    {
     "data": {
      "text/plain": [
       "'----------------------------------------------------'"
      ]
     },
     "execution_count": 5,
     "metadata": {},
     "output_type": "execute_result"
    },
    {
     "data": {
      "text/plain": [
       "'Processing request for city 48: kisangani'"
      ]
     },
     "execution_count": 5,
     "metadata": {},
     "output_type": "execute_result"
    },
    {
     "data": {
      "text/plain": [
       "'http://api.openweathermap.org/data/2.5/weather?q=kisangani,cd&units=imperial&APPID=275d975a1c2099dde8c73d59417061cd'"
      ]
     },
     "execution_count": 5,
     "metadata": {},
     "output_type": "execute_result"
    },
    {
     "data": {
      "text/plain": [
       "'----------------------------------------------------'"
      ]
     },
     "execution_count": 5,
     "metadata": {},
     "output_type": "execute_result"
    },
    {
     "data": {
      "text/plain": [
       "'Processing request for city 49: rikitea'"
      ]
     },
     "execution_count": 5,
     "metadata": {},
     "output_type": "execute_result"
    },
    {
     "data": {
      "text/plain": [
       "'http://api.openweathermap.org/data/2.5/weather?q=rikitea,pf&units=imperial&APPID=275d975a1c2099dde8c73d59417061cd'"
      ]
     },
     "execution_count": 5,
     "metadata": {},
     "output_type": "execute_result"
    },
    {
     "data": {
      "text/plain": [
       "'----------------------------------------------------'"
      ]
     },
     "execution_count": 5,
     "metadata": {},
     "output_type": "execute_result"
    },
    {
     "data": {
      "text/plain": [
       "'Processing request for city 50: oxford'"
      ]
     },
     "execution_count": 5,
     "metadata": {},
     "output_type": "execute_result"
    },
    {
     "data": {
      "text/plain": [
       "'http://api.openweathermap.org/data/2.5/weather?q=oxford,ca&units=imperial&APPID=275d975a1c2099dde8c73d59417061cd'"
      ]
     },
     "execution_count": 5,
     "metadata": {},
     "output_type": "execute_result"
    },
    {
     "data": {
      "text/plain": [
       "'----------------------------------------------------'"
      ]
     },
     "execution_count": 5,
     "metadata": {},
     "output_type": "execute_result"
    },
    {
     "data": {
      "text/plain": [
       "'Processing request for city 51: half moon bay'"
      ]
     },
     "execution_count": 5,
     "metadata": {},
     "output_type": "execute_result"
    },
    {
     "data": {
      "text/plain": [
       "'http://api.openweathermap.org/data/2.5/weather?q=half moon bay,us&units=imperial&APPID=275d975a1c2099dde8c73d59417061cd'"
      ]
     },
     "execution_count": 5,
     "metadata": {},
     "output_type": "execute_result"
    },
    {
     "data": {
      "text/plain": [
       "'----------------------------------------------------'"
      ]
     },
     "execution_count": 5,
     "metadata": {},
     "output_type": "execute_result"
    },
    {
     "data": {
      "text/plain": [
       "'Processing request for city 52: victoria'"
      ]
     },
     "execution_count": 5,
     "metadata": {},
     "output_type": "execute_result"
    },
    {
     "data": {
      "text/plain": [
       "'http://api.openweathermap.org/data/2.5/weather?q=victoria,sc&units=imperial&APPID=275d975a1c2099dde8c73d59417061cd'"
      ]
     },
     "execution_count": 5,
     "metadata": {},
     "output_type": "execute_result"
    },
    {
     "data": {
      "text/plain": [
       "'----------------------------------------------------'"
      ]
     },
     "execution_count": 5,
     "metadata": {},
     "output_type": "execute_result"
    },
    {
     "data": {
      "text/plain": [
       "'Processing request for city 53: mabaruma'"
      ]
     },
     "execution_count": 5,
     "metadata": {},
     "output_type": "execute_result"
    },
    {
     "data": {
      "text/plain": [
       "'http://api.openweathermap.org/data/2.5/weather?q=mabaruma,gy&units=imperial&APPID=275d975a1c2099dde8c73d59417061cd'"
      ]
     },
     "execution_count": 5,
     "metadata": {},
     "output_type": "execute_result"
    },
    {
     "data": {
      "text/plain": [
       "'----------------------------------------------------'"
      ]
     },
     "execution_count": 5,
     "metadata": {},
     "output_type": "execute_result"
    },
    {
     "data": {
      "text/plain": [
       "'Processing request for city 54: birao'"
      ]
     },
     "execution_count": 5,
     "metadata": {},
     "output_type": "execute_result"
    },
    {
     "data": {
      "text/plain": [
       "'http://api.openweathermap.org/data/2.5/weather?q=birao,cf&units=imperial&APPID=275d975a1c2099dde8c73d59417061cd'"
      ]
     },
     "execution_count": 5,
     "metadata": {},
     "output_type": "execute_result"
    },
    {
     "data": {
      "text/plain": [
       "'----------------------------------------------------'"
      ]
     },
     "execution_count": 5,
     "metadata": {},
     "output_type": "execute_result"
    },
    {
     "data": {
      "text/plain": [
       "'Processing request for city 55: meulaboh'"
      ]
     },
     "execution_count": 5,
     "metadata": {},
     "output_type": "execute_result"
    },
    {
     "data": {
      "text/plain": [
       "'http://api.openweathermap.org/data/2.5/weather?q=meulaboh,id&units=imperial&APPID=275d975a1c2099dde8c73d59417061cd'"
      ]
     },
     "execution_count": 5,
     "metadata": {},
     "output_type": "execute_result"
    },
    {
     "data": {
      "text/plain": [
       "'----------------------------------------------------'"
      ]
     },
     "execution_count": 5,
     "metadata": {},
     "output_type": "execute_result"
    },
    {
     "data": {
      "text/plain": [
       "'Processing request for city 56: cockburn town'"
      ]
     },
     "execution_count": 5,
     "metadata": {},
     "output_type": "execute_result"
    },
    {
     "data": {
      "text/plain": [
       "'http://api.openweathermap.org/data/2.5/weather?q=cockburn town,tc&units=imperial&APPID=275d975a1c2099dde8c73d59417061cd'"
      ]
     },
     "execution_count": 5,
     "metadata": {},
     "output_type": "execute_result"
    },
    {
     "data": {
      "text/plain": [
       "'----------------------------------------------------'"
      ]
     },
     "execution_count": 5,
     "metadata": {},
     "output_type": "execute_result"
    },
    {
     "data": {
      "text/plain": [
       "'Processing request for city 57: langsa'"
      ]
     },
     "execution_count": 5,
     "metadata": {},
     "output_type": "execute_result"
    },
    {
     "data": {
      "text/plain": [
       "'http://api.openweathermap.org/data/2.5/weather?q=langsa,id&units=imperial&APPID=275d975a1c2099dde8c73d59417061cd'"
      ]
     },
     "execution_count": 5,
     "metadata": {},
     "output_type": "execute_result"
    },
    {
     "data": {
      "text/plain": [
       "'----------------------------------------------------'"
      ]
     },
     "execution_count": 5,
     "metadata": {},
     "output_type": "execute_result"
    },
    {
     "data": {
      "text/plain": [
       "'Processing request for city 58: tuatapere'"
      ]
     },
     "execution_count": 5,
     "metadata": {},
     "output_type": "execute_result"
    },
    {
     "data": {
      "text/plain": [
       "'http://api.openweathermap.org/data/2.5/weather?q=tuatapere,nz&units=imperial&APPID=275d975a1c2099dde8c73d59417061cd'"
      ]
     },
     "execution_count": 5,
     "metadata": {},
     "output_type": "execute_result"
    },
    {
     "data": {
      "text/plain": [
       "'----------------------------------------------------'"
      ]
     },
     "execution_count": 5,
     "metadata": {},
     "output_type": "execute_result"
    },
    {
     "data": {
      "text/plain": [
       "'Processing request for city 59: port alfred'"
      ]
     },
     "execution_count": 5,
     "metadata": {},
     "output_type": "execute_result"
    },
    {
     "data": {
      "text/plain": [
       "'http://api.openweathermap.org/data/2.5/weather?q=port alfred,za&units=imperial&APPID=275d975a1c2099dde8c73d59417061cd'"
      ]
     },
     "execution_count": 5,
     "metadata": {},
     "output_type": "execute_result"
    },
    {
     "data": {
      "text/plain": [
       "'----------------------------------------------------'"
      ]
     },
     "execution_count": 5,
     "metadata": {},
     "output_type": "execute_result"
    },
    {
     "data": {
      "text/plain": [
       "'Processing request for city 60: bredasdorp'"
      ]
     },
     "execution_count": 5,
     "metadata": {},
     "output_type": "execute_result"
    },
    {
     "data": {
      "text/plain": [
       "'http://api.openweathermap.org/data/2.5/weather?q=bredasdorp,za&units=imperial&APPID=275d975a1c2099dde8c73d59417061cd'"
      ]
     },
     "execution_count": 5,
     "metadata": {},
     "output_type": "execute_result"
    },
    {
     "data": {
      "text/plain": [
       "'----------------------------------------------------'"
      ]
     },
     "execution_count": 5,
     "metadata": {},
     "output_type": "execute_result"
    },
    {
     "data": {
      "text/plain": [
       "'----------------------------------------------------'"
      ]
     },
     "execution_count": 5,
     "metadata": {},
     "output_type": "execute_result"
    },
    {
     "data": {
      "text/plain": [
       "'Pausing API requests for 20 seconds.'"
      ]
     },
     "execution_count": 5,
     "metadata": {},
     "output_type": "execute_result"
    },
    {
     "data": {
      "text/plain": [
       "\"(Don't want to overload my free account here.)\""
      ]
     },
     "execution_count": 5,
     "metadata": {},
     "output_type": "execute_result"
    },
    {
     "data": {
      "text/plain": [
       "'----------------------------------------------------'"
      ]
     },
     "execution_count": 5,
     "metadata": {},
     "output_type": "execute_result"
    },
    {
     "data": {
      "text/plain": [
       "'Processing request for city 61: iquitos'"
      ]
     },
     "execution_count": 5,
     "metadata": {},
     "output_type": "execute_result"
    },
    {
     "data": {
      "text/plain": [
       "'http://api.openweathermap.org/data/2.5/weather?q=iquitos,pe&units=imperial&APPID=275d975a1c2099dde8c73d59417061cd'"
      ]
     },
     "execution_count": 5,
     "metadata": {},
     "output_type": "execute_result"
    },
    {
     "data": {
      "text/plain": [
       "'----------------------------------------------------'"
      ]
     },
     "execution_count": 5,
     "metadata": {},
     "output_type": "execute_result"
    },
    {
     "data": {
      "text/plain": [
       "'Processing request for city 62: mar del plata'"
      ]
     },
     "execution_count": 5,
     "metadata": {},
     "output_type": "execute_result"
    },
    {
     "data": {
      "text/plain": [
       "'http://api.openweathermap.org/data/2.5/weather?q=mar del plata,ar&units=imperial&APPID=275d975a1c2099dde8c73d59417061cd'"
      ]
     },
     "execution_count": 5,
     "metadata": {},
     "output_type": "execute_result"
    },
    {
     "data": {
      "text/plain": [
       "'----------------------------------------------------'"
      ]
     },
     "execution_count": 5,
     "metadata": {},
     "output_type": "execute_result"
    },
    {
     "data": {
      "text/plain": [
       "'Processing request for city 63: mehamn'"
      ]
     },
     "execution_count": 5,
     "metadata": {},
     "output_type": "execute_result"
    },
    {
     "data": {
      "text/plain": [
       "'http://api.openweathermap.org/data/2.5/weather?q=mehamn,no&units=imperial&APPID=275d975a1c2099dde8c73d59417061cd'"
      ]
     },
     "execution_count": 5,
     "metadata": {},
     "output_type": "execute_result"
    },
    {
     "data": {
      "text/plain": [
       "'----------------------------------------------------'"
      ]
     },
     "execution_count": 5,
     "metadata": {},
     "output_type": "execute_result"
    },
    {
     "data": {
      "text/plain": [
       "'Processing request for city 64: port blair'"
      ]
     },
     "execution_count": 5,
     "metadata": {},
     "output_type": "execute_result"
    },
    {
     "data": {
      "text/plain": [
       "'http://api.openweathermap.org/data/2.5/weather?q=port blair,in&units=imperial&APPID=275d975a1c2099dde8c73d59417061cd'"
      ]
     },
     "execution_count": 5,
     "metadata": {},
     "output_type": "execute_result"
    },
    {
     "data": {
      "text/plain": [
       "'----------------------------------------------------'"
      ]
     },
     "execution_count": 5,
     "metadata": {},
     "output_type": "execute_result"
    },
    {
     "data": {
      "text/plain": [
       "'Processing request for city 65: nova olinda do norte'"
      ]
     },
     "execution_count": 5,
     "metadata": {},
     "output_type": "execute_result"
    },
    {
     "data": {
      "text/plain": [
       "'http://api.openweathermap.org/data/2.5/weather?q=nova olinda do norte,br&units=imperial&APPID=275d975a1c2099dde8c73d59417061cd'"
      ]
     },
     "execution_count": 5,
     "metadata": {},
     "output_type": "execute_result"
    },
    {
     "data": {
      "text/plain": [
       "'----------------------------------------------------'"
      ]
     },
     "execution_count": 5,
     "metadata": {},
     "output_type": "execute_result"
    },
    {
     "data": {
      "text/plain": [
       "'Processing request for city 66: kandrian'"
      ]
     },
     "execution_count": 5,
     "metadata": {},
     "output_type": "execute_result"
    },
    {
     "data": {
      "text/plain": [
       "'http://api.openweathermap.org/data/2.5/weather?q=kandrian,pg&units=imperial&APPID=275d975a1c2099dde8c73d59417061cd'"
      ]
     },
     "execution_count": 5,
     "metadata": {},
     "output_type": "execute_result"
    },
    {
     "data": {
      "text/plain": [
       "'----------------------------------------------------'"
      ]
     },
     "execution_count": 5,
     "metadata": {},
     "output_type": "execute_result"
    },
    {
     "data": {
      "text/plain": [
       "'Processing request for city 67: longhua'"
      ]
     },
     "execution_count": 5,
     "metadata": {},
     "output_type": "execute_result"
    },
    {
     "data": {
      "text/plain": [
       "'http://api.openweathermap.org/data/2.5/weather?q=longhua,cn&units=imperial&APPID=275d975a1c2099dde8c73d59417061cd'"
      ]
     },
     "execution_count": 5,
     "metadata": {},
     "output_type": "execute_result"
    },
    {
     "data": {
      "text/plain": [
       "'----------------------------------------------------'"
      ]
     },
     "execution_count": 5,
     "metadata": {},
     "output_type": "execute_result"
    },
    {
     "data": {
      "text/plain": [
       "'Processing request for city 68: lagoa'"
      ]
     },
     "execution_count": 5,
     "metadata": {},
     "output_type": "execute_result"
    },
    {
     "data": {
      "text/plain": [
       "'http://api.openweathermap.org/data/2.5/weather?q=lagoa,pt&units=imperial&APPID=275d975a1c2099dde8c73d59417061cd'"
      ]
     },
     "execution_count": 5,
     "metadata": {},
     "output_type": "execute_result"
    },
    {
     "data": {
      "text/plain": [
       "'----------------------------------------------------'"
      ]
     },
     "execution_count": 5,
     "metadata": {},
     "output_type": "execute_result"
    },
    {
     "data": {
      "text/plain": [
       "'Processing request for city 69: castro'"
      ]
     },
     "execution_count": 5,
     "metadata": {},
     "output_type": "execute_result"
    },
    {
     "data": {
      "text/plain": [
       "'http://api.openweathermap.org/data/2.5/weather?q=castro,cl&units=imperial&APPID=275d975a1c2099dde8c73d59417061cd'"
      ]
     },
     "execution_count": 5,
     "metadata": {},
     "output_type": "execute_result"
    },
    {
     "data": {
      "text/plain": [
       "'----------------------------------------------------'"
      ]
     },
     "execution_count": 5,
     "metadata": {},
     "output_type": "execute_result"
    },
    {
     "data": {
      "text/plain": [
       "'Processing request for city 70: pevek'"
      ]
     },
     "execution_count": 5,
     "metadata": {},
     "output_type": "execute_result"
    },
    {
     "data": {
      "text/plain": [
       "'http://api.openweathermap.org/data/2.5/weather?q=pevek,ru&units=imperial&APPID=275d975a1c2099dde8c73d59417061cd'"
      ]
     },
     "execution_count": 5,
     "metadata": {},
     "output_type": "execute_result"
    },
    {
     "data": {
      "text/plain": [
       "'----------------------------------------------------'"
      ]
     },
     "execution_count": 5,
     "metadata": {},
     "output_type": "execute_result"
    },
    {
     "data": {
      "text/plain": [
       "'Processing request for city 71: longyearbyen'"
      ]
     },
     "execution_count": 5,
     "metadata": {},
     "output_type": "execute_result"
    },
    {
     "data": {
      "text/plain": [
       "'http://api.openweathermap.org/data/2.5/weather?q=longyearbyen,sj&units=imperial&APPID=275d975a1c2099dde8c73d59417061cd'"
      ]
     },
     "execution_count": 5,
     "metadata": {},
     "output_type": "execute_result"
    },
    {
     "data": {
      "text/plain": [
       "'----------------------------------------------------'"
      ]
     },
     "execution_count": 5,
     "metadata": {},
     "output_type": "execute_result"
    },
    {
     "data": {
      "text/plain": [
       "'Processing request for city 72: marcona'"
      ]
     },
     "execution_count": 5,
     "metadata": {},
     "output_type": "execute_result"
    },
    {
     "data": {
      "text/plain": [
       "'http://api.openweathermap.org/data/2.5/weather?q=marcona,pe&units=imperial&APPID=275d975a1c2099dde8c73d59417061cd'"
      ]
     },
     "execution_count": 5,
     "metadata": {},
     "output_type": "execute_result"
    },
    {
     "data": {
      "text/plain": [
       "'City not found. Proceeding to next city on list...'"
      ]
     },
     "execution_count": 5,
     "metadata": {},
     "output_type": "execute_result"
    },
    {
     "data": {
      "text/plain": [
       "'----------------------------------------------------'"
      ]
     },
     "execution_count": 5,
     "metadata": {},
     "output_type": "execute_result"
    },
    {
     "data": {
      "text/plain": [
       "'Processing request for city 73: barra patuca'"
      ]
     },
     "execution_count": 5,
     "metadata": {},
     "output_type": "execute_result"
    },
    {
     "data": {
      "text/plain": [
       "'http://api.openweathermap.org/data/2.5/weather?q=barra patuca,hn&units=imperial&APPID=275d975a1c2099dde8c73d59417061cd'"
      ]
     },
     "execution_count": 5,
     "metadata": {},
     "output_type": "execute_result"
    },
    {
     "data": {
      "text/plain": [
       "'----------------------------------------------------'"
      ]
     },
     "execution_count": 5,
     "metadata": {},
     "output_type": "execute_result"
    },
    {
     "data": {
      "text/plain": [
       "'Processing request for city 74: gat'"
      ]
     },
     "execution_count": 5,
     "metadata": {},
     "output_type": "execute_result"
    },
    {
     "data": {
      "text/plain": [
       "'http://api.openweathermap.org/data/2.5/weather?q=gat,ly&units=imperial&APPID=275d975a1c2099dde8c73d59417061cd'"
      ]
     },
     "execution_count": 5,
     "metadata": {},
     "output_type": "execute_result"
    },
    {
     "data": {
      "text/plain": [
       "'City not found. Proceeding to next city on list...'"
      ]
     },
     "execution_count": 5,
     "metadata": {},
     "output_type": "execute_result"
    },
    {
     "data": {
      "text/plain": [
       "'----------------------------------------------------'"
      ]
     },
     "execution_count": 5,
     "metadata": {},
     "output_type": "execute_result"
    },
    {
     "data": {
      "text/plain": [
       "'Processing request for city 75: kapaa'"
      ]
     },
     "execution_count": 5,
     "metadata": {},
     "output_type": "execute_result"
    },
    {
     "data": {
      "text/plain": [
       "'http://api.openweathermap.org/data/2.5/weather?q=kapaa,us&units=imperial&APPID=275d975a1c2099dde8c73d59417061cd'"
      ]
     },
     "execution_count": 5,
     "metadata": {},
     "output_type": "execute_result"
    },
    {
     "data": {
      "text/plain": [
       "'----------------------------------------------------'"
      ]
     },
     "execution_count": 5,
     "metadata": {},
     "output_type": "execute_result"
    },
    {
     "data": {
      "text/plain": [
       "'Processing request for city 76: sinegorskiy'"
      ]
     },
     "execution_count": 5,
     "metadata": {},
     "output_type": "execute_result"
    },
    {
     "data": {
      "text/plain": [
       "'http://api.openweathermap.org/data/2.5/weather?q=sinegorskiy,ru&units=imperial&APPID=275d975a1c2099dde8c73d59417061cd'"
      ]
     },
     "execution_count": 5,
     "metadata": {},
     "output_type": "execute_result"
    },
    {
     "data": {
      "text/plain": [
       "'----------------------------------------------------'"
      ]
     },
     "execution_count": 5,
     "metadata": {},
     "output_type": "execute_result"
    },
    {
     "data": {
      "text/plain": [
       "'Processing request for city 77: seaside'"
      ]
     },
     "execution_count": 5,
     "metadata": {},
     "output_type": "execute_result"
    },
    {
     "data": {
      "text/plain": [
       "'http://api.openweathermap.org/data/2.5/weather?q=seaside,us&units=imperial&APPID=275d975a1c2099dde8c73d59417061cd'"
      ]
     },
     "execution_count": 5,
     "metadata": {},
     "output_type": "execute_result"
    },
    {
     "data": {
      "text/plain": [
       "'----------------------------------------------------'"
      ]
     },
     "execution_count": 5,
     "metadata": {},
     "output_type": "execute_result"
    },
    {
     "data": {
      "text/plain": [
       "'Processing request for city 78: port augusta'"
      ]
     },
     "execution_count": 5,
     "metadata": {},
     "output_type": "execute_result"
    },
    {
     "data": {
      "text/plain": [
       "'http://api.openweathermap.org/data/2.5/weather?q=port augusta,au&units=imperial&APPID=275d975a1c2099dde8c73d59417061cd'"
      ]
     },
     "execution_count": 5,
     "metadata": {},
     "output_type": "execute_result"
    },
    {
     "data": {
      "text/plain": [
       "'----------------------------------------------------'"
      ]
     },
     "execution_count": 5,
     "metadata": {},
     "output_type": "execute_result"
    },
    {
     "data": {
      "text/plain": [
       "'Processing request for city 79: antsohihy'"
      ]
     },
     "execution_count": 5,
     "metadata": {},
     "output_type": "execute_result"
    },
    {
     "data": {
      "text/plain": [
       "'http://api.openweathermap.org/data/2.5/weather?q=antsohihy,mg&units=imperial&APPID=275d975a1c2099dde8c73d59417061cd'"
      ]
     },
     "execution_count": 5,
     "metadata": {},
     "output_type": "execute_result"
    },
    {
     "data": {
      "text/plain": [
       "'----------------------------------------------------'"
      ]
     },
     "execution_count": 5,
     "metadata": {},
     "output_type": "execute_result"
    },
    {
     "data": {
      "text/plain": [
       "'Processing request for city 80: nikolskoye'"
      ]
     },
     "execution_count": 5,
     "metadata": {},
     "output_type": "execute_result"
    },
    {
     "data": {
      "text/plain": [
       "'http://api.openweathermap.org/data/2.5/weather?q=nikolskoye,ru&units=imperial&APPID=275d975a1c2099dde8c73d59417061cd'"
      ]
     },
     "execution_count": 5,
     "metadata": {},
     "output_type": "execute_result"
    },
    {
     "data": {
      "text/plain": [
       "'----------------------------------------------------'"
      ]
     },
     "execution_count": 5,
     "metadata": {},
     "output_type": "execute_result"
    },
    {
     "data": {
      "text/plain": [
       "'Processing request for city 81: klaksvik'"
      ]
     },
     "execution_count": 5,
     "metadata": {},
     "output_type": "execute_result"
    },
    {
     "data": {
      "text/plain": [
       "'http://api.openweathermap.org/data/2.5/weather?q=klaksvik,fo&units=imperial&APPID=275d975a1c2099dde8c73d59417061cd'"
      ]
     },
     "execution_count": 5,
     "metadata": {},
     "output_type": "execute_result"
    },
    {
     "data": {
      "text/plain": [
       "'----------------------------------------------------'"
      ]
     },
     "execution_count": 5,
     "metadata": {},
     "output_type": "execute_result"
    },
    {
     "data": {
      "text/plain": [
       "'Processing request for city 82: izhma'"
      ]
     },
     "execution_count": 5,
     "metadata": {},
     "output_type": "execute_result"
    },
    {
     "data": {
      "text/plain": [
       "'http://api.openweathermap.org/data/2.5/weather?q=izhma,ru&units=imperial&APPID=275d975a1c2099dde8c73d59417061cd'"
      ]
     },
     "execution_count": 5,
     "metadata": {},
     "output_type": "execute_result"
    },
    {
     "data": {
      "text/plain": [
       "'----------------------------------------------------'"
      ]
     },
     "execution_count": 5,
     "metadata": {},
     "output_type": "execute_result"
    },
    {
     "data": {
      "text/plain": [
       "'Processing request for city 83: taoudenni'"
      ]
     },
     "execution_count": 5,
     "metadata": {},
     "output_type": "execute_result"
    },
    {
     "data": {
      "text/plain": [
       "'http://api.openweathermap.org/data/2.5/weather?q=taoudenni,ml&units=imperial&APPID=275d975a1c2099dde8c73d59417061cd'"
      ]
     },
     "execution_count": 5,
     "metadata": {},
     "output_type": "execute_result"
    },
    {
     "data": {
      "text/plain": [
       "'----------------------------------------------------'"
      ]
     },
     "execution_count": 5,
     "metadata": {},
     "output_type": "execute_result"
    },
    {
     "data": {
      "text/plain": [
       "'Processing request for city 84: forio'"
      ]
     },
     "execution_count": 5,
     "metadata": {},
     "output_type": "execute_result"
    },
    {
     "data": {
      "text/plain": [
       "'http://api.openweathermap.org/data/2.5/weather?q=forio,it&units=imperial&APPID=275d975a1c2099dde8c73d59417061cd'"
      ]
     },
     "execution_count": 5,
     "metadata": {},
     "output_type": "execute_result"
    },
    {
     "data": {
      "text/plain": [
       "'----------------------------------------------------'"
      ]
     },
     "execution_count": 5,
     "metadata": {},
     "output_type": "execute_result"
    },
    {
     "data": {
      "text/plain": [
       "'Processing request for city 85: cidreira'"
      ]
     },
     "execution_count": 5,
     "metadata": {},
     "output_type": "execute_result"
    },
    {
     "data": {
      "text/plain": [
       "'http://api.openweathermap.org/data/2.5/weather?q=cidreira,br&units=imperial&APPID=275d975a1c2099dde8c73d59417061cd'"
      ]
     },
     "execution_count": 5,
     "metadata": {},
     "output_type": "execute_result"
    },
    {
     "data": {
      "text/plain": [
       "'----------------------------------------------------'"
      ]
     },
     "execution_count": 5,
     "metadata": {},
     "output_type": "execute_result"
    },
    {
     "data": {
      "text/plain": [
       "'Processing request for city 86: callaway'"
      ]
     },
     "execution_count": 5,
     "metadata": {},
     "output_type": "execute_result"
    },
    {
     "data": {
      "text/plain": [
       "'http://api.openweathermap.org/data/2.5/weather?q=callaway,us&units=imperial&APPID=275d975a1c2099dde8c73d59417061cd'"
      ]
     },
     "execution_count": 5,
     "metadata": {},
     "output_type": "execute_result"
    },
    {
     "data": {
      "text/plain": [
       "'----------------------------------------------------'"
      ]
     },
     "execution_count": 5,
     "metadata": {},
     "output_type": "execute_result"
    },
    {
     "data": {
      "text/plain": [
       "'Processing request for city 87: bluff'"
      ]
     },
     "execution_count": 5,
     "metadata": {},
     "output_type": "execute_result"
    },
    {
     "data": {
      "text/plain": [
       "'http://api.openweathermap.org/data/2.5/weather?q=bluff,nz&units=imperial&APPID=275d975a1c2099dde8c73d59417061cd'"
      ]
     },
     "execution_count": 5,
     "metadata": {},
     "output_type": "execute_result"
    },
    {
     "data": {
      "text/plain": [
       "'----------------------------------------------------'"
      ]
     },
     "execution_count": 5,
     "metadata": {},
     "output_type": "execute_result"
    },
    {
     "data": {
      "text/plain": [
       "'Processing request for city 88: hermanus'"
      ]
     },
     "execution_count": 5,
     "metadata": {},
     "output_type": "execute_result"
    },
    {
     "data": {
      "text/plain": [
       "'http://api.openweathermap.org/data/2.5/weather?q=hermanus,za&units=imperial&APPID=275d975a1c2099dde8c73d59417061cd'"
      ]
     },
     "execution_count": 5,
     "metadata": {},
     "output_type": "execute_result"
    },
    {
     "data": {
      "text/plain": [
       "'----------------------------------------------------'"
      ]
     },
     "execution_count": 5,
     "metadata": {},
     "output_type": "execute_result"
    },
    {
     "data": {
      "text/plain": [
       "'Processing request for city 89: vaitupu'"
      ]
     },
     "execution_count": 5,
     "metadata": {},
     "output_type": "execute_result"
    },
    {
     "data": {
      "text/plain": [
       "'http://api.openweathermap.org/data/2.5/weather?q=vaitupu,wf&units=imperial&APPID=275d975a1c2099dde8c73d59417061cd'"
      ]
     },
     "execution_count": 5,
     "metadata": {},
     "output_type": "execute_result"
    },
    {
     "data": {
      "text/plain": [
       "'City not found. Proceeding to next city on list...'"
      ]
     },
     "execution_count": 5,
     "metadata": {},
     "output_type": "execute_result"
    },
    {
     "data": {
      "text/plain": [
       "'----------------------------------------------------'"
      ]
     },
     "execution_count": 5,
     "metadata": {},
     "output_type": "execute_result"
    },
    {
     "data": {
      "text/plain": [
       "'Processing request for city 90: sakaraha'"
      ]
     },
     "execution_count": 5,
     "metadata": {},
     "output_type": "execute_result"
    },
    {
     "data": {
      "text/plain": [
       "'http://api.openweathermap.org/data/2.5/weather?q=sakaraha,mg&units=imperial&APPID=275d975a1c2099dde8c73d59417061cd'"
      ]
     },
     "execution_count": 5,
     "metadata": {},
     "output_type": "execute_result"
    },
    {
     "data": {
      "text/plain": [
       "'----------------------------------------------------'"
      ]
     },
     "execution_count": 5,
     "metadata": {},
     "output_type": "execute_result"
    },
    {
     "data": {
      "text/plain": [
       "'Processing request for city 91: kerema'"
      ]
     },
     "execution_count": 5,
     "metadata": {},
     "output_type": "execute_result"
    },
    {
     "data": {
      "text/plain": [
       "'http://api.openweathermap.org/data/2.5/weather?q=kerema,pg&units=imperial&APPID=275d975a1c2099dde8c73d59417061cd'"
      ]
     },
     "execution_count": 5,
     "metadata": {},
     "output_type": "execute_result"
    },
    {
     "data": {
      "text/plain": [
       "'----------------------------------------------------'"
      ]
     },
     "execution_count": 5,
     "metadata": {},
     "output_type": "execute_result"
    },
    {
     "data": {
      "text/plain": [
       "'Processing request for city 92: norman wells'"
      ]
     },
     "execution_count": 5,
     "metadata": {},
     "output_type": "execute_result"
    },
    {
     "data": {
      "text/plain": [
       "'http://api.openweathermap.org/data/2.5/weather?q=norman wells,ca&units=imperial&APPID=275d975a1c2099dde8c73d59417061cd'"
      ]
     },
     "execution_count": 5,
     "metadata": {},
     "output_type": "execute_result"
    },
    {
     "data": {
      "text/plain": [
       "'----------------------------------------------------'"
      ]
     },
     "execution_count": 5,
     "metadata": {},
     "output_type": "execute_result"
    },
    {
     "data": {
      "text/plain": [
       "'Processing request for city 93: ezequiel montes'"
      ]
     },
     "execution_count": 5,
     "metadata": {},
     "output_type": "execute_result"
    },
    {
     "data": {
      "text/plain": [
       "'http://api.openweathermap.org/data/2.5/weather?q=ezequiel montes,mx&units=imperial&APPID=275d975a1c2099dde8c73d59417061cd'"
      ]
     },
     "execution_count": 5,
     "metadata": {},
     "output_type": "execute_result"
    },
    {
     "data": {
      "text/plain": [
       "'----------------------------------------------------'"
      ]
     },
     "execution_count": 5,
     "metadata": {},
     "output_type": "execute_result"
    },
    {
     "data": {
      "text/plain": [
       "'Processing request for city 94: upernavik'"
      ]
     },
     "execution_count": 5,
     "metadata": {},
     "output_type": "execute_result"
    },
    {
     "data": {
      "text/plain": [
       "'http://api.openweathermap.org/data/2.5/weather?q=upernavik,gl&units=imperial&APPID=275d975a1c2099dde8c73d59417061cd'"
      ]
     },
     "execution_count": 5,
     "metadata": {},
     "output_type": "execute_result"
    },
    {
     "data": {
      "text/plain": [
       "'----------------------------------------------------'"
      ]
     },
     "execution_count": 5,
     "metadata": {},
     "output_type": "execute_result"
    },
    {
     "data": {
      "text/plain": [
       "'Processing request for city 95: port moresby'"
      ]
     },
     "execution_count": 5,
     "metadata": {},
     "output_type": "execute_result"
    },
    {
     "data": {
      "text/plain": [
       "'http://api.openweathermap.org/data/2.5/weather?q=port moresby,pg&units=imperial&APPID=275d975a1c2099dde8c73d59417061cd'"
      ]
     },
     "execution_count": 5,
     "metadata": {},
     "output_type": "execute_result"
    },
    {
     "data": {
      "text/plain": [
       "'----------------------------------------------------'"
      ]
     },
     "execution_count": 5,
     "metadata": {},
     "output_type": "execute_result"
    },
    {
     "data": {
      "text/plain": [
       "'Processing request for city 96: hithadhoo'"
      ]
     },
     "execution_count": 5,
     "metadata": {},
     "output_type": "execute_result"
    },
    {
     "data": {
      "text/plain": [
       "'http://api.openweathermap.org/data/2.5/weather?q=hithadhoo,mv&units=imperial&APPID=275d975a1c2099dde8c73d59417061cd'"
      ]
     },
     "execution_count": 5,
     "metadata": {},
     "output_type": "execute_result"
    },
    {
     "data": {
      "text/plain": [
       "'----------------------------------------------------'"
      ]
     },
     "execution_count": 5,
     "metadata": {},
     "output_type": "execute_result"
    },
    {
     "data": {
      "text/plain": [
       "'Processing request for city 97: saint george'"
      ]
     },
     "execution_count": 5,
     "metadata": {},
     "output_type": "execute_result"
    },
    {
     "data": {
      "text/plain": [
       "'http://api.openweathermap.org/data/2.5/weather?q=saint george,bm&units=imperial&APPID=275d975a1c2099dde8c73d59417061cd'"
      ]
     },
     "execution_count": 5,
     "metadata": {},
     "output_type": "execute_result"
    },
    {
     "data": {
      "text/plain": [
       "'----------------------------------------------------'"
      ]
     },
     "execution_count": 5,
     "metadata": {},
     "output_type": "execute_result"
    },
    {
     "data": {
      "text/plain": [
       "'Processing request for city 98: attawapiskat'"
      ]
     },
     "execution_count": 5,
     "metadata": {},
     "output_type": "execute_result"
    },
    {
     "data": {
      "text/plain": [
       "'http://api.openweathermap.org/data/2.5/weather?q=attawapiskat,ca&units=imperial&APPID=275d975a1c2099dde8c73d59417061cd'"
      ]
     },
     "execution_count": 5,
     "metadata": {},
     "output_type": "execute_result"
    },
    {
     "data": {
      "text/plain": [
       "'City not found. Proceeding to next city on list...'"
      ]
     },
     "execution_count": 5,
     "metadata": {},
     "output_type": "execute_result"
    },
    {
     "data": {
      "text/plain": [
       "'----------------------------------------------------'"
      ]
     },
     "execution_count": 5,
     "metadata": {},
     "output_type": "execute_result"
    },
    {
     "data": {
      "text/plain": [
       "'Processing request for city 99: qeshm'"
      ]
     },
     "execution_count": 5,
     "metadata": {},
     "output_type": "execute_result"
    },
    {
     "data": {
      "text/plain": [
       "'http://api.openweathermap.org/data/2.5/weather?q=qeshm,ir&units=imperial&APPID=275d975a1c2099dde8c73d59417061cd'"
      ]
     },
     "execution_count": 5,
     "metadata": {},
     "output_type": "execute_result"
    },
    {
     "data": {
      "text/plain": [
       "'----------------------------------------------------'"
      ]
     },
     "execution_count": 5,
     "metadata": {},
     "output_type": "execute_result"
    },
    {
     "data": {
      "text/plain": [
       "'Processing request for city 100: marienburg'"
      ]
     },
     "execution_count": 5,
     "metadata": {},
     "output_type": "execute_result"
    },
    {
     "data": {
      "text/plain": [
       "'http://api.openweathermap.org/data/2.5/weather?q=marienburg,sr&units=imperial&APPID=275d975a1c2099dde8c73d59417061cd'"
      ]
     },
     "execution_count": 5,
     "metadata": {},
     "output_type": "execute_result"
    },
    {
     "data": {
      "text/plain": [
       "'----------------------------------------------------'"
      ]
     },
     "execution_count": 5,
     "metadata": {},
     "output_type": "execute_result"
    },
    {
     "data": {
      "text/plain": [
       "'Processing request for city 101: la ronge'"
      ]
     },
     "execution_count": 5,
     "metadata": {},
     "output_type": "execute_result"
    },
    {
     "data": {
      "text/plain": [
       "'http://api.openweathermap.org/data/2.5/weather?q=la ronge,ca&units=imperial&APPID=275d975a1c2099dde8c73d59417061cd'"
      ]
     },
     "execution_count": 5,
     "metadata": {},
     "output_type": "execute_result"
    },
    {
     "data": {
      "text/plain": [
       "'----------------------------------------------------'"
      ]
     },
     "execution_count": 5,
     "metadata": {},
     "output_type": "execute_result"
    },
    {
     "data": {
      "text/plain": [
       "'Processing request for city 102: lebu'"
      ]
     },
     "execution_count": 5,
     "metadata": {},
     "output_type": "execute_result"
    },
    {
     "data": {
      "text/plain": [
       "'http://api.openweathermap.org/data/2.5/weather?q=lebu,cl&units=imperial&APPID=275d975a1c2099dde8c73d59417061cd'"
      ]
     },
     "execution_count": 5,
     "metadata": {},
     "output_type": "execute_result"
    },
    {
     "data": {
      "text/plain": [
       "'----------------------------------------------------'"
      ]
     },
     "execution_count": 5,
     "metadata": {},
     "output_type": "execute_result"
    },
    {
     "data": {
      "text/plain": [
       "'Processing request for city 103: vredendal'"
      ]
     },
     "execution_count": 5,
     "metadata": {},
     "output_type": "execute_result"
    },
    {
     "data": {
      "text/plain": [
       "'http://api.openweathermap.org/data/2.5/weather?q=vredendal,za&units=imperial&APPID=275d975a1c2099dde8c73d59417061cd'"
      ]
     },
     "execution_count": 5,
     "metadata": {},
     "output_type": "execute_result"
    },
    {
     "data": {
      "text/plain": [
       "'----------------------------------------------------'"
      ]
     },
     "execution_count": 5,
     "metadata": {},
     "output_type": "execute_result"
    },
    {
     "data": {
      "text/plain": [
       "'Processing request for city 104: katsuura'"
      ]
     },
     "execution_count": 5,
     "metadata": {},
     "output_type": "execute_result"
    },
    {
     "data": {
      "text/plain": [
       "'http://api.openweathermap.org/data/2.5/weather?q=katsuura,jp&units=imperial&APPID=275d975a1c2099dde8c73d59417061cd'"
      ]
     },
     "execution_count": 5,
     "metadata": {},
     "output_type": "execute_result"
    },
    {
     "data": {
      "text/plain": [
       "'----------------------------------------------------'"
      ]
     },
     "execution_count": 5,
     "metadata": {},
     "output_type": "execute_result"
    },
    {
     "data": {
      "text/plain": [
       "'Processing request for city 105: caravelas'"
      ]
     },
     "execution_count": 5,
     "metadata": {},
     "output_type": "execute_result"
    },
    {
     "data": {
      "text/plain": [
       "'http://api.openweathermap.org/data/2.5/weather?q=caravelas,br&units=imperial&APPID=275d975a1c2099dde8c73d59417061cd'"
      ]
     },
     "execution_count": 5,
     "metadata": {},
     "output_type": "execute_result"
    },
    {
     "data": {
      "text/plain": [
       "'----------------------------------------------------'"
      ]
     },
     "execution_count": 5,
     "metadata": {},
     "output_type": "execute_result"
    },
    {
     "data": {
      "text/plain": [
       "'Processing request for city 106: barrow'"
      ]
     },
     "execution_count": 5,
     "metadata": {},
     "output_type": "execute_result"
    },
    {
     "data": {
      "text/plain": [
       "'http://api.openweathermap.org/data/2.5/weather?q=barrow,us&units=imperial&APPID=275d975a1c2099dde8c73d59417061cd'"
      ]
     },
     "execution_count": 5,
     "metadata": {},
     "output_type": "execute_result"
    },
    {
     "data": {
      "text/plain": [
       "'----------------------------------------------------'"
      ]
     },
     "execution_count": 5,
     "metadata": {},
     "output_type": "execute_result"
    },
    {
     "data": {
      "text/plain": [
       "'Processing request for city 107: zhanaozen'"
      ]
     },
     "execution_count": 5,
     "metadata": {},
     "output_type": "execute_result"
    },
    {
     "data": {
      "text/plain": [
       "'http://api.openweathermap.org/data/2.5/weather?q=zhanaozen,kz&units=imperial&APPID=275d975a1c2099dde8c73d59417061cd'"
      ]
     },
     "execution_count": 5,
     "metadata": {},
     "output_type": "execute_result"
    },
    {
     "data": {
      "text/plain": [
       "'----------------------------------------------------'"
      ]
     },
     "execution_count": 5,
     "metadata": {},
     "output_type": "execute_result"
    },
    {
     "data": {
      "text/plain": [
       "'Processing request for city 108: longkou'"
      ]
     },
     "execution_count": 5,
     "metadata": {},
     "output_type": "execute_result"
    },
    {
     "data": {
      "text/plain": [
       "'http://api.openweathermap.org/data/2.5/weather?q=longkou,cn&units=imperial&APPID=275d975a1c2099dde8c73d59417061cd'"
      ]
     },
     "execution_count": 5,
     "metadata": {},
     "output_type": "execute_result"
    },
    {
     "data": {
      "text/plain": [
       "'----------------------------------------------------'"
      ]
     },
     "execution_count": 5,
     "metadata": {},
     "output_type": "execute_result"
    },
    {
     "data": {
      "text/plain": [
       "'Processing request for city 109: mocuba'"
      ]
     },
     "execution_count": 5,
     "metadata": {},
     "output_type": "execute_result"
    },
    {
     "data": {
      "text/plain": [
       "'http://api.openweathermap.org/data/2.5/weather?q=mocuba,mz&units=imperial&APPID=275d975a1c2099dde8c73d59417061cd'"
      ]
     },
     "execution_count": 5,
     "metadata": {},
     "output_type": "execute_result"
    },
    {
     "data": {
      "text/plain": [
       "'----------------------------------------------------'"
      ]
     },
     "execution_count": 5,
     "metadata": {},
     "output_type": "execute_result"
    },
    {
     "data": {
      "text/plain": [
       "'Processing request for city 110: grojec'"
      ]
     },
     "execution_count": 5,
     "metadata": {},
     "output_type": "execute_result"
    },
    {
     "data": {
      "text/plain": [
       "'http://api.openweathermap.org/data/2.5/weather?q=grojec,pl&units=imperial&APPID=275d975a1c2099dde8c73d59417061cd'"
      ]
     },
     "execution_count": 5,
     "metadata": {},
     "output_type": "execute_result"
    },
    {
     "data": {
      "text/plain": [
       "'----------------------------------------------------'"
      ]
     },
     "execution_count": 5,
     "metadata": {},
     "output_type": "execute_result"
    },
    {
     "data": {
      "text/plain": [
       "'Processing request for city 111: codrington'"
      ]
     },
     "execution_count": 5,
     "metadata": {},
     "output_type": "execute_result"
    },
    {
     "data": {
      "text/plain": [
       "'http://api.openweathermap.org/data/2.5/weather?q=codrington,ag&units=imperial&APPID=275d975a1c2099dde8c73d59417061cd'"
      ]
     },
     "execution_count": 5,
     "metadata": {},
     "output_type": "execute_result"
    },
    {
     "data": {
      "text/plain": [
       "'City not found. Proceeding to next city on list...'"
      ]
     },
     "execution_count": 5,
     "metadata": {},
     "output_type": "execute_result"
    },
    {
     "data": {
      "text/plain": [
       "'----------------------------------------------------'"
      ]
     },
     "execution_count": 5,
     "metadata": {},
     "output_type": "execute_result"
    },
    {
     "data": {
      "text/plain": [
       "'Processing request for city 112: yellowknife'"
      ]
     },
     "execution_count": 5,
     "metadata": {},
     "output_type": "execute_result"
    },
    {
     "data": {
      "text/plain": [
       "'http://api.openweathermap.org/data/2.5/weather?q=yellowknife,ca&units=imperial&APPID=275d975a1c2099dde8c73d59417061cd'"
      ]
     },
     "execution_count": 5,
     "metadata": {},
     "output_type": "execute_result"
    },
    {
     "data": {
      "text/plain": [
       "'----------------------------------------------------'"
      ]
     },
     "execution_count": 5,
     "metadata": {},
     "output_type": "execute_result"
    },
    {
     "data": {
      "text/plain": [
       "'Processing request for city 113: zheleznodorozhnyy'"
      ]
     },
     "execution_count": 5,
     "metadata": {},
     "output_type": "execute_result"
    },
    {
     "data": {
      "text/plain": [
       "'http://api.openweathermap.org/data/2.5/weather?q=zheleznodorozhnyy,ru&units=imperial&APPID=275d975a1c2099dde8c73d59417061cd'"
      ]
     },
     "execution_count": 5,
     "metadata": {},
     "output_type": "execute_result"
    },
    {
     "data": {
      "text/plain": [
       "'----------------------------------------------------'"
      ]
     },
     "execution_count": 5,
     "metadata": {},
     "output_type": "execute_result"
    },
    {
     "data": {
      "text/plain": [
       "'Processing request for city 114: faanui'"
      ]
     },
     "execution_count": 5,
     "metadata": {},
     "output_type": "execute_result"
    },
    {
     "data": {
      "text/plain": [
       "'http://api.openweathermap.org/data/2.5/weather?q=faanui,pf&units=imperial&APPID=275d975a1c2099dde8c73d59417061cd'"
      ]
     },
     "execution_count": 5,
     "metadata": {},
     "output_type": "execute_result"
    },
    {
     "data": {
      "text/plain": [
       "'----------------------------------------------------'"
      ]
     },
     "execution_count": 5,
     "metadata": {},
     "output_type": "execute_result"
    },
    {
     "data": {
      "text/plain": [
       "'Processing request for city 115: hobart'"
      ]
     },
     "execution_count": 5,
     "metadata": {},
     "output_type": "execute_result"
    },
    {
     "data": {
      "text/plain": [
       "'http://api.openweathermap.org/data/2.5/weather?q=hobart,au&units=imperial&APPID=275d975a1c2099dde8c73d59417061cd'"
      ]
     },
     "execution_count": 5,
     "metadata": {},
     "output_type": "execute_result"
    },
    {
     "data": {
      "text/plain": [
       "'----------------------------------------------------'"
      ]
     },
     "execution_count": 5,
     "metadata": {},
     "output_type": "execute_result"
    },
    {
     "data": {
      "text/plain": [
       "'Processing request for city 116: kamenka'"
      ]
     },
     "execution_count": 5,
     "metadata": {},
     "output_type": "execute_result"
    },
    {
     "data": {
      "text/plain": [
       "'http://api.openweathermap.org/data/2.5/weather?q=kamenka,ru&units=imperial&APPID=275d975a1c2099dde8c73d59417061cd'"
      ]
     },
     "execution_count": 5,
     "metadata": {},
     "output_type": "execute_result"
    },
    {
     "data": {
      "text/plain": [
       "'----------------------------------------------------'"
      ]
     },
     "execution_count": 5,
     "metadata": {},
     "output_type": "execute_result"
    },
    {
     "data": {
      "text/plain": [
       "'Processing request for city 117: xai-xai'"
      ]
     },
     "execution_count": 5,
     "metadata": {},
     "output_type": "execute_result"
    },
    {
     "data": {
      "text/plain": [
       "'http://api.openweathermap.org/data/2.5/weather?q=xai-xai,mz&units=imperial&APPID=275d975a1c2099dde8c73d59417061cd'"
      ]
     },
     "execution_count": 5,
     "metadata": {},
     "output_type": "execute_result"
    },
    {
     "data": {
      "text/plain": [
       "'----------------------------------------------------'"
      ]
     },
     "execution_count": 5,
     "metadata": {},
     "output_type": "execute_result"
    },
    {
     "data": {
      "text/plain": [
       "'Processing request for city 118: vila velha'"
      ]
     },
     "execution_count": 5,
     "metadata": {},
     "output_type": "execute_result"
    },
    {
     "data": {
      "text/plain": [
       "'http://api.openweathermap.org/data/2.5/weather?q=vila velha,br&units=imperial&APPID=275d975a1c2099dde8c73d59417061cd'"
      ]
     },
     "execution_count": 5,
     "metadata": {},
     "output_type": "execute_result"
    },
    {
     "data": {
      "text/plain": [
       "'----------------------------------------------------'"
      ]
     },
     "execution_count": 5,
     "metadata": {},
     "output_type": "execute_result"
    },
    {
     "data": {
      "text/plain": [
       "'Processing request for city 119: hambantota'"
      ]
     },
     "execution_count": 5,
     "metadata": {},
     "output_type": "execute_result"
    },
    {
     "data": {
      "text/plain": [
       "'http://api.openweathermap.org/data/2.5/weather?q=hambantota,lk&units=imperial&APPID=275d975a1c2099dde8c73d59417061cd'"
      ]
     },
     "execution_count": 5,
     "metadata": {},
     "output_type": "execute_result"
    },
    {
     "data": {
      "text/plain": [
       "'----------------------------------------------------'"
      ]
     },
     "execution_count": 5,
     "metadata": {},
     "output_type": "execute_result"
    },
    {
     "data": {
      "text/plain": [
       "'Processing request for city 120: mahebourg'"
      ]
     },
     "execution_count": 5,
     "metadata": {},
     "output_type": "execute_result"
    },
    {
     "data": {
      "text/plain": [
       "'http://api.openweathermap.org/data/2.5/weather?q=mahebourg,mu&units=imperial&APPID=275d975a1c2099dde8c73d59417061cd'"
      ]
     },
     "execution_count": 5,
     "metadata": {},
     "output_type": "execute_result"
    },
    {
     "data": {
      "text/plain": [
       "'----------------------------------------------------'"
      ]
     },
     "execution_count": 5,
     "metadata": {},
     "output_type": "execute_result"
    },
    {
     "data": {
      "text/plain": [
       "'----------------------------------------------------'"
      ]
     },
     "execution_count": 5,
     "metadata": {},
     "output_type": "execute_result"
    },
    {
     "data": {
      "text/plain": [
       "'Pausing API requests for 20 seconds.'"
      ]
     },
     "execution_count": 5,
     "metadata": {},
     "output_type": "execute_result"
    },
    {
     "data": {
      "text/plain": [
       "\"(Don't want to overload my free account here.)\""
      ]
     },
     "execution_count": 5,
     "metadata": {},
     "output_type": "execute_result"
    },
    {
     "data": {
      "text/plain": [
       "'----------------------------------------------------'"
      ]
     },
     "execution_count": 5,
     "metadata": {},
     "output_type": "execute_result"
    },
    {
     "data": {
      "text/plain": [
       "'Processing request for city 121: brigantine'"
      ]
     },
     "execution_count": 5,
     "metadata": {},
     "output_type": "execute_result"
    },
    {
     "data": {
      "text/plain": [
       "'http://api.openweathermap.org/data/2.5/weather?q=brigantine,us&units=imperial&APPID=275d975a1c2099dde8c73d59417061cd'"
      ]
     },
     "execution_count": 5,
     "metadata": {},
     "output_type": "execute_result"
    },
    {
     "data": {
      "text/plain": [
       "'----------------------------------------------------'"
      ]
     },
     "execution_count": 5,
     "metadata": {},
     "output_type": "execute_result"
    },
    {
     "data": {
      "text/plain": [
       "'Processing request for city 122: deputatskiy'"
      ]
     },
     "execution_count": 5,
     "metadata": {},
     "output_type": "execute_result"
    },
    {
     "data": {
      "text/plain": [
       "'http://api.openweathermap.org/data/2.5/weather?q=deputatskiy,ru&units=imperial&APPID=275d975a1c2099dde8c73d59417061cd'"
      ]
     },
     "execution_count": 5,
     "metadata": {},
     "output_type": "execute_result"
    },
    {
     "data": {
      "text/plain": [
       "'----------------------------------------------------'"
      ]
     },
     "execution_count": 5,
     "metadata": {},
     "output_type": "execute_result"
    },
    {
     "data": {
      "text/plain": [
       "'Processing request for city 123: ewa beach'"
      ]
     },
     "execution_count": 5,
     "metadata": {},
     "output_type": "execute_result"
    },
    {
     "data": {
      "text/plain": [
       "'http://api.openweathermap.org/data/2.5/weather?q=ewa beach,us&units=imperial&APPID=275d975a1c2099dde8c73d59417061cd'"
      ]
     },
     "execution_count": 5,
     "metadata": {},
     "output_type": "execute_result"
    },
    {
     "data": {
      "text/plain": [
       "'----------------------------------------------------'"
      ]
     },
     "execution_count": 5,
     "metadata": {},
     "output_type": "execute_result"
    },
    {
     "data": {
      "text/plain": [
       "'Processing request for city 124: cabo san lucas'"
      ]
     },
     "execution_count": 5,
     "metadata": {},
     "output_type": "execute_result"
    },
    {
     "data": {
      "text/plain": [
       "'http://api.openweathermap.org/data/2.5/weather?q=cabo san lucas,mx&units=imperial&APPID=275d975a1c2099dde8c73d59417061cd'"
      ]
     },
     "execution_count": 5,
     "metadata": {},
     "output_type": "execute_result"
    },
    {
     "data": {
      "text/plain": [
       "'----------------------------------------------------'"
      ]
     },
     "execution_count": 5,
     "metadata": {},
     "output_type": "execute_result"
    },
    {
     "data": {
      "text/plain": [
       "'Processing request for city 125: provideniya'"
      ]
     },
     "execution_count": 5,
     "metadata": {},
     "output_type": "execute_result"
    },
    {
     "data": {
      "text/plain": [
       "'http://api.openweathermap.org/data/2.5/weather?q=provideniya,ru&units=imperial&APPID=275d975a1c2099dde8c73d59417061cd'"
      ]
     },
     "execution_count": 5,
     "metadata": {},
     "output_type": "execute_result"
    },
    {
     "data": {
      "text/plain": [
       "'----------------------------------------------------'"
      ]
     },
     "execution_count": 5,
     "metadata": {},
     "output_type": "execute_result"
    },
    {
     "data": {
      "text/plain": [
       "'Processing request for city 126: vaini'"
      ]
     },
     "execution_count": 5,
     "metadata": {},
     "output_type": "execute_result"
    },
    {
     "data": {
      "text/plain": [
       "'http://api.openweathermap.org/data/2.5/weather?q=vaini,to&units=imperial&APPID=275d975a1c2099dde8c73d59417061cd'"
      ]
     },
     "execution_count": 5,
     "metadata": {},
     "output_type": "execute_result"
    },
    {
     "data": {
      "text/plain": [
       "'----------------------------------------------------'"
      ]
     },
     "execution_count": 5,
     "metadata": {},
     "output_type": "execute_result"
    },
    {
     "data": {
      "text/plain": [
       "'Processing request for city 127: alofi'"
      ]
     },
     "execution_count": 5,
     "metadata": {},
     "output_type": "execute_result"
    },
    {
     "data": {
      "text/plain": [
       "'http://api.openweathermap.org/data/2.5/weather?q=alofi,nu&units=imperial&APPID=275d975a1c2099dde8c73d59417061cd'"
      ]
     },
     "execution_count": 5,
     "metadata": {},
     "output_type": "execute_result"
    },
    {
     "data": {
      "text/plain": [
       "'----------------------------------------------------'"
      ]
     },
     "execution_count": 5,
     "metadata": {},
     "output_type": "execute_result"
    },
    {
     "data": {
      "text/plain": [
       "'Processing request for city 128: hobyo'"
      ]
     },
     "execution_count": 5,
     "metadata": {},
     "output_type": "execute_result"
    },
    {
     "data": {
      "text/plain": [
       "'http://api.openweathermap.org/data/2.5/weather?q=hobyo,so&units=imperial&APPID=275d975a1c2099dde8c73d59417061cd'"
      ]
     },
     "execution_count": 5,
     "metadata": {},
     "output_type": "execute_result"
    },
    {
     "data": {
      "text/plain": [
       "'----------------------------------------------------'"
      ]
     },
     "execution_count": 5,
     "metadata": {},
     "output_type": "execute_result"
    },
    {
     "data": {
      "text/plain": [
       "'Processing request for city 129: doctor pedro p. pena'"
      ]
     },
     "execution_count": 5,
     "metadata": {},
     "output_type": "execute_result"
    },
    {
     "data": {
      "text/plain": [
       "'http://api.openweathermap.org/data/2.5/weather?q=doctor pedro p. pena,py&units=imperial&APPID=275d975a1c2099dde8c73d59417061cd'"
      ]
     },
     "execution_count": 5,
     "metadata": {},
     "output_type": "execute_result"
    },
    {
     "data": {
      "text/plain": [
       "'City not found. Proceeding to next city on list...'"
      ]
     },
     "execution_count": 5,
     "metadata": {},
     "output_type": "execute_result"
    },
    {
     "data": {
      "text/plain": [
       "'----------------------------------------------------'"
      ]
     },
     "execution_count": 5,
     "metadata": {},
     "output_type": "execute_result"
    },
    {
     "data": {
      "text/plain": [
       "'Processing request for city 130: nioro'"
      ]
     },
     "execution_count": 5,
     "metadata": {},
     "output_type": "execute_result"
    },
    {
     "data": {
      "text/plain": [
       "'http://api.openweathermap.org/data/2.5/weather?q=nioro,ml&units=imperial&APPID=275d975a1c2099dde8c73d59417061cd'"
      ]
     },
     "execution_count": 5,
     "metadata": {},
     "output_type": "execute_result"
    },
    {
     "data": {
      "text/plain": [
       "'City not found. Proceeding to next city on list...'"
      ]
     },
     "execution_count": 5,
     "metadata": {},
     "output_type": "execute_result"
    },
    {
     "data": {
      "text/plain": [
       "'----------------------------------------------------'"
      ]
     },
     "execution_count": 5,
     "metadata": {},
     "output_type": "execute_result"
    },
    {
     "data": {
      "text/plain": [
       "'Processing request for city 131: charters towers'"
      ]
     },
     "execution_count": 5,
     "metadata": {},
     "output_type": "execute_result"
    },
    {
     "data": {
      "text/plain": [
       "'http://api.openweathermap.org/data/2.5/weather?q=charters towers,au&units=imperial&APPID=275d975a1c2099dde8c73d59417061cd'"
      ]
     },
     "execution_count": 5,
     "metadata": {},
     "output_type": "execute_result"
    },
    {
     "data": {
      "text/plain": [
       "'----------------------------------------------------'"
      ]
     },
     "execution_count": 5,
     "metadata": {},
     "output_type": "execute_result"
    },
    {
     "data": {
      "text/plain": [
       "'Processing request for city 132: georgetown'"
      ]
     },
     "execution_count": 5,
     "metadata": {},
     "output_type": "execute_result"
    },
    {
     "data": {
      "text/plain": [
       "'http://api.openweathermap.org/data/2.5/weather?q=georgetown,sh&units=imperial&APPID=275d975a1c2099dde8c73d59417061cd'"
      ]
     },
     "execution_count": 5,
     "metadata": {},
     "output_type": "execute_result"
    },
    {
     "data": {
      "text/plain": [
       "'----------------------------------------------------'"
      ]
     },
     "execution_count": 5,
     "metadata": {},
     "output_type": "execute_result"
    },
    {
     "data": {
      "text/plain": [
       "'Processing request for city 133: waddan'"
      ]
     },
     "execution_count": 5,
     "metadata": {},
     "output_type": "execute_result"
    },
    {
     "data": {
      "text/plain": [
       "'http://api.openweathermap.org/data/2.5/weather?q=waddan,ly&units=imperial&APPID=275d975a1c2099dde8c73d59417061cd'"
      ]
     },
     "execution_count": 5,
     "metadata": {},
     "output_type": "execute_result"
    },
    {
     "data": {
      "text/plain": [
       "'----------------------------------------------------'"
      ]
     },
     "execution_count": 5,
     "metadata": {},
     "output_type": "execute_result"
    },
    {
     "data": {
      "text/plain": [
       "'Processing request for city 134: palana'"
      ]
     },
     "execution_count": 5,
     "metadata": {},
     "output_type": "execute_result"
    },
    {
     "data": {
      "text/plain": [
       "'http://api.openweathermap.org/data/2.5/weather?q=palana,ru&units=imperial&APPID=275d975a1c2099dde8c73d59417061cd'"
      ]
     },
     "execution_count": 5,
     "metadata": {},
     "output_type": "execute_result"
    },
    {
     "data": {
      "text/plain": [
       "'----------------------------------------------------'"
      ]
     },
     "execution_count": 5,
     "metadata": {},
     "output_type": "execute_result"
    },
    {
     "data": {
      "text/plain": [
       "'Processing request for city 135: sayyan'"
      ]
     },
     "execution_count": 5,
     "metadata": {},
     "output_type": "execute_result"
    },
    {
     "data": {
      "text/plain": [
       "'http://api.openweathermap.org/data/2.5/weather?q=sayyan,ye&units=imperial&APPID=275d975a1c2099dde8c73d59417061cd'"
      ]
     },
     "execution_count": 5,
     "metadata": {},
     "output_type": "execute_result"
    },
    {
     "data": {
      "text/plain": [
       "'----------------------------------------------------'"
      ]
     },
     "execution_count": 5,
     "metadata": {},
     "output_type": "execute_result"
    },
    {
     "data": {
      "text/plain": [
       "'Processing request for city 136: carbonear'"
      ]
     },
     "execution_count": 5,
     "metadata": {},
     "output_type": "execute_result"
    },
    {
     "data": {
      "text/plain": [
       "'http://api.openweathermap.org/data/2.5/weather?q=carbonear,ca&units=imperial&APPID=275d975a1c2099dde8c73d59417061cd'"
      ]
     },
     "execution_count": 5,
     "metadata": {},
     "output_type": "execute_result"
    },
    {
     "data": {
      "text/plain": [
       "'----------------------------------------------------'"
      ]
     },
     "execution_count": 5,
     "metadata": {},
     "output_type": "execute_result"
    },
    {
     "data": {
      "text/plain": [
       "'Processing request for city 137: nouadhibou'"
      ]
     },
     "execution_count": 5,
     "metadata": {},
     "output_type": "execute_result"
    },
    {
     "data": {
      "text/plain": [
       "'http://api.openweathermap.org/data/2.5/weather?q=nouadhibou,mr&units=imperial&APPID=275d975a1c2099dde8c73d59417061cd'"
      ]
     },
     "execution_count": 5,
     "metadata": {},
     "output_type": "execute_result"
    },
    {
     "data": {
      "text/plain": [
       "'----------------------------------------------------'"
      ]
     },
     "execution_count": 5,
     "metadata": {},
     "output_type": "execute_result"
    },
    {
     "data": {
      "text/plain": [
       "'Processing request for city 138: tsihombe'"
      ]
     },
     "execution_count": 5,
     "metadata": {},
     "output_type": "execute_result"
    },
    {
     "data": {
      "text/plain": [
       "'http://api.openweathermap.org/data/2.5/weather?q=tsihombe,mg&units=imperial&APPID=275d975a1c2099dde8c73d59417061cd'"
      ]
     },
     "execution_count": 5,
     "metadata": {},
     "output_type": "execute_result"
    },
    {
     "data": {
      "text/plain": [
       "'City not found. Proceeding to next city on list...'"
      ]
     },
     "execution_count": 5,
     "metadata": {},
     "output_type": "execute_result"
    },
    {
     "data": {
      "text/plain": [
       "'----------------------------------------------------'"
      ]
     },
     "execution_count": 5,
     "metadata": {},
     "output_type": "execute_result"
    },
    {
     "data": {
      "text/plain": [
       "'Processing request for city 139: byron bay'"
      ]
     },
     "execution_count": 5,
     "metadata": {},
     "output_type": "execute_result"
    },
    {
     "data": {
      "text/plain": [
       "'http://api.openweathermap.org/data/2.5/weather?q=byron bay,au&units=imperial&APPID=275d975a1c2099dde8c73d59417061cd'"
      ]
     },
     "execution_count": 5,
     "metadata": {},
     "output_type": "execute_result"
    },
    {
     "data": {
      "text/plain": [
       "'----------------------------------------------------'"
      ]
     },
     "execution_count": 5,
     "metadata": {},
     "output_type": "execute_result"
    },
    {
     "data": {
      "text/plain": [
       "'Processing request for city 140: qaanaaq'"
      ]
     },
     "execution_count": 5,
     "metadata": {},
     "output_type": "execute_result"
    },
    {
     "data": {
      "text/plain": [
       "'http://api.openweathermap.org/data/2.5/weather?q=qaanaaq,gl&units=imperial&APPID=275d975a1c2099dde8c73d59417061cd'"
      ]
     },
     "execution_count": 5,
     "metadata": {},
     "output_type": "execute_result"
    },
    {
     "data": {
      "text/plain": [
       "'----------------------------------------------------'"
      ]
     },
     "execution_count": 5,
     "metadata": {},
     "output_type": "execute_result"
    },
    {
     "data": {
      "text/plain": [
       "'Processing request for city 141: innisfail'"
      ]
     },
     "execution_count": 5,
     "metadata": {},
     "output_type": "execute_result"
    },
    {
     "data": {
      "text/plain": [
       "'http://api.openweathermap.org/data/2.5/weather?q=innisfail,au&units=imperial&APPID=275d975a1c2099dde8c73d59417061cd'"
      ]
     },
     "execution_count": 5,
     "metadata": {},
     "output_type": "execute_result"
    },
    {
     "data": {
      "text/plain": [
       "'----------------------------------------------------'"
      ]
     },
     "execution_count": 5,
     "metadata": {},
     "output_type": "execute_result"
    },
    {
     "data": {
      "text/plain": [
       "'Processing request for city 142: iqaluit'"
      ]
     },
     "execution_count": 5,
     "metadata": {},
     "output_type": "execute_result"
    },
    {
     "data": {
      "text/plain": [
       "'http://api.openweathermap.org/data/2.5/weather?q=iqaluit,ca&units=imperial&APPID=275d975a1c2099dde8c73d59417061cd'"
      ]
     },
     "execution_count": 5,
     "metadata": {},
     "output_type": "execute_result"
    },
    {
     "data": {
      "text/plain": [
       "'----------------------------------------------------'"
      ]
     },
     "execution_count": 5,
     "metadata": {},
     "output_type": "execute_result"
    },
    {
     "data": {
      "text/plain": [
       "'Processing request for city 143: ostrovnoy'"
      ]
     },
     "execution_count": 5,
     "metadata": {},
     "output_type": "execute_result"
    },
    {
     "data": {
      "text/plain": [
       "'http://api.openweathermap.org/data/2.5/weather?q=ostrovnoy,ru&units=imperial&APPID=275d975a1c2099dde8c73d59417061cd'"
      ]
     },
     "execution_count": 5,
     "metadata": {},
     "output_type": "execute_result"
    },
    {
     "data": {
      "text/plain": [
       "'----------------------------------------------------'"
      ]
     },
     "execution_count": 5,
     "metadata": {},
     "output_type": "execute_result"
    },
    {
     "data": {
      "text/plain": [
       "'Processing request for city 144: puerto ayora'"
      ]
     },
     "execution_count": 5,
     "metadata": {},
     "output_type": "execute_result"
    },
    {
     "data": {
      "text/plain": [
       "'http://api.openweathermap.org/data/2.5/weather?q=puerto ayora,ec&units=imperial&APPID=275d975a1c2099dde8c73d59417061cd'"
      ]
     },
     "execution_count": 5,
     "metadata": {},
     "output_type": "execute_result"
    },
    {
     "data": {
      "text/plain": [
       "'----------------------------------------------------'"
      ]
     },
     "execution_count": 5,
     "metadata": {},
     "output_type": "execute_result"
    },
    {
     "data": {
      "text/plain": [
       "'Processing request for city 145: havoysund'"
      ]
     },
     "execution_count": 5,
     "metadata": {},
     "output_type": "execute_result"
    },
    {
     "data": {
      "text/plain": [
       "'http://api.openweathermap.org/data/2.5/weather?q=havoysund,no&units=imperial&APPID=275d975a1c2099dde8c73d59417061cd'"
      ]
     },
     "execution_count": 5,
     "metadata": {},
     "output_type": "execute_result"
    },
    {
     "data": {
      "text/plain": [
       "'----------------------------------------------------'"
      ]
     },
     "execution_count": 5,
     "metadata": {},
     "output_type": "execute_result"
    },
    {
     "data": {
      "text/plain": [
       "'Processing request for city 146: berlevag'"
      ]
     },
     "execution_count": 5,
     "metadata": {},
     "output_type": "execute_result"
    },
    {
     "data": {
      "text/plain": [
       "'http://api.openweathermap.org/data/2.5/weather?q=berlevag,no&units=imperial&APPID=275d975a1c2099dde8c73d59417061cd'"
      ]
     },
     "execution_count": 5,
     "metadata": {},
     "output_type": "execute_result"
    },
    {
     "data": {
      "text/plain": [
       "'----------------------------------------------------'"
      ]
     },
     "execution_count": 5,
     "metadata": {},
     "output_type": "execute_result"
    },
    {
     "data": {
      "text/plain": [
       "'Processing request for city 147: maniitsoq'"
      ]
     },
     "execution_count": 5,
     "metadata": {},
     "output_type": "execute_result"
    },
    {
     "data": {
      "text/plain": [
       "'http://api.openweathermap.org/data/2.5/weather?q=maniitsoq,gl&units=imperial&APPID=275d975a1c2099dde8c73d59417061cd'"
      ]
     },
     "execution_count": 5,
     "metadata": {},
     "output_type": "execute_result"
    },
    {
     "data": {
      "text/plain": [
       "'----------------------------------------------------'"
      ]
     },
     "execution_count": 5,
     "metadata": {},
     "output_type": "execute_result"
    },
    {
     "data": {
      "text/plain": [
       "'Processing request for city 148: key largo'"
      ]
     },
     "execution_count": 5,
     "metadata": {},
     "output_type": "execute_result"
    },
    {
     "data": {
      "text/plain": [
       "'http://api.openweathermap.org/data/2.5/weather?q=key largo,us&units=imperial&APPID=275d975a1c2099dde8c73d59417061cd'"
      ]
     },
     "execution_count": 5,
     "metadata": {},
     "output_type": "execute_result"
    },
    {
     "data": {
      "text/plain": [
       "'----------------------------------------------------'"
      ]
     },
     "execution_count": 5,
     "metadata": {},
     "output_type": "execute_result"
    },
    {
     "data": {
      "text/plain": [
       "'Processing request for city 149: baruun-urt'"
      ]
     },
     "execution_count": 5,
     "metadata": {},
     "output_type": "execute_result"
    },
    {
     "data": {
      "text/plain": [
       "'http://api.openweathermap.org/data/2.5/weather?q=baruun-urt,mn&units=imperial&APPID=275d975a1c2099dde8c73d59417061cd'"
      ]
     },
     "execution_count": 5,
     "metadata": {},
     "output_type": "execute_result"
    },
    {
     "data": {
      "text/plain": [
       "'----------------------------------------------------'"
      ]
     },
     "execution_count": 5,
     "metadata": {},
     "output_type": "execute_result"
    },
    {
     "data": {
      "text/plain": [
       "'Processing request for city 150: butaritari'"
      ]
     },
     "execution_count": 5,
     "metadata": {},
     "output_type": "execute_result"
    },
    {
     "data": {
      "text/plain": [
       "'http://api.openweathermap.org/data/2.5/weather?q=butaritari,ki&units=imperial&APPID=275d975a1c2099dde8c73d59417061cd'"
      ]
     },
     "execution_count": 5,
     "metadata": {},
     "output_type": "execute_result"
    },
    {
     "data": {
      "text/plain": [
       "'----------------------------------------------------'"
      ]
     },
     "execution_count": 5,
     "metadata": {},
     "output_type": "execute_result"
    },
    {
     "data": {
      "text/plain": [
       "'Processing request for city 151: belushya guba'"
      ]
     },
     "execution_count": 5,
     "metadata": {},
     "output_type": "execute_result"
    },
    {
     "data": {
      "text/plain": [
       "'http://api.openweathermap.org/data/2.5/weather?q=belushya guba,ru&units=imperial&APPID=275d975a1c2099dde8c73d59417061cd'"
      ]
     },
     "execution_count": 5,
     "metadata": {},
     "output_type": "execute_result"
    },
    {
     "data": {
      "text/plain": [
       "'City not found. Proceeding to next city on list...'"
      ]
     },
     "execution_count": 5,
     "metadata": {},
     "output_type": "execute_result"
    },
    {
     "data": {
      "text/plain": [
       "'----------------------------------------------------'"
      ]
     },
     "execution_count": 5,
     "metadata": {},
     "output_type": "execute_result"
    },
    {
     "data": {
      "text/plain": [
       "'Processing request for city 152: mrirt'"
      ]
     },
     "execution_count": 5,
     "metadata": {},
     "output_type": "execute_result"
    },
    {
     "data": {
      "text/plain": [
       "'http://api.openweathermap.org/data/2.5/weather?q=mrirt,ma&units=imperial&APPID=275d975a1c2099dde8c73d59417061cd'"
      ]
     },
     "execution_count": 5,
     "metadata": {},
     "output_type": "execute_result"
    },
    {
     "data": {
      "text/plain": [
       "'City not found. Proceeding to next city on list...'"
      ]
     },
     "execution_count": 5,
     "metadata": {},
     "output_type": "execute_result"
    },
    {
     "data": {
      "text/plain": [
       "'----------------------------------------------------'"
      ]
     },
     "execution_count": 5,
     "metadata": {},
     "output_type": "execute_result"
    },
    {
     "data": {
      "text/plain": [
       "'Processing request for city 153: bur gabo'"
      ]
     },
     "execution_count": 5,
     "metadata": {},
     "output_type": "execute_result"
    },
    {
     "data": {
      "text/plain": [
       "'http://api.openweathermap.org/data/2.5/weather?q=bur gabo,so&units=imperial&APPID=275d975a1c2099dde8c73d59417061cd'"
      ]
     },
     "execution_count": 5,
     "metadata": {},
     "output_type": "execute_result"
    },
    {
     "data": {
      "text/plain": [
       "'City not found. Proceeding to next city on list...'"
      ]
     },
     "execution_count": 5,
     "metadata": {},
     "output_type": "execute_result"
    },
    {
     "data": {
      "text/plain": [
       "'----------------------------------------------------'"
      ]
     },
     "execution_count": 5,
     "metadata": {},
     "output_type": "execute_result"
    },
    {
     "data": {
      "text/plain": [
       "'Processing request for city 154: esperance'"
      ]
     },
     "execution_count": 5,
     "metadata": {},
     "output_type": "execute_result"
    },
    {
     "data": {
      "text/plain": [
       "'http://api.openweathermap.org/data/2.5/weather?q=esperance,au&units=imperial&APPID=275d975a1c2099dde8c73d59417061cd'"
      ]
     },
     "execution_count": 5,
     "metadata": {},
     "output_type": "execute_result"
    },
    {
     "data": {
      "text/plain": [
       "'----------------------------------------------------'"
      ]
     },
     "execution_count": 5,
     "metadata": {},
     "output_type": "execute_result"
    },
    {
     "data": {
      "text/plain": [
       "'Processing request for city 155: te anau'"
      ]
     },
     "execution_count": 5,
     "metadata": {},
     "output_type": "execute_result"
    },
    {
     "data": {
      "text/plain": [
       "'http://api.openweathermap.org/data/2.5/weather?q=te anau,nz&units=imperial&APPID=275d975a1c2099dde8c73d59417061cd'"
      ]
     },
     "execution_count": 5,
     "metadata": {},
     "output_type": "execute_result"
    },
    {
     "data": {
      "text/plain": [
       "'----------------------------------------------------'"
      ]
     },
     "execution_count": 5,
     "metadata": {},
     "output_type": "execute_result"
    },
    {
     "data": {
      "text/plain": [
       "'Processing request for city 156: rosarito'"
      ]
     },
     "execution_count": 5,
     "metadata": {},
     "output_type": "execute_result"
    },
    {
     "data": {
      "text/plain": [
       "'http://api.openweathermap.org/data/2.5/weather?q=rosarito,mx&units=imperial&APPID=275d975a1c2099dde8c73d59417061cd'"
      ]
     },
     "execution_count": 5,
     "metadata": {},
     "output_type": "execute_result"
    },
    {
     "data": {
      "text/plain": [
       "'----------------------------------------------------'"
      ]
     },
     "execution_count": 5,
     "metadata": {},
     "output_type": "execute_result"
    },
    {
     "data": {
      "text/plain": [
       "'Processing request for city 157: jining'"
      ]
     },
     "execution_count": 5,
     "metadata": {},
     "output_type": "execute_result"
    },
    {
     "data": {
      "text/plain": [
       "'http://api.openweathermap.org/data/2.5/weather?q=jining,cn&units=imperial&APPID=275d975a1c2099dde8c73d59417061cd'"
      ]
     },
     "execution_count": 5,
     "metadata": {},
     "output_type": "execute_result"
    },
    {
     "data": {
      "text/plain": [
       "'----------------------------------------------------'"
      ]
     },
     "execution_count": 5,
     "metadata": {},
     "output_type": "execute_result"
    },
    {
     "data": {
      "text/plain": [
       "'Processing request for city 158: ngunguru'"
      ]
     },
     "execution_count": 5,
     "metadata": {},
     "output_type": "execute_result"
    },
    {
     "data": {
      "text/plain": [
       "'http://api.openweathermap.org/data/2.5/weather?q=ngunguru,nz&units=imperial&APPID=275d975a1c2099dde8c73d59417061cd'"
      ]
     },
     "execution_count": 5,
     "metadata": {},
     "output_type": "execute_result"
    },
    {
     "data": {
      "text/plain": [
       "'----------------------------------------------------'"
      ]
     },
     "execution_count": 5,
     "metadata": {},
     "output_type": "execute_result"
    },
    {
     "data": {
      "text/plain": [
       "'Processing request for city 159: qingdao'"
      ]
     },
     "execution_count": 5,
     "metadata": {},
     "output_type": "execute_result"
    },
    {
     "data": {
      "text/plain": [
       "'http://api.openweathermap.org/data/2.5/weather?q=qingdao,cn&units=imperial&APPID=275d975a1c2099dde8c73d59417061cd'"
      ]
     },
     "execution_count": 5,
     "metadata": {},
     "output_type": "execute_result"
    },
    {
     "data": {
      "text/plain": [
       "'----------------------------------------------------'"
      ]
     },
     "execution_count": 5,
     "metadata": {},
     "output_type": "execute_result"
    },
    {
     "data": {
      "text/plain": [
       "'Processing request for city 160: hasaki'"
      ]
     },
     "execution_count": 5,
     "metadata": {},
     "output_type": "execute_result"
    },
    {
     "data": {
      "text/plain": [
       "'http://api.openweathermap.org/data/2.5/weather?q=hasaki,jp&units=imperial&APPID=275d975a1c2099dde8c73d59417061cd'"
      ]
     },
     "execution_count": 5,
     "metadata": {},
     "output_type": "execute_result"
    },
    {
     "data": {
      "text/plain": [
       "'----------------------------------------------------'"
      ]
     },
     "execution_count": 5,
     "metadata": {},
     "output_type": "execute_result"
    },
    {
     "data": {
      "text/plain": [
       "'Processing request for city 161: vao'"
      ]
     },
     "execution_count": 5,
     "metadata": {},
     "output_type": "execute_result"
    },
    {
     "data": {
      "text/plain": [
       "'http://api.openweathermap.org/data/2.5/weather?q=vao,nc&units=imperial&APPID=275d975a1c2099dde8c73d59417061cd'"
      ]
     },
     "execution_count": 5,
     "metadata": {},
     "output_type": "execute_result"
    },
    {
     "data": {
      "text/plain": [
       "'----------------------------------------------------'"
      ]
     },
     "execution_count": 5,
     "metadata": {},
     "output_type": "execute_result"
    },
    {
     "data": {
      "text/plain": [
       "'Processing request for city 162: carnarvon'"
      ]
     },
     "execution_count": 5,
     "metadata": {},
     "output_type": "execute_result"
    },
    {
     "data": {
      "text/plain": [
       "'http://api.openweathermap.org/data/2.5/weather?q=carnarvon,au&units=imperial&APPID=275d975a1c2099dde8c73d59417061cd'"
      ]
     },
     "execution_count": 5,
     "metadata": {},
     "output_type": "execute_result"
    },
    {
     "data": {
      "text/plain": [
       "'----------------------------------------------------'"
      ]
     },
     "execution_count": 5,
     "metadata": {},
     "output_type": "execute_result"
    },
    {
     "data": {
      "text/plain": [
       "'Processing request for city 163: chagda'"
      ]
     },
     "execution_count": 5,
     "metadata": {},
     "output_type": "execute_result"
    },
    {
     "data": {
      "text/plain": [
       "'http://api.openweathermap.org/data/2.5/weather?q=chagda,ru&units=imperial&APPID=275d975a1c2099dde8c73d59417061cd'"
      ]
     },
     "execution_count": 5,
     "metadata": {},
     "output_type": "execute_result"
    },
    {
     "data": {
      "text/plain": [
       "'City not found. Proceeding to next city on list...'"
      ]
     },
     "execution_count": 5,
     "metadata": {},
     "output_type": "execute_result"
    },
    {
     "data": {
      "text/plain": [
       "'----------------------------------------------------'"
      ]
     },
     "execution_count": 5,
     "metadata": {},
     "output_type": "execute_result"
    },
    {
     "data": {
      "text/plain": [
       "'Processing request for city 164: arraial do cabo'"
      ]
     },
     "execution_count": 5,
     "metadata": {},
     "output_type": "execute_result"
    },
    {
     "data": {
      "text/plain": [
       "'http://api.openweathermap.org/data/2.5/weather?q=arraial do cabo,br&units=imperial&APPID=275d975a1c2099dde8c73d59417061cd'"
      ]
     },
     "execution_count": 5,
     "metadata": {},
     "output_type": "execute_result"
    },
    {
     "data": {
      "text/plain": [
       "'----------------------------------------------------'"
      ]
     },
     "execution_count": 5,
     "metadata": {},
     "output_type": "execute_result"
    },
    {
     "data": {
      "text/plain": [
       "'Processing request for city 165: nijar'"
      ]
     },
     "execution_count": 5,
     "metadata": {},
     "output_type": "execute_result"
    },
    {
     "data": {
      "text/plain": [
       "'http://api.openweathermap.org/data/2.5/weather?q=nijar,es&units=imperial&APPID=275d975a1c2099dde8c73d59417061cd'"
      ]
     },
     "execution_count": 5,
     "metadata": {},
     "output_type": "execute_result"
    },
    {
     "data": {
      "text/plain": [
       "'----------------------------------------------------'"
      ]
     },
     "execution_count": 5,
     "metadata": {},
     "output_type": "execute_result"
    },
    {
     "data": {
      "text/plain": [
       "'Processing request for city 166: bambous virieux'"
      ]
     },
     "execution_count": 5,
     "metadata": {},
     "output_type": "execute_result"
    },
    {
     "data": {
      "text/plain": [
       "'http://api.openweathermap.org/data/2.5/weather?q=bambous virieux,mu&units=imperial&APPID=275d975a1c2099dde8c73d59417061cd'"
      ]
     },
     "execution_count": 5,
     "metadata": {},
     "output_type": "execute_result"
    },
    {
     "data": {
      "text/plain": [
       "'----------------------------------------------------'"
      ]
     },
     "execution_count": 5,
     "metadata": {},
     "output_type": "execute_result"
    },
    {
     "data": {
      "text/plain": [
       "'Processing request for city 167: ullapool'"
      ]
     },
     "execution_count": 5,
     "metadata": {},
     "output_type": "execute_result"
    },
    {
     "data": {
      "text/plain": [
       "'http://api.openweathermap.org/data/2.5/weather?q=ullapool,gb&units=imperial&APPID=275d975a1c2099dde8c73d59417061cd'"
      ]
     },
     "execution_count": 5,
     "metadata": {},
     "output_type": "execute_result"
    },
    {
     "data": {
      "text/plain": [
       "'----------------------------------------------------'"
      ]
     },
     "execution_count": 5,
     "metadata": {},
     "output_type": "execute_result"
    },
    {
     "data": {
      "text/plain": [
       "'Processing request for city 168: palmer'"
      ]
     },
     "execution_count": 5,
     "metadata": {},
     "output_type": "execute_result"
    },
    {
     "data": {
      "text/plain": [
       "'http://api.openweathermap.org/data/2.5/weather?q=palmer,us&units=imperial&APPID=275d975a1c2099dde8c73d59417061cd'"
      ]
     },
     "execution_count": 5,
     "metadata": {},
     "output_type": "execute_result"
    },
    {
     "data": {
      "text/plain": [
       "'----------------------------------------------------'"
      ]
     },
     "execution_count": 5,
     "metadata": {},
     "output_type": "execute_result"
    },
    {
     "data": {
      "text/plain": [
       "'Processing request for city 169: ambala'"
      ]
     },
     "execution_count": 5,
     "metadata": {},
     "output_type": "execute_result"
    },
    {
     "data": {
      "text/plain": [
       "'http://api.openweathermap.org/data/2.5/weather?q=ambala,in&units=imperial&APPID=275d975a1c2099dde8c73d59417061cd'"
      ]
     },
     "execution_count": 5,
     "metadata": {},
     "output_type": "execute_result"
    },
    {
     "data": {
      "text/plain": [
       "'----------------------------------------------------'"
      ]
     },
     "execution_count": 5,
     "metadata": {},
     "output_type": "execute_result"
    },
    {
     "data": {
      "text/plain": [
       "'Processing request for city 170: port elizabeth'"
      ]
     },
     "execution_count": 5,
     "metadata": {},
     "output_type": "execute_result"
    },
    {
     "data": {
      "text/plain": [
       "'http://api.openweathermap.org/data/2.5/weather?q=port elizabeth,za&units=imperial&APPID=275d975a1c2099dde8c73d59417061cd'"
      ]
     },
     "execution_count": 5,
     "metadata": {},
     "output_type": "execute_result"
    },
    {
     "data": {
      "text/plain": [
       "'----------------------------------------------------'"
      ]
     },
     "execution_count": 5,
     "metadata": {},
     "output_type": "execute_result"
    },
    {
     "data": {
      "text/plain": [
       "'Processing request for city 171: nueve de julio'"
      ]
     },
     "execution_count": 5,
     "metadata": {},
     "output_type": "execute_result"
    },
    {
     "data": {
      "text/plain": [
       "'http://api.openweathermap.org/data/2.5/weather?q=nueve de julio,ar&units=imperial&APPID=275d975a1c2099dde8c73d59417061cd'"
      ]
     },
     "execution_count": 5,
     "metadata": {},
     "output_type": "execute_result"
    },
    {
     "data": {
      "text/plain": [
       "'----------------------------------------------------'"
      ]
     },
     "execution_count": 5,
     "metadata": {},
     "output_type": "execute_result"
    },
    {
     "data": {
      "text/plain": [
       "'Processing request for city 172: kruisfontein'"
      ]
     },
     "execution_count": 5,
     "metadata": {},
     "output_type": "execute_result"
    },
    {
     "data": {
      "text/plain": [
       "'http://api.openweathermap.org/data/2.5/weather?q=kruisfontein,za&units=imperial&APPID=275d975a1c2099dde8c73d59417061cd'"
      ]
     },
     "execution_count": 5,
     "metadata": {},
     "output_type": "execute_result"
    },
    {
     "data": {
      "text/plain": [
       "'----------------------------------------------------'"
      ]
     },
     "execution_count": 5,
     "metadata": {},
     "output_type": "execute_result"
    },
    {
     "data": {
      "text/plain": [
       "'Processing request for city 173: coihaique'"
      ]
     },
     "execution_count": 5,
     "metadata": {},
     "output_type": "execute_result"
    },
    {
     "data": {
      "text/plain": [
       "'http://api.openweathermap.org/data/2.5/weather?q=coihaique,cl&units=imperial&APPID=275d975a1c2099dde8c73d59417061cd'"
      ]
     },
     "execution_count": 5,
     "metadata": {},
     "output_type": "execute_result"
    },
    {
     "data": {
      "text/plain": [
       "'----------------------------------------------------'"
      ]
     },
     "execution_count": 5,
     "metadata": {},
     "output_type": "execute_result"
    },
    {
     "data": {
      "text/plain": [
       "'Processing request for city 174: lufilufi'"
      ]
     },
     "execution_count": 5,
     "metadata": {},
     "output_type": "execute_result"
    },
    {
     "data": {
      "text/plain": [
       "'http://api.openweathermap.org/data/2.5/weather?q=lufilufi,ws&units=imperial&APPID=275d975a1c2099dde8c73d59417061cd'"
      ]
     },
     "execution_count": 5,
     "metadata": {},
     "output_type": "execute_result"
    },
    {
     "data": {
      "text/plain": [
       "'----------------------------------------------------'"
      ]
     },
     "execution_count": 5,
     "metadata": {},
     "output_type": "execute_result"
    },
    {
     "data": {
      "text/plain": [
       "'Processing request for city 175: jadu'"
      ]
     },
     "execution_count": 5,
     "metadata": {},
     "output_type": "execute_result"
    },
    {
     "data": {
      "text/plain": [
       "'http://api.openweathermap.org/data/2.5/weather?q=jadu,ly&units=imperial&APPID=275d975a1c2099dde8c73d59417061cd'"
      ]
     },
     "execution_count": 5,
     "metadata": {},
     "output_type": "execute_result"
    },
    {
     "data": {
      "text/plain": [
       "'----------------------------------------------------'"
      ]
     },
     "execution_count": 5,
     "metadata": {},
     "output_type": "execute_result"
    },
    {
     "data": {
      "text/plain": [
       "'Processing request for city 176: ribeira grande'"
      ]
     },
     "execution_count": 5,
     "metadata": {},
     "output_type": "execute_result"
    },
    {
     "data": {
      "text/plain": [
       "'http://api.openweathermap.org/data/2.5/weather?q=ribeira grande,pt&units=imperial&APPID=275d975a1c2099dde8c73d59417061cd'"
      ]
     },
     "execution_count": 5,
     "metadata": {},
     "output_type": "execute_result"
    },
    {
     "data": {
      "text/plain": [
       "'----------------------------------------------------'"
      ]
     },
     "execution_count": 5,
     "metadata": {},
     "output_type": "execute_result"
    },
    {
     "data": {
      "text/plain": [
       "'Processing request for city 177: oktyabrskoye'"
      ]
     },
     "execution_count": 5,
     "metadata": {},
     "output_type": "execute_result"
    },
    {
     "data": {
      "text/plain": [
       "'http://api.openweathermap.org/data/2.5/weather?q=oktyabrskoye,ru&units=imperial&APPID=275d975a1c2099dde8c73d59417061cd'"
      ]
     },
     "execution_count": 5,
     "metadata": {},
     "output_type": "execute_result"
    },
    {
     "data": {
      "text/plain": [
       "'----------------------------------------------------'"
      ]
     },
     "execution_count": 5,
     "metadata": {},
     "output_type": "execute_result"
    },
    {
     "data": {
      "text/plain": [
       "'Processing request for city 178: sawakin'"
      ]
     },
     "execution_count": 5,
     "metadata": {},
     "output_type": "execute_result"
    },
    {
     "data": {
      "text/plain": [
       "'http://api.openweathermap.org/data/2.5/weather?q=sawakin,sd&units=imperial&APPID=275d975a1c2099dde8c73d59417061cd'"
      ]
     },
     "execution_count": 5,
     "metadata": {},
     "output_type": "execute_result"
    },
    {
     "data": {
      "text/plain": [
       "'----------------------------------------------------'"
      ]
     },
     "execution_count": 5,
     "metadata": {},
     "output_type": "execute_result"
    },
    {
     "data": {
      "text/plain": [
       "'Processing request for city 179: grand gaube'"
      ]
     },
     "execution_count": 5,
     "metadata": {},
     "output_type": "execute_result"
    },
    {
     "data": {
      "text/plain": [
       "'http://api.openweathermap.org/data/2.5/weather?q=grand gaube,mu&units=imperial&APPID=275d975a1c2099dde8c73d59417061cd'"
      ]
     },
     "execution_count": 5,
     "metadata": {},
     "output_type": "execute_result"
    },
    {
     "data": {
      "text/plain": [
       "'----------------------------------------------------'"
      ]
     },
     "execution_count": 5,
     "metadata": {},
     "output_type": "execute_result"
    },
    {
     "data": {
      "text/plain": [
       "'Processing request for city 180: saldanha'"
      ]
     },
     "execution_count": 5,
     "metadata": {},
     "output_type": "execute_result"
    },
    {
     "data": {
      "text/plain": [
       "'http://api.openweathermap.org/data/2.5/weather?q=saldanha,za&units=imperial&APPID=275d975a1c2099dde8c73d59417061cd'"
      ]
     },
     "execution_count": 5,
     "metadata": {},
     "output_type": "execute_result"
    },
    {
     "data": {
      "text/plain": [
       "'----------------------------------------------------'"
      ]
     },
     "execution_count": 5,
     "metadata": {},
     "output_type": "execute_result"
    },
    {
     "data": {
      "text/plain": [
       "'----------------------------------------------------'"
      ]
     },
     "execution_count": 5,
     "metadata": {},
     "output_type": "execute_result"
    },
    {
     "data": {
      "text/plain": [
       "'Pausing API requests for 20 seconds.'"
      ]
     },
     "execution_count": 5,
     "metadata": {},
     "output_type": "execute_result"
    },
    {
     "data": {
      "text/plain": [
       "\"(Don't want to overload my free account here.)\""
      ]
     },
     "execution_count": 5,
     "metadata": {},
     "output_type": "execute_result"
    },
    {
     "data": {
      "text/plain": [
       "'----------------------------------------------------'"
      ]
     },
     "execution_count": 5,
     "metadata": {},
     "output_type": "execute_result"
    },
    {
     "data": {
      "text/plain": [
       "'Processing request for city 181: stepnyak'"
      ]
     },
     "execution_count": 5,
     "metadata": {},
     "output_type": "execute_result"
    },
    {
     "data": {
      "text/plain": [
       "'http://api.openweathermap.org/data/2.5/weather?q=stepnyak,kz&units=imperial&APPID=275d975a1c2099dde8c73d59417061cd'"
      ]
     },
     "execution_count": 5,
     "metadata": {},
     "output_type": "execute_result"
    },
    {
     "data": {
      "text/plain": [
       "'----------------------------------------------------'"
      ]
     },
     "execution_count": 5,
     "metadata": {},
     "output_type": "execute_result"
    },
    {
     "data": {
      "text/plain": [
       "'Processing request for city 182: matamoros'"
      ]
     },
     "execution_count": 5,
     "metadata": {},
     "output_type": "execute_result"
    },
    {
     "data": {
      "text/plain": [
       "'http://api.openweathermap.org/data/2.5/weather?q=matamoros,mx&units=imperial&APPID=275d975a1c2099dde8c73d59417061cd'"
      ]
     },
     "execution_count": 5,
     "metadata": {},
     "output_type": "execute_result"
    },
    {
     "data": {
      "text/plain": [
       "'----------------------------------------------------'"
      ]
     },
     "execution_count": 5,
     "metadata": {},
     "output_type": "execute_result"
    },
    {
     "data": {
      "text/plain": [
       "'Processing request for city 183: medea'"
      ]
     },
     "execution_count": 5,
     "metadata": {},
     "output_type": "execute_result"
    },
    {
     "data": {
      "text/plain": [
       "'http://api.openweathermap.org/data/2.5/weather?q=medea,dz&units=imperial&APPID=275d975a1c2099dde8c73d59417061cd'"
      ]
     },
     "execution_count": 5,
     "metadata": {},
     "output_type": "execute_result"
    },
    {
     "data": {
      "text/plain": [
       "'----------------------------------------------------'"
      ]
     },
     "execution_count": 5,
     "metadata": {},
     "output_type": "execute_result"
    },
    {
     "data": {
      "text/plain": [
       "'Processing request for city 184: shahr-e babak'"
      ]
     },
     "execution_count": 5,
     "metadata": {},
     "output_type": "execute_result"
    },
    {
     "data": {
      "text/plain": [
       "'http://api.openweathermap.org/data/2.5/weather?q=shahr-e babak,ir&units=imperial&APPID=275d975a1c2099dde8c73d59417061cd'"
      ]
     },
     "execution_count": 5,
     "metadata": {},
     "output_type": "execute_result"
    },
    {
     "data": {
      "text/plain": [
       "'----------------------------------------------------'"
      ]
     },
     "execution_count": 5,
     "metadata": {},
     "output_type": "execute_result"
    },
    {
     "data": {
      "text/plain": [
       "'Processing request for city 185: ginda'"
      ]
     },
     "execution_count": 5,
     "metadata": {},
     "output_type": "execute_result"
    },
    {
     "data": {
      "text/plain": [
       "'http://api.openweathermap.org/data/2.5/weather?q=ginda,er&units=imperial&APPID=275d975a1c2099dde8c73d59417061cd'"
      ]
     },
     "execution_count": 5,
     "metadata": {},
     "output_type": "execute_result"
    },
    {
     "data": {
      "text/plain": [
       "'City not found. Proceeding to next city on list...'"
      ]
     },
     "execution_count": 5,
     "metadata": {},
     "output_type": "execute_result"
    },
    {
     "data": {
      "text/plain": [
       "'----------------------------------------------------'"
      ]
     },
     "execution_count": 5,
     "metadata": {},
     "output_type": "execute_result"
    },
    {
     "data": {
      "text/plain": [
       "'Processing request for city 186: petropavlovsk-kamchatskiy'"
      ]
     },
     "execution_count": 5,
     "metadata": {},
     "output_type": "execute_result"
    },
    {
     "data": {
      "text/plain": [
       "'http://api.openweathermap.org/data/2.5/weather?q=petropavlovsk-kamchatskiy,ru&units=imperial&APPID=275d975a1c2099dde8c73d59417061cd'"
      ]
     },
     "execution_count": 5,
     "metadata": {},
     "output_type": "execute_result"
    },
    {
     "data": {
      "text/plain": [
       "'----------------------------------------------------'"
      ]
     },
     "execution_count": 5,
     "metadata": {},
     "output_type": "execute_result"
    },
    {
     "data": {
      "text/plain": [
       "'Processing request for city 187: ketchikan'"
      ]
     },
     "execution_count": 5,
     "metadata": {},
     "output_type": "execute_result"
    },
    {
     "data": {
      "text/plain": [
       "'http://api.openweathermap.org/data/2.5/weather?q=ketchikan,us&units=imperial&APPID=275d975a1c2099dde8c73d59417061cd'"
      ]
     },
     "execution_count": 5,
     "metadata": {},
     "output_type": "execute_result"
    },
    {
     "data": {
      "text/plain": [
       "'----------------------------------------------------'"
      ]
     },
     "execution_count": 5,
     "metadata": {},
     "output_type": "execute_result"
    },
    {
     "data": {
      "text/plain": [
       "'Processing request for city 188: vestmannaeyjar'"
      ]
     },
     "execution_count": 5,
     "metadata": {},
     "output_type": "execute_result"
    },
    {
     "data": {
      "text/plain": [
       "'http://api.openweathermap.org/data/2.5/weather?q=vestmannaeyjar,is&units=imperial&APPID=275d975a1c2099dde8c73d59417061cd'"
      ]
     },
     "execution_count": 5,
     "metadata": {},
     "output_type": "execute_result"
    },
    {
     "data": {
      "text/plain": [
       "'----------------------------------------------------'"
      ]
     },
     "execution_count": 5,
     "metadata": {},
     "output_type": "execute_result"
    },
    {
     "data": {
      "text/plain": [
       "'Processing request for city 189: ponta do sol'"
      ]
     },
     "execution_count": 5,
     "metadata": {},
     "output_type": "execute_result"
    },
    {
     "data": {
      "text/plain": [
       "'http://api.openweathermap.org/data/2.5/weather?q=ponta do sol,cv&units=imperial&APPID=275d975a1c2099dde8c73d59417061cd'"
      ]
     },
     "execution_count": 5,
     "metadata": {},
     "output_type": "execute_result"
    },
    {
     "data": {
      "text/plain": [
       "'----------------------------------------------------'"
      ]
     },
     "execution_count": 5,
     "metadata": {},
     "output_type": "execute_result"
    },
    {
     "data": {
      "text/plain": [
       "'Processing request for city 190: leningradskiy'"
      ]
     },
     "execution_count": 5,
     "metadata": {},
     "output_type": "execute_result"
    },
    {
     "data": {
      "text/plain": [
       "'http://api.openweathermap.org/data/2.5/weather?q=leningradskiy,ru&units=imperial&APPID=275d975a1c2099dde8c73d59417061cd'"
      ]
     },
     "execution_count": 5,
     "metadata": {},
     "output_type": "execute_result"
    },
    {
     "data": {
      "text/plain": [
       "'----------------------------------------------------'"
      ]
     },
     "execution_count": 5,
     "metadata": {},
     "output_type": "execute_result"
    },
    {
     "data": {
      "text/plain": [
       "'Processing request for city 191: port macquarie'"
      ]
     },
     "execution_count": 5,
     "metadata": {},
     "output_type": "execute_result"
    },
    {
     "data": {
      "text/plain": [
       "'http://api.openweathermap.org/data/2.5/weather?q=port macquarie,au&units=imperial&APPID=275d975a1c2099dde8c73d59417061cd'"
      ]
     },
     "execution_count": 5,
     "metadata": {},
     "output_type": "execute_result"
    },
    {
     "data": {
      "text/plain": [
       "'----------------------------------------------------'"
      ]
     },
     "execution_count": 5,
     "metadata": {},
     "output_type": "execute_result"
    },
    {
     "data": {
      "text/plain": [
       "'Processing request for city 192: necochea'"
      ]
     },
     "execution_count": 5,
     "metadata": {},
     "output_type": "execute_result"
    },
    {
     "data": {
      "text/plain": [
       "'http://api.openweathermap.org/data/2.5/weather?q=necochea,ar&units=imperial&APPID=275d975a1c2099dde8c73d59417061cd'"
      ]
     },
     "execution_count": 5,
     "metadata": {},
     "output_type": "execute_result"
    },
    {
     "data": {
      "text/plain": [
       "'----------------------------------------------------'"
      ]
     },
     "execution_count": 5,
     "metadata": {},
     "output_type": "execute_result"
    },
    {
     "data": {
      "text/plain": [
       "'Processing request for city 193: gogrial'"
      ]
     },
     "execution_count": 5,
     "metadata": {},
     "output_type": "execute_result"
    },
    {
     "data": {
      "text/plain": [
       "'http://api.openweathermap.org/data/2.5/weather?q=gogrial,sd&units=imperial&APPID=275d975a1c2099dde8c73d59417061cd'"
      ]
     },
     "execution_count": 5,
     "metadata": {},
     "output_type": "execute_result"
    },
    {
     "data": {
      "text/plain": [
       "'City not found. Proceeding to next city on list...'"
      ]
     },
     "execution_count": 5,
     "metadata": {},
     "output_type": "execute_result"
    },
    {
     "data": {
      "text/plain": [
       "'----------------------------------------------------'"
      ]
     },
     "execution_count": 5,
     "metadata": {},
     "output_type": "execute_result"
    },
    {
     "data": {
      "text/plain": [
       "'Processing request for city 194: bismarck'"
      ]
     },
     "execution_count": 5,
     "metadata": {},
     "output_type": "execute_result"
    },
    {
     "data": {
      "text/plain": [
       "'http://api.openweathermap.org/data/2.5/weather?q=bismarck,us&units=imperial&APPID=275d975a1c2099dde8c73d59417061cd'"
      ]
     },
     "execution_count": 5,
     "metadata": {},
     "output_type": "execute_result"
    },
    {
     "data": {
      "text/plain": [
       "'----------------------------------------------------'"
      ]
     },
     "execution_count": 5,
     "metadata": {},
     "output_type": "execute_result"
    },
    {
     "data": {
      "text/plain": [
       "'Processing request for city 195: chaoyang'"
      ]
     },
     "execution_count": 5,
     "metadata": {},
     "output_type": "execute_result"
    },
    {
     "data": {
      "text/plain": [
       "'http://api.openweathermap.org/data/2.5/weather?q=chaoyang,cn&units=imperial&APPID=275d975a1c2099dde8c73d59417061cd'"
      ]
     },
     "execution_count": 5,
     "metadata": {},
     "output_type": "execute_result"
    },
    {
     "data": {
      "text/plain": [
       "'----------------------------------------------------'"
      ]
     },
     "execution_count": 5,
     "metadata": {},
     "output_type": "execute_result"
    },
    {
     "data": {
      "text/plain": [
       "'Processing request for city 196: saint-louis'"
      ]
     },
     "execution_count": 5,
     "metadata": {},
     "output_type": "execute_result"
    },
    {
     "data": {
      "text/plain": [
       "'http://api.openweathermap.org/data/2.5/weather?q=saint-louis,sn&units=imperial&APPID=275d975a1c2099dde8c73d59417061cd'"
      ]
     },
     "execution_count": 5,
     "metadata": {},
     "output_type": "execute_result"
    },
    {
     "data": {
      "text/plain": [
       "'----------------------------------------------------'"
      ]
     },
     "execution_count": 5,
     "metadata": {},
     "output_type": "execute_result"
    },
    {
     "data": {
      "text/plain": [
       "'Processing request for city 197: yarada'"
      ]
     },
     "execution_count": 5,
     "metadata": {},
     "output_type": "execute_result"
    },
    {
     "data": {
      "text/plain": [
       "'http://api.openweathermap.org/data/2.5/weather?q=yarada,in&units=imperial&APPID=275d975a1c2099dde8c73d59417061cd'"
      ]
     },
     "execution_count": 5,
     "metadata": {},
     "output_type": "execute_result"
    },
    {
     "data": {
      "text/plain": [
       "'----------------------------------------------------'"
      ]
     },
     "execution_count": 5,
     "metadata": {},
     "output_type": "execute_result"
    },
    {
     "data": {
      "text/plain": [
       "'Processing request for city 198: barranca'"
      ]
     },
     "execution_count": 5,
     "metadata": {},
     "output_type": "execute_result"
    },
    {
     "data": {
      "text/plain": [
       "'http://api.openweathermap.org/data/2.5/weather?q=barranca,pe&units=imperial&APPID=275d975a1c2099dde8c73d59417061cd'"
      ]
     },
     "execution_count": 5,
     "metadata": {},
     "output_type": "execute_result"
    },
    {
     "data": {
      "text/plain": [
       "'----------------------------------------------------'"
      ]
     },
     "execution_count": 5,
     "metadata": {},
     "output_type": "execute_result"
    },
    {
     "data": {
      "text/plain": [
       "'Processing request for city 199: bengkulu'"
      ]
     },
     "execution_count": 5,
     "metadata": {},
     "output_type": "execute_result"
    },
    {
     "data": {
      "text/plain": [
       "'http://api.openweathermap.org/data/2.5/weather?q=bengkulu,id&units=imperial&APPID=275d975a1c2099dde8c73d59417061cd'"
      ]
     },
     "execution_count": 5,
     "metadata": {},
     "output_type": "execute_result"
    },
    {
     "data": {
      "text/plain": [
       "'City not found. Proceeding to next city on list...'"
      ]
     },
     "execution_count": 5,
     "metadata": {},
     "output_type": "execute_result"
    },
    {
     "data": {
      "text/plain": [
       "'----------------------------------------------------'"
      ]
     },
     "execution_count": 5,
     "metadata": {},
     "output_type": "execute_result"
    },
    {
     "data": {
      "text/plain": [
       "'Processing request for city 200: kahului'"
      ]
     },
     "execution_count": 5,
     "metadata": {},
     "output_type": "execute_result"
    },
    {
     "data": {
      "text/plain": [
       "'http://api.openweathermap.org/data/2.5/weather?q=kahului,us&units=imperial&APPID=275d975a1c2099dde8c73d59417061cd'"
      ]
     },
     "execution_count": 5,
     "metadata": {},
     "output_type": "execute_result"
    },
    {
     "data": {
      "text/plain": [
       "'----------------------------------------------------'"
      ]
     },
     "execution_count": 5,
     "metadata": {},
     "output_type": "execute_result"
    },
    {
     "data": {
      "text/plain": [
       "'Processing request for city 201: christchurch'"
      ]
     },
     "execution_count": 5,
     "metadata": {},
     "output_type": "execute_result"
    },
    {
     "data": {
      "text/plain": [
       "'http://api.openweathermap.org/data/2.5/weather?q=christchurch,nz&units=imperial&APPID=275d975a1c2099dde8c73d59417061cd'"
      ]
     },
     "execution_count": 5,
     "metadata": {},
     "output_type": "execute_result"
    },
    {
     "data": {
      "text/plain": [
       "'----------------------------------------------------'"
      ]
     },
     "execution_count": 5,
     "metadata": {},
     "output_type": "execute_result"
    },
    {
     "data": {
      "text/plain": [
       "'Processing request for city 202: wad rawah'"
      ]
     },
     "execution_count": 5,
     "metadata": {},
     "output_type": "execute_result"
    },
    {
     "data": {
      "text/plain": [
       "'http://api.openweathermap.org/data/2.5/weather?q=wad rawah,sd&units=imperial&APPID=275d975a1c2099dde8c73d59417061cd'"
      ]
     },
     "execution_count": 5,
     "metadata": {},
     "output_type": "execute_result"
    },
    {
     "data": {
      "text/plain": [
       "'----------------------------------------------------'"
      ]
     },
     "execution_count": 5,
     "metadata": {},
     "output_type": "execute_result"
    },
    {
     "data": {
      "text/plain": [
       "'Processing request for city 203: constitucion'"
      ]
     },
     "execution_count": 5,
     "metadata": {},
     "output_type": "execute_result"
    },
    {
     "data": {
      "text/plain": [
       "'http://api.openweathermap.org/data/2.5/weather?q=constitucion,mx&units=imperial&APPID=275d975a1c2099dde8c73d59417061cd'"
      ]
     },
     "execution_count": 5,
     "metadata": {},
     "output_type": "execute_result"
    },
    {
     "data": {
      "text/plain": [
       "'----------------------------------------------------'"
      ]
     },
     "execution_count": 5,
     "metadata": {},
     "output_type": "execute_result"
    },
    {
     "data": {
      "text/plain": [
       "'Processing request for city 204: naze'"
      ]
     },
     "execution_count": 5,
     "metadata": {},
     "output_type": "execute_result"
    },
    {
     "data": {
      "text/plain": [
       "'http://api.openweathermap.org/data/2.5/weather?q=naze,jp&units=imperial&APPID=275d975a1c2099dde8c73d59417061cd'"
      ]
     },
     "execution_count": 5,
     "metadata": {},
     "output_type": "execute_result"
    },
    {
     "data": {
      "text/plain": [
       "'----------------------------------------------------'"
      ]
     },
     "execution_count": 5,
     "metadata": {},
     "output_type": "execute_result"
    },
    {
     "data": {
      "text/plain": [
       "'Processing request for city 205: sibolga'"
      ]
     },
     "execution_count": 5,
     "metadata": {},
     "output_type": "execute_result"
    },
    {
     "data": {
      "text/plain": [
       "'http://api.openweathermap.org/data/2.5/weather?q=sibolga,id&units=imperial&APPID=275d975a1c2099dde8c73d59417061cd'"
      ]
     },
     "execution_count": 5,
     "metadata": {},
     "output_type": "execute_result"
    },
    {
     "data": {
      "text/plain": [
       "'----------------------------------------------------'"
      ]
     },
     "execution_count": 5,
     "metadata": {},
     "output_type": "execute_result"
    },
    {
     "data": {
      "text/plain": [
       "'Processing request for city 206: bereda'"
      ]
     },
     "execution_count": 5,
     "metadata": {},
     "output_type": "execute_result"
    },
    {
     "data": {
      "text/plain": [
       "'http://api.openweathermap.org/data/2.5/weather?q=bereda,so&units=imperial&APPID=275d975a1c2099dde8c73d59417061cd'"
      ]
     },
     "execution_count": 5,
     "metadata": {},
     "output_type": "execute_result"
    },
    {
     "data": {
      "text/plain": [
       "'City not found. Proceeding to next city on list...'"
      ]
     },
     "execution_count": 5,
     "metadata": {},
     "output_type": "execute_result"
    },
    {
     "data": {
      "text/plain": [
       "'----------------------------------------------------'"
      ]
     },
     "execution_count": 5,
     "metadata": {},
     "output_type": "execute_result"
    },
    {
     "data": {
      "text/plain": [
       "'Processing request for city 207: krasnogorskoye'"
      ]
     },
     "execution_count": 5,
     "metadata": {},
     "output_type": "execute_result"
    },
    {
     "data": {
      "text/plain": [
       "'http://api.openweathermap.org/data/2.5/weather?q=krasnogorskoye,ru&units=imperial&APPID=275d975a1c2099dde8c73d59417061cd'"
      ]
     },
     "execution_count": 5,
     "metadata": {},
     "output_type": "execute_result"
    },
    {
     "data": {
      "text/plain": [
       "'----------------------------------------------------'"
      ]
     },
     "execution_count": 5,
     "metadata": {},
     "output_type": "execute_result"
    },
    {
     "data": {
      "text/plain": [
       "'Processing request for city 208: lavrentiya'"
      ]
     },
     "execution_count": 5,
     "metadata": {},
     "output_type": "execute_result"
    },
    {
     "data": {
      "text/plain": [
       "'http://api.openweathermap.org/data/2.5/weather?q=lavrentiya,ru&units=imperial&APPID=275d975a1c2099dde8c73d59417061cd'"
      ]
     },
     "execution_count": 5,
     "metadata": {},
     "output_type": "execute_result"
    },
    {
     "data": {
      "text/plain": [
       "'----------------------------------------------------'"
      ]
     },
     "execution_count": 5,
     "metadata": {},
     "output_type": "execute_result"
    },
    {
     "data": {
      "text/plain": [
       "'Processing request for city 209: banikoara'"
      ]
     },
     "execution_count": 5,
     "metadata": {},
     "output_type": "execute_result"
    },
    {
     "data": {
      "text/plain": [
       "'http://api.openweathermap.org/data/2.5/weather?q=banikoara,bj&units=imperial&APPID=275d975a1c2099dde8c73d59417061cd'"
      ]
     },
     "execution_count": 5,
     "metadata": {},
     "output_type": "execute_result"
    },
    {
     "data": {
      "text/plain": [
       "'----------------------------------------------------'"
      ]
     },
     "execution_count": 5,
     "metadata": {},
     "output_type": "execute_result"
    },
    {
     "data": {
      "text/plain": [
       "'Processing request for city 210: shahr-e kord'"
      ]
     },
     "execution_count": 5,
     "metadata": {},
     "output_type": "execute_result"
    },
    {
     "data": {
      "text/plain": [
       "'http://api.openweathermap.org/data/2.5/weather?q=shahr-e kord,ir&units=imperial&APPID=275d975a1c2099dde8c73d59417061cd'"
      ]
     },
     "execution_count": 5,
     "metadata": {},
     "output_type": "execute_result"
    },
    {
     "data": {
      "text/plain": [
       "'----------------------------------------------------'"
      ]
     },
     "execution_count": 5,
     "metadata": {},
     "output_type": "execute_result"
    },
    {
     "data": {
      "text/plain": [
       "'Processing request for city 211: chara'"
      ]
     },
     "execution_count": 5,
     "metadata": {},
     "output_type": "execute_result"
    },
    {
     "data": {
      "text/plain": [
       "'http://api.openweathermap.org/data/2.5/weather?q=chara,ru&units=imperial&APPID=275d975a1c2099dde8c73d59417061cd'"
      ]
     },
     "execution_count": 5,
     "metadata": {},
     "output_type": "execute_result"
    },
    {
     "data": {
      "text/plain": [
       "'----------------------------------------------------'"
      ]
     },
     "execution_count": 5,
     "metadata": {},
     "output_type": "execute_result"
    },
    {
     "data": {
      "text/plain": [
       "'Processing request for city 212: freetown'"
      ]
     },
     "execution_count": 5,
     "metadata": {},
     "output_type": "execute_result"
    },
    {
     "data": {
      "text/plain": [
       "'http://api.openweathermap.org/data/2.5/weather?q=freetown,ag&units=imperial&APPID=275d975a1c2099dde8c73d59417061cd'"
      ]
     },
     "execution_count": 5,
     "metadata": {},
     "output_type": "execute_result"
    },
    {
     "data": {
      "text/plain": [
       "'City not found. Proceeding to next city on list...'"
      ]
     },
     "execution_count": 5,
     "metadata": {},
     "output_type": "execute_result"
    },
    {
     "data": {
      "text/plain": [
       "'----------------------------------------------------'"
      ]
     },
     "execution_count": 5,
     "metadata": {},
     "output_type": "execute_result"
    },
    {
     "data": {
      "text/plain": [
       "'Processing request for city 213: chipurupalle'"
      ]
     },
     "execution_count": 5,
     "metadata": {},
     "output_type": "execute_result"
    },
    {
     "data": {
      "text/plain": [
       "'http://api.openweathermap.org/data/2.5/weather?q=chipurupalle,in&units=imperial&APPID=275d975a1c2099dde8c73d59417061cd'"
      ]
     },
     "execution_count": 5,
     "metadata": {},
     "output_type": "execute_result"
    },
    {
     "data": {
      "text/plain": [
       "'----------------------------------------------------'"
      ]
     },
     "execution_count": 5,
     "metadata": {},
     "output_type": "execute_result"
    },
    {
     "data": {
      "text/plain": [
       "'Processing request for city 214: saskylakh'"
      ]
     },
     "execution_count": 5,
     "metadata": {},
     "output_type": "execute_result"
    },
    {
     "data": {
      "text/plain": [
       "'http://api.openweathermap.org/data/2.5/weather?q=saskylakh,ru&units=imperial&APPID=275d975a1c2099dde8c73d59417061cd'"
      ]
     },
     "execution_count": 5,
     "metadata": {},
     "output_type": "execute_result"
    },
    {
     "data": {
      "text/plain": [
       "'----------------------------------------------------'"
      ]
     },
     "execution_count": 5,
     "metadata": {},
     "output_type": "execute_result"
    },
    {
     "data": {
      "text/plain": [
       "'Processing request for city 215: isangel'"
      ]
     },
     "execution_count": 5,
     "metadata": {},
     "output_type": "execute_result"
    },
    {
     "data": {
      "text/plain": [
       "'http://api.openweathermap.org/data/2.5/weather?q=isangel,vu&units=imperial&APPID=275d975a1c2099dde8c73d59417061cd'"
      ]
     },
     "execution_count": 5,
     "metadata": {},
     "output_type": "execute_result"
    },
    {
     "data": {
      "text/plain": [
       "'----------------------------------------------------'"
      ]
     },
     "execution_count": 5,
     "metadata": {},
     "output_type": "execute_result"
    },
    {
     "data": {
      "text/plain": [
       "'Processing request for city 216: port hardy'"
      ]
     },
     "execution_count": 5,
     "metadata": {},
     "output_type": "execute_result"
    },
    {
     "data": {
      "text/plain": [
       "'http://api.openweathermap.org/data/2.5/weather?q=port hardy,ca&units=imperial&APPID=275d975a1c2099dde8c73d59417061cd'"
      ]
     },
     "execution_count": 5,
     "metadata": {},
     "output_type": "execute_result"
    },
    {
     "data": {
      "text/plain": [
       "'----------------------------------------------------'"
      ]
     },
     "execution_count": 5,
     "metadata": {},
     "output_type": "execute_result"
    },
    {
     "data": {
      "text/plain": [
       "'Processing request for city 217: warri'"
      ]
     },
     "execution_count": 5,
     "metadata": {},
     "output_type": "execute_result"
    },
    {
     "data": {
      "text/plain": [
       "'http://api.openweathermap.org/data/2.5/weather?q=warri,ng&units=imperial&APPID=275d975a1c2099dde8c73d59417061cd'"
      ]
     },
     "execution_count": 5,
     "metadata": {},
     "output_type": "execute_result"
    },
    {
     "data": {
      "text/plain": [
       "'----------------------------------------------------'"
      ]
     },
     "execution_count": 5,
     "metadata": {},
     "output_type": "execute_result"
    },
    {
     "data": {
      "text/plain": [
       "'Processing request for city 218: dobrinka'"
      ]
     },
     "execution_count": 5,
     "metadata": {},
     "output_type": "execute_result"
    },
    {
     "data": {
      "text/plain": [
       "'http://api.openweathermap.org/data/2.5/weather?q=dobrinka,ru&units=imperial&APPID=275d975a1c2099dde8c73d59417061cd'"
      ]
     },
     "execution_count": 5,
     "metadata": {},
     "output_type": "execute_result"
    },
    {
     "data": {
      "text/plain": [
       "'----------------------------------------------------'"
      ]
     },
     "execution_count": 5,
     "metadata": {},
     "output_type": "execute_result"
    },
    {
     "data": {
      "text/plain": [
       "'Processing request for city 219: abu dhabi'"
      ]
     },
     "execution_count": 5,
     "metadata": {},
     "output_type": "execute_result"
    },
    {
     "data": {
      "text/plain": [
       "'http://api.openweathermap.org/data/2.5/weather?q=abu dhabi,ae&units=imperial&APPID=275d975a1c2099dde8c73d59417061cd'"
      ]
     },
     "execution_count": 5,
     "metadata": {},
     "output_type": "execute_result"
    },
    {
     "data": {
      "text/plain": [
       "'----------------------------------------------------'"
      ]
     },
     "execution_count": 5,
     "metadata": {},
     "output_type": "execute_result"
    },
    {
     "data": {
      "text/plain": [
       "'Processing request for city 220: honningsvag'"
      ]
     },
     "execution_count": 5,
     "metadata": {},
     "output_type": "execute_result"
    },
    {
     "data": {
      "text/plain": [
       "'http://api.openweathermap.org/data/2.5/weather?q=honningsvag,no&units=imperial&APPID=275d975a1c2099dde8c73d59417061cd'"
      ]
     },
     "execution_count": 5,
     "metadata": {},
     "output_type": "execute_result"
    },
    {
     "data": {
      "text/plain": [
       "'----------------------------------------------------'"
      ]
     },
     "execution_count": 5,
     "metadata": {},
     "output_type": "execute_result"
    },
    {
     "data": {
      "text/plain": [
       "'Processing request for city 221: east london'"
      ]
     },
     "execution_count": 5,
     "metadata": {},
     "output_type": "execute_result"
    },
    {
     "data": {
      "text/plain": [
       "'http://api.openweathermap.org/data/2.5/weather?q=east london,za&units=imperial&APPID=275d975a1c2099dde8c73d59417061cd'"
      ]
     },
     "execution_count": 5,
     "metadata": {},
     "output_type": "execute_result"
    },
    {
     "data": {
      "text/plain": [
       "'----------------------------------------------------'"
      ]
     },
     "execution_count": 5,
     "metadata": {},
     "output_type": "execute_result"
    },
    {
     "data": {
      "text/plain": [
       "'Processing request for city 222: north battleford'"
      ]
     },
     "execution_count": 5,
     "metadata": {},
     "output_type": "execute_result"
    },
    {
     "data": {
      "text/plain": [
       "'http://api.openweathermap.org/data/2.5/weather?q=north battleford,ca&units=imperial&APPID=275d975a1c2099dde8c73d59417061cd'"
      ]
     },
     "execution_count": 5,
     "metadata": {},
     "output_type": "execute_result"
    },
    {
     "data": {
      "text/plain": [
       "'----------------------------------------------------'"
      ]
     },
     "execution_count": 5,
     "metadata": {},
     "output_type": "execute_result"
    },
    {
     "data": {
      "text/plain": [
       "'Processing request for city 223: mayumba'"
      ]
     },
     "execution_count": 5,
     "metadata": {},
     "output_type": "execute_result"
    },
    {
     "data": {
      "text/plain": [
       "'http://api.openweathermap.org/data/2.5/weather?q=mayumba,ga&units=imperial&APPID=275d975a1c2099dde8c73d59417061cd'"
      ]
     },
     "execution_count": 5,
     "metadata": {},
     "output_type": "execute_result"
    },
    {
     "data": {
      "text/plain": [
       "'----------------------------------------------------'"
      ]
     },
     "execution_count": 5,
     "metadata": {},
     "output_type": "execute_result"
    },
    {
     "data": {
      "text/plain": [
       "'Processing request for city 224: airai'"
      ]
     },
     "execution_count": 5,
     "metadata": {},
     "output_type": "execute_result"
    },
    {
     "data": {
      "text/plain": [
       "'http://api.openweathermap.org/data/2.5/weather?q=airai,pw&units=imperial&APPID=275d975a1c2099dde8c73d59417061cd'"
      ]
     },
     "execution_count": 5,
     "metadata": {},
     "output_type": "execute_result"
    },
    {
     "data": {
      "text/plain": [
       "'City not found. Proceeding to next city on list...'"
      ]
     },
     "execution_count": 5,
     "metadata": {},
     "output_type": "execute_result"
    },
    {
     "data": {
      "text/plain": [
       "'----------------------------------------------------'"
      ]
     },
     "execution_count": 5,
     "metadata": {},
     "output_type": "execute_result"
    },
    {
     "data": {
      "text/plain": [
       "'Processing request for city 225: zyryanka'"
      ]
     },
     "execution_count": 5,
     "metadata": {},
     "output_type": "execute_result"
    },
    {
     "data": {
      "text/plain": [
       "'http://api.openweathermap.org/data/2.5/weather?q=zyryanka,ru&units=imperial&APPID=275d975a1c2099dde8c73d59417061cd'"
      ]
     },
     "execution_count": 5,
     "metadata": {},
     "output_type": "execute_result"
    },
    {
     "data": {
      "text/plain": [
       "'----------------------------------------------------'"
      ]
     },
     "execution_count": 5,
     "metadata": {},
     "output_type": "execute_result"
    },
    {
     "data": {
      "text/plain": [
       "'Processing request for city 226: coetupo'"
      ]
     },
     "execution_count": 5,
     "metadata": {},
     "output_type": "execute_result"
    },
    {
     "data": {
      "text/plain": [
       "'http://api.openweathermap.org/data/2.5/weather?q=coetupo,pa&units=imperial&APPID=275d975a1c2099dde8c73d59417061cd'"
      ]
     },
     "execution_count": 5,
     "metadata": {},
     "output_type": "execute_result"
    },
    {
     "data": {
      "text/plain": [
       "'City not found. Proceeding to next city on list...'"
      ]
     },
     "execution_count": 5,
     "metadata": {},
     "output_type": "execute_result"
    },
    {
     "data": {
      "text/plain": [
       "'----------------------------------------------------'"
      ]
     },
     "execution_count": 5,
     "metadata": {},
     "output_type": "execute_result"
    },
    {
     "data": {
      "text/plain": [
       "'Processing request for city 227: chuy'"
      ]
     },
     "execution_count": 5,
     "metadata": {},
     "output_type": "execute_result"
    },
    {
     "data": {
      "text/plain": [
       "'http://api.openweathermap.org/data/2.5/weather?q=chuy,uy&units=imperial&APPID=275d975a1c2099dde8c73d59417061cd'"
      ]
     },
     "execution_count": 5,
     "metadata": {},
     "output_type": "execute_result"
    },
    {
     "data": {
      "text/plain": [
       "'----------------------------------------------------'"
      ]
     },
     "execution_count": 5,
     "metadata": {},
     "output_type": "execute_result"
    },
    {
     "data": {
      "text/plain": [
       "'Processing request for city 228: burns lake'"
      ]
     },
     "execution_count": 5,
     "metadata": {},
     "output_type": "execute_result"
    },
    {
     "data": {
      "text/plain": [
       "'http://api.openweathermap.org/data/2.5/weather?q=burns lake,ca&units=imperial&APPID=275d975a1c2099dde8c73d59417061cd'"
      ]
     },
     "execution_count": 5,
     "metadata": {},
     "output_type": "execute_result"
    },
    {
     "data": {
      "text/plain": [
       "'----------------------------------------------------'"
      ]
     },
     "execution_count": 5,
     "metadata": {},
     "output_type": "execute_result"
    },
    {
     "data": {
      "text/plain": [
       "'Processing request for city 229: krasnoarmeysk'"
      ]
     },
     "execution_count": 5,
     "metadata": {},
     "output_type": "execute_result"
    },
    {
     "data": {
      "text/plain": [
       "'http://api.openweathermap.org/data/2.5/weather?q=krasnoarmeysk,kz&units=imperial&APPID=275d975a1c2099dde8c73d59417061cd'"
      ]
     },
     "execution_count": 5,
     "metadata": {},
     "output_type": "execute_result"
    },
    {
     "data": {
      "text/plain": [
       "'City not found. Proceeding to next city on list...'"
      ]
     },
     "execution_count": 5,
     "metadata": {},
     "output_type": "execute_result"
    },
    {
     "data": {
      "text/plain": [
       "'----------------------------------------------------'"
      ]
     },
     "execution_count": 5,
     "metadata": {},
     "output_type": "execute_result"
    },
    {
     "data": {
      "text/plain": [
       "'Processing request for city 230: svetlogorsk'"
      ]
     },
     "execution_count": 5,
     "metadata": {},
     "output_type": "execute_result"
    },
    {
     "data": {
      "text/plain": [
       "'http://api.openweathermap.org/data/2.5/weather?q=svetlogorsk,ru&units=imperial&APPID=275d975a1c2099dde8c73d59417061cd'"
      ]
     },
     "execution_count": 5,
     "metadata": {},
     "output_type": "execute_result"
    },
    {
     "data": {
      "text/plain": [
       "'----------------------------------------------------'"
      ]
     },
     "execution_count": 5,
     "metadata": {},
     "output_type": "execute_result"
    },
    {
     "data": {
      "text/plain": [
       "'Processing request for city 231: clyde river'"
      ]
     },
     "execution_count": 5,
     "metadata": {},
     "output_type": "execute_result"
    },
    {
     "data": {
      "text/plain": [
       "'http://api.openweathermap.org/data/2.5/weather?q=clyde river,ca&units=imperial&APPID=275d975a1c2099dde8c73d59417061cd'"
      ]
     },
     "execution_count": 5,
     "metadata": {},
     "output_type": "execute_result"
    },
    {
     "data": {
      "text/plain": [
       "'----------------------------------------------------'"
      ]
     },
     "execution_count": 5,
     "metadata": {},
     "output_type": "execute_result"
    },
    {
     "data": {
      "text/plain": [
       "'Processing request for city 232: palembang'"
      ]
     },
     "execution_count": 5,
     "metadata": {},
     "output_type": "execute_result"
    },
    {
     "data": {
      "text/plain": [
       "'http://api.openweathermap.org/data/2.5/weather?q=palembang,id&units=imperial&APPID=275d975a1c2099dde8c73d59417061cd'"
      ]
     },
     "execution_count": 5,
     "metadata": {},
     "output_type": "execute_result"
    },
    {
     "data": {
      "text/plain": [
       "'----------------------------------------------------'"
      ]
     },
     "execution_count": 5,
     "metadata": {},
     "output_type": "execute_result"
    },
    {
     "data": {
      "text/plain": [
       "'Processing request for city 233: tyrma'"
      ]
     },
     "execution_count": 5,
     "metadata": {},
     "output_type": "execute_result"
    },
    {
     "data": {
      "text/plain": [
       "'http://api.openweathermap.org/data/2.5/weather?q=tyrma,ru&units=imperial&APPID=275d975a1c2099dde8c73d59417061cd'"
      ]
     },
     "execution_count": 5,
     "metadata": {},
     "output_type": "execute_result"
    },
    {
     "data": {
      "text/plain": [
       "'----------------------------------------------------'"
      ]
     },
     "execution_count": 5,
     "metadata": {},
     "output_type": "execute_result"
    },
    {
     "data": {
      "text/plain": [
       "'Processing request for city 234: luderitz'"
      ]
     },
     "execution_count": 5,
     "metadata": {},
     "output_type": "execute_result"
    },
    {
     "data": {
      "text/plain": [
       "'http://api.openweathermap.org/data/2.5/weather?q=luderitz,na&units=imperial&APPID=275d975a1c2099dde8c73d59417061cd'"
      ]
     },
     "execution_count": 5,
     "metadata": {},
     "output_type": "execute_result"
    },
    {
     "data": {
      "text/plain": [
       "'----------------------------------------------------'"
      ]
     },
     "execution_count": 5,
     "metadata": {},
     "output_type": "execute_result"
    },
    {
     "data": {
      "text/plain": [
       "'Processing request for city 235: okhotsk'"
      ]
     },
     "execution_count": 5,
     "metadata": {},
     "output_type": "execute_result"
    },
    {
     "data": {
      "text/plain": [
       "'http://api.openweathermap.org/data/2.5/weather?q=okhotsk,ru&units=imperial&APPID=275d975a1c2099dde8c73d59417061cd'"
      ]
     },
     "execution_count": 5,
     "metadata": {},
     "output_type": "execute_result"
    },
    {
     "data": {
      "text/plain": [
       "'----------------------------------------------------'"
      ]
     },
     "execution_count": 5,
     "metadata": {},
     "output_type": "execute_result"
    },
    {
     "data": {
      "text/plain": [
       "'Processing request for city 236: tagusao'"
      ]
     },
     "execution_count": 5,
     "metadata": {},
     "output_type": "execute_result"
    },
    {
     "data": {
      "text/plain": [
       "'http://api.openweathermap.org/data/2.5/weather?q=tagusao,ph&units=imperial&APPID=275d975a1c2099dde8c73d59417061cd'"
      ]
     },
     "execution_count": 5,
     "metadata": {},
     "output_type": "execute_result"
    },
    {
     "data": {
      "text/plain": [
       "'----------------------------------------------------'"
      ]
     },
     "execution_count": 5,
     "metadata": {},
     "output_type": "execute_result"
    },
    {
     "data": {
      "text/plain": [
       "'Processing request for city 237: waverley'"
      ]
     },
     "execution_count": 5,
     "metadata": {},
     "output_type": "execute_result"
    },
    {
     "data": {
      "text/plain": [
       "'http://api.openweathermap.org/data/2.5/weather?q=waverley,nz&units=imperial&APPID=275d975a1c2099dde8c73d59417061cd'"
      ]
     },
     "execution_count": 5,
     "metadata": {},
     "output_type": "execute_result"
    },
    {
     "data": {
      "text/plain": [
       "'----------------------------------------------------'"
      ]
     },
     "execution_count": 5,
     "metadata": {},
     "output_type": "execute_result"
    },
    {
     "data": {
      "text/plain": [
       "'Processing request for city 238: sena madureira'"
      ]
     },
     "execution_count": 5,
     "metadata": {},
     "output_type": "execute_result"
    },
    {
     "data": {
      "text/plain": [
       "'http://api.openweathermap.org/data/2.5/weather?q=sena madureira,br&units=imperial&APPID=275d975a1c2099dde8c73d59417061cd'"
      ]
     },
     "execution_count": 5,
     "metadata": {},
     "output_type": "execute_result"
    },
    {
     "data": {
      "text/plain": [
       "'----------------------------------------------------'"
      ]
     },
     "execution_count": 5,
     "metadata": {},
     "output_type": "execute_result"
    },
    {
     "data": {
      "text/plain": [
       "'Processing request for city 239: huarmey'"
      ]
     },
     "execution_count": 5,
     "metadata": {},
     "output_type": "execute_result"
    },
    {
     "data": {
      "text/plain": [
       "'http://api.openweathermap.org/data/2.5/weather?q=huarmey,pe&units=imperial&APPID=275d975a1c2099dde8c73d59417061cd'"
      ]
     },
     "execution_count": 5,
     "metadata": {},
     "output_type": "execute_result"
    },
    {
     "data": {
      "text/plain": [
       "'----------------------------------------------------'"
      ]
     },
     "execution_count": 5,
     "metadata": {},
     "output_type": "execute_result"
    },
    {
     "data": {
      "text/plain": [
       "'Processing request for city 240: skagastrond'"
      ]
     },
     "execution_count": 5,
     "metadata": {},
     "output_type": "execute_result"
    },
    {
     "data": {
      "text/plain": [
       "'http://api.openweathermap.org/data/2.5/weather?q=skagastrond,is&units=imperial&APPID=275d975a1c2099dde8c73d59417061cd'"
      ]
     },
     "execution_count": 5,
     "metadata": {},
     "output_type": "execute_result"
    },
    {
     "data": {
      "text/plain": [
       "'City not found. Proceeding to next city on list...'"
      ]
     },
     "execution_count": 5,
     "metadata": {},
     "output_type": "execute_result"
    },
    {
     "data": {
      "text/plain": [
       "'----------------------------------------------------'"
      ]
     },
     "execution_count": 5,
     "metadata": {},
     "output_type": "execute_result"
    },
    {
     "data": {
      "text/plain": [
       "'----------------------------------------------------'"
      ]
     },
     "execution_count": 5,
     "metadata": {},
     "output_type": "execute_result"
    },
    {
     "data": {
      "text/plain": [
       "'Pausing API requests for 20 seconds.'"
      ]
     },
     "execution_count": 5,
     "metadata": {},
     "output_type": "execute_result"
    },
    {
     "data": {
      "text/plain": [
       "\"(Don't want to overload my free account here.)\""
      ]
     },
     "execution_count": 5,
     "metadata": {},
     "output_type": "execute_result"
    },
    {
     "data": {
      "text/plain": [
       "'----------------------------------------------------'"
      ]
     },
     "execution_count": 5,
     "metadata": {},
     "output_type": "execute_result"
    },
    {
     "data": {
      "text/plain": [
       "'Processing request for city 241: talnakh'"
      ]
     },
     "execution_count": 5,
     "metadata": {},
     "output_type": "execute_result"
    },
    {
     "data": {
      "text/plain": [
       "'http://api.openweathermap.org/data/2.5/weather?q=talnakh,ru&units=imperial&APPID=275d975a1c2099dde8c73d59417061cd'"
      ]
     },
     "execution_count": 5,
     "metadata": {},
     "output_type": "execute_result"
    },
    {
     "data": {
      "text/plain": [
       "'----------------------------------------------------'"
      ]
     },
     "execution_count": 5,
     "metadata": {},
     "output_type": "execute_result"
    },
    {
     "data": {
      "text/plain": [
       "'Processing request for city 242: comodoro rivadavia'"
      ]
     },
     "execution_count": 5,
     "metadata": {},
     "output_type": "execute_result"
    },
    {
     "data": {
      "text/plain": [
       "'http://api.openweathermap.org/data/2.5/weather?q=comodoro rivadavia,ar&units=imperial&APPID=275d975a1c2099dde8c73d59417061cd'"
      ]
     },
     "execution_count": 5,
     "metadata": {},
     "output_type": "execute_result"
    },
    {
     "data": {
      "text/plain": [
       "'----------------------------------------------------'"
      ]
     },
     "execution_count": 5,
     "metadata": {},
     "output_type": "execute_result"
    },
    {
     "data": {
      "text/plain": [
       "'Processing request for city 243: dali'"
      ]
     },
     "execution_count": 5,
     "metadata": {},
     "output_type": "execute_result"
    },
    {
     "data": {
      "text/plain": [
       "'http://api.openweathermap.org/data/2.5/weather?q=dali,cn&units=imperial&APPID=275d975a1c2099dde8c73d59417061cd'"
      ]
     },
     "execution_count": 5,
     "metadata": {},
     "output_type": "execute_result"
    },
    {
     "data": {
      "text/plain": [
       "'----------------------------------------------------'"
      ]
     },
     "execution_count": 5,
     "metadata": {},
     "output_type": "execute_result"
    },
    {
     "data": {
      "text/plain": [
       "'Processing request for city 244: ossora'"
      ]
     },
     "execution_count": 5,
     "metadata": {},
     "output_type": "execute_result"
    },
    {
     "data": {
      "text/plain": [
       "'http://api.openweathermap.org/data/2.5/weather?q=ossora,ru&units=imperial&APPID=275d975a1c2099dde8c73d59417061cd'"
      ]
     },
     "execution_count": 5,
     "metadata": {},
     "output_type": "execute_result"
    },
    {
     "data": {
      "text/plain": [
       "'----------------------------------------------------'"
      ]
     },
     "execution_count": 5,
     "metadata": {},
     "output_type": "execute_result"
    },
    {
     "data": {
      "text/plain": [
       "'Processing request for city 245: bathurst'"
      ]
     },
     "execution_count": 5,
     "metadata": {},
     "output_type": "execute_result"
    },
    {
     "data": {
      "text/plain": [
       "'http://api.openweathermap.org/data/2.5/weather?q=bathurst,ca&units=imperial&APPID=275d975a1c2099dde8c73d59417061cd'"
      ]
     },
     "execution_count": 5,
     "metadata": {},
     "output_type": "execute_result"
    },
    {
     "data": {
      "text/plain": [
       "'----------------------------------------------------'"
      ]
     },
     "execution_count": 5,
     "metadata": {},
     "output_type": "execute_result"
    },
    {
     "data": {
      "text/plain": [
       "'Processing request for city 246: novouzensk'"
      ]
     },
     "execution_count": 5,
     "metadata": {},
     "output_type": "execute_result"
    },
    {
     "data": {
      "text/plain": [
       "'http://api.openweathermap.org/data/2.5/weather?q=novouzensk,ru&units=imperial&APPID=275d975a1c2099dde8c73d59417061cd'"
      ]
     },
     "execution_count": 5,
     "metadata": {},
     "output_type": "execute_result"
    },
    {
     "data": {
      "text/plain": [
       "'----------------------------------------------------'"
      ]
     },
     "execution_count": 5,
     "metadata": {},
     "output_type": "execute_result"
    },
    {
     "data": {
      "text/plain": [
       "'Processing request for city 247: dongkan'"
      ]
     },
     "execution_count": 5,
     "metadata": {},
     "output_type": "execute_result"
    },
    {
     "data": {
      "text/plain": [
       "'http://api.openweathermap.org/data/2.5/weather?q=dongkan,cn&units=imperial&APPID=275d975a1c2099dde8c73d59417061cd'"
      ]
     },
     "execution_count": 5,
     "metadata": {},
     "output_type": "execute_result"
    },
    {
     "data": {
      "text/plain": [
       "'----------------------------------------------------'"
      ]
     },
     "execution_count": 5,
     "metadata": {},
     "output_type": "execute_result"
    },
    {
     "data": {
      "text/plain": [
       "'Processing request for city 248: colac'"
      ]
     },
     "execution_count": 5,
     "metadata": {},
     "output_type": "execute_result"
    },
    {
     "data": {
      "text/plain": [
       "'http://api.openweathermap.org/data/2.5/weather?q=colac,au&units=imperial&APPID=275d975a1c2099dde8c73d59417061cd'"
      ]
     },
     "execution_count": 5,
     "metadata": {},
     "output_type": "execute_result"
    },
    {
     "data": {
      "text/plain": [
       "'----------------------------------------------------'"
      ]
     },
     "execution_count": 5,
     "metadata": {},
     "output_type": "execute_result"
    },
    {
     "data": {
      "text/plain": [
       "'Processing request for city 249: madison'"
      ]
     },
     "execution_count": 5,
     "metadata": {},
     "output_type": "execute_result"
    },
    {
     "data": {
      "text/plain": [
       "'http://api.openweathermap.org/data/2.5/weather?q=madison,us&units=imperial&APPID=275d975a1c2099dde8c73d59417061cd'"
      ]
     },
     "execution_count": 5,
     "metadata": {},
     "output_type": "execute_result"
    },
    {
     "data": {
      "text/plain": [
       "'----------------------------------------------------'"
      ]
     },
     "execution_count": 5,
     "metadata": {},
     "output_type": "execute_result"
    },
    {
     "data": {
      "text/plain": [
       "'Processing request for city 250: westport'"
      ]
     },
     "execution_count": 5,
     "metadata": {},
     "output_type": "execute_result"
    },
    {
     "data": {
      "text/plain": [
       "'http://api.openweathermap.org/data/2.5/weather?q=westport,nz&units=imperial&APPID=275d975a1c2099dde8c73d59417061cd'"
      ]
     },
     "execution_count": 5,
     "metadata": {},
     "output_type": "execute_result"
    },
    {
     "data": {
      "text/plain": [
       "'----------------------------------------------------'"
      ]
     },
     "execution_count": 5,
     "metadata": {},
     "output_type": "execute_result"
    },
    {
     "data": {
      "text/plain": [
       "'Processing request for city 251: hunza'"
      ]
     },
     "execution_count": 5,
     "metadata": {},
     "output_type": "execute_result"
    },
    {
     "data": {
      "text/plain": [
       "'http://api.openweathermap.org/data/2.5/weather?q=hunza,pk&units=imperial&APPID=275d975a1c2099dde8c73d59417061cd'"
      ]
     },
     "execution_count": 5,
     "metadata": {},
     "output_type": "execute_result"
    },
    {
     "data": {
      "text/plain": [
       "'City not found. Proceeding to next city on list...'"
      ]
     },
     "execution_count": 5,
     "metadata": {},
     "output_type": "execute_result"
    },
    {
     "data": {
      "text/plain": [
       "'----------------------------------------------------'"
      ]
     },
     "execution_count": 5,
     "metadata": {},
     "output_type": "execute_result"
    },
    {
     "data": {
      "text/plain": [
       "'Processing request for city 252: sosva'"
      ]
     },
     "execution_count": 5,
     "metadata": {},
     "output_type": "execute_result"
    },
    {
     "data": {
      "text/plain": [
       "'http://api.openweathermap.org/data/2.5/weather?q=sosva,ru&units=imperial&APPID=275d975a1c2099dde8c73d59417061cd'"
      ]
     },
     "execution_count": 5,
     "metadata": {},
     "output_type": "execute_result"
    },
    {
     "data": {
      "text/plain": [
       "'----------------------------------------------------'"
      ]
     },
     "execution_count": 5,
     "metadata": {},
     "output_type": "execute_result"
    },
    {
     "data": {
      "text/plain": [
       "'Processing request for city 253: cap malheureux'"
      ]
     },
     "execution_count": 5,
     "metadata": {},
     "output_type": "execute_result"
    },
    {
     "data": {
      "text/plain": [
       "'http://api.openweathermap.org/data/2.5/weather?q=cap malheureux,mu&units=imperial&APPID=275d975a1c2099dde8c73d59417061cd'"
      ]
     },
     "execution_count": 5,
     "metadata": {},
     "output_type": "execute_result"
    },
    {
     "data": {
      "text/plain": [
       "'----------------------------------------------------'"
      ]
     },
     "execution_count": 5,
     "metadata": {},
     "output_type": "execute_result"
    },
    {
     "data": {
      "text/plain": [
       "'Processing request for city 254: nieuw amsterdam'"
      ]
     },
     "execution_count": 5,
     "metadata": {},
     "output_type": "execute_result"
    },
    {
     "data": {
      "text/plain": [
       "'http://api.openweathermap.org/data/2.5/weather?q=nieuw amsterdam,sr&units=imperial&APPID=275d975a1c2099dde8c73d59417061cd'"
      ]
     },
     "execution_count": 5,
     "metadata": {},
     "output_type": "execute_result"
    },
    {
     "data": {
      "text/plain": [
       "'----------------------------------------------------'"
      ]
     },
     "execution_count": 5,
     "metadata": {},
     "output_type": "execute_result"
    },
    {
     "data": {
      "text/plain": [
       "'Processing request for city 255: lae'"
      ]
     },
     "execution_count": 5,
     "metadata": {},
     "output_type": "execute_result"
    },
    {
     "data": {
      "text/plain": [
       "'http://api.openweathermap.org/data/2.5/weather?q=lae,pg&units=imperial&APPID=275d975a1c2099dde8c73d59417061cd'"
      ]
     },
     "execution_count": 5,
     "metadata": {},
     "output_type": "execute_result"
    },
    {
     "data": {
      "text/plain": [
       "'----------------------------------------------------'"
      ]
     },
     "execution_count": 5,
     "metadata": {},
     "output_type": "execute_result"
    },
    {
     "data": {
      "text/plain": [
       "'Processing request for city 256: kodiak'"
      ]
     },
     "execution_count": 5,
     "metadata": {},
     "output_type": "execute_result"
    },
    {
     "data": {
      "text/plain": [
       "'http://api.openweathermap.org/data/2.5/weather?q=kodiak,us&units=imperial&APPID=275d975a1c2099dde8c73d59417061cd'"
      ]
     },
     "execution_count": 5,
     "metadata": {},
     "output_type": "execute_result"
    },
    {
     "data": {
      "text/plain": [
       "'----------------------------------------------------'"
      ]
     },
     "execution_count": 5,
     "metadata": {},
     "output_type": "execute_result"
    },
    {
     "data": {
      "text/plain": [
       "'Processing request for city 257: ambulu'"
      ]
     },
     "execution_count": 5,
     "metadata": {},
     "output_type": "execute_result"
    },
    {
     "data": {
      "text/plain": [
       "'http://api.openweathermap.org/data/2.5/weather?q=ambulu,id&units=imperial&APPID=275d975a1c2099dde8c73d59417061cd'"
      ]
     },
     "execution_count": 5,
     "metadata": {},
     "output_type": "execute_result"
    },
    {
     "data": {
      "text/plain": [
       "'----------------------------------------------------'"
      ]
     },
     "execution_count": 5,
     "metadata": {},
     "output_type": "execute_result"
    },
    {
     "data": {
      "text/plain": [
       "'Processing request for city 258: nanortalik'"
      ]
     },
     "execution_count": 5,
     "metadata": {},
     "output_type": "execute_result"
    },
    {
     "data": {
      "text/plain": [
       "'http://api.openweathermap.org/data/2.5/weather?q=nanortalik,gl&units=imperial&APPID=275d975a1c2099dde8c73d59417061cd'"
      ]
     },
     "execution_count": 5,
     "metadata": {},
     "output_type": "execute_result"
    },
    {
     "data": {
      "text/plain": [
       "'----------------------------------------------------'"
      ]
     },
     "execution_count": 5,
     "metadata": {},
     "output_type": "execute_result"
    },
    {
     "data": {
      "text/plain": [
       "'Processing request for city 259: ancud'"
      ]
     },
     "execution_count": 5,
     "metadata": {},
     "output_type": "execute_result"
    },
    {
     "data": {
      "text/plain": [
       "'http://api.openweathermap.org/data/2.5/weather?q=ancud,cl&units=imperial&APPID=275d975a1c2099dde8c73d59417061cd'"
      ]
     },
     "execution_count": 5,
     "metadata": {},
     "output_type": "execute_result"
    },
    {
     "data": {
      "text/plain": [
       "'----------------------------------------------------'"
      ]
     },
     "execution_count": 5,
     "metadata": {},
     "output_type": "execute_result"
    },
    {
     "data": {
      "text/plain": [
       "'Processing request for city 260: kimbe'"
      ]
     },
     "execution_count": 5,
     "metadata": {},
     "output_type": "execute_result"
    },
    {
     "data": {
      "text/plain": [
       "'http://api.openweathermap.org/data/2.5/weather?q=kimbe,pg&units=imperial&APPID=275d975a1c2099dde8c73d59417061cd'"
      ]
     },
     "execution_count": 5,
     "metadata": {},
     "output_type": "execute_result"
    },
    {
     "data": {
      "text/plain": [
       "'----------------------------------------------------'"
      ]
     },
     "execution_count": 5,
     "metadata": {},
     "output_type": "execute_result"
    },
    {
     "data": {
      "text/plain": [
       "'Processing request for city 261: bethel'"
      ]
     },
     "execution_count": 5,
     "metadata": {},
     "output_type": "execute_result"
    },
    {
     "data": {
      "text/plain": [
       "'http://api.openweathermap.org/data/2.5/weather?q=bethel,us&units=imperial&APPID=275d975a1c2099dde8c73d59417061cd'"
      ]
     },
     "execution_count": 5,
     "metadata": {},
     "output_type": "execute_result"
    },
    {
     "data": {
      "text/plain": [
       "'----------------------------------------------------'"
      ]
     },
     "execution_count": 5,
     "metadata": {},
     "output_type": "execute_result"
    },
    {
     "data": {
      "text/plain": [
       "'Processing request for city 262: barawe'"
      ]
     },
     "execution_count": 5,
     "metadata": {},
     "output_type": "execute_result"
    },
    {
     "data": {
      "text/plain": [
       "'http://api.openweathermap.org/data/2.5/weather?q=barawe,so&units=imperial&APPID=275d975a1c2099dde8c73d59417061cd'"
      ]
     },
     "execution_count": 5,
     "metadata": {},
     "output_type": "execute_result"
    },
    {
     "data": {
      "text/plain": [
       "'City not found. Proceeding to next city on list...'"
      ]
     },
     "execution_count": 5,
     "metadata": {},
     "output_type": "execute_result"
    },
    {
     "data": {
      "text/plain": [
       "'----------------------------------------------------'"
      ]
     },
     "execution_count": 5,
     "metadata": {},
     "output_type": "execute_result"
    },
    {
     "data": {
      "text/plain": [
       "'Processing request for city 263: malaga'"
      ]
     },
     "execution_count": 5,
     "metadata": {},
     "output_type": "execute_result"
    },
    {
     "data": {
      "text/plain": [
       "'http://api.openweathermap.org/data/2.5/weather?q=malaga,ph&units=imperial&APPID=275d975a1c2099dde8c73d59417061cd'"
      ]
     },
     "execution_count": 5,
     "metadata": {},
     "output_type": "execute_result"
    },
    {
     "data": {
      "text/plain": [
       "'----------------------------------------------------'"
      ]
     },
     "execution_count": 5,
     "metadata": {},
     "output_type": "execute_result"
    },
    {
     "data": {
      "text/plain": [
       "'Processing request for city 264: kysyl-syr'"
      ]
     },
     "execution_count": 5,
     "metadata": {},
     "output_type": "execute_result"
    },
    {
     "data": {
      "text/plain": [
       "'http://api.openweathermap.org/data/2.5/weather?q=kysyl-syr,ru&units=imperial&APPID=275d975a1c2099dde8c73d59417061cd'"
      ]
     },
     "execution_count": 5,
     "metadata": {},
     "output_type": "execute_result"
    },
    {
     "data": {
      "text/plain": [
       "'----------------------------------------------------'"
      ]
     },
     "execution_count": 5,
     "metadata": {},
     "output_type": "execute_result"
    },
    {
     "data": {
      "text/plain": [
       "'Processing request for city 265: trapani'"
      ]
     },
     "execution_count": 5,
     "metadata": {},
     "output_type": "execute_result"
    },
    {
     "data": {
      "text/plain": [
       "'http://api.openweathermap.org/data/2.5/weather?q=trapani,it&units=imperial&APPID=275d975a1c2099dde8c73d59417061cd'"
      ]
     },
     "execution_count": 5,
     "metadata": {},
     "output_type": "execute_result"
    },
    {
     "data": {
      "text/plain": [
       "'----------------------------------------------------'"
      ]
     },
     "execution_count": 5,
     "metadata": {},
     "output_type": "execute_result"
    },
    {
     "data": {
      "text/plain": [
       "'Processing request for city 266: hofn'"
      ]
     },
     "execution_count": 5,
     "metadata": {},
     "output_type": "execute_result"
    },
    {
     "data": {
      "text/plain": [
       "'http://api.openweathermap.org/data/2.5/weather?q=hofn,is&units=imperial&APPID=275d975a1c2099dde8c73d59417061cd'"
      ]
     },
     "execution_count": 5,
     "metadata": {},
     "output_type": "execute_result"
    },
    {
     "data": {
      "text/plain": [
       "'----------------------------------------------------'"
      ]
     },
     "execution_count": 5,
     "metadata": {},
     "output_type": "execute_result"
    },
    {
     "data": {
      "text/plain": [
       "'Processing request for city 267: artigas'"
      ]
     },
     "execution_count": 5,
     "metadata": {},
     "output_type": "execute_result"
    },
    {
     "data": {
      "text/plain": [
       "'http://api.openweathermap.org/data/2.5/weather?q=artigas,uy&units=imperial&APPID=275d975a1c2099dde8c73d59417061cd'"
      ]
     },
     "execution_count": 5,
     "metadata": {},
     "output_type": "execute_result"
    },
    {
     "data": {
      "text/plain": [
       "'----------------------------------------------------'"
      ]
     },
     "execution_count": 5,
     "metadata": {},
     "output_type": "execute_result"
    },
    {
     "data": {
      "text/plain": [
       "'Processing request for city 268: mayo'"
      ]
     },
     "execution_count": 5,
     "metadata": {},
     "output_type": "execute_result"
    },
    {
     "data": {
      "text/plain": [
       "'http://api.openweathermap.org/data/2.5/weather?q=mayo,ca&units=imperial&APPID=275d975a1c2099dde8c73d59417061cd'"
      ]
     },
     "execution_count": 5,
     "metadata": {},
     "output_type": "execute_result"
    },
    {
     "data": {
      "text/plain": [
       "'----------------------------------------------------'"
      ]
     },
     "execution_count": 5,
     "metadata": {},
     "output_type": "execute_result"
    },
    {
     "data": {
      "text/plain": [
       "'Processing request for city 269: cairns'"
      ]
     },
     "execution_count": 5,
     "metadata": {},
     "output_type": "execute_result"
    },
    {
     "data": {
      "text/plain": [
       "'http://api.openweathermap.org/data/2.5/weather?q=cairns,au&units=imperial&APPID=275d975a1c2099dde8c73d59417061cd'"
      ]
     },
     "execution_count": 5,
     "metadata": {},
     "output_type": "execute_result"
    },
    {
     "data": {
      "text/plain": [
       "'----------------------------------------------------'"
      ]
     },
     "execution_count": 5,
     "metadata": {},
     "output_type": "execute_result"
    },
    {
     "data": {
      "text/plain": [
       "'Processing request for city 270: husavik'"
      ]
     },
     "execution_count": 5,
     "metadata": {},
     "output_type": "execute_result"
    },
    {
     "data": {
      "text/plain": [
       "'http://api.openweathermap.org/data/2.5/weather?q=husavik,is&units=imperial&APPID=275d975a1c2099dde8c73d59417061cd'"
      ]
     },
     "execution_count": 5,
     "metadata": {},
     "output_type": "execute_result"
    },
    {
     "data": {
      "text/plain": [
       "'----------------------------------------------------'"
      ]
     },
     "execution_count": 5,
     "metadata": {},
     "output_type": "execute_result"
    },
    {
     "data": {
      "text/plain": [
       "'Processing request for city 271: the valley'"
      ]
     },
     "execution_count": 5,
     "metadata": {},
     "output_type": "execute_result"
    },
    {
     "data": {
      "text/plain": [
       "'http://api.openweathermap.org/data/2.5/weather?q=the valley,ai&units=imperial&APPID=275d975a1c2099dde8c73d59417061cd'"
      ]
     },
     "execution_count": 5,
     "metadata": {},
     "output_type": "execute_result"
    },
    {
     "data": {
      "text/plain": [
       "'----------------------------------------------------'"
      ]
     },
     "execution_count": 5,
     "metadata": {},
     "output_type": "execute_result"
    },
    {
     "data": {
      "text/plain": [
       "'Processing request for city 272: syamzha'"
      ]
     },
     "execution_count": 5,
     "metadata": {},
     "output_type": "execute_result"
    },
    {
     "data": {
      "text/plain": [
       "'http://api.openweathermap.org/data/2.5/weather?q=syamzha,ru&units=imperial&APPID=275d975a1c2099dde8c73d59417061cd'"
      ]
     },
     "execution_count": 5,
     "metadata": {},
     "output_type": "execute_result"
    },
    {
     "data": {
      "text/plain": [
       "'----------------------------------------------------'"
      ]
     },
     "execution_count": 5,
     "metadata": {},
     "output_type": "execute_result"
    },
    {
     "data": {
      "text/plain": [
       "'Processing request for city 273: lodwar'"
      ]
     },
     "execution_count": 5,
     "metadata": {},
     "output_type": "execute_result"
    },
    {
     "data": {
      "text/plain": [
       "'http://api.openweathermap.org/data/2.5/weather?q=lodwar,ke&units=imperial&APPID=275d975a1c2099dde8c73d59417061cd'"
      ]
     },
     "execution_count": 5,
     "metadata": {},
     "output_type": "execute_result"
    },
    {
     "data": {
      "text/plain": [
       "'----------------------------------------------------'"
      ]
     },
     "execution_count": 5,
     "metadata": {},
     "output_type": "execute_result"
    },
    {
     "data": {
      "text/plain": [
       "'Processing request for city 274: kavieng'"
      ]
     },
     "execution_count": 5,
     "metadata": {},
     "output_type": "execute_result"
    },
    {
     "data": {
      "text/plain": [
       "'http://api.openweathermap.org/data/2.5/weather?q=kavieng,pg&units=imperial&APPID=275d975a1c2099dde8c73d59417061cd'"
      ]
     },
     "execution_count": 5,
     "metadata": {},
     "output_type": "execute_result"
    },
    {
     "data": {
      "text/plain": [
       "'----------------------------------------------------'"
      ]
     },
     "execution_count": 5,
     "metadata": {},
     "output_type": "execute_result"
    },
    {
     "data": {
      "text/plain": [
       "'Processing request for city 275: kaeo'"
      ]
     },
     "execution_count": 5,
     "metadata": {},
     "output_type": "execute_result"
    },
    {
     "data": {
      "text/plain": [
       "'http://api.openweathermap.org/data/2.5/weather?q=kaeo,nz&units=imperial&APPID=275d975a1c2099dde8c73d59417061cd'"
      ]
     },
     "execution_count": 5,
     "metadata": {},
     "output_type": "execute_result"
    },
    {
     "data": {
      "text/plain": [
       "'----------------------------------------------------'"
      ]
     },
     "execution_count": 5,
     "metadata": {},
     "output_type": "execute_result"
    },
    {
     "data": {
      "text/plain": [
       "'Processing request for city 276: kuche'"
      ]
     },
     "execution_count": 5,
     "metadata": {},
     "output_type": "execute_result"
    },
    {
     "data": {
      "text/plain": [
       "'http://api.openweathermap.org/data/2.5/weather?q=kuche,cn&units=imperial&APPID=275d975a1c2099dde8c73d59417061cd'"
      ]
     },
     "execution_count": 5,
     "metadata": {},
     "output_type": "execute_result"
    },
    {
     "data": {
      "text/plain": [
       "'City not found. Proceeding to next city on list...'"
      ]
     },
     "execution_count": 5,
     "metadata": {},
     "output_type": "execute_result"
    },
    {
     "data": {
      "text/plain": [
       "'----------------------------------------------------'"
      ]
     },
     "execution_count": 5,
     "metadata": {},
     "output_type": "execute_result"
    },
    {
     "data": {
      "text/plain": [
       "'Processing request for city 277: muros'"
      ]
     },
     "execution_count": 5,
     "metadata": {},
     "output_type": "execute_result"
    },
    {
     "data": {
      "text/plain": [
       "'http://api.openweathermap.org/data/2.5/weather?q=muros,es&units=imperial&APPID=275d975a1c2099dde8c73d59417061cd'"
      ]
     },
     "execution_count": 5,
     "metadata": {},
     "output_type": "execute_result"
    },
    {
     "data": {
      "text/plain": [
       "'----------------------------------------------------'"
      ]
     },
     "execution_count": 5,
     "metadata": {},
     "output_type": "execute_result"
    },
    {
     "data": {
      "text/plain": [
       "'Processing request for city 278: rocha'"
      ]
     },
     "execution_count": 5,
     "metadata": {},
     "output_type": "execute_result"
    },
    {
     "data": {
      "text/plain": [
       "'http://api.openweathermap.org/data/2.5/weather?q=rocha,uy&units=imperial&APPID=275d975a1c2099dde8c73d59417061cd'"
      ]
     },
     "execution_count": 5,
     "metadata": {},
     "output_type": "execute_result"
    },
    {
     "data": {
      "text/plain": [
       "'----------------------------------------------------'"
      ]
     },
     "execution_count": 5,
     "metadata": {},
     "output_type": "execute_result"
    },
    {
     "data": {
      "text/plain": [
       "'Processing request for city 279: itarema'"
      ]
     },
     "execution_count": 5,
     "metadata": {},
     "output_type": "execute_result"
    },
    {
     "data": {
      "text/plain": [
       "'http://api.openweathermap.org/data/2.5/weather?q=itarema,br&units=imperial&APPID=275d975a1c2099dde8c73d59417061cd'"
      ]
     },
     "execution_count": 5,
     "metadata": {},
     "output_type": "execute_result"
    },
    {
     "data": {
      "text/plain": [
       "'----------------------------------------------------'"
      ]
     },
     "execution_count": 5,
     "metadata": {},
     "output_type": "execute_result"
    },
    {
     "data": {
      "text/plain": [
       "'Processing request for city 280: oksfjord'"
      ]
     },
     "execution_count": 5,
     "metadata": {},
     "output_type": "execute_result"
    },
    {
     "data": {
      "text/plain": [
       "'http://api.openweathermap.org/data/2.5/weather?q=oksfjord,no&units=imperial&APPID=275d975a1c2099dde8c73d59417061cd'"
      ]
     },
     "execution_count": 5,
     "metadata": {},
     "output_type": "execute_result"
    },
    {
     "data": {
      "text/plain": [
       "'----------------------------------------------------'"
      ]
     },
     "execution_count": 5,
     "metadata": {},
     "output_type": "execute_result"
    },
    {
     "data": {
      "text/plain": [
       "'Processing request for city 281: santa rosa'"
      ]
     },
     "execution_count": 5,
     "metadata": {},
     "output_type": "execute_result"
    },
    {
     "data": {
      "text/plain": [
       "'http://api.openweathermap.org/data/2.5/weather?q=santa rosa,bo&units=imperial&APPID=275d975a1c2099dde8c73d59417061cd'"
      ]
     },
     "execution_count": 5,
     "metadata": {},
     "output_type": "execute_result"
    },
    {
     "data": {
      "text/plain": [
       "'----------------------------------------------------'"
      ]
     },
     "execution_count": 5,
     "metadata": {},
     "output_type": "execute_result"
    },
    {
     "data": {
      "text/plain": [
       "'Processing request for city 282: dunedin'"
      ]
     },
     "execution_count": 5,
     "metadata": {},
     "output_type": "execute_result"
    },
    {
     "data": {
      "text/plain": [
       "'http://api.openweathermap.org/data/2.5/weather?q=dunedin,nz&units=imperial&APPID=275d975a1c2099dde8c73d59417061cd'"
      ]
     },
     "execution_count": 5,
     "metadata": {},
     "output_type": "execute_result"
    },
    {
     "data": {
      "text/plain": [
       "'----------------------------------------------------'"
      ]
     },
     "execution_count": 5,
     "metadata": {},
     "output_type": "execute_result"
    },
    {
     "data": {
      "text/plain": [
       "'Processing request for city 283: lingao'"
      ]
     },
     "execution_count": 5,
     "metadata": {},
     "output_type": "execute_result"
    },
    {
     "data": {
      "text/plain": [
       "'http://api.openweathermap.org/data/2.5/weather?q=lingao,cn&units=imperial&APPID=275d975a1c2099dde8c73d59417061cd'"
      ]
     },
     "execution_count": 5,
     "metadata": {},
     "output_type": "execute_result"
    },
    {
     "data": {
      "text/plain": [
       "'----------------------------------------------------'"
      ]
     },
     "execution_count": 5,
     "metadata": {},
     "output_type": "execute_result"
    },
    {
     "data": {
      "text/plain": [
       "'Processing request for city 284: aklavik'"
      ]
     },
     "execution_count": 5,
     "metadata": {},
     "output_type": "execute_result"
    },
    {
     "data": {
      "text/plain": [
       "'http://api.openweathermap.org/data/2.5/weather?q=aklavik,ca&units=imperial&APPID=275d975a1c2099dde8c73d59417061cd'"
      ]
     },
     "execution_count": 5,
     "metadata": {},
     "output_type": "execute_result"
    },
    {
     "data": {
      "text/plain": [
       "'----------------------------------------------------'"
      ]
     },
     "execution_count": 5,
     "metadata": {},
     "output_type": "execute_result"
    },
    {
     "data": {
      "text/plain": [
       "'Processing request for city 285: wagar'"
      ]
     },
     "execution_count": 5,
     "metadata": {},
     "output_type": "execute_result"
    },
    {
     "data": {
      "text/plain": [
       "'http://api.openweathermap.org/data/2.5/weather?q=wagar,sd&units=imperial&APPID=275d975a1c2099dde8c73d59417061cd'"
      ]
     },
     "execution_count": 5,
     "metadata": {},
     "output_type": "execute_result"
    },
    {
     "data": {
      "text/plain": [
       "'----------------------------------------------------'"
      ]
     },
     "execution_count": 5,
     "metadata": {},
     "output_type": "execute_result"
    },
    {
     "data": {
      "text/plain": [
       "'Processing request for city 286: eureka'"
      ]
     },
     "execution_count": 5,
     "metadata": {},
     "output_type": "execute_result"
    },
    {
     "data": {
      "text/plain": [
       "'http://api.openweathermap.org/data/2.5/weather?q=eureka,us&units=imperial&APPID=275d975a1c2099dde8c73d59417061cd'"
      ]
     },
     "execution_count": 5,
     "metadata": {},
     "output_type": "execute_result"
    },
    {
     "data": {
      "text/plain": [
       "'----------------------------------------------------'"
      ]
     },
     "execution_count": 5,
     "metadata": {},
     "output_type": "execute_result"
    },
    {
     "data": {
      "text/plain": [
       "'Processing request for city 287: thompson'"
      ]
     },
     "execution_count": 5,
     "metadata": {},
     "output_type": "execute_result"
    },
    {
     "data": {
      "text/plain": [
       "'http://api.openweathermap.org/data/2.5/weather?q=thompson,ca&units=imperial&APPID=275d975a1c2099dde8c73d59417061cd'"
      ]
     },
     "execution_count": 5,
     "metadata": {},
     "output_type": "execute_result"
    },
    {
     "data": {
      "text/plain": [
       "'----------------------------------------------------'"
      ]
     },
     "execution_count": 5,
     "metadata": {},
     "output_type": "execute_result"
    },
    {
     "data": {
      "text/plain": [
       "'Processing request for city 288: tomatlan'"
      ]
     },
     "execution_count": 5,
     "metadata": {},
     "output_type": "execute_result"
    },
    {
     "data": {
      "text/plain": [
       "'http://api.openweathermap.org/data/2.5/weather?q=tomatlan,mx&units=imperial&APPID=275d975a1c2099dde8c73d59417061cd'"
      ]
     },
     "execution_count": 5,
     "metadata": {},
     "output_type": "execute_result"
    },
    {
     "data": {
      "text/plain": [
       "'----------------------------------------------------'"
      ]
     },
     "execution_count": 5,
     "metadata": {},
     "output_type": "execute_result"
    },
    {
     "data": {
      "text/plain": [
       "'Processing request for city 289: mazagao'"
      ]
     },
     "execution_count": 5,
     "metadata": {},
     "output_type": "execute_result"
    },
    {
     "data": {
      "text/plain": [
       "'http://api.openweathermap.org/data/2.5/weather?q=mazagao,br&units=imperial&APPID=275d975a1c2099dde8c73d59417061cd'"
      ]
     },
     "execution_count": 5,
     "metadata": {},
     "output_type": "execute_result"
    },
    {
     "data": {
      "text/plain": [
       "'----------------------------------------------------'"
      ]
     },
     "execution_count": 5,
     "metadata": {},
     "output_type": "execute_result"
    },
    {
     "data": {
      "text/plain": [
       "'Processing request for city 290: kolondieba'"
      ]
     },
     "execution_count": 5,
     "metadata": {},
     "output_type": "execute_result"
    },
    {
     "data": {
      "text/plain": [
       "'http://api.openweathermap.org/data/2.5/weather?q=kolondieba,ml&units=imperial&APPID=275d975a1c2099dde8c73d59417061cd'"
      ]
     },
     "execution_count": 5,
     "metadata": {},
     "output_type": "execute_result"
    },
    {
     "data": {
      "text/plain": [
       "'----------------------------------------------------'"
      ]
     },
     "execution_count": 5,
     "metadata": {},
     "output_type": "execute_result"
    },
    {
     "data": {
      "text/plain": [
       "'Processing request for city 291: volosovo'"
      ]
     },
     "execution_count": 5,
     "metadata": {},
     "output_type": "execute_result"
    },
    {
     "data": {
      "text/plain": [
       "'http://api.openweathermap.org/data/2.5/weather?q=volosovo,ru&units=imperial&APPID=275d975a1c2099dde8c73d59417061cd'"
      ]
     },
     "execution_count": 5,
     "metadata": {},
     "output_type": "execute_result"
    },
    {
     "data": {
      "text/plain": [
       "'----------------------------------------------------'"
      ]
     },
     "execution_count": 5,
     "metadata": {},
     "output_type": "execute_result"
    },
    {
     "data": {
      "text/plain": [
       "'Processing request for city 292: puerto suarez'"
      ]
     },
     "execution_count": 5,
     "metadata": {},
     "output_type": "execute_result"
    },
    {
     "data": {
      "text/plain": [
       "'http://api.openweathermap.org/data/2.5/weather?q=puerto suarez,bo&units=imperial&APPID=275d975a1c2099dde8c73d59417061cd'"
      ]
     },
     "execution_count": 5,
     "metadata": {},
     "output_type": "execute_result"
    },
    {
     "data": {
      "text/plain": [
       "'----------------------------------------------------'"
      ]
     },
     "execution_count": 5,
     "metadata": {},
     "output_type": "execute_result"
    },
    {
     "data": {
      "text/plain": [
       "'Processing request for city 293: umzimvubu'"
      ]
     },
     "execution_count": 5,
     "metadata": {},
     "output_type": "execute_result"
    },
    {
     "data": {
      "text/plain": [
       "'http://api.openweathermap.org/data/2.5/weather?q=umzimvubu,za&units=imperial&APPID=275d975a1c2099dde8c73d59417061cd'"
      ]
     },
     "execution_count": 5,
     "metadata": {},
     "output_type": "execute_result"
    },
    {
     "data": {
      "text/plain": [
       "'City not found. Proceeding to next city on list...'"
      ]
     },
     "execution_count": 5,
     "metadata": {},
     "output_type": "execute_result"
    },
    {
     "data": {
      "text/plain": [
       "'----------------------------------------------------'"
      ]
     },
     "execution_count": 5,
     "metadata": {},
     "output_type": "execute_result"
    },
    {
     "data": {
      "text/plain": [
       "'Processing request for city 294: meadow lake'"
      ]
     },
     "execution_count": 5,
     "metadata": {},
     "output_type": "execute_result"
    },
    {
     "data": {
      "text/plain": [
       "'http://api.openweathermap.org/data/2.5/weather?q=meadow lake,ca&units=imperial&APPID=275d975a1c2099dde8c73d59417061cd'"
      ]
     },
     "execution_count": 5,
     "metadata": {},
     "output_type": "execute_result"
    },
    {
     "data": {
      "text/plain": [
       "'----------------------------------------------------'"
      ]
     },
     "execution_count": 5,
     "metadata": {},
     "output_type": "execute_result"
    },
    {
     "data": {
      "text/plain": [
       "'Processing request for city 295: hede'"
      ]
     },
     "execution_count": 5,
     "metadata": {},
     "output_type": "execute_result"
    },
    {
     "data": {
      "text/plain": [
       "'http://api.openweathermap.org/data/2.5/weather?q=hede,cn&units=imperial&APPID=275d975a1c2099dde8c73d59417061cd'"
      ]
     },
     "execution_count": 5,
     "metadata": {},
     "output_type": "execute_result"
    },
    {
     "data": {
      "text/plain": [
       "'----------------------------------------------------'"
      ]
     },
     "execution_count": 5,
     "metadata": {},
     "output_type": "execute_result"
    },
    {
     "data": {
      "text/plain": [
       "'Processing request for city 296: beian'"
      ]
     },
     "execution_count": 5,
     "metadata": {},
     "output_type": "execute_result"
    },
    {
     "data": {
      "text/plain": [
       "'http://api.openweathermap.org/data/2.5/weather?q=beian,cn&units=imperial&APPID=275d975a1c2099dde8c73d59417061cd'"
      ]
     },
     "execution_count": 5,
     "metadata": {},
     "output_type": "execute_result"
    },
    {
     "data": {
      "text/plain": [
       "'City not found. Proceeding to next city on list...'"
      ]
     },
     "execution_count": 5,
     "metadata": {},
     "output_type": "execute_result"
    },
    {
     "data": {
      "text/plain": [
       "'----------------------------------------------------'"
      ]
     },
     "execution_count": 5,
     "metadata": {},
     "output_type": "execute_result"
    },
    {
     "data": {
      "text/plain": [
       "'Processing request for city 297: abbeville'"
      ]
     },
     "execution_count": 5,
     "metadata": {},
     "output_type": "execute_result"
    },
    {
     "data": {
      "text/plain": [
       "'http://api.openweathermap.org/data/2.5/weather?q=abbeville,fr&units=imperial&APPID=275d975a1c2099dde8c73d59417061cd'"
      ]
     },
     "execution_count": 5,
     "metadata": {},
     "output_type": "execute_result"
    },
    {
     "data": {
      "text/plain": [
       "'----------------------------------------------------'"
      ]
     },
     "execution_count": 5,
     "metadata": {},
     "output_type": "execute_result"
    },
    {
     "data": {
      "text/plain": [
       "'Processing request for city 298: kaitangata'"
      ]
     },
     "execution_count": 5,
     "metadata": {},
     "output_type": "execute_result"
    },
    {
     "data": {
      "text/plain": [
       "'http://api.openweathermap.org/data/2.5/weather?q=kaitangata,nz&units=imperial&APPID=275d975a1c2099dde8c73d59417061cd'"
      ]
     },
     "execution_count": 5,
     "metadata": {},
     "output_type": "execute_result"
    },
    {
     "data": {
      "text/plain": [
       "'----------------------------------------------------'"
      ]
     },
     "execution_count": 5,
     "metadata": {},
     "output_type": "execute_result"
    },
    {
     "data": {
      "text/plain": [
       "'Processing request for city 299: zachagansk'"
      ]
     },
     "execution_count": 5,
     "metadata": {},
     "output_type": "execute_result"
    },
    {
     "data": {
      "text/plain": [
       "'http://api.openweathermap.org/data/2.5/weather?q=zachagansk,kz&units=imperial&APPID=275d975a1c2099dde8c73d59417061cd'"
      ]
     },
     "execution_count": 5,
     "metadata": {},
     "output_type": "execute_result"
    },
    {
     "data": {
      "text/plain": [
       "'City not found. Proceeding to next city on list...'"
      ]
     },
     "execution_count": 5,
     "metadata": {},
     "output_type": "execute_result"
    },
    {
     "data": {
      "text/plain": [
       "'----------------------------------------------------'"
      ]
     },
     "execution_count": 5,
     "metadata": {},
     "output_type": "execute_result"
    },
    {
     "data": {
      "text/plain": [
       "'Processing request for city 300: ziarat'"
      ]
     },
     "execution_count": 5,
     "metadata": {},
     "output_type": "execute_result"
    },
    {
     "data": {
      "text/plain": [
       "'http://api.openweathermap.org/data/2.5/weather?q=ziarat,pk&units=imperial&APPID=275d975a1c2099dde8c73d59417061cd'"
      ]
     },
     "execution_count": 5,
     "metadata": {},
     "output_type": "execute_result"
    },
    {
     "data": {
      "text/plain": [
       "'----------------------------------------------------'"
      ]
     },
     "execution_count": 5,
     "metadata": {},
     "output_type": "execute_result"
    },
    {
     "data": {
      "text/plain": [
       "'----------------------------------------------------'"
      ]
     },
     "execution_count": 5,
     "metadata": {},
     "output_type": "execute_result"
    },
    {
     "data": {
      "text/plain": [
       "'Pausing API requests for 20 seconds.'"
      ]
     },
     "execution_count": 5,
     "metadata": {},
     "output_type": "execute_result"
    },
    {
     "data": {
      "text/plain": [
       "\"(Don't want to overload my free account here.)\""
      ]
     },
     "execution_count": 5,
     "metadata": {},
     "output_type": "execute_result"
    },
    {
     "data": {
      "text/plain": [
       "'----------------------------------------------------'"
      ]
     },
     "execution_count": 5,
     "metadata": {},
     "output_type": "execute_result"
    },
    {
     "data": {
      "text/plain": [
       "'Processing request for city 301: puerto escondido'"
      ]
     },
     "execution_count": 5,
     "metadata": {},
     "output_type": "execute_result"
    },
    {
     "data": {
      "text/plain": [
       "'http://api.openweathermap.org/data/2.5/weather?q=puerto escondido,mx&units=imperial&APPID=275d975a1c2099dde8c73d59417061cd'"
      ]
     },
     "execution_count": 5,
     "metadata": {},
     "output_type": "execute_result"
    },
    {
     "data": {
      "text/plain": [
       "'----------------------------------------------------'"
      ]
     },
     "execution_count": 5,
     "metadata": {},
     "output_type": "execute_result"
    },
    {
     "data": {
      "text/plain": [
       "'Processing request for city 302: port lincoln'"
      ]
     },
     "execution_count": 5,
     "metadata": {},
     "output_type": "execute_result"
    },
    {
     "data": {
      "text/plain": [
       "'http://api.openweathermap.org/data/2.5/weather?q=port lincoln,au&units=imperial&APPID=275d975a1c2099dde8c73d59417061cd'"
      ]
     },
     "execution_count": 5,
     "metadata": {},
     "output_type": "execute_result"
    },
    {
     "data": {
      "text/plain": [
       "'----------------------------------------------------'"
      ]
     },
     "execution_count": 5,
     "metadata": {},
     "output_type": "execute_result"
    },
    {
     "data": {
      "text/plain": [
       "'Processing request for city 303: kamaishi'"
      ]
     },
     "execution_count": 5,
     "metadata": {},
     "output_type": "execute_result"
    },
    {
     "data": {
      "text/plain": [
       "'http://api.openweathermap.org/data/2.5/weather?q=kamaishi,jp&units=imperial&APPID=275d975a1c2099dde8c73d59417061cd'"
      ]
     },
     "execution_count": 5,
     "metadata": {},
     "output_type": "execute_result"
    },
    {
     "data": {
      "text/plain": [
       "'----------------------------------------------------'"
      ]
     },
     "execution_count": 5,
     "metadata": {},
     "output_type": "execute_result"
    },
    {
     "data": {
      "text/plain": [
       "'Processing request for city 304: santander'"
      ]
     },
     "execution_count": 5,
     "metadata": {},
     "output_type": "execute_result"
    },
    {
     "data": {
      "text/plain": [
       "'http://api.openweathermap.org/data/2.5/weather?q=santander,es&units=imperial&APPID=275d975a1c2099dde8c73d59417061cd'"
      ]
     },
     "execution_count": 5,
     "metadata": {},
     "output_type": "execute_result"
    },
    {
     "data": {
      "text/plain": [
       "'----------------------------------------------------'"
      ]
     },
     "execution_count": 5,
     "metadata": {},
     "output_type": "execute_result"
    },
    {
     "data": {
      "text/plain": [
       "'Processing request for city 305: berdigestyakh'"
      ]
     },
     "execution_count": 5,
     "metadata": {},
     "output_type": "execute_result"
    },
    {
     "data": {
      "text/plain": [
       "'http://api.openweathermap.org/data/2.5/weather?q=berdigestyakh,ru&units=imperial&APPID=275d975a1c2099dde8c73d59417061cd'"
      ]
     },
     "execution_count": 5,
     "metadata": {},
     "output_type": "execute_result"
    },
    {
     "data": {
      "text/plain": [
       "'----------------------------------------------------'"
      ]
     },
     "execution_count": 5,
     "metadata": {},
     "output_type": "execute_result"
    },
    {
     "data": {
      "text/plain": [
       "'Processing request for city 306: sitka'"
      ]
     },
     "execution_count": 5,
     "metadata": {},
     "output_type": "execute_result"
    },
    {
     "data": {
      "text/plain": [
       "'http://api.openweathermap.org/data/2.5/weather?q=sitka,us&units=imperial&APPID=275d975a1c2099dde8c73d59417061cd'"
      ]
     },
     "execution_count": 5,
     "metadata": {},
     "output_type": "execute_result"
    },
    {
     "data": {
      "text/plain": [
       "'----------------------------------------------------'"
      ]
     },
     "execution_count": 5,
     "metadata": {},
     "output_type": "execute_result"
    },
    {
     "data": {
      "text/plain": [
       "'Processing request for city 307: saleaula'"
      ]
     },
     "execution_count": 5,
     "metadata": {},
     "output_type": "execute_result"
    },
    {
     "data": {
      "text/plain": [
       "'http://api.openweathermap.org/data/2.5/weather?q=saleaula,ws&units=imperial&APPID=275d975a1c2099dde8c73d59417061cd'"
      ]
     },
     "execution_count": 5,
     "metadata": {},
     "output_type": "execute_result"
    },
    {
     "data": {
      "text/plain": [
       "'City not found. Proceeding to next city on list...'"
      ]
     },
     "execution_count": 5,
     "metadata": {},
     "output_type": "execute_result"
    },
    {
     "data": {
      "text/plain": [
       "'----------------------------------------------------'"
      ]
     },
     "execution_count": 5,
     "metadata": {},
     "output_type": "execute_result"
    },
    {
     "data": {
      "text/plain": [
       "'Processing request for city 308: yuncheng'"
      ]
     },
     "execution_count": 5,
     "metadata": {},
     "output_type": "execute_result"
    },
    {
     "data": {
      "text/plain": [
       "'http://api.openweathermap.org/data/2.5/weather?q=yuncheng,cn&units=imperial&APPID=275d975a1c2099dde8c73d59417061cd'"
      ]
     },
     "execution_count": 5,
     "metadata": {},
     "output_type": "execute_result"
    },
    {
     "data": {
      "text/plain": [
       "'----------------------------------------------------'"
      ]
     },
     "execution_count": 5,
     "metadata": {},
     "output_type": "execute_result"
    },
    {
     "data": {
      "text/plain": [
       "'Processing request for city 309: pasighat'"
      ]
     },
     "execution_count": 5,
     "metadata": {},
     "output_type": "execute_result"
    },
    {
     "data": {
      "text/plain": [
       "'http://api.openweathermap.org/data/2.5/weather?q=pasighat,in&units=imperial&APPID=275d975a1c2099dde8c73d59417061cd'"
      ]
     },
     "execution_count": 5,
     "metadata": {},
     "output_type": "execute_result"
    },
    {
     "data": {
      "text/plain": [
       "'----------------------------------------------------'"
      ]
     },
     "execution_count": 5,
     "metadata": {},
     "output_type": "execute_result"
    },
    {
     "data": {
      "text/plain": [
       "'Processing request for city 310: arawa'"
      ]
     },
     "execution_count": 5,
     "metadata": {},
     "output_type": "execute_result"
    },
    {
     "data": {
      "text/plain": [
       "'http://api.openweathermap.org/data/2.5/weather?q=arawa,pg&units=imperial&APPID=275d975a1c2099dde8c73d59417061cd'"
      ]
     },
     "execution_count": 5,
     "metadata": {},
     "output_type": "execute_result"
    },
    {
     "data": {
      "text/plain": [
       "'----------------------------------------------------'"
      ]
     },
     "execution_count": 5,
     "metadata": {},
     "output_type": "execute_result"
    },
    {
     "data": {
      "text/plain": [
       "'Processing request for city 311: zhigansk'"
      ]
     },
     "execution_count": 5,
     "metadata": {},
     "output_type": "execute_result"
    },
    {
     "data": {
      "text/plain": [
       "'http://api.openweathermap.org/data/2.5/weather?q=zhigansk,ru&units=imperial&APPID=275d975a1c2099dde8c73d59417061cd'"
      ]
     },
     "execution_count": 5,
     "metadata": {},
     "output_type": "execute_result"
    },
    {
     "data": {
      "text/plain": [
       "'----------------------------------------------------'"
      ]
     },
     "execution_count": 5,
     "metadata": {},
     "output_type": "execute_result"
    },
    {
     "data": {
      "text/plain": [
       "'Processing request for city 312: luena'"
      ]
     },
     "execution_count": 5,
     "metadata": {},
     "output_type": "execute_result"
    },
    {
     "data": {
      "text/plain": [
       "'http://api.openweathermap.org/data/2.5/weather?q=luena,ao&units=imperial&APPID=275d975a1c2099dde8c73d59417061cd'"
      ]
     },
     "execution_count": 5,
     "metadata": {},
     "output_type": "execute_result"
    },
    {
     "data": {
      "text/plain": [
       "'----------------------------------------------------'"
      ]
     },
     "execution_count": 5,
     "metadata": {},
     "output_type": "execute_result"
    },
    {
     "data": {
      "text/plain": [
       "'Processing request for city 313: tiksi'"
      ]
     },
     "execution_count": 5,
     "metadata": {},
     "output_type": "execute_result"
    },
    {
     "data": {
      "text/plain": [
       "'http://api.openweathermap.org/data/2.5/weather?q=tiksi,ru&units=imperial&APPID=275d975a1c2099dde8c73d59417061cd'"
      ]
     },
     "execution_count": 5,
     "metadata": {},
     "output_type": "execute_result"
    },
    {
     "data": {
      "text/plain": [
       "'----------------------------------------------------'"
      ]
     },
     "execution_count": 5,
     "metadata": {},
     "output_type": "execute_result"
    },
    {
     "data": {
      "text/plain": [
       "'Processing request for city 314: weinan'"
      ]
     },
     "execution_count": 5,
     "metadata": {},
     "output_type": "execute_result"
    },
    {
     "data": {
      "text/plain": [
       "'http://api.openweathermap.org/data/2.5/weather?q=weinan,cn&units=imperial&APPID=275d975a1c2099dde8c73d59417061cd'"
      ]
     },
     "execution_count": 5,
     "metadata": {},
     "output_type": "execute_result"
    },
    {
     "data": {
      "text/plain": [
       "'----------------------------------------------------'"
      ]
     },
     "execution_count": 5,
     "metadata": {},
     "output_type": "execute_result"
    },
    {
     "data": {
      "text/plain": [
       "'Processing request for city 315: guerrero negro'"
      ]
     },
     "execution_count": 5,
     "metadata": {},
     "output_type": "execute_result"
    },
    {
     "data": {
      "text/plain": [
       "'http://api.openweathermap.org/data/2.5/weather?q=guerrero negro,mx&units=imperial&APPID=275d975a1c2099dde8c73d59417061cd'"
      ]
     },
     "execution_count": 5,
     "metadata": {},
     "output_type": "execute_result"
    },
    {
     "data": {
      "text/plain": [
       "'----------------------------------------------------'"
      ]
     },
     "execution_count": 5,
     "metadata": {},
     "output_type": "execute_result"
    },
    {
     "data": {
      "text/plain": [
       "'Processing request for city 316: santiago del estero'"
      ]
     },
     "execution_count": 5,
     "metadata": {},
     "output_type": "execute_result"
    },
    {
     "data": {
      "text/plain": [
       "'http://api.openweathermap.org/data/2.5/weather?q=santiago del estero,ar&units=imperial&APPID=275d975a1c2099dde8c73d59417061cd'"
      ]
     },
     "execution_count": 5,
     "metadata": {},
     "output_type": "execute_result"
    },
    {
     "data": {
      "text/plain": [
       "'----------------------------------------------------'"
      ]
     },
     "execution_count": 5,
     "metadata": {},
     "output_type": "execute_result"
    },
    {
     "data": {
      "text/plain": [
       "'Processing request for city 317: temeni'"
      ]
     },
     "execution_count": 5,
     "metadata": {},
     "output_type": "execute_result"
    },
    {
     "data": {
      "text/plain": [
       "'http://api.openweathermap.org/data/2.5/weather?q=temeni,gr&units=imperial&APPID=275d975a1c2099dde8c73d59417061cd'"
      ]
     },
     "execution_count": 5,
     "metadata": {},
     "output_type": "execute_result"
    },
    {
     "data": {
      "text/plain": [
       "'----------------------------------------------------'"
      ]
     },
     "execution_count": 5,
     "metadata": {},
     "output_type": "execute_result"
    },
    {
     "data": {
      "text/plain": [
       "'Processing request for city 318: bikin'"
      ]
     },
     "execution_count": 5,
     "metadata": {},
     "output_type": "execute_result"
    },
    {
     "data": {
      "text/plain": [
       "'http://api.openweathermap.org/data/2.5/weather?q=bikin,ru&units=imperial&APPID=275d975a1c2099dde8c73d59417061cd'"
      ]
     },
     "execution_count": 5,
     "metadata": {},
     "output_type": "execute_result"
    },
    {
     "data": {
      "text/plain": [
       "'----------------------------------------------------'"
      ]
     },
     "execution_count": 5,
     "metadata": {},
     "output_type": "execute_result"
    },
    {
     "data": {
      "text/plain": [
       "'Processing request for city 319: mabay'"
      ]
     },
     "execution_count": 5,
     "metadata": {},
     "output_type": "execute_result"
    },
    {
     "data": {
      "text/plain": [
       "'http://api.openweathermap.org/data/2.5/weather?q=mabay,ph&units=imperial&APPID=275d975a1c2099dde8c73d59417061cd'"
      ]
     },
     "execution_count": 5,
     "metadata": {},
     "output_type": "execute_result"
    },
    {
     "data": {
      "text/plain": [
       "'----------------------------------------------------'"
      ]
     },
     "execution_count": 5,
     "metadata": {},
     "output_type": "execute_result"
    },
    {
     "data": {
      "text/plain": [
       "'Processing request for city 320: ambon'"
      ]
     },
     "execution_count": 5,
     "metadata": {},
     "output_type": "execute_result"
    },
    {
     "data": {
      "text/plain": [
       "'http://api.openweathermap.org/data/2.5/weather?q=ambon,id&units=imperial&APPID=275d975a1c2099dde8c73d59417061cd'"
      ]
     },
     "execution_count": 5,
     "metadata": {},
     "output_type": "execute_result"
    },
    {
     "data": {
      "text/plain": [
       "'----------------------------------------------------'"
      ]
     },
     "execution_count": 5,
     "metadata": {},
     "output_type": "execute_result"
    },
    {
     "data": {
      "text/plain": [
       "'Processing request for city 321: dwarka'"
      ]
     },
     "execution_count": 5,
     "metadata": {},
     "output_type": "execute_result"
    },
    {
     "data": {
      "text/plain": [
       "'http://api.openweathermap.org/data/2.5/weather?q=dwarka,in&units=imperial&APPID=275d975a1c2099dde8c73d59417061cd'"
      ]
     },
     "execution_count": 5,
     "metadata": {},
     "output_type": "execute_result"
    },
    {
     "data": {
      "text/plain": [
       "'----------------------------------------------------'"
      ]
     },
     "execution_count": 5,
     "metadata": {},
     "output_type": "execute_result"
    },
    {
     "data": {
      "text/plain": [
       "'Processing request for city 322: tongren'"
      ]
     },
     "execution_count": 5,
     "metadata": {},
     "output_type": "execute_result"
    },
    {
     "data": {
      "text/plain": [
       "'http://api.openweathermap.org/data/2.5/weather?q=tongren,cn&units=imperial&APPID=275d975a1c2099dde8c73d59417061cd'"
      ]
     },
     "execution_count": 5,
     "metadata": {},
     "output_type": "execute_result"
    },
    {
     "data": {
      "text/plain": [
       "'----------------------------------------------------'"
      ]
     },
     "execution_count": 5,
     "metadata": {},
     "output_type": "execute_result"
    },
    {
     "data": {
      "text/plain": [
       "'Processing request for city 323: broome'"
      ]
     },
     "execution_count": 5,
     "metadata": {},
     "output_type": "execute_result"
    },
    {
     "data": {
      "text/plain": [
       "'http://api.openweathermap.org/data/2.5/weather?q=broome,au&units=imperial&APPID=275d975a1c2099dde8c73d59417061cd'"
      ]
     },
     "execution_count": 5,
     "metadata": {},
     "output_type": "execute_result"
    },
    {
     "data": {
      "text/plain": [
       "'----------------------------------------------------'"
      ]
     },
     "execution_count": 5,
     "metadata": {},
     "output_type": "execute_result"
    },
    {
     "data": {
      "text/plain": [
       "'Processing request for city 324: macheng'"
      ]
     },
     "execution_count": 5,
     "metadata": {},
     "output_type": "execute_result"
    },
    {
     "data": {
      "text/plain": [
       "'http://api.openweathermap.org/data/2.5/weather?q=macheng,cn&units=imperial&APPID=275d975a1c2099dde8c73d59417061cd'"
      ]
     },
     "execution_count": 5,
     "metadata": {},
     "output_type": "execute_result"
    },
    {
     "data": {
      "text/plain": [
       "'----------------------------------------------------'"
      ]
     },
     "execution_count": 5,
     "metadata": {},
     "output_type": "execute_result"
    },
    {
     "data": {
      "text/plain": [
       "'Processing request for city 325: mys shmidta'"
      ]
     },
     "execution_count": 5,
     "metadata": {},
     "output_type": "execute_result"
    },
    {
     "data": {
      "text/plain": [
       "'http://api.openweathermap.org/data/2.5/weather?q=mys shmidta,ru&units=imperial&APPID=275d975a1c2099dde8c73d59417061cd'"
      ]
     },
     "execution_count": 5,
     "metadata": {},
     "output_type": "execute_result"
    },
    {
     "data": {
      "text/plain": [
       "'City not found. Proceeding to next city on list...'"
      ]
     },
     "execution_count": 5,
     "metadata": {},
     "output_type": "execute_result"
    },
    {
     "data": {
      "text/plain": [
       "'----------------------------------------------------'"
      ]
     },
     "execution_count": 5,
     "metadata": {},
     "output_type": "execute_result"
    },
    {
     "data": {
      "text/plain": [
       "'Processing request for city 326: kijang'"
      ]
     },
     "execution_count": 5,
     "metadata": {},
     "output_type": "execute_result"
    },
    {
     "data": {
      "text/plain": [
       "'http://api.openweathermap.org/data/2.5/weather?q=kijang,id&units=imperial&APPID=275d975a1c2099dde8c73d59417061cd'"
      ]
     },
     "execution_count": 5,
     "metadata": {},
     "output_type": "execute_result"
    },
    {
     "data": {
      "text/plain": [
       "'----------------------------------------------------'"
      ]
     },
     "execution_count": 5,
     "metadata": {},
     "output_type": "execute_result"
    },
    {
     "data": {
      "text/plain": [
       "'Processing request for city 327: gladstone'"
      ]
     },
     "execution_count": 5,
     "metadata": {},
     "output_type": "execute_result"
    },
    {
     "data": {
      "text/plain": [
       "'http://api.openweathermap.org/data/2.5/weather?q=gladstone,au&units=imperial&APPID=275d975a1c2099dde8c73d59417061cd'"
      ]
     },
     "execution_count": 5,
     "metadata": {},
     "output_type": "execute_result"
    },
    {
     "data": {
      "text/plain": [
       "'----------------------------------------------------'"
      ]
     },
     "execution_count": 5,
     "metadata": {},
     "output_type": "execute_result"
    },
    {
     "data": {
      "text/plain": [
       "'Processing request for city 328: sangar'"
      ]
     },
     "execution_count": 5,
     "metadata": {},
     "output_type": "execute_result"
    },
    {
     "data": {
      "text/plain": [
       "'http://api.openweathermap.org/data/2.5/weather?q=sangar,ru&units=imperial&APPID=275d975a1c2099dde8c73d59417061cd'"
      ]
     },
     "execution_count": 5,
     "metadata": {},
     "output_type": "execute_result"
    },
    {
     "data": {
      "text/plain": [
       "'----------------------------------------------------'"
      ]
     },
     "execution_count": 5,
     "metadata": {},
     "output_type": "execute_result"
    },
    {
     "data": {
      "text/plain": [
       "'Processing request for city 329: quillota'"
      ]
     },
     "execution_count": 5,
     "metadata": {},
     "output_type": "execute_result"
    },
    {
     "data": {
      "text/plain": [
       "'http://api.openweathermap.org/data/2.5/weather?q=quillota,cl&units=imperial&APPID=275d975a1c2099dde8c73d59417061cd'"
      ]
     },
     "execution_count": 5,
     "metadata": {},
     "output_type": "execute_result"
    },
    {
     "data": {
      "text/plain": [
       "'----------------------------------------------------'"
      ]
     },
     "execution_count": 5,
     "metadata": {},
     "output_type": "execute_result"
    },
    {
     "data": {
      "text/plain": [
       "'Processing request for city 330: hazorasp'"
      ]
     },
     "execution_count": 5,
     "metadata": {},
     "output_type": "execute_result"
    },
    {
     "data": {
      "text/plain": [
       "'http://api.openweathermap.org/data/2.5/weather?q=hazorasp,uz&units=imperial&APPID=275d975a1c2099dde8c73d59417061cd'"
      ]
     },
     "execution_count": 5,
     "metadata": {},
     "output_type": "execute_result"
    },
    {
     "data": {
      "text/plain": [
       "'----------------------------------------------------'"
      ]
     },
     "execution_count": 5,
     "metadata": {},
     "output_type": "execute_result"
    },
    {
     "data": {
      "text/plain": [
       "'Processing request for city 331: bathsheba'"
      ]
     },
     "execution_count": 5,
     "metadata": {},
     "output_type": "execute_result"
    },
    {
     "data": {
      "text/plain": [
       "'http://api.openweathermap.org/data/2.5/weather?q=bathsheba,bb&units=imperial&APPID=275d975a1c2099dde8c73d59417061cd'"
      ]
     },
     "execution_count": 5,
     "metadata": {},
     "output_type": "execute_result"
    },
    {
     "data": {
      "text/plain": [
       "'----------------------------------------------------'"
      ]
     },
     "execution_count": 5,
     "metadata": {},
     "output_type": "execute_result"
    },
    {
     "data": {
      "text/plain": [
       "'Processing request for city 332: severo-kurilsk'"
      ]
     },
     "execution_count": 5,
     "metadata": {},
     "output_type": "execute_result"
    },
    {
     "data": {
      "text/plain": [
       "'http://api.openweathermap.org/data/2.5/weather?q=severo-kurilsk,ru&units=imperial&APPID=275d975a1c2099dde8c73d59417061cd'"
      ]
     },
     "execution_count": 5,
     "metadata": {},
     "output_type": "execute_result"
    },
    {
     "data": {
      "text/plain": [
       "'----------------------------------------------------'"
      ]
     },
     "execution_count": 5,
     "metadata": {},
     "output_type": "execute_result"
    },
    {
     "data": {
      "text/plain": [
       "'Processing request for city 333: peterhead'"
      ]
     },
     "execution_count": 5,
     "metadata": {},
     "output_type": "execute_result"
    },
    {
     "data": {
      "text/plain": [
       "'http://api.openweathermap.org/data/2.5/weather?q=peterhead,gb&units=imperial&APPID=275d975a1c2099dde8c73d59417061cd'"
      ]
     },
     "execution_count": 5,
     "metadata": {},
     "output_type": "execute_result"
    },
    {
     "data": {
      "text/plain": [
       "'----------------------------------------------------'"
      ]
     },
     "execution_count": 5,
     "metadata": {},
     "output_type": "execute_result"
    },
    {
     "data": {
      "text/plain": [
       "'Processing request for city 334: ixtapa'"
      ]
     },
     "execution_count": 5,
     "metadata": {},
     "output_type": "execute_result"
    },
    {
     "data": {
      "text/plain": [
       "'http://api.openweathermap.org/data/2.5/weather?q=ixtapa,mx&units=imperial&APPID=275d975a1c2099dde8c73d59417061cd'"
      ]
     },
     "execution_count": 5,
     "metadata": {},
     "output_type": "execute_result"
    },
    {
     "data": {
      "text/plain": [
       "'----------------------------------------------------'"
      ]
     },
     "execution_count": 5,
     "metadata": {},
     "output_type": "execute_result"
    },
    {
     "data": {
      "text/plain": [
       "'Processing request for city 335: mae sot'"
      ]
     },
     "execution_count": 5,
     "metadata": {},
     "output_type": "execute_result"
    },
    {
     "data": {
      "text/plain": [
       "'http://api.openweathermap.org/data/2.5/weather?q=mae sot,th&units=imperial&APPID=275d975a1c2099dde8c73d59417061cd'"
      ]
     },
     "execution_count": 5,
     "metadata": {},
     "output_type": "execute_result"
    },
    {
     "data": {
      "text/plain": [
       "'----------------------------------------------------'"
      ]
     },
     "execution_count": 5,
     "metadata": {},
     "output_type": "execute_result"
    },
    {
     "data": {
      "text/plain": [
       "'Processing request for city 336: la oroya'"
      ]
     },
     "execution_count": 5,
     "metadata": {},
     "output_type": "execute_result"
    },
    {
     "data": {
      "text/plain": [
       "'http://api.openweathermap.org/data/2.5/weather?q=la oroya,pe&units=imperial&APPID=275d975a1c2099dde8c73d59417061cd'"
      ]
     },
     "execution_count": 5,
     "metadata": {},
     "output_type": "execute_result"
    },
    {
     "data": {
      "text/plain": [
       "'----------------------------------------------------'"
      ]
     },
     "execution_count": 5,
     "metadata": {},
     "output_type": "execute_result"
    },
    {
     "data": {
      "text/plain": [
       "'Processing request for city 337: wilmington island'"
      ]
     },
     "execution_count": 5,
     "metadata": {},
     "output_type": "execute_result"
    },
    {
     "data": {
      "text/plain": [
       "'http://api.openweathermap.org/data/2.5/weather?q=wilmington island,us&units=imperial&APPID=275d975a1c2099dde8c73d59417061cd'"
      ]
     },
     "execution_count": 5,
     "metadata": {},
     "output_type": "execute_result"
    },
    {
     "data": {
      "text/plain": [
       "'----------------------------------------------------'"
      ]
     },
     "execution_count": 5,
     "metadata": {},
     "output_type": "execute_result"
    },
    {
     "data": {
      "text/plain": [
       "'Processing request for city 338: novikovo'"
      ]
     },
     "execution_count": 5,
     "metadata": {},
     "output_type": "execute_result"
    },
    {
     "data": {
      "text/plain": [
       "'http://api.openweathermap.org/data/2.5/weather?q=novikovo,ru&units=imperial&APPID=275d975a1c2099dde8c73d59417061cd'"
      ]
     },
     "execution_count": 5,
     "metadata": {},
     "output_type": "execute_result"
    },
    {
     "data": {
      "text/plain": [
       "'----------------------------------------------------'"
      ]
     },
     "execution_count": 5,
     "metadata": {},
     "output_type": "execute_result"
    },
    {
     "data": {
      "text/plain": [
       "'Processing request for city 339: talaya'"
      ]
     },
     "execution_count": 5,
     "metadata": {},
     "output_type": "execute_result"
    },
    {
     "data": {
      "text/plain": [
       "'http://api.openweathermap.org/data/2.5/weather?q=talaya,ru&units=imperial&APPID=275d975a1c2099dde8c73d59417061cd'"
      ]
     },
     "execution_count": 5,
     "metadata": {},
     "output_type": "execute_result"
    },
    {
     "data": {
      "text/plain": [
       "'----------------------------------------------------'"
      ]
     },
     "execution_count": 5,
     "metadata": {},
     "output_type": "execute_result"
    },
    {
     "data": {
      "text/plain": [
       "'Processing request for city 340: tura'"
      ]
     },
     "execution_count": 5,
     "metadata": {},
     "output_type": "execute_result"
    },
    {
     "data": {
      "text/plain": [
       "'http://api.openweathermap.org/data/2.5/weather?q=tura,ru&units=imperial&APPID=275d975a1c2099dde8c73d59417061cd'"
      ]
     },
     "execution_count": 5,
     "metadata": {},
     "output_type": "execute_result"
    },
    {
     "data": {
      "text/plain": [
       "'----------------------------------------------------'"
      ]
     },
     "execution_count": 5,
     "metadata": {},
     "output_type": "execute_result"
    },
    {
     "data": {
      "text/plain": [
       "'Processing request for city 341: natal'"
      ]
     },
     "execution_count": 5,
     "metadata": {},
     "output_type": "execute_result"
    },
    {
     "data": {
      "text/plain": [
       "'http://api.openweathermap.org/data/2.5/weather?q=natal,br&units=imperial&APPID=275d975a1c2099dde8c73d59417061cd'"
      ]
     },
     "execution_count": 5,
     "metadata": {},
     "output_type": "execute_result"
    },
    {
     "data": {
      "text/plain": [
       "'----------------------------------------------------'"
      ]
     },
     "execution_count": 5,
     "metadata": {},
     "output_type": "execute_result"
    },
    {
     "data": {
      "text/plain": [
       "'Processing request for city 342: bulolo'"
      ]
     },
     "execution_count": 5,
     "metadata": {},
     "output_type": "execute_result"
    },
    {
     "data": {
      "text/plain": [
       "'http://api.openweathermap.org/data/2.5/weather?q=bulolo,pg&units=imperial&APPID=275d975a1c2099dde8c73d59417061cd'"
      ]
     },
     "execution_count": 5,
     "metadata": {},
     "output_type": "execute_result"
    },
    {
     "data": {
      "text/plain": [
       "'----------------------------------------------------'"
      ]
     },
     "execution_count": 5,
     "metadata": {},
     "output_type": "execute_result"
    },
    {
     "data": {
      "text/plain": [
       "'Processing request for city 343: hamilton'"
      ]
     },
     "execution_count": 5,
     "metadata": {},
     "output_type": "execute_result"
    },
    {
     "data": {
      "text/plain": [
       "'http://api.openweathermap.org/data/2.5/weather?q=hamilton,bm&units=imperial&APPID=275d975a1c2099dde8c73d59417061cd'"
      ]
     },
     "execution_count": 5,
     "metadata": {},
     "output_type": "execute_result"
    },
    {
     "data": {
      "text/plain": [
       "'----------------------------------------------------'"
      ]
     },
     "execution_count": 5,
     "metadata": {},
     "output_type": "execute_result"
    },
    {
     "data": {
      "text/plain": [
       "'Processing request for city 344: kwinana'"
      ]
     },
     "execution_count": 5,
     "metadata": {},
     "output_type": "execute_result"
    },
    {
     "data": {
      "text/plain": [
       "'http://api.openweathermap.org/data/2.5/weather?q=kwinana,au&units=imperial&APPID=275d975a1c2099dde8c73d59417061cd'"
      ]
     },
     "execution_count": 5,
     "metadata": {},
     "output_type": "execute_result"
    },
    {
     "data": {
      "text/plain": [
       "'----------------------------------------------------'"
      ]
     },
     "execution_count": 5,
     "metadata": {},
     "output_type": "execute_result"
    },
    {
     "data": {
      "text/plain": [
       "'Processing request for city 345: enid'"
      ]
     },
     "execution_count": 5,
     "metadata": {},
     "output_type": "execute_result"
    },
    {
     "data": {
      "text/plain": [
       "'http://api.openweathermap.org/data/2.5/weather?q=enid,us&units=imperial&APPID=275d975a1c2099dde8c73d59417061cd'"
      ]
     },
     "execution_count": 5,
     "metadata": {},
     "output_type": "execute_result"
    },
    {
     "data": {
      "text/plain": [
       "'----------------------------------------------------'"
      ]
     },
     "execution_count": 5,
     "metadata": {},
     "output_type": "execute_result"
    },
    {
     "data": {
      "text/plain": [
       "'Processing request for city 346: ambilobe'"
      ]
     },
     "execution_count": 5,
     "metadata": {},
     "output_type": "execute_result"
    },
    {
     "data": {
      "text/plain": [
       "'http://api.openweathermap.org/data/2.5/weather?q=ambilobe,mg&units=imperial&APPID=275d975a1c2099dde8c73d59417061cd'"
      ]
     },
     "execution_count": 5,
     "metadata": {},
     "output_type": "execute_result"
    },
    {
     "data": {
      "text/plain": [
       "'----------------------------------------------------'"
      ]
     },
     "execution_count": 5,
     "metadata": {},
     "output_type": "execute_result"
    },
    {
     "data": {
      "text/plain": [
       "'Processing request for city 347: guaymas'"
      ]
     },
     "execution_count": 5,
     "metadata": {},
     "output_type": "execute_result"
    },
    {
     "data": {
      "text/plain": [
       "'http://api.openweathermap.org/data/2.5/weather?q=guaymas,mx&units=imperial&APPID=275d975a1c2099dde8c73d59417061cd'"
      ]
     },
     "execution_count": 5,
     "metadata": {},
     "output_type": "execute_result"
    },
    {
     "data": {
      "text/plain": [
       "'----------------------------------------------------'"
      ]
     },
     "execution_count": 5,
     "metadata": {},
     "output_type": "execute_result"
    },
    {
     "data": {
      "text/plain": [
       "'Processing request for city 348: springbok'"
      ]
     },
     "execution_count": 5,
     "metadata": {},
     "output_type": "execute_result"
    },
    {
     "data": {
      "text/plain": [
       "'http://api.openweathermap.org/data/2.5/weather?q=springbok,za&units=imperial&APPID=275d975a1c2099dde8c73d59417061cd'"
      ]
     },
     "execution_count": 5,
     "metadata": {},
     "output_type": "execute_result"
    },
    {
     "data": {
      "text/plain": [
       "'----------------------------------------------------'"
      ]
     },
     "execution_count": 5,
     "metadata": {},
     "output_type": "execute_result"
    },
    {
     "data": {
      "text/plain": [
       "'Processing request for city 349: mayskiy'"
      ]
     },
     "execution_count": 5,
     "metadata": {},
     "output_type": "execute_result"
    },
    {
     "data": {
      "text/plain": [
       "'http://api.openweathermap.org/data/2.5/weather?q=mayskiy,ru&units=imperial&APPID=275d975a1c2099dde8c73d59417061cd'"
      ]
     },
     "execution_count": 5,
     "metadata": {},
     "output_type": "execute_result"
    },
    {
     "data": {
      "text/plain": [
       "'----------------------------------------------------'"
      ]
     },
     "execution_count": 5,
     "metadata": {},
     "output_type": "execute_result"
    },
    {
     "data": {
      "text/plain": [
       "'Processing request for city 350: manggar'"
      ]
     },
     "execution_count": 5,
     "metadata": {},
     "output_type": "execute_result"
    },
    {
     "data": {
      "text/plain": [
       "'http://api.openweathermap.org/data/2.5/weather?q=manggar,id&units=imperial&APPID=275d975a1c2099dde8c73d59417061cd'"
      ]
     },
     "execution_count": 5,
     "metadata": {},
     "output_type": "execute_result"
    },
    {
     "data": {
      "text/plain": [
       "'----------------------------------------------------'"
      ]
     },
     "execution_count": 5,
     "metadata": {},
     "output_type": "execute_result"
    },
    {
     "data": {
      "text/plain": [
       "'Processing request for city 351: kharp'"
      ]
     },
     "execution_count": 5,
     "metadata": {},
     "output_type": "execute_result"
    },
    {
     "data": {
      "text/plain": [
       "'http://api.openweathermap.org/data/2.5/weather?q=kharp,ru&units=imperial&APPID=275d975a1c2099dde8c73d59417061cd'"
      ]
     },
     "execution_count": 5,
     "metadata": {},
     "output_type": "execute_result"
    },
    {
     "data": {
      "text/plain": [
       "'----------------------------------------------------'"
      ]
     },
     "execution_count": 5,
     "metadata": {},
     "output_type": "execute_result"
    },
    {
     "data": {
      "text/plain": [
       "'Processing request for city 352: nuuk'"
      ]
     },
     "execution_count": 5,
     "metadata": {},
     "output_type": "execute_result"
    },
    {
     "data": {
      "text/plain": [
       "'http://api.openweathermap.org/data/2.5/weather?q=nuuk,gl&units=imperial&APPID=275d975a1c2099dde8c73d59417061cd'"
      ]
     },
     "execution_count": 5,
     "metadata": {},
     "output_type": "execute_result"
    },
    {
     "data": {
      "text/plain": [
       "'----------------------------------------------------'"
      ]
     },
     "execution_count": 5,
     "metadata": {},
     "output_type": "execute_result"
    },
    {
     "data": {
      "text/plain": [
       "'Processing request for city 353: teguise'"
      ]
     },
     "execution_count": 5,
     "metadata": {},
     "output_type": "execute_result"
    },
    {
     "data": {
      "text/plain": [
       "'http://api.openweathermap.org/data/2.5/weather?q=teguise,es&units=imperial&APPID=275d975a1c2099dde8c73d59417061cd'"
      ]
     },
     "execution_count": 5,
     "metadata": {},
     "output_type": "execute_result"
    },
    {
     "data": {
      "text/plain": [
       "'----------------------------------------------------'"
      ]
     },
     "execution_count": 5,
     "metadata": {},
     "output_type": "execute_result"
    },
    {
     "data": {
      "text/plain": [
       "'Processing request for city 354: maumere'"
      ]
     },
     "execution_count": 5,
     "metadata": {},
     "output_type": "execute_result"
    },
    {
     "data": {
      "text/plain": [
       "'http://api.openweathermap.org/data/2.5/weather?q=maumere,id&units=imperial&APPID=275d975a1c2099dde8c73d59417061cd'"
      ]
     },
     "execution_count": 5,
     "metadata": {},
     "output_type": "execute_result"
    },
    {
     "data": {
      "text/plain": [
       "'----------------------------------------------------'"
      ]
     },
     "execution_count": 5,
     "metadata": {},
     "output_type": "execute_result"
    },
    {
     "data": {
      "text/plain": [
       "'Processing request for city 355: odweyne'"
      ]
     },
     "execution_count": 5,
     "metadata": {},
     "output_type": "execute_result"
    },
    {
     "data": {
      "text/plain": [
       "'http://api.openweathermap.org/data/2.5/weather?q=odweyne,so&units=imperial&APPID=275d975a1c2099dde8c73d59417061cd'"
      ]
     },
     "execution_count": 5,
     "metadata": {},
     "output_type": "execute_result"
    },
    {
     "data": {
      "text/plain": [
       "'City not found. Proceeding to next city on list...'"
      ]
     },
     "execution_count": 5,
     "metadata": {},
     "output_type": "execute_result"
    },
    {
     "data": {
      "text/plain": [
       "'----------------------------------------------------'"
      ]
     },
     "execution_count": 5,
     "metadata": {},
     "output_type": "execute_result"
    },
    {
     "data": {
      "text/plain": [
       "'Processing request for city 356: denpasar'"
      ]
     },
     "execution_count": 5,
     "metadata": {},
     "output_type": "execute_result"
    },
    {
     "data": {
      "text/plain": [
       "'http://api.openweathermap.org/data/2.5/weather?q=denpasar,id&units=imperial&APPID=275d975a1c2099dde8c73d59417061cd'"
      ]
     },
     "execution_count": 5,
     "metadata": {},
     "output_type": "execute_result"
    },
    {
     "data": {
      "text/plain": [
       "'----------------------------------------------------'"
      ]
     },
     "execution_count": 5,
     "metadata": {},
     "output_type": "execute_result"
    },
    {
     "data": {
      "text/plain": [
       "'Processing request for city 357: lexington'"
      ]
     },
     "execution_count": 5,
     "metadata": {},
     "output_type": "execute_result"
    },
    {
     "data": {
      "text/plain": [
       "'http://api.openweathermap.org/data/2.5/weather?q=lexington,us&units=imperial&APPID=275d975a1c2099dde8c73d59417061cd'"
      ]
     },
     "execution_count": 5,
     "metadata": {},
     "output_type": "execute_result"
    },
    {
     "data": {
      "text/plain": [
       "'----------------------------------------------------'"
      ]
     },
     "execution_count": 5,
     "metadata": {},
     "output_type": "execute_result"
    },
    {
     "data": {
      "text/plain": [
       "'Processing request for city 358: barentsburg'"
      ]
     },
     "execution_count": 5,
     "metadata": {},
     "output_type": "execute_result"
    },
    {
     "data": {
      "text/plain": [
       "'http://api.openweathermap.org/data/2.5/weather?q=barentsburg,sj&units=imperial&APPID=275d975a1c2099dde8c73d59417061cd'"
      ]
     },
     "execution_count": 5,
     "metadata": {},
     "output_type": "execute_result"
    },
    {
     "data": {
      "text/plain": [
       "'City not found. Proceeding to next city on list...'"
      ]
     },
     "execution_count": 5,
     "metadata": {},
     "output_type": "execute_result"
    },
    {
     "data": {
      "text/plain": [
       "'----------------------------------------------------'"
      ]
     },
     "execution_count": 5,
     "metadata": {},
     "output_type": "execute_result"
    },
    {
     "data": {
      "text/plain": [
       "'Processing request for city 359: yithion'"
      ]
     },
     "execution_count": 5,
     "metadata": {},
     "output_type": "execute_result"
    },
    {
     "data": {
      "text/plain": [
       "'http://api.openweathermap.org/data/2.5/weather?q=yithion,gr&units=imperial&APPID=275d975a1c2099dde8c73d59417061cd'"
      ]
     },
     "execution_count": 5,
     "metadata": {},
     "output_type": "execute_result"
    },
    {
     "data": {
      "text/plain": [
       "'City not found. Proceeding to next city on list...'"
      ]
     },
     "execution_count": 5,
     "metadata": {},
     "output_type": "execute_result"
    },
    {
     "data": {
      "text/plain": [
       "'----------------------------------------------------'"
      ]
     },
     "execution_count": 5,
     "metadata": {},
     "output_type": "execute_result"
    },
    {
     "data": {
      "text/plain": [
       "'Processing request for city 360: cayenne'"
      ]
     },
     "execution_count": 5,
     "metadata": {},
     "output_type": "execute_result"
    },
    {
     "data": {
      "text/plain": [
       "'http://api.openweathermap.org/data/2.5/weather?q=cayenne,gf&units=imperial&APPID=275d975a1c2099dde8c73d59417061cd'"
      ]
     },
     "execution_count": 5,
     "metadata": {},
     "output_type": "execute_result"
    },
    {
     "data": {
      "text/plain": [
       "'----------------------------------------------------'"
      ]
     },
     "execution_count": 5,
     "metadata": {},
     "output_type": "execute_result"
    },
    {
     "data": {
      "text/plain": [
       "'----------------------------------------------------'"
      ]
     },
     "execution_count": 5,
     "metadata": {},
     "output_type": "execute_result"
    },
    {
     "data": {
      "text/plain": [
       "'Pausing API requests for 20 seconds.'"
      ]
     },
     "execution_count": 5,
     "metadata": {},
     "output_type": "execute_result"
    },
    {
     "data": {
      "text/plain": [
       "\"(Don't want to overload my free account here.)\""
      ]
     },
     "execution_count": 5,
     "metadata": {},
     "output_type": "execute_result"
    },
    {
     "data": {
      "text/plain": [
       "'----------------------------------------------------'"
      ]
     },
     "execution_count": 5,
     "metadata": {},
     "output_type": "execute_result"
    },
    {
     "data": {
      "text/plain": [
       "'Processing request for city 361: pointe michel'"
      ]
     },
     "execution_count": 5,
     "metadata": {},
     "output_type": "execute_result"
    },
    {
     "data": {
      "text/plain": [
       "'http://api.openweathermap.org/data/2.5/weather?q=pointe michel,dm&units=imperial&APPID=275d975a1c2099dde8c73d59417061cd'"
      ]
     },
     "execution_count": 5,
     "metadata": {},
     "output_type": "execute_result"
    },
    {
     "data": {
      "text/plain": [
       "'----------------------------------------------------'"
      ]
     },
     "execution_count": 5,
     "metadata": {},
     "output_type": "execute_result"
    },
    {
     "data": {
      "text/plain": [
       "'Processing request for city 362: olinda'"
      ]
     },
     "execution_count": 5,
     "metadata": {},
     "output_type": "execute_result"
    },
    {
     "data": {
      "text/plain": [
       "'http://api.openweathermap.org/data/2.5/weather?q=olinda,br&units=imperial&APPID=275d975a1c2099dde8c73d59417061cd'"
      ]
     },
     "execution_count": 5,
     "metadata": {},
     "output_type": "execute_result"
    },
    {
     "data": {
      "text/plain": [
       "'----------------------------------------------------'"
      ]
     },
     "execution_count": 5,
     "metadata": {},
     "output_type": "execute_result"
    },
    {
     "data": {
      "text/plain": [
       "'Processing request for city 363: tukrah'"
      ]
     },
     "execution_count": 5,
     "metadata": {},
     "output_type": "execute_result"
    },
    {
     "data": {
      "text/plain": [
       "'http://api.openweathermap.org/data/2.5/weather?q=tukrah,ly&units=imperial&APPID=275d975a1c2099dde8c73d59417061cd'"
      ]
     },
     "execution_count": 5,
     "metadata": {},
     "output_type": "execute_result"
    },
    {
     "data": {
      "text/plain": [
       "'City not found. Proceeding to next city on list...'"
      ]
     },
     "execution_count": 5,
     "metadata": {},
     "output_type": "execute_result"
    },
    {
     "data": {
      "text/plain": [
       "'----------------------------------------------------'"
      ]
     },
     "execution_count": 5,
     "metadata": {},
     "output_type": "execute_result"
    },
    {
     "data": {
      "text/plain": [
       "'Processing request for city 364: ambovombe'"
      ]
     },
     "execution_count": 5,
     "metadata": {},
     "output_type": "execute_result"
    },
    {
     "data": {
      "text/plain": [
       "'http://api.openweathermap.org/data/2.5/weather?q=ambovombe,mg&units=imperial&APPID=275d975a1c2099dde8c73d59417061cd'"
      ]
     },
     "execution_count": 5,
     "metadata": {},
     "output_type": "execute_result"
    },
    {
     "data": {
      "text/plain": [
       "'----------------------------------------------------'"
      ]
     },
     "execution_count": 5,
     "metadata": {},
     "output_type": "execute_result"
    },
    {
     "data": {
      "text/plain": [
       "'Processing request for city 365: vardo'"
      ]
     },
     "execution_count": 5,
     "metadata": {},
     "output_type": "execute_result"
    },
    {
     "data": {
      "text/plain": [
       "'http://api.openweathermap.org/data/2.5/weather?q=vardo,no&units=imperial&APPID=275d975a1c2099dde8c73d59417061cd'"
      ]
     },
     "execution_count": 5,
     "metadata": {},
     "output_type": "execute_result"
    },
    {
     "data": {
      "text/plain": [
       "'----------------------------------------------------'"
      ]
     },
     "execution_count": 5,
     "metadata": {},
     "output_type": "execute_result"
    },
    {
     "data": {
      "text/plain": [
       "'Processing request for city 366: formosa'"
      ]
     },
     "execution_count": 5,
     "metadata": {},
     "output_type": "execute_result"
    },
    {
     "data": {
      "text/plain": [
       "'http://api.openweathermap.org/data/2.5/weather?q=formosa,br&units=imperial&APPID=275d975a1c2099dde8c73d59417061cd'"
      ]
     },
     "execution_count": 5,
     "metadata": {},
     "output_type": "execute_result"
    },
    {
     "data": {
      "text/plain": [
       "'----------------------------------------------------'"
      ]
     },
     "execution_count": 5,
     "metadata": {},
     "output_type": "execute_result"
    },
    {
     "data": {
      "text/plain": [
       "'Processing request for city 367: beringovskiy'"
      ]
     },
     "execution_count": 5,
     "metadata": {},
     "output_type": "execute_result"
    },
    {
     "data": {
      "text/plain": [
       "'http://api.openweathermap.org/data/2.5/weather?q=beringovskiy,ru&units=imperial&APPID=275d975a1c2099dde8c73d59417061cd'"
      ]
     },
     "execution_count": 5,
     "metadata": {},
     "output_type": "execute_result"
    },
    {
     "data": {
      "text/plain": [
       "'----------------------------------------------------'"
      ]
     },
     "execution_count": 5,
     "metadata": {},
     "output_type": "execute_result"
    },
    {
     "data": {
      "text/plain": [
       "'Processing request for city 368: ballina'"
      ]
     },
     "execution_count": 5,
     "metadata": {},
     "output_type": "execute_result"
    },
    {
     "data": {
      "text/plain": [
       "'http://api.openweathermap.org/data/2.5/weather?q=ballina,au&units=imperial&APPID=275d975a1c2099dde8c73d59417061cd'"
      ]
     },
     "execution_count": 5,
     "metadata": {},
     "output_type": "execute_result"
    },
    {
     "data": {
      "text/plain": [
       "'----------------------------------------------------'"
      ]
     },
     "execution_count": 5,
     "metadata": {},
     "output_type": "execute_result"
    },
    {
     "data": {
      "text/plain": [
       "'Processing request for city 369: axim'"
      ]
     },
     "execution_count": 5,
     "metadata": {},
     "output_type": "execute_result"
    },
    {
     "data": {
      "text/plain": [
       "'http://api.openweathermap.org/data/2.5/weather?q=axim,gh&units=imperial&APPID=275d975a1c2099dde8c73d59417061cd'"
      ]
     },
     "execution_count": 5,
     "metadata": {},
     "output_type": "execute_result"
    },
    {
     "data": {
      "text/plain": [
       "'----------------------------------------------------'"
      ]
     },
     "execution_count": 5,
     "metadata": {},
     "output_type": "execute_result"
    },
    {
     "data": {
      "text/plain": [
       "'Processing request for city 370: cabedelo'"
      ]
     },
     "execution_count": 5,
     "metadata": {},
     "output_type": "execute_result"
    },
    {
     "data": {
      "text/plain": [
       "'http://api.openweathermap.org/data/2.5/weather?q=cabedelo,br&units=imperial&APPID=275d975a1c2099dde8c73d59417061cd'"
      ]
     },
     "execution_count": 5,
     "metadata": {},
     "output_type": "execute_result"
    },
    {
     "data": {
      "text/plain": [
       "'----------------------------------------------------'"
      ]
     },
     "execution_count": 5,
     "metadata": {},
     "output_type": "execute_result"
    },
    {
     "data": {
      "text/plain": [
       "'Processing request for city 371: tabiauea'"
      ]
     },
     "execution_count": 5,
     "metadata": {},
     "output_type": "execute_result"
    },
    {
     "data": {
      "text/plain": [
       "'http://api.openweathermap.org/data/2.5/weather?q=tabiauea,ki&units=imperial&APPID=275d975a1c2099dde8c73d59417061cd'"
      ]
     },
     "execution_count": 5,
     "metadata": {},
     "output_type": "execute_result"
    },
    {
     "data": {
      "text/plain": [
       "'City not found. Proceeding to next city on list...'"
      ]
     },
     "execution_count": 5,
     "metadata": {},
     "output_type": "execute_result"
    },
    {
     "data": {
      "text/plain": [
       "'----------------------------------------------------'"
      ]
     },
     "execution_count": 5,
     "metadata": {},
     "output_type": "execute_result"
    },
    {
     "data": {
      "text/plain": [
       "'Processing request for city 372: roswell'"
      ]
     },
     "execution_count": 5,
     "metadata": {},
     "output_type": "execute_result"
    },
    {
     "data": {
      "text/plain": [
       "'http://api.openweathermap.org/data/2.5/weather?q=roswell,us&units=imperial&APPID=275d975a1c2099dde8c73d59417061cd'"
      ]
     },
     "execution_count": 5,
     "metadata": {},
     "output_type": "execute_result"
    },
    {
     "data": {
      "text/plain": [
       "'----------------------------------------------------'"
      ]
     },
     "execution_count": 5,
     "metadata": {},
     "output_type": "execute_result"
    },
    {
     "data": {
      "text/plain": [
       "'Processing request for city 373: haines junction'"
      ]
     },
     "execution_count": 5,
     "metadata": {},
     "output_type": "execute_result"
    },
    {
     "data": {
      "text/plain": [
       "'http://api.openweathermap.org/data/2.5/weather?q=haines junction,ca&units=imperial&APPID=275d975a1c2099dde8c73d59417061cd'"
      ]
     },
     "execution_count": 5,
     "metadata": {},
     "output_type": "execute_result"
    },
    {
     "data": {
      "text/plain": [
       "'----------------------------------------------------'"
      ]
     },
     "execution_count": 5,
     "metadata": {},
     "output_type": "execute_result"
    },
    {
     "data": {
      "text/plain": [
       "'Processing request for city 374: coquimbo'"
      ]
     },
     "execution_count": 5,
     "metadata": {},
     "output_type": "execute_result"
    },
    {
     "data": {
      "text/plain": [
       "'http://api.openweathermap.org/data/2.5/weather?q=coquimbo,cl&units=imperial&APPID=275d975a1c2099dde8c73d59417061cd'"
      ]
     },
     "execution_count": 5,
     "metadata": {},
     "output_type": "execute_result"
    },
    {
     "data": {
      "text/plain": [
       "'----------------------------------------------------'"
      ]
     },
     "execution_count": 5,
     "metadata": {},
     "output_type": "execute_result"
    },
    {
     "data": {
      "text/plain": [
       "'Processing request for city 375: roald'"
      ]
     },
     "execution_count": 5,
     "metadata": {},
     "output_type": "execute_result"
    },
    {
     "data": {
      "text/plain": [
       "'http://api.openweathermap.org/data/2.5/weather?q=roald,no&units=imperial&APPID=275d975a1c2099dde8c73d59417061cd'"
      ]
     },
     "execution_count": 5,
     "metadata": {},
     "output_type": "execute_result"
    },
    {
     "data": {
      "text/plain": [
       "'----------------------------------------------------'"
      ]
     },
     "execution_count": 5,
     "metadata": {},
     "output_type": "execute_result"
    },
    {
     "data": {
      "text/plain": [
       "'Processing request for city 376: arman'"
      ]
     },
     "execution_count": 5,
     "metadata": {},
     "output_type": "execute_result"
    },
    {
     "data": {
      "text/plain": [
       "'http://api.openweathermap.org/data/2.5/weather?q=arman,ru&units=imperial&APPID=275d975a1c2099dde8c73d59417061cd'"
      ]
     },
     "execution_count": 5,
     "metadata": {},
     "output_type": "execute_result"
    },
    {
     "data": {
      "text/plain": [
       "'----------------------------------------------------'"
      ]
     },
     "execution_count": 5,
     "metadata": {},
     "output_type": "execute_result"
    },
    {
     "data": {
      "text/plain": [
       "'Processing request for city 377: takoradi'"
      ]
     },
     "execution_count": 5,
     "metadata": {},
     "output_type": "execute_result"
    },
    {
     "data": {
      "text/plain": [
       "'http://api.openweathermap.org/data/2.5/weather?q=takoradi,gh&units=imperial&APPID=275d975a1c2099dde8c73d59417061cd'"
      ]
     },
     "execution_count": 5,
     "metadata": {},
     "output_type": "execute_result"
    },
    {
     "data": {
      "text/plain": [
       "'----------------------------------------------------'"
      ]
     },
     "execution_count": 5,
     "metadata": {},
     "output_type": "execute_result"
    },
    {
     "data": {
      "text/plain": [
       "'Processing request for city 378: paamiut'"
      ]
     },
     "execution_count": 5,
     "metadata": {},
     "output_type": "execute_result"
    },
    {
     "data": {
      "text/plain": [
       "'http://api.openweathermap.org/data/2.5/weather?q=paamiut,gl&units=imperial&APPID=275d975a1c2099dde8c73d59417061cd'"
      ]
     },
     "execution_count": 5,
     "metadata": {},
     "output_type": "execute_result"
    },
    {
     "data": {
      "text/plain": [
       "'----------------------------------------------------'"
      ]
     },
     "execution_count": 5,
     "metadata": {},
     "output_type": "execute_result"
    },
    {
     "data": {
      "text/plain": [
       "'Processing request for city 379: yerbogachen'"
      ]
     },
     "execution_count": 5,
     "metadata": {},
     "output_type": "execute_result"
    },
    {
     "data": {
      "text/plain": [
       "'http://api.openweathermap.org/data/2.5/weather?q=yerbogachen,ru&units=imperial&APPID=275d975a1c2099dde8c73d59417061cd'"
      ]
     },
     "execution_count": 5,
     "metadata": {},
     "output_type": "execute_result"
    },
    {
     "data": {
      "text/plain": [
       "'----------------------------------------------------'"
      ]
     },
     "execution_count": 5,
     "metadata": {},
     "output_type": "execute_result"
    },
    {
     "data": {
      "text/plain": [
       "'Processing request for city 380: flinders'"
      ]
     },
     "execution_count": 5,
     "metadata": {},
     "output_type": "execute_result"
    },
    {
     "data": {
      "text/plain": [
       "'http://api.openweathermap.org/data/2.5/weather?q=flinders,au&units=imperial&APPID=275d975a1c2099dde8c73d59417061cd'"
      ]
     },
     "execution_count": 5,
     "metadata": {},
     "output_type": "execute_result"
    },
    {
     "data": {
      "text/plain": [
       "'----------------------------------------------------'"
      ]
     },
     "execution_count": 5,
     "metadata": {},
     "output_type": "execute_result"
    },
    {
     "data": {
      "text/plain": [
       "'Processing request for city 381: paita'"
      ]
     },
     "execution_count": 5,
     "metadata": {},
     "output_type": "execute_result"
    },
    {
     "data": {
      "text/plain": [
       "'http://api.openweathermap.org/data/2.5/weather?q=paita,pe&units=imperial&APPID=275d975a1c2099dde8c73d59417061cd'"
      ]
     },
     "execution_count": 5,
     "metadata": {},
     "output_type": "execute_result"
    },
    {
     "data": {
      "text/plain": [
       "'----------------------------------------------------'"
      ]
     },
     "execution_count": 5,
     "metadata": {},
     "output_type": "execute_result"
    },
    {
     "data": {
      "text/plain": [
       "'Processing request for city 382: pisco'"
      ]
     },
     "execution_count": 5,
     "metadata": {},
     "output_type": "execute_result"
    },
    {
     "data": {
      "text/plain": [
       "'http://api.openweathermap.org/data/2.5/weather?q=pisco,pe&units=imperial&APPID=275d975a1c2099dde8c73d59417061cd'"
      ]
     },
     "execution_count": 5,
     "metadata": {},
     "output_type": "execute_result"
    },
    {
     "data": {
      "text/plain": [
       "'----------------------------------------------------'"
      ]
     },
     "execution_count": 5,
     "metadata": {},
     "output_type": "execute_result"
    },
    {
     "data": {
      "text/plain": [
       "'Processing request for city 383: grindavik'"
      ]
     },
     "execution_count": 5,
     "metadata": {},
     "output_type": "execute_result"
    },
    {
     "data": {
      "text/plain": [
       "'http://api.openweathermap.org/data/2.5/weather?q=grindavik,is&units=imperial&APPID=275d975a1c2099dde8c73d59417061cd'"
      ]
     },
     "execution_count": 5,
     "metadata": {},
     "output_type": "execute_result"
    },
    {
     "data": {
      "text/plain": [
       "'----------------------------------------------------'"
      ]
     },
     "execution_count": 5,
     "metadata": {},
     "output_type": "execute_result"
    },
    {
     "data": {
      "text/plain": [
       "'Processing request for city 384: kavaratti'"
      ]
     },
     "execution_count": 5,
     "metadata": {},
     "output_type": "execute_result"
    },
    {
     "data": {
      "text/plain": [
       "'http://api.openweathermap.org/data/2.5/weather?q=kavaratti,in&units=imperial&APPID=275d975a1c2099dde8c73d59417061cd'"
      ]
     },
     "execution_count": 5,
     "metadata": {},
     "output_type": "execute_result"
    },
    {
     "data": {
      "text/plain": [
       "'----------------------------------------------------'"
      ]
     },
     "execution_count": 5,
     "metadata": {},
     "output_type": "execute_result"
    },
    {
     "data": {
      "text/plain": [
       "'Processing request for city 385: amderma'"
      ]
     },
     "execution_count": 5,
     "metadata": {},
     "output_type": "execute_result"
    },
    {
     "data": {
      "text/plain": [
       "'http://api.openweathermap.org/data/2.5/weather?q=amderma,ru&units=imperial&APPID=275d975a1c2099dde8c73d59417061cd'"
      ]
     },
     "execution_count": 5,
     "metadata": {},
     "output_type": "execute_result"
    },
    {
     "data": {
      "text/plain": [
       "'City not found. Proceeding to next city on list...'"
      ]
     },
     "execution_count": 5,
     "metadata": {},
     "output_type": "execute_result"
    },
    {
     "data": {
      "text/plain": [
       "'----------------------------------------------------'"
      ]
     },
     "execution_count": 5,
     "metadata": {},
     "output_type": "execute_result"
    },
    {
     "data": {
      "text/plain": [
       "'Processing request for city 386: mackay'"
      ]
     },
     "execution_count": 5,
     "metadata": {},
     "output_type": "execute_result"
    },
    {
     "data": {
      "text/plain": [
       "'http://api.openweathermap.org/data/2.5/weather?q=mackay,au&units=imperial&APPID=275d975a1c2099dde8c73d59417061cd'"
      ]
     },
     "execution_count": 5,
     "metadata": {},
     "output_type": "execute_result"
    },
    {
     "data": {
      "text/plain": [
       "'----------------------------------------------------'"
      ]
     },
     "execution_count": 5,
     "metadata": {},
     "output_type": "execute_result"
    },
    {
     "data": {
      "text/plain": [
       "'Processing request for city 387: saint anthony'"
      ]
     },
     "execution_count": 5,
     "metadata": {},
     "output_type": "execute_result"
    },
    {
     "data": {
      "text/plain": [
       "'http://api.openweathermap.org/data/2.5/weather?q=saint anthony,ca&units=imperial&APPID=275d975a1c2099dde8c73d59417061cd'"
      ]
     },
     "execution_count": 5,
     "metadata": {},
     "output_type": "execute_result"
    },
    {
     "data": {
      "text/plain": [
       "'City not found. Proceeding to next city on list...'"
      ]
     },
     "execution_count": 5,
     "metadata": {},
     "output_type": "execute_result"
    },
    {
     "data": {
      "text/plain": [
       "'----------------------------------------------------'"
      ]
     },
     "execution_count": 5,
     "metadata": {},
     "output_type": "execute_result"
    },
    {
     "data": {
      "text/plain": [
       "'Processing request for city 388: doba'"
      ]
     },
     "execution_count": 5,
     "metadata": {},
     "output_type": "execute_result"
    },
    {
     "data": {
      "text/plain": [
       "'http://api.openweathermap.org/data/2.5/weather?q=doba,td&units=imperial&APPID=275d975a1c2099dde8c73d59417061cd'"
      ]
     },
     "execution_count": 5,
     "metadata": {},
     "output_type": "execute_result"
    },
    {
     "data": {
      "text/plain": [
       "'----------------------------------------------------'"
      ]
     },
     "execution_count": 5,
     "metadata": {},
     "output_type": "execute_result"
    },
    {
     "data": {
      "text/plain": [
       "'Processing request for city 389: sao joao da barra'"
      ]
     },
     "execution_count": 5,
     "metadata": {},
     "output_type": "execute_result"
    },
    {
     "data": {
      "text/plain": [
       "'http://api.openweathermap.org/data/2.5/weather?q=sao joao da barra,br&units=imperial&APPID=275d975a1c2099dde8c73d59417061cd'"
      ]
     },
     "execution_count": 5,
     "metadata": {},
     "output_type": "execute_result"
    },
    {
     "data": {
      "text/plain": [
       "'----------------------------------------------------'"
      ]
     },
     "execution_count": 5,
     "metadata": {},
     "output_type": "execute_result"
    },
    {
     "data": {
      "text/plain": [
       "'Processing request for city 390: abadan'"
      ]
     },
     "execution_count": 5,
     "metadata": {},
     "output_type": "execute_result"
    },
    {
     "data": {
      "text/plain": [
       "'http://api.openweathermap.org/data/2.5/weather?q=abadan,ir&units=imperial&APPID=275d975a1c2099dde8c73d59417061cd'"
      ]
     },
     "execution_count": 5,
     "metadata": {},
     "output_type": "execute_result"
    },
    {
     "data": {
      "text/plain": [
       "'----------------------------------------------------'"
      ]
     },
     "execution_count": 5,
     "metadata": {},
     "output_type": "execute_result"
    },
    {
     "data": {
      "text/plain": [
       "'Processing request for city 391: varkaus'"
      ]
     },
     "execution_count": 5,
     "metadata": {},
     "output_type": "execute_result"
    },
    {
     "data": {
      "text/plain": [
       "'http://api.openweathermap.org/data/2.5/weather?q=varkaus,fi&units=imperial&APPID=275d975a1c2099dde8c73d59417061cd'"
      ]
     },
     "execution_count": 5,
     "metadata": {},
     "output_type": "execute_result"
    },
    {
     "data": {
      "text/plain": [
       "'----------------------------------------------------'"
      ]
     },
     "execution_count": 5,
     "metadata": {},
     "output_type": "execute_result"
    },
    {
     "data": {
      "text/plain": [
       "'Processing request for city 392: finale ligure'"
      ]
     },
     "execution_count": 5,
     "metadata": {},
     "output_type": "execute_result"
    },
    {
     "data": {
      "text/plain": [
       "'http://api.openweathermap.org/data/2.5/weather?q=finale ligure,it&units=imperial&APPID=275d975a1c2099dde8c73d59417061cd'"
      ]
     },
     "execution_count": 5,
     "metadata": {},
     "output_type": "execute_result"
    },
    {
     "data": {
      "text/plain": [
       "'----------------------------------------------------'"
      ]
     },
     "execution_count": 5,
     "metadata": {},
     "output_type": "execute_result"
    },
    {
     "data": {
      "text/plain": [
       "'Processing request for city 393: gamba'"
      ]
     },
     "execution_count": 5,
     "metadata": {},
     "output_type": "execute_result"
    },
    {
     "data": {
      "text/plain": [
       "'http://api.openweathermap.org/data/2.5/weather?q=gamba,ga&units=imperial&APPID=275d975a1c2099dde8c73d59417061cd'"
      ]
     },
     "execution_count": 5,
     "metadata": {},
     "output_type": "execute_result"
    },
    {
     "data": {
      "text/plain": [
       "'----------------------------------------------------'"
      ]
     },
     "execution_count": 5,
     "metadata": {},
     "output_type": "execute_result"
    },
    {
     "data": {
      "text/plain": [
       "'Processing request for city 394: labutta'"
      ]
     },
     "execution_count": 5,
     "metadata": {},
     "output_type": "execute_result"
    },
    {
     "data": {
      "text/plain": [
       "'http://api.openweathermap.org/data/2.5/weather?q=labutta,mm&units=imperial&APPID=275d975a1c2099dde8c73d59417061cd'"
      ]
     },
     "execution_count": 5,
     "metadata": {},
     "output_type": "execute_result"
    },
    {
     "data": {
      "text/plain": [
       "'City not found. Proceeding to next city on list...'"
      ]
     },
     "execution_count": 5,
     "metadata": {},
     "output_type": "execute_result"
    },
    {
     "data": {
      "text/plain": [
       "'----------------------------------------------------'"
      ]
     },
     "execution_count": 5,
     "metadata": {},
     "output_type": "execute_result"
    },
    {
     "data": {
      "text/plain": [
       "'Processing request for city 395: blackwater'"
      ]
     },
     "execution_count": 5,
     "metadata": {},
     "output_type": "execute_result"
    },
    {
     "data": {
      "text/plain": [
       "'http://api.openweathermap.org/data/2.5/weather?q=blackwater,au&units=imperial&APPID=275d975a1c2099dde8c73d59417061cd'"
      ]
     },
     "execution_count": 5,
     "metadata": {},
     "output_type": "execute_result"
    },
    {
     "data": {
      "text/plain": [
       "'----------------------------------------------------'"
      ]
     },
     "execution_count": 5,
     "metadata": {},
     "output_type": "execute_result"
    },
    {
     "data": {
      "text/plain": [
       "'Processing request for city 396: lorengau'"
      ]
     },
     "execution_count": 5,
     "metadata": {},
     "output_type": "execute_result"
    },
    {
     "data": {
      "text/plain": [
       "'http://api.openweathermap.org/data/2.5/weather?q=lorengau,pg&units=imperial&APPID=275d975a1c2099dde8c73d59417061cd'"
      ]
     },
     "execution_count": 5,
     "metadata": {},
     "output_type": "execute_result"
    },
    {
     "data": {
      "text/plain": [
       "'----------------------------------------------------'"
      ]
     },
     "execution_count": 5,
     "metadata": {},
     "output_type": "execute_result"
    },
    {
     "data": {
      "text/plain": [
       "'Processing request for city 397: gagnoa'"
      ]
     },
     "execution_count": 5,
     "metadata": {},
     "output_type": "execute_result"
    },
    {
     "data": {
      "text/plain": [
       "'http://api.openweathermap.org/data/2.5/weather?q=gagnoa,ci&units=imperial&APPID=275d975a1c2099dde8c73d59417061cd'"
      ]
     },
     "execution_count": 5,
     "metadata": {},
     "output_type": "execute_result"
    },
    {
     "data": {
      "text/plain": [
       "'----------------------------------------------------'"
      ]
     },
     "execution_count": 5,
     "metadata": {},
     "output_type": "execute_result"
    },
    {
     "data": {
      "text/plain": [
       "'Processing request for city 398: cheyenne'"
      ]
     },
     "execution_count": 5,
     "metadata": {},
     "output_type": "execute_result"
    },
    {
     "data": {
      "text/plain": [
       "'http://api.openweathermap.org/data/2.5/weather?q=cheyenne,us&units=imperial&APPID=275d975a1c2099dde8c73d59417061cd'"
      ]
     },
     "execution_count": 5,
     "metadata": {},
     "output_type": "execute_result"
    },
    {
     "data": {
      "text/plain": [
       "'----------------------------------------------------'"
      ]
     },
     "execution_count": 5,
     "metadata": {},
     "output_type": "execute_result"
    },
    {
     "data": {
      "text/plain": [
       "'Processing request for city 399: arauca'"
      ]
     },
     "execution_count": 5,
     "metadata": {},
     "output_type": "execute_result"
    },
    {
     "data": {
      "text/plain": [
       "'http://api.openweathermap.org/data/2.5/weather?q=arauca,co&units=imperial&APPID=275d975a1c2099dde8c73d59417061cd'"
      ]
     },
     "execution_count": 5,
     "metadata": {},
     "output_type": "execute_result"
    },
    {
     "data": {
      "text/plain": [
       "'----------------------------------------------------'"
      ]
     },
     "execution_count": 5,
     "metadata": {},
     "output_type": "execute_result"
    },
    {
     "data": {
      "text/plain": [
       "'Processing request for city 400: alibag'"
      ]
     },
     "execution_count": 5,
     "metadata": {},
     "output_type": "execute_result"
    },
    {
     "data": {
      "text/plain": [
       "'http://api.openweathermap.org/data/2.5/weather?q=alibag,in&units=imperial&APPID=275d975a1c2099dde8c73d59417061cd'"
      ]
     },
     "execution_count": 5,
     "metadata": {},
     "output_type": "execute_result"
    },
    {
     "data": {
      "text/plain": [
       "'----------------------------------------------------'"
      ]
     },
     "execution_count": 5,
     "metadata": {},
     "output_type": "execute_result"
    },
    {
     "data": {
      "text/plain": [
       "'Processing request for city 401: amazar'"
      ]
     },
     "execution_count": 5,
     "metadata": {},
     "output_type": "execute_result"
    },
    {
     "data": {
      "text/plain": [
       "'http://api.openweathermap.org/data/2.5/weather?q=amazar,ru&units=imperial&APPID=275d975a1c2099dde8c73d59417061cd'"
      ]
     },
     "execution_count": 5,
     "metadata": {},
     "output_type": "execute_result"
    },
    {
     "data": {
      "text/plain": [
       "'----------------------------------------------------'"
      ]
     },
     "execution_count": 5,
     "metadata": {},
     "output_type": "execute_result"
    },
    {
     "data": {
      "text/plain": [
       "'Processing request for city 402: college'"
      ]
     },
     "execution_count": 5,
     "metadata": {},
     "output_type": "execute_result"
    },
    {
     "data": {
      "text/plain": [
       "'http://api.openweathermap.org/data/2.5/weather?q=college,us&units=imperial&APPID=275d975a1c2099dde8c73d59417061cd'"
      ]
     },
     "execution_count": 5,
     "metadata": {},
     "output_type": "execute_result"
    },
    {
     "data": {
      "text/plain": [
       "'----------------------------------------------------'"
      ]
     },
     "execution_count": 5,
     "metadata": {},
     "output_type": "execute_result"
    },
    {
     "data": {
      "text/plain": [
       "'Processing request for city 403: port-cartier'"
      ]
     },
     "execution_count": 5,
     "metadata": {},
     "output_type": "execute_result"
    },
    {
     "data": {
      "text/plain": [
       "'http://api.openweathermap.org/data/2.5/weather?q=port-cartier,ca&units=imperial&APPID=275d975a1c2099dde8c73d59417061cd'"
      ]
     },
     "execution_count": 5,
     "metadata": {},
     "output_type": "execute_result"
    },
    {
     "data": {
      "text/plain": [
       "'----------------------------------------------------'"
      ]
     },
     "execution_count": 5,
     "metadata": {},
     "output_type": "execute_result"
    },
    {
     "data": {
      "text/plain": [
       "'Processing request for city 404: peleduy'"
      ]
     },
     "execution_count": 5,
     "metadata": {},
     "output_type": "execute_result"
    },
    {
     "data": {
      "text/plain": [
       "'http://api.openweathermap.org/data/2.5/weather?q=peleduy,ru&units=imperial&APPID=275d975a1c2099dde8c73d59417061cd'"
      ]
     },
     "execution_count": 5,
     "metadata": {},
     "output_type": "execute_result"
    },
    {
     "data": {
      "text/plain": [
       "'----------------------------------------------------'"
      ]
     },
     "execution_count": 5,
     "metadata": {},
     "output_type": "execute_result"
    },
    {
     "data": {
      "text/plain": [
       "'Processing request for city 405: ruatoria'"
      ]
     },
     "execution_count": 5,
     "metadata": {},
     "output_type": "execute_result"
    },
    {
     "data": {
      "text/plain": [
       "'http://api.openweathermap.org/data/2.5/weather?q=ruatoria,nz&units=imperial&APPID=275d975a1c2099dde8c73d59417061cd'"
      ]
     },
     "execution_count": 5,
     "metadata": {},
     "output_type": "execute_result"
    },
    {
     "data": {
      "text/plain": [
       "'City not found. Proceeding to next city on list...'"
      ]
     },
     "execution_count": 5,
     "metadata": {},
     "output_type": "execute_result"
    },
    {
     "data": {
      "text/plain": [
       "'----------------------------------------------------'"
      ]
     },
     "execution_count": 5,
     "metadata": {},
     "output_type": "execute_result"
    },
    {
     "data": {
      "text/plain": [
       "'Processing request for city 406: padang'"
      ]
     },
     "execution_count": 5,
     "metadata": {},
     "output_type": "execute_result"
    },
    {
     "data": {
      "text/plain": [
       "'http://api.openweathermap.org/data/2.5/weather?q=padang,id&units=imperial&APPID=275d975a1c2099dde8c73d59417061cd'"
      ]
     },
     "execution_count": 5,
     "metadata": {},
     "output_type": "execute_result"
    },
    {
     "data": {
      "text/plain": [
       "'----------------------------------------------------'"
      ]
     },
     "execution_count": 5,
     "metadata": {},
     "output_type": "execute_result"
    },
    {
     "data": {
      "text/plain": [
       "'Processing request for city 407: bemidji'"
      ]
     },
     "execution_count": 5,
     "metadata": {},
     "output_type": "execute_result"
    },
    {
     "data": {
      "text/plain": [
       "'http://api.openweathermap.org/data/2.5/weather?q=bemidji,us&units=imperial&APPID=275d975a1c2099dde8c73d59417061cd'"
      ]
     },
     "execution_count": 5,
     "metadata": {},
     "output_type": "execute_result"
    },
    {
     "data": {
      "text/plain": [
       "'----------------------------------------------------'"
      ]
     },
     "execution_count": 5,
     "metadata": {},
     "output_type": "execute_result"
    },
    {
     "data": {
      "text/plain": [
       "'Processing request for city 408: ulladulla'"
      ]
     },
     "execution_count": 5,
     "metadata": {},
     "output_type": "execute_result"
    },
    {
     "data": {
      "text/plain": [
       "'http://api.openweathermap.org/data/2.5/weather?q=ulladulla,au&units=imperial&APPID=275d975a1c2099dde8c73d59417061cd'"
      ]
     },
     "execution_count": 5,
     "metadata": {},
     "output_type": "execute_result"
    },
    {
     "data": {
      "text/plain": [
       "'----------------------------------------------------'"
      ]
     },
     "execution_count": 5,
     "metadata": {},
     "output_type": "execute_result"
    },
    {
     "data": {
      "text/plain": [
       "'Processing request for city 409: bluefield'"
      ]
     },
     "execution_count": 5,
     "metadata": {},
     "output_type": "execute_result"
    },
    {
     "data": {
      "text/plain": [
       "'http://api.openweathermap.org/data/2.5/weather?q=bluefield,us&units=imperial&APPID=275d975a1c2099dde8c73d59417061cd'"
      ]
     },
     "execution_count": 5,
     "metadata": {},
     "output_type": "execute_result"
    },
    {
     "data": {
      "text/plain": [
       "'----------------------------------------------------'"
      ]
     },
     "execution_count": 5,
     "metadata": {},
     "output_type": "execute_result"
    },
    {
     "data": {
      "text/plain": [
       "'Processing request for city 410: vytegra'"
      ]
     },
     "execution_count": 5,
     "metadata": {},
     "output_type": "execute_result"
    },
    {
     "data": {
      "text/plain": [
       "'http://api.openweathermap.org/data/2.5/weather?q=vytegra,ru&units=imperial&APPID=275d975a1c2099dde8c73d59417061cd'"
      ]
     },
     "execution_count": 5,
     "metadata": {},
     "output_type": "execute_result"
    },
    {
     "data": {
      "text/plain": [
       "'----------------------------------------------------'"
      ]
     },
     "execution_count": 5,
     "metadata": {},
     "output_type": "execute_result"
    },
    {
     "data": {
      "text/plain": [
       "'Processing request for city 411: urumqi'"
      ]
     },
     "execution_count": 5,
     "metadata": {},
     "output_type": "execute_result"
    },
    {
     "data": {
      "text/plain": [
       "'http://api.openweathermap.org/data/2.5/weather?q=urumqi,cn&units=imperial&APPID=275d975a1c2099dde8c73d59417061cd'"
      ]
     },
     "execution_count": 5,
     "metadata": {},
     "output_type": "execute_result"
    },
    {
     "data": {
      "text/plain": [
       "'City not found. Proceeding to next city on list...'"
      ]
     },
     "execution_count": 5,
     "metadata": {},
     "output_type": "execute_result"
    },
    {
     "data": {
      "text/plain": [
       "'----------------------------------------------------'"
      ]
     },
     "execution_count": 5,
     "metadata": {},
     "output_type": "execute_result"
    },
    {
     "data": {
      "text/plain": [
       "'Processing request for city 412: hay river'"
      ]
     },
     "execution_count": 5,
     "metadata": {},
     "output_type": "execute_result"
    },
    {
     "data": {
      "text/plain": [
       "'http://api.openweathermap.org/data/2.5/weather?q=hay river,ca&units=imperial&APPID=275d975a1c2099dde8c73d59417061cd'"
      ]
     },
     "execution_count": 5,
     "metadata": {},
     "output_type": "execute_result"
    },
    {
     "data": {
      "text/plain": [
       "'----------------------------------------------------'"
      ]
     },
     "execution_count": 5,
     "metadata": {},
     "output_type": "execute_result"
    },
    {
     "data": {
      "text/plain": [
       "'Processing request for city 413: honiara'"
      ]
     },
     "execution_count": 5,
     "metadata": {},
     "output_type": "execute_result"
    },
    {
     "data": {
      "text/plain": [
       "'http://api.openweathermap.org/data/2.5/weather?q=honiara,sb&units=imperial&APPID=275d975a1c2099dde8c73d59417061cd'"
      ]
     },
     "execution_count": 5,
     "metadata": {},
     "output_type": "execute_result"
    },
    {
     "data": {
      "text/plain": [
       "'----------------------------------------------------'"
      ]
     },
     "execution_count": 5,
     "metadata": {},
     "output_type": "execute_result"
    },
    {
     "data": {
      "text/plain": [
       "'Processing request for city 414: layou'"
      ]
     },
     "execution_count": 5,
     "metadata": {},
     "output_type": "execute_result"
    },
    {
     "data": {
      "text/plain": [
       "'http://api.openweathermap.org/data/2.5/weather?q=layou,vc&units=imperial&APPID=275d975a1c2099dde8c73d59417061cd'"
      ]
     },
     "execution_count": 5,
     "metadata": {},
     "output_type": "execute_result"
    },
    {
     "data": {
      "text/plain": [
       "'----------------------------------------------------'"
      ]
     },
     "execution_count": 5,
     "metadata": {},
     "output_type": "execute_result"
    },
    {
     "data": {
      "text/plain": [
       "'Processing request for city 415: grafton'"
      ]
     },
     "execution_count": 5,
     "metadata": {},
     "output_type": "execute_result"
    },
    {
     "data": {
      "text/plain": [
       "'http://api.openweathermap.org/data/2.5/weather?q=grafton,au&units=imperial&APPID=275d975a1c2099dde8c73d59417061cd'"
      ]
     },
     "execution_count": 5,
     "metadata": {},
     "output_type": "execute_result"
    },
    {
     "data": {
      "text/plain": [
       "'----------------------------------------------------'"
      ]
     },
     "execution_count": 5,
     "metadata": {},
     "output_type": "execute_result"
    },
    {
     "data": {
      "text/plain": [
       "'Processing request for city 416: kamenz'"
      ]
     },
     "execution_count": 5,
     "metadata": {},
     "output_type": "execute_result"
    },
    {
     "data": {
      "text/plain": [
       "'http://api.openweathermap.org/data/2.5/weather?q=kamenz,de&units=imperial&APPID=275d975a1c2099dde8c73d59417061cd'"
      ]
     },
     "execution_count": 5,
     "metadata": {},
     "output_type": "execute_result"
    },
    {
     "data": {
      "text/plain": [
       "'----------------------------------------------------'"
      ]
     },
     "execution_count": 5,
     "metadata": {},
     "output_type": "execute_result"
    },
    {
     "data": {
      "text/plain": [
       "'Processing request for city 417: diamantino'"
      ]
     },
     "execution_count": 5,
     "metadata": {},
     "output_type": "execute_result"
    },
    {
     "data": {
      "text/plain": [
       "'http://api.openweathermap.org/data/2.5/weather?q=diamantino,br&units=imperial&APPID=275d975a1c2099dde8c73d59417061cd'"
      ]
     },
     "execution_count": 5,
     "metadata": {},
     "output_type": "execute_result"
    },
    {
     "data": {
      "text/plain": [
       "'----------------------------------------------------'"
      ]
     },
     "execution_count": 5,
     "metadata": {},
     "output_type": "execute_result"
    },
    {
     "data": {
      "text/plain": [
       "'Processing request for city 418: xining'"
      ]
     },
     "execution_count": 5,
     "metadata": {},
     "output_type": "execute_result"
    },
    {
     "data": {
      "text/plain": [
       "'http://api.openweathermap.org/data/2.5/weather?q=xining,cn&units=imperial&APPID=275d975a1c2099dde8c73d59417061cd'"
      ]
     },
     "execution_count": 5,
     "metadata": {},
     "output_type": "execute_result"
    },
    {
     "data": {
      "text/plain": [
       "'----------------------------------------------------'"
      ]
     },
     "execution_count": 5,
     "metadata": {},
     "output_type": "execute_result"
    },
    {
     "data": {
      "text/plain": [
       "'Processing request for city 419: mizdah'"
      ]
     },
     "execution_count": 5,
     "metadata": {},
     "output_type": "execute_result"
    },
    {
     "data": {
      "text/plain": [
       "'http://api.openweathermap.org/data/2.5/weather?q=mizdah,ly&units=imperial&APPID=275d975a1c2099dde8c73d59417061cd'"
      ]
     },
     "execution_count": 5,
     "metadata": {},
     "output_type": "execute_result"
    },
    {
     "data": {
      "text/plain": [
       "'----------------------------------------------------'"
      ]
     },
     "execution_count": 5,
     "metadata": {},
     "output_type": "execute_result"
    },
    {
     "data": {
      "text/plain": [
       "'Processing request for city 420: puntarenas'"
      ]
     },
     "execution_count": 5,
     "metadata": {},
     "output_type": "execute_result"
    },
    {
     "data": {
      "text/plain": [
       "'http://api.openweathermap.org/data/2.5/weather?q=puntarenas,cr&units=imperial&APPID=275d975a1c2099dde8c73d59417061cd'"
      ]
     },
     "execution_count": 5,
     "metadata": {},
     "output_type": "execute_result"
    },
    {
     "data": {
      "text/plain": [
       "'----------------------------------------------------'"
      ]
     },
     "execution_count": 5,
     "metadata": {},
     "output_type": "execute_result"
    },
    {
     "data": {
      "text/plain": [
       "'----------------------------------------------------'"
      ]
     },
     "execution_count": 5,
     "metadata": {},
     "output_type": "execute_result"
    },
    {
     "data": {
      "text/plain": [
       "'Pausing API requests for 20 seconds.'"
      ]
     },
     "execution_count": 5,
     "metadata": {},
     "output_type": "execute_result"
    },
    {
     "data": {
      "text/plain": [
       "\"(Don't want to overload my free account here.)\""
      ]
     },
     "execution_count": 5,
     "metadata": {},
     "output_type": "execute_result"
    },
    {
     "data": {
      "text/plain": [
       "'----------------------------------------------------'"
      ]
     },
     "execution_count": 5,
     "metadata": {},
     "output_type": "execute_result"
    },
    {
     "data": {
      "text/plain": [
       "'Processing request for city 421: nome'"
      ]
     },
     "execution_count": 5,
     "metadata": {},
     "output_type": "execute_result"
    },
    {
     "data": {
      "text/plain": [
       "'http://api.openweathermap.org/data/2.5/weather?q=nome,us&units=imperial&APPID=275d975a1c2099dde8c73d59417061cd'"
      ]
     },
     "execution_count": 5,
     "metadata": {},
     "output_type": "execute_result"
    },
    {
     "data": {
      "text/plain": [
       "'----------------------------------------------------'"
      ]
     },
     "execution_count": 5,
     "metadata": {},
     "output_type": "execute_result"
    },
    {
     "data": {
      "text/plain": [
       "'Processing request for city 422: sisimiut'"
      ]
     },
     "execution_count": 5,
     "metadata": {},
     "output_type": "execute_result"
    },
    {
     "data": {
      "text/plain": [
       "'http://api.openweathermap.org/data/2.5/weather?q=sisimiut,gl&units=imperial&APPID=275d975a1c2099dde8c73d59417061cd'"
      ]
     },
     "execution_count": 5,
     "metadata": {},
     "output_type": "execute_result"
    },
    {
     "data": {
      "text/plain": [
       "'----------------------------------------------------'"
      ]
     },
     "execution_count": 5,
     "metadata": {},
     "output_type": "execute_result"
    },
    {
     "data": {
      "text/plain": [
       "'Processing request for city 423: kedougou'"
      ]
     },
     "execution_count": 5,
     "metadata": {},
     "output_type": "execute_result"
    },
    {
     "data": {
      "text/plain": [
       "'http://api.openweathermap.org/data/2.5/weather?q=kedougou,sn&units=imperial&APPID=275d975a1c2099dde8c73d59417061cd'"
      ]
     },
     "execution_count": 5,
     "metadata": {},
     "output_type": "execute_result"
    },
    {
     "data": {
      "text/plain": [
       "'----------------------------------------------------'"
      ]
     },
     "execution_count": 5,
     "metadata": {},
     "output_type": "execute_result"
    },
    {
     "data": {
      "text/plain": [
       "'Processing request for city 424: avera'"
      ]
     },
     "execution_count": 5,
     "metadata": {},
     "output_type": "execute_result"
    },
    {
     "data": {
      "text/plain": [
       "'http://api.openweathermap.org/data/2.5/weather?q=avera,pf&units=imperial&APPID=275d975a1c2099dde8c73d59417061cd'"
      ]
     },
     "execution_count": 5,
     "metadata": {},
     "output_type": "execute_result"
    },
    {
     "data": {
      "text/plain": [
       "'City not found. Proceeding to next city on list...'"
      ]
     },
     "execution_count": 5,
     "metadata": {},
     "output_type": "execute_result"
    },
    {
     "data": {
      "text/plain": [
       "'----------------------------------------------------'"
      ]
     },
     "execution_count": 5,
     "metadata": {},
     "output_type": "execute_result"
    },
    {
     "data": {
      "text/plain": [
       "'Processing request for city 425: harlingen'"
      ]
     },
     "execution_count": 5,
     "metadata": {},
     "output_type": "execute_result"
    },
    {
     "data": {
      "text/plain": [
       "'http://api.openweathermap.org/data/2.5/weather?q=harlingen,nl&units=imperial&APPID=275d975a1c2099dde8c73d59417061cd'"
      ]
     },
     "execution_count": 5,
     "metadata": {},
     "output_type": "execute_result"
    },
    {
     "data": {
      "text/plain": [
       "'----------------------------------------------------'"
      ]
     },
     "execution_count": 5,
     "metadata": {},
     "output_type": "execute_result"
    },
    {
     "data": {
      "text/plain": [
       "'Processing request for city 426: mergui'"
      ]
     },
     "execution_count": 5,
     "metadata": {},
     "output_type": "execute_result"
    },
    {
     "data": {
      "text/plain": [
       "'http://api.openweathermap.org/data/2.5/weather?q=mergui,mm&units=imperial&APPID=275d975a1c2099dde8c73d59417061cd'"
      ]
     },
     "execution_count": 5,
     "metadata": {},
     "output_type": "execute_result"
    },
    {
     "data": {
      "text/plain": [
       "'City not found. Proceeding to next city on list...'"
      ]
     },
     "execution_count": 5,
     "metadata": {},
     "output_type": "execute_result"
    },
    {
     "data": {
      "text/plain": [
       "'----------------------------------------------------'"
      ]
     },
     "execution_count": 5,
     "metadata": {},
     "output_type": "execute_result"
    },
    {
     "data": {
      "text/plain": [
       "'Processing request for city 427: margate'"
      ]
     },
     "execution_count": 5,
     "metadata": {},
     "output_type": "execute_result"
    },
    {
     "data": {
      "text/plain": [
       "'http://api.openweathermap.org/data/2.5/weather?q=margate,za&units=imperial&APPID=275d975a1c2099dde8c73d59417061cd'"
      ]
     },
     "execution_count": 5,
     "metadata": {},
     "output_type": "execute_result"
    },
    {
     "data": {
      "text/plain": [
       "'----------------------------------------------------'"
      ]
     },
     "execution_count": 5,
     "metadata": {},
     "output_type": "execute_result"
    },
    {
     "data": {
      "text/plain": [
       "'Processing request for city 428: sampit'"
      ]
     },
     "execution_count": 5,
     "metadata": {},
     "output_type": "execute_result"
    },
    {
     "data": {
      "text/plain": [
       "'http://api.openweathermap.org/data/2.5/weather?q=sampit,id&units=imperial&APPID=275d975a1c2099dde8c73d59417061cd'"
      ]
     },
     "execution_count": 5,
     "metadata": {},
     "output_type": "execute_result"
    },
    {
     "data": {
      "text/plain": [
       "'----------------------------------------------------'"
      ]
     },
     "execution_count": 5,
     "metadata": {},
     "output_type": "execute_result"
    },
    {
     "data": {
      "text/plain": [
       "'Processing request for city 429: kungurtug'"
      ]
     },
     "execution_count": 5,
     "metadata": {},
     "output_type": "execute_result"
    },
    {
     "data": {
      "text/plain": [
       "'http://api.openweathermap.org/data/2.5/weather?q=kungurtug,ru&units=imperial&APPID=275d975a1c2099dde8c73d59417061cd'"
      ]
     },
     "execution_count": 5,
     "metadata": {},
     "output_type": "execute_result"
    },
    {
     "data": {
      "text/plain": [
       "'----------------------------------------------------'"
      ]
     },
     "execution_count": 5,
     "metadata": {},
     "output_type": "execute_result"
    },
    {
     "data": {
      "text/plain": [
       "'Processing request for city 430: pacific grove'"
      ]
     },
     "execution_count": 5,
     "metadata": {},
     "output_type": "execute_result"
    },
    {
     "data": {
      "text/plain": [
       "'http://api.openweathermap.org/data/2.5/weather?q=pacific grove,us&units=imperial&APPID=275d975a1c2099dde8c73d59417061cd'"
      ]
     },
     "execution_count": 5,
     "metadata": {},
     "output_type": "execute_result"
    },
    {
     "data": {
      "text/plain": [
       "'----------------------------------------------------'"
      ]
     },
     "execution_count": 5,
     "metadata": {},
     "output_type": "execute_result"
    },
    {
     "data": {
      "text/plain": [
       "'Processing request for city 431: san carlos de bariloche'"
      ]
     },
     "execution_count": 5,
     "metadata": {},
     "output_type": "execute_result"
    },
    {
     "data": {
      "text/plain": [
       "'http://api.openweathermap.org/data/2.5/weather?q=san carlos de bariloche,ar&units=imperial&APPID=275d975a1c2099dde8c73d59417061cd'"
      ]
     },
     "execution_count": 5,
     "metadata": {},
     "output_type": "execute_result"
    },
    {
     "data": {
      "text/plain": [
       "'----------------------------------------------------'"
      ]
     },
     "execution_count": 5,
     "metadata": {},
     "output_type": "execute_result"
    },
    {
     "data": {
      "text/plain": [
       "'Processing request for city 432: shimoda'"
      ]
     },
     "execution_count": 5,
     "metadata": {},
     "output_type": "execute_result"
    },
    {
     "data": {
      "text/plain": [
       "'http://api.openweathermap.org/data/2.5/weather?q=shimoda,jp&units=imperial&APPID=275d975a1c2099dde8c73d59417061cd'"
      ]
     },
     "execution_count": 5,
     "metadata": {},
     "output_type": "execute_result"
    },
    {
     "data": {
      "text/plain": [
       "'----------------------------------------------------'"
      ]
     },
     "execution_count": 5,
     "metadata": {},
     "output_type": "execute_result"
    },
    {
     "data": {
      "text/plain": [
       "'Processing request for city 433: general roca'"
      ]
     },
     "execution_count": 5,
     "metadata": {},
     "output_type": "execute_result"
    },
    {
     "data": {
      "text/plain": [
       "'http://api.openweathermap.org/data/2.5/weather?q=general roca,ar&units=imperial&APPID=275d975a1c2099dde8c73d59417061cd'"
      ]
     },
     "execution_count": 5,
     "metadata": {},
     "output_type": "execute_result"
    },
    {
     "data": {
      "text/plain": [
       "'----------------------------------------------------'"
      ]
     },
     "execution_count": 5,
     "metadata": {},
     "output_type": "execute_result"
    },
    {
     "data": {
      "text/plain": [
       "'Processing request for city 434: jarvakandi'"
      ]
     },
     "execution_count": 5,
     "metadata": {},
     "output_type": "execute_result"
    },
    {
     "data": {
      "text/plain": [
       "'http://api.openweathermap.org/data/2.5/weather?q=jarvakandi,ee&units=imperial&APPID=275d975a1c2099dde8c73d59417061cd'"
      ]
     },
     "execution_count": 5,
     "metadata": {},
     "output_type": "execute_result"
    },
    {
     "data": {
      "text/plain": [
       "'----------------------------------------------------'"
      ]
     },
     "execution_count": 5,
     "metadata": {},
     "output_type": "execute_result"
    },
    {
     "data": {
      "text/plain": [
       "'Processing request for city 435: palmares'"
      ]
     },
     "execution_count": 5,
     "metadata": {},
     "output_type": "execute_result"
    },
    {
     "data": {
      "text/plain": [
       "'http://api.openweathermap.org/data/2.5/weather?q=palmares,cr&units=imperial&APPID=275d975a1c2099dde8c73d59417061cd'"
      ]
     },
     "execution_count": 5,
     "metadata": {},
     "output_type": "execute_result"
    },
    {
     "data": {
      "text/plain": [
       "'----------------------------------------------------'"
      ]
     },
     "execution_count": 5,
     "metadata": {},
     "output_type": "execute_result"
    },
    {
     "data": {
      "text/plain": [
       "'Processing request for city 436: yulara'"
      ]
     },
     "execution_count": 5,
     "metadata": {},
     "output_type": "execute_result"
    },
    {
     "data": {
      "text/plain": [
       "'http://api.openweathermap.org/data/2.5/weather?q=yulara,au&units=imperial&APPID=275d975a1c2099dde8c73d59417061cd'"
      ]
     },
     "execution_count": 5,
     "metadata": {},
     "output_type": "execute_result"
    },
    {
     "data": {
      "text/plain": [
       "'----------------------------------------------------'"
      ]
     },
     "execution_count": 5,
     "metadata": {},
     "output_type": "execute_result"
    },
    {
     "data": {
      "text/plain": [
       "'Processing request for city 437: gomel'"
      ]
     },
     "execution_count": 5,
     "metadata": {},
     "output_type": "execute_result"
    },
    {
     "data": {
      "text/plain": [
       "'http://api.openweathermap.org/data/2.5/weather?q=gomel,by&units=imperial&APPID=275d975a1c2099dde8c73d59417061cd'"
      ]
     },
     "execution_count": 5,
     "metadata": {},
     "output_type": "execute_result"
    },
    {
     "data": {
      "text/plain": [
       "'City not found. Proceeding to next city on list...'"
      ]
     },
     "execution_count": 5,
     "metadata": {},
     "output_type": "execute_result"
    },
    {
     "data": {
      "text/plain": [
       "'----------------------------------------------------'"
      ]
     },
     "execution_count": 5,
     "metadata": {},
     "output_type": "execute_result"
    },
    {
     "data": {
      "text/plain": [
       "'Processing request for city 438: farah'"
      ]
     },
     "execution_count": 5,
     "metadata": {},
     "output_type": "execute_result"
    },
    {
     "data": {
      "text/plain": [
       "'http://api.openweathermap.org/data/2.5/weather?q=farah,af&units=imperial&APPID=275d975a1c2099dde8c73d59417061cd'"
      ]
     },
     "execution_count": 5,
     "metadata": {},
     "output_type": "execute_result"
    },
    {
     "data": {
      "text/plain": [
       "'----------------------------------------------------'"
      ]
     },
     "execution_count": 5,
     "metadata": {},
     "output_type": "execute_result"
    },
    {
     "data": {
      "text/plain": [
       "'Processing request for city 439: novoilinsk'"
      ]
     },
     "execution_count": 5,
     "metadata": {},
     "output_type": "execute_result"
    },
    {
     "data": {
      "text/plain": [
       "'http://api.openweathermap.org/data/2.5/weather?q=novoilinsk,ru&units=imperial&APPID=275d975a1c2099dde8c73d59417061cd'"
      ]
     },
     "execution_count": 5,
     "metadata": {},
     "output_type": "execute_result"
    },
    {
     "data": {
      "text/plain": [
       "'City not found. Proceeding to next city on list...'"
      ]
     },
     "execution_count": 5,
     "metadata": {},
     "output_type": "execute_result"
    },
    {
     "data": {
      "text/plain": [
       "'----------------------------------------------------'"
      ]
     },
     "execution_count": 5,
     "metadata": {},
     "output_type": "execute_result"
    },
    {
     "data": {
      "text/plain": [
       "'Processing request for city 440: miquelon'"
      ]
     },
     "execution_count": 5,
     "metadata": {},
     "output_type": "execute_result"
    },
    {
     "data": {
      "text/plain": [
       "'http://api.openweathermap.org/data/2.5/weather?q=miquelon,pm&units=imperial&APPID=275d975a1c2099dde8c73d59417061cd'"
      ]
     },
     "execution_count": 5,
     "metadata": {},
     "output_type": "execute_result"
    },
    {
     "data": {
      "text/plain": [
       "'----------------------------------------------------'"
      ]
     },
     "execution_count": 5,
     "metadata": {},
     "output_type": "execute_result"
    },
    {
     "data": {
      "text/plain": [
       "'Processing request for city 441: emba'"
      ]
     },
     "execution_count": 5,
     "metadata": {},
     "output_type": "execute_result"
    },
    {
     "data": {
      "text/plain": [
       "'http://api.openweathermap.org/data/2.5/weather?q=emba,kz&units=imperial&APPID=275d975a1c2099dde8c73d59417061cd'"
      ]
     },
     "execution_count": 5,
     "metadata": {},
     "output_type": "execute_result"
    },
    {
     "data": {
      "text/plain": [
       "'City not found. Proceeding to next city on list...'"
      ]
     },
     "execution_count": 5,
     "metadata": {},
     "output_type": "execute_result"
    },
    {
     "data": {
      "text/plain": [
       "'----------------------------------------------------'"
      ]
     },
     "execution_count": 5,
     "metadata": {},
     "output_type": "execute_result"
    },
    {
     "data": {
      "text/plain": [
       "'Processing request for city 442: ashtabula'"
      ]
     },
     "execution_count": 5,
     "metadata": {},
     "output_type": "execute_result"
    },
    {
     "data": {
      "text/plain": [
       "'http://api.openweathermap.org/data/2.5/weather?q=ashtabula,us&units=imperial&APPID=275d975a1c2099dde8c73d59417061cd'"
      ]
     },
     "execution_count": 5,
     "metadata": {},
     "output_type": "execute_result"
    },
    {
     "data": {
      "text/plain": [
       "'----------------------------------------------------'"
      ]
     },
     "execution_count": 5,
     "metadata": {},
     "output_type": "execute_result"
    },
    {
     "data": {
      "text/plain": [
       "'Processing request for city 443: le port'"
      ]
     },
     "execution_count": 5,
     "metadata": {},
     "output_type": "execute_result"
    },
    {
     "data": {
      "text/plain": [
       "'http://api.openweathermap.org/data/2.5/weather?q=le port,re&units=imperial&APPID=275d975a1c2099dde8c73d59417061cd'"
      ]
     },
     "execution_count": 5,
     "metadata": {},
     "output_type": "execute_result"
    },
    {
     "data": {
      "text/plain": [
       "'----------------------------------------------------'"
      ]
     },
     "execution_count": 5,
     "metadata": {},
     "output_type": "execute_result"
    },
    {
     "data": {
      "text/plain": [
       "'Processing request for city 444: saryshagan'"
      ]
     },
     "execution_count": 5,
     "metadata": {},
     "output_type": "execute_result"
    },
    {
     "data": {
      "text/plain": [
       "'http://api.openweathermap.org/data/2.5/weather?q=saryshagan,kz&units=imperial&APPID=275d975a1c2099dde8c73d59417061cd'"
      ]
     },
     "execution_count": 5,
     "metadata": {},
     "output_type": "execute_result"
    },
    {
     "data": {
      "text/plain": [
       "'City not found. Proceeding to next city on list...'"
      ]
     },
     "execution_count": 5,
     "metadata": {},
     "output_type": "execute_result"
    },
    {
     "data": {
      "text/plain": [
       "'----------------------------------------------------'"
      ]
     },
     "execution_count": 5,
     "metadata": {},
     "output_type": "execute_result"
    },
    {
     "data": {
      "text/plain": [
       "'Processing request for city 445: montepuez'"
      ]
     },
     "execution_count": 5,
     "metadata": {},
     "output_type": "execute_result"
    },
    {
     "data": {
      "text/plain": [
       "'http://api.openweathermap.org/data/2.5/weather?q=montepuez,mz&units=imperial&APPID=275d975a1c2099dde8c73d59417061cd'"
      ]
     },
     "execution_count": 5,
     "metadata": {},
     "output_type": "execute_result"
    },
    {
     "data": {
      "text/plain": [
       "'----------------------------------------------------'"
      ]
     },
     "execution_count": 5,
     "metadata": {},
     "output_type": "execute_result"
    },
    {
     "data": {
      "text/plain": [
       "'Processing request for city 446: porbandar'"
      ]
     },
     "execution_count": 5,
     "metadata": {},
     "output_type": "execute_result"
    },
    {
     "data": {
      "text/plain": [
       "'http://api.openweathermap.org/data/2.5/weather?q=porbandar,in&units=imperial&APPID=275d975a1c2099dde8c73d59417061cd'"
      ]
     },
     "execution_count": 5,
     "metadata": {},
     "output_type": "execute_result"
    },
    {
     "data": {
      "text/plain": [
       "'----------------------------------------------------'"
      ]
     },
     "execution_count": 5,
     "metadata": {},
     "output_type": "execute_result"
    },
    {
     "data": {
      "text/plain": [
       "'Processing request for city 447: ornskoldsvik'"
      ]
     },
     "execution_count": 5,
     "metadata": {},
     "output_type": "execute_result"
    },
    {
     "data": {
      "text/plain": [
       "'http://api.openweathermap.org/data/2.5/weather?q=ornskoldsvik,se&units=imperial&APPID=275d975a1c2099dde8c73d59417061cd'"
      ]
     },
     "execution_count": 5,
     "metadata": {},
     "output_type": "execute_result"
    },
    {
     "data": {
      "text/plain": [
       "'----------------------------------------------------'"
      ]
     },
     "execution_count": 5,
     "metadata": {},
     "output_type": "execute_result"
    },
    {
     "data": {
      "text/plain": [
       "'Processing request for city 448: tocopilla'"
      ]
     },
     "execution_count": 5,
     "metadata": {},
     "output_type": "execute_result"
    },
    {
     "data": {
      "text/plain": [
       "'http://api.openweathermap.org/data/2.5/weather?q=tocopilla,cl&units=imperial&APPID=275d975a1c2099dde8c73d59417061cd'"
      ]
     },
     "execution_count": 5,
     "metadata": {},
     "output_type": "execute_result"
    },
    {
     "data": {
      "text/plain": [
       "'----------------------------------------------------'"
      ]
     },
     "execution_count": 5,
     "metadata": {},
     "output_type": "execute_result"
    },
    {
     "data": {
      "text/plain": [
       "'Processing request for city 449: lovozero'"
      ]
     },
     "execution_count": 5,
     "metadata": {},
     "output_type": "execute_result"
    },
    {
     "data": {
      "text/plain": [
       "'http://api.openweathermap.org/data/2.5/weather?q=lovozero,ru&units=imperial&APPID=275d975a1c2099dde8c73d59417061cd'"
      ]
     },
     "execution_count": 5,
     "metadata": {},
     "output_type": "execute_result"
    },
    {
     "data": {
      "text/plain": [
       "'----------------------------------------------------'"
      ]
     },
     "execution_count": 5,
     "metadata": {},
     "output_type": "execute_result"
    },
    {
     "data": {
      "text/plain": [
       "'Processing request for city 450: jardim'"
      ]
     },
     "execution_count": 5,
     "metadata": {},
     "output_type": "execute_result"
    },
    {
     "data": {
      "text/plain": [
       "'http://api.openweathermap.org/data/2.5/weather?q=jardim,br&units=imperial&APPID=275d975a1c2099dde8c73d59417061cd'"
      ]
     },
     "execution_count": 5,
     "metadata": {},
     "output_type": "execute_result"
    },
    {
     "data": {
      "text/plain": [
       "'----------------------------------------------------'"
      ]
     },
     "execution_count": 5,
     "metadata": {},
     "output_type": "execute_result"
    },
    {
     "data": {
      "text/plain": [
       "'Processing request for city 451: olovyannaya'"
      ]
     },
     "execution_count": 5,
     "metadata": {},
     "output_type": "execute_result"
    },
    {
     "data": {
      "text/plain": [
       "'http://api.openweathermap.org/data/2.5/weather?q=olovyannaya,ru&units=imperial&APPID=275d975a1c2099dde8c73d59417061cd'"
      ]
     },
     "execution_count": 5,
     "metadata": {},
     "output_type": "execute_result"
    },
    {
     "data": {
      "text/plain": [
       "'----------------------------------------------------'"
      ]
     },
     "execution_count": 5,
     "metadata": {},
     "output_type": "execute_result"
    },
    {
     "data": {
      "text/plain": [
       "'Processing request for city 452: araguacu'"
      ]
     },
     "execution_count": 5,
     "metadata": {},
     "output_type": "execute_result"
    },
    {
     "data": {
      "text/plain": [
       "'http://api.openweathermap.org/data/2.5/weather?q=araguacu,br&units=imperial&APPID=275d975a1c2099dde8c73d59417061cd'"
      ]
     },
     "execution_count": 5,
     "metadata": {},
     "output_type": "execute_result"
    },
    {
     "data": {
      "text/plain": [
       "'City not found. Proceeding to next city on list...'"
      ]
     },
     "execution_count": 5,
     "metadata": {},
     "output_type": "execute_result"
    },
    {
     "data": {
      "text/plain": [
       "'----------------------------------------------------'"
      ]
     },
     "execution_count": 5,
     "metadata": {},
     "output_type": "execute_result"
    },
    {
     "data": {
      "text/plain": [
       "'Processing request for city 453: bojnurd'"
      ]
     },
     "execution_count": 5,
     "metadata": {},
     "output_type": "execute_result"
    },
    {
     "data": {
      "text/plain": [
       "'http://api.openweathermap.org/data/2.5/weather?q=bojnurd,ir&units=imperial&APPID=275d975a1c2099dde8c73d59417061cd'"
      ]
     },
     "execution_count": 5,
     "metadata": {},
     "output_type": "execute_result"
    },
    {
     "data": {
      "text/plain": [
       "'----------------------------------------------------'"
      ]
     },
     "execution_count": 5,
     "metadata": {},
     "output_type": "execute_result"
    },
    {
     "data": {
      "text/plain": [
       "'Processing request for city 454: birakan'"
      ]
     },
     "execution_count": 5,
     "metadata": {},
     "output_type": "execute_result"
    },
    {
     "data": {
      "text/plain": [
       "'http://api.openweathermap.org/data/2.5/weather?q=birakan,ru&units=imperial&APPID=275d975a1c2099dde8c73d59417061cd'"
      ]
     },
     "execution_count": 5,
     "metadata": {},
     "output_type": "execute_result"
    },
    {
     "data": {
      "text/plain": [
       "'----------------------------------------------------'"
      ]
     },
     "execution_count": 5,
     "metadata": {},
     "output_type": "execute_result"
    },
    {
     "data": {
      "text/plain": [
       "'Processing request for city 455: houma'"
      ]
     },
     "execution_count": 5,
     "metadata": {},
     "output_type": "execute_result"
    },
    {
     "data": {
      "text/plain": [
       "'http://api.openweathermap.org/data/2.5/weather?q=houma,us&units=imperial&APPID=275d975a1c2099dde8c73d59417061cd'"
      ]
     },
     "execution_count": 5,
     "metadata": {},
     "output_type": "execute_result"
    },
    {
     "data": {
      "text/plain": [
       "'----------------------------------------------------'"
      ]
     },
     "execution_count": 5,
     "metadata": {},
     "output_type": "execute_result"
    },
    {
     "data": {
      "text/plain": [
       "'Processing request for city 456: road town'"
      ]
     },
     "execution_count": 5,
     "metadata": {},
     "output_type": "execute_result"
    },
    {
     "data": {
      "text/plain": [
       "'http://api.openweathermap.org/data/2.5/weather?q=road town,vg&units=imperial&APPID=275d975a1c2099dde8c73d59417061cd'"
      ]
     },
     "execution_count": 5,
     "metadata": {},
     "output_type": "execute_result"
    },
    {
     "data": {
      "text/plain": [
       "'----------------------------------------------------'"
      ]
     },
     "execution_count": 5,
     "metadata": {},
     "output_type": "execute_result"
    },
    {
     "data": {
      "text/plain": [
       "'Processing request for city 457: henties bay'"
      ]
     },
     "execution_count": 5,
     "metadata": {},
     "output_type": "execute_result"
    },
    {
     "data": {
      "text/plain": [
       "'http://api.openweathermap.org/data/2.5/weather?q=henties bay,na&units=imperial&APPID=275d975a1c2099dde8c73d59417061cd'"
      ]
     },
     "execution_count": 5,
     "metadata": {},
     "output_type": "execute_result"
    },
    {
     "data": {
      "text/plain": [
       "'----------------------------------------------------'"
      ]
     },
     "execution_count": 5,
     "metadata": {},
     "output_type": "execute_result"
    },
    {
     "data": {
      "text/plain": [
       "'Processing request for city 458: labuan'"
      ]
     },
     "execution_count": 5,
     "metadata": {},
     "output_type": "execute_result"
    },
    {
     "data": {
      "text/plain": [
       "'http://api.openweathermap.org/data/2.5/weather?q=labuan,my&units=imperial&APPID=275d975a1c2099dde8c73d59417061cd'"
      ]
     },
     "execution_count": 5,
     "metadata": {},
     "output_type": "execute_result"
    },
    {
     "data": {
      "text/plain": [
       "'----------------------------------------------------'"
      ]
     },
     "execution_count": 5,
     "metadata": {},
     "output_type": "execute_result"
    },
    {
     "data": {
      "text/plain": [
       "'Processing request for city 459: tabou'"
      ]
     },
     "execution_count": 5,
     "metadata": {},
     "output_type": "execute_result"
    },
    {
     "data": {
      "text/plain": [
       "'http://api.openweathermap.org/data/2.5/weather?q=tabou,ci&units=imperial&APPID=275d975a1c2099dde8c73d59417061cd'"
      ]
     },
     "execution_count": 5,
     "metadata": {},
     "output_type": "execute_result"
    },
    {
     "data": {
      "text/plain": [
       "'----------------------------------------------------'"
      ]
     },
     "execution_count": 5,
     "metadata": {},
     "output_type": "execute_result"
    },
    {
     "data": {
      "text/plain": [
       "'Processing request for city 460: tabukiniberu'"
      ]
     },
     "execution_count": 5,
     "metadata": {},
     "output_type": "execute_result"
    },
    {
     "data": {
      "text/plain": [
       "'http://api.openweathermap.org/data/2.5/weather?q=tabukiniberu,ki&units=imperial&APPID=275d975a1c2099dde8c73d59417061cd'"
      ]
     },
     "execution_count": 5,
     "metadata": {},
     "output_type": "execute_result"
    },
    {
     "data": {
      "text/plain": [
       "'City not found. Proceeding to next city on list...'"
      ]
     },
     "execution_count": 5,
     "metadata": {},
     "output_type": "execute_result"
    },
    {
     "data": {
      "text/plain": [
       "'----------------------------------------------------'"
      ]
     },
     "execution_count": 5,
     "metadata": {},
     "output_type": "execute_result"
    },
    {
     "data": {
      "text/plain": [
       "'Processing request for city 461: bhum'"
      ]
     },
     "execution_count": 5,
     "metadata": {},
     "output_type": "execute_result"
    },
    {
     "data": {
      "text/plain": [
       "'http://api.openweathermap.org/data/2.5/weather?q=bhum,in&units=imperial&APPID=275d975a1c2099dde8c73d59417061cd'"
      ]
     },
     "execution_count": 5,
     "metadata": {},
     "output_type": "execute_result"
    },
    {
     "data": {
      "text/plain": [
       "'----------------------------------------------------'"
      ]
     },
     "execution_count": 5,
     "metadata": {},
     "output_type": "execute_result"
    },
    {
     "data": {
      "text/plain": [
       "'Processing request for city 462: tidore'"
      ]
     },
     "execution_count": 5,
     "metadata": {},
     "output_type": "execute_result"
    },
    {
     "data": {
      "text/plain": [
       "'http://api.openweathermap.org/data/2.5/weather?q=tidore,id&units=imperial&APPID=275d975a1c2099dde8c73d59417061cd'"
      ]
     },
     "execution_count": 5,
     "metadata": {},
     "output_type": "execute_result"
    },
    {
     "data": {
      "text/plain": [
       "'City not found. Proceeding to next city on list...'"
      ]
     },
     "execution_count": 5,
     "metadata": {},
     "output_type": "execute_result"
    },
    {
     "data": {
      "text/plain": [
       "'----------------------------------------------------'"
      ]
     },
     "execution_count": 5,
     "metadata": {},
     "output_type": "execute_result"
    },
    {
     "data": {
      "text/plain": [
       "'Processing request for city 463: praia da vitoria'"
      ]
     },
     "execution_count": 5,
     "metadata": {},
     "output_type": "execute_result"
    },
    {
     "data": {
      "text/plain": [
       "'http://api.openweathermap.org/data/2.5/weather?q=praia da vitoria,pt&units=imperial&APPID=275d975a1c2099dde8c73d59417061cd'"
      ]
     },
     "execution_count": 5,
     "metadata": {},
     "output_type": "execute_result"
    },
    {
     "data": {
      "text/plain": [
       "'----------------------------------------------------'"
      ]
     },
     "execution_count": 5,
     "metadata": {},
     "output_type": "execute_result"
    },
    {
     "data": {
      "text/plain": [
       "'Processing request for city 464: karkaralinsk'"
      ]
     },
     "execution_count": 5,
     "metadata": {},
     "output_type": "execute_result"
    },
    {
     "data": {
      "text/plain": [
       "'http://api.openweathermap.org/data/2.5/weather?q=karkaralinsk,kz&units=imperial&APPID=275d975a1c2099dde8c73d59417061cd'"
      ]
     },
     "execution_count": 5,
     "metadata": {},
     "output_type": "execute_result"
    },
    {
     "data": {
      "text/plain": [
       "'City not found. Proceeding to next city on list...'"
      ]
     },
     "execution_count": 5,
     "metadata": {},
     "output_type": "execute_result"
    },
    {
     "data": {
      "text/plain": [
       "'----------------------------------------------------'"
      ]
     },
     "execution_count": 5,
     "metadata": {},
     "output_type": "execute_result"
    },
    {
     "data": {
      "text/plain": [
       "'Processing request for city 465: marawi'"
      ]
     },
     "execution_count": 5,
     "metadata": {},
     "output_type": "execute_result"
    },
    {
     "data": {
      "text/plain": [
       "'http://api.openweathermap.org/data/2.5/weather?q=marawi,sd&units=imperial&APPID=275d975a1c2099dde8c73d59417061cd'"
      ]
     },
     "execution_count": 5,
     "metadata": {},
     "output_type": "execute_result"
    },
    {
     "data": {
      "text/plain": [
       "'----------------------------------------------------'"
      ]
     },
     "execution_count": 5,
     "metadata": {},
     "output_type": "execute_result"
    },
    {
     "data": {
      "text/plain": [
       "'Processing request for city 466: nizhniy tsasuchey'"
      ]
     },
     "execution_count": 5,
     "metadata": {},
     "output_type": "execute_result"
    },
    {
     "data": {
      "text/plain": [
       "'http://api.openweathermap.org/data/2.5/weather?q=nizhniy tsasuchey,ru&units=imperial&APPID=275d975a1c2099dde8c73d59417061cd'"
      ]
     },
     "execution_count": 5,
     "metadata": {},
     "output_type": "execute_result"
    },
    {
     "data": {
      "text/plain": [
       "'----------------------------------------------------'"
      ]
     },
     "execution_count": 5,
     "metadata": {},
     "output_type": "execute_result"
    },
    {
     "data": {
      "text/plain": [
       "'Processing request for city 467: vostok'"
      ]
     },
     "execution_count": 5,
     "metadata": {},
     "output_type": "execute_result"
    },
    {
     "data": {
      "text/plain": [
       "'http://api.openweathermap.org/data/2.5/weather?q=vostok,ru&units=imperial&APPID=275d975a1c2099dde8c73d59417061cd'"
      ]
     },
     "execution_count": 5,
     "metadata": {},
     "output_type": "execute_result"
    },
    {
     "data": {
      "text/plain": [
       "'----------------------------------------------------'"
      ]
     },
     "execution_count": 5,
     "metadata": {},
     "output_type": "execute_result"
    },
    {
     "data": {
      "text/plain": [
       "'Processing request for city 468: tongzi'"
      ]
     },
     "execution_count": 5,
     "metadata": {},
     "output_type": "execute_result"
    },
    {
     "data": {
      "text/plain": [
       "'http://api.openweathermap.org/data/2.5/weather?q=tongzi,cn&units=imperial&APPID=275d975a1c2099dde8c73d59417061cd'"
      ]
     },
     "execution_count": 5,
     "metadata": {},
     "output_type": "execute_result"
    },
    {
     "data": {
      "text/plain": [
       "'----------------------------------------------------'"
      ]
     },
     "execution_count": 5,
     "metadata": {},
     "output_type": "execute_result"
    },
    {
     "data": {
      "text/plain": [
       "'Processing request for city 469: boa vista'"
      ]
     },
     "execution_count": 5,
     "metadata": {},
     "output_type": "execute_result"
    },
    {
     "data": {
      "text/plain": [
       "'http://api.openweathermap.org/data/2.5/weather?q=boa vista,br&units=imperial&APPID=275d975a1c2099dde8c73d59417061cd'"
      ]
     },
     "execution_count": 5,
     "metadata": {},
     "output_type": "execute_result"
    },
    {
     "data": {
      "text/plain": [
       "'----------------------------------------------------'"
      ]
     },
     "execution_count": 5,
     "metadata": {},
     "output_type": "execute_result"
    },
    {
     "data": {
      "text/plain": [
       "'Processing request for city 470: libreville'"
      ]
     },
     "execution_count": 5,
     "metadata": {},
     "output_type": "execute_result"
    },
    {
     "data": {
      "text/plain": [
       "'http://api.openweathermap.org/data/2.5/weather?q=libreville,ga&units=imperial&APPID=275d975a1c2099dde8c73d59417061cd'"
      ]
     },
     "execution_count": 5,
     "metadata": {},
     "output_type": "execute_result"
    },
    {
     "data": {
      "text/plain": [
       "'----------------------------------------------------'"
      ]
     },
     "execution_count": 5,
     "metadata": {},
     "output_type": "execute_result"
    },
    {
     "data": {
      "text/plain": [
       "'Processing request for city 471: palabuhanratu'"
      ]
     },
     "execution_count": 5,
     "metadata": {},
     "output_type": "execute_result"
    },
    {
     "data": {
      "text/plain": [
       "'http://api.openweathermap.org/data/2.5/weather?q=palabuhanratu,id&units=imperial&APPID=275d975a1c2099dde8c73d59417061cd'"
      ]
     },
     "execution_count": 5,
     "metadata": {},
     "output_type": "execute_result"
    },
    {
     "data": {
      "text/plain": [
       "'City not found. Proceeding to next city on list...'"
      ]
     },
     "execution_count": 5,
     "metadata": {},
     "output_type": "execute_result"
    },
    {
     "data": {
      "text/plain": [
       "'----------------------------------------------------'"
      ]
     },
     "execution_count": 5,
     "metadata": {},
     "output_type": "execute_result"
    },
    {
     "data": {
      "text/plain": [
       "'Processing request for city 472: lombardia'"
      ]
     },
     "execution_count": 5,
     "metadata": {},
     "output_type": "execute_result"
    },
    {
     "data": {
      "text/plain": [
       "'http://api.openweathermap.org/data/2.5/weather?q=lombardia,mx&units=imperial&APPID=275d975a1c2099dde8c73d59417061cd'"
      ]
     },
     "execution_count": 5,
     "metadata": {},
     "output_type": "execute_result"
    },
    {
     "data": {
      "text/plain": [
       "'----------------------------------------------------'"
      ]
     },
     "execution_count": 5,
     "metadata": {},
     "output_type": "execute_result"
    },
    {
     "data": {
      "text/plain": [
       "'Processing request for city 473: mettur'"
      ]
     },
     "execution_count": 5,
     "metadata": {},
     "output_type": "execute_result"
    },
    {
     "data": {
      "text/plain": [
       "'http://api.openweathermap.org/data/2.5/weather?q=mettur,in&units=imperial&APPID=275d975a1c2099dde8c73d59417061cd'"
      ]
     },
     "execution_count": 5,
     "metadata": {},
     "output_type": "execute_result"
    },
    {
     "data": {
      "text/plain": [
       "'----------------------------------------------------'"
      ]
     },
     "execution_count": 5,
     "metadata": {},
     "output_type": "execute_result"
    },
    {
     "data": {
      "text/plain": [
       "'Processing request for city 474: faya'"
      ]
     },
     "execution_count": 5,
     "metadata": {},
     "output_type": "execute_result"
    },
    {
     "data": {
      "text/plain": [
       "'http://api.openweathermap.org/data/2.5/weather?q=faya,td&units=imperial&APPID=275d975a1c2099dde8c73d59417061cd'"
      ]
     },
     "execution_count": 5,
     "metadata": {},
     "output_type": "execute_result"
    },
    {
     "data": {
      "text/plain": [
       "'City not found. Proceeding to next city on list...'"
      ]
     },
     "execution_count": 5,
     "metadata": {},
     "output_type": "execute_result"
    },
    {
     "data": {
      "text/plain": [
       "'----------------------------------------------------'"
      ]
     },
     "execution_count": 5,
     "metadata": {},
     "output_type": "execute_result"
    },
    {
     "data": {
      "text/plain": [
       "'Processing request for city 475: rameswaram'"
      ]
     },
     "execution_count": 5,
     "metadata": {},
     "output_type": "execute_result"
    },
    {
     "data": {
      "text/plain": [
       "'http://api.openweathermap.org/data/2.5/weather?q=rameswaram,in&units=imperial&APPID=275d975a1c2099dde8c73d59417061cd'"
      ]
     },
     "execution_count": 5,
     "metadata": {},
     "output_type": "execute_result"
    },
    {
     "data": {
      "text/plain": [
       "'----------------------------------------------------'"
      ]
     },
     "execution_count": 5,
     "metadata": {},
     "output_type": "execute_result"
    },
    {
     "data": {
      "text/plain": [
       "'Processing request for city 476: tecoanapa'"
      ]
     },
     "execution_count": 5,
     "metadata": {},
     "output_type": "execute_result"
    },
    {
     "data": {
      "text/plain": [
       "'http://api.openweathermap.org/data/2.5/weather?q=tecoanapa,mx&units=imperial&APPID=275d975a1c2099dde8c73d59417061cd'"
      ]
     },
     "execution_count": 5,
     "metadata": {},
     "output_type": "execute_result"
    },
    {
     "data": {
      "text/plain": [
       "'----------------------------------------------------'"
      ]
     },
     "execution_count": 5,
     "metadata": {},
     "output_type": "execute_result"
    },
    {
     "data": {
      "text/plain": [
       "'Processing request for city 477: doctor arroyo'"
      ]
     },
     "execution_count": 5,
     "metadata": {},
     "output_type": "execute_result"
    },
    {
     "data": {
      "text/plain": [
       "'http://api.openweathermap.org/data/2.5/weather?q=doctor arroyo,mx&units=imperial&APPID=275d975a1c2099dde8c73d59417061cd'"
      ]
     },
     "execution_count": 5,
     "metadata": {},
     "output_type": "execute_result"
    },
    {
     "data": {
      "text/plain": [
       "'----------------------------------------------------'"
      ]
     },
     "execution_count": 5,
     "metadata": {},
     "output_type": "execute_result"
    },
    {
     "data": {
      "text/plain": [
       "'Processing request for city 478: port-de-paix'"
      ]
     },
     "execution_count": 5,
     "metadata": {},
     "output_type": "execute_result"
    },
    {
     "data": {
      "text/plain": [
       "'http://api.openweathermap.org/data/2.5/weather?q=port-de-paix,ht&units=imperial&APPID=275d975a1c2099dde8c73d59417061cd'"
      ]
     },
     "execution_count": 5,
     "metadata": {},
     "output_type": "execute_result"
    },
    {
     "data": {
      "text/plain": [
       "'City not found. Proceeding to next city on list...'"
      ]
     },
     "execution_count": 5,
     "metadata": {},
     "output_type": "execute_result"
    },
    {
     "data": {
      "text/plain": [
       "'----------------------------------------------------'"
      ]
     },
     "execution_count": 5,
     "metadata": {},
     "output_type": "execute_result"
    },
    {
     "data": {
      "text/plain": [
       "'Processing request for city 479: kununurra'"
      ]
     },
     "execution_count": 5,
     "metadata": {},
     "output_type": "execute_result"
    },
    {
     "data": {
      "text/plain": [
       "'http://api.openweathermap.org/data/2.5/weather?q=kununurra,au&units=imperial&APPID=275d975a1c2099dde8c73d59417061cd'"
      ]
     },
     "execution_count": 5,
     "metadata": {},
     "output_type": "execute_result"
    },
    {
     "data": {
      "text/plain": [
       "'----------------------------------------------------'"
      ]
     },
     "execution_count": 5,
     "metadata": {},
     "output_type": "execute_result"
    },
    {
     "data": {
      "text/plain": [
       "'Processing request for city 480: hirara'"
      ]
     },
     "execution_count": 5,
     "metadata": {},
     "output_type": "execute_result"
    },
    {
     "data": {
      "text/plain": [
       "'http://api.openweathermap.org/data/2.5/weather?q=hirara,jp&units=imperial&APPID=275d975a1c2099dde8c73d59417061cd'"
      ]
     },
     "execution_count": 5,
     "metadata": {},
     "output_type": "execute_result"
    },
    {
     "data": {
      "text/plain": [
       "'----------------------------------------------------'"
      ]
     },
     "execution_count": 5,
     "metadata": {},
     "output_type": "execute_result"
    },
    {
     "data": {
      "text/plain": [
       "'----------------------------------------------------'"
      ]
     },
     "execution_count": 5,
     "metadata": {},
     "output_type": "execute_result"
    },
    {
     "data": {
      "text/plain": [
       "'Pausing API requests for 20 seconds.'"
      ]
     },
     "execution_count": 5,
     "metadata": {},
     "output_type": "execute_result"
    },
    {
     "data": {
      "text/plain": [
       "\"(Don't want to overload my free account here.)\""
      ]
     },
     "execution_count": 5,
     "metadata": {},
     "output_type": "execute_result"
    },
    {
     "data": {
      "text/plain": [
       "'----------------------------------------------------'"
      ]
     },
     "execution_count": 5,
     "metadata": {},
     "output_type": "execute_result"
    },
    {
     "data": {
      "text/plain": [
       "'Processing request for city 481: chicama'"
      ]
     },
     "execution_count": 5,
     "metadata": {},
     "output_type": "execute_result"
    },
    {
     "data": {
      "text/plain": [
       "'http://api.openweathermap.org/data/2.5/weather?q=chicama,pe&units=imperial&APPID=275d975a1c2099dde8c73d59417061cd'"
      ]
     },
     "execution_count": 5,
     "metadata": {},
     "output_type": "execute_result"
    },
    {
     "data": {
      "text/plain": [
       "'----------------------------------------------------'"
      ]
     },
     "execution_count": 5,
     "metadata": {},
     "output_type": "execute_result"
    },
    {
     "data": {
      "text/plain": [
       "'Processing request for city 482: roebourne'"
      ]
     },
     "execution_count": 5,
     "metadata": {},
     "output_type": "execute_result"
    },
    {
     "data": {
      "text/plain": [
       "'http://api.openweathermap.org/data/2.5/weather?q=roebourne,au&units=imperial&APPID=275d975a1c2099dde8c73d59417061cd'"
      ]
     },
     "execution_count": 5,
     "metadata": {},
     "output_type": "execute_result"
    },
    {
     "data": {
      "text/plain": [
       "'----------------------------------------------------'"
      ]
     },
     "execution_count": 5,
     "metadata": {},
     "output_type": "execute_result"
    },
    {
     "data": {
      "text/plain": [
       "'Processing request for city 483: sorland'"
      ]
     },
     "execution_count": 5,
     "metadata": {},
     "output_type": "execute_result"
    },
    {
     "data": {
      "text/plain": [
       "'http://api.openweathermap.org/data/2.5/weather?q=sorland,no&units=imperial&APPID=275d975a1c2099dde8c73d59417061cd'"
      ]
     },
     "execution_count": 5,
     "metadata": {},
     "output_type": "execute_result"
    },
    {
     "data": {
      "text/plain": [
       "'----------------------------------------------------'"
      ]
     },
     "execution_count": 5,
     "metadata": {},
     "output_type": "execute_result"
    },
    {
     "data": {
      "text/plain": [
       "'Processing request for city 484: lolua'"
      ]
     },
     "execution_count": 5,
     "metadata": {},
     "output_type": "execute_result"
    },
    {
     "data": {
      "text/plain": [
       "'http://api.openweathermap.org/data/2.5/weather?q=lolua,tv&units=imperial&APPID=275d975a1c2099dde8c73d59417061cd'"
      ]
     },
     "execution_count": 5,
     "metadata": {},
     "output_type": "execute_result"
    },
    {
     "data": {
      "text/plain": [
       "'City not found. Proceeding to next city on list...'"
      ]
     },
     "execution_count": 5,
     "metadata": {},
     "output_type": "execute_result"
    },
    {
     "data": {
      "text/plain": [
       "'----------------------------------------------------'"
      ]
     },
     "execution_count": 5,
     "metadata": {},
     "output_type": "execute_result"
    },
    {
     "data": {
      "text/plain": [
       "'Processing request for city 485: tchollire'"
      ]
     },
     "execution_count": 5,
     "metadata": {},
     "output_type": "execute_result"
    },
    {
     "data": {
      "text/plain": [
       "'http://api.openweathermap.org/data/2.5/weather?q=tchollire,cm&units=imperial&APPID=275d975a1c2099dde8c73d59417061cd'"
      ]
     },
     "execution_count": 5,
     "metadata": {},
     "output_type": "execute_result"
    },
    {
     "data": {
      "text/plain": [
       "'----------------------------------------------------'"
      ]
     },
     "execution_count": 5,
     "metadata": {},
     "output_type": "execute_result"
    },
    {
     "data": {
      "text/plain": [
       "'Processing request for city 486: chhatarpur'"
      ]
     },
     "execution_count": 5,
     "metadata": {},
     "output_type": "execute_result"
    },
    {
     "data": {
      "text/plain": [
       "'http://api.openweathermap.org/data/2.5/weather?q=chhatarpur,in&units=imperial&APPID=275d975a1c2099dde8c73d59417061cd'"
      ]
     },
     "execution_count": 5,
     "metadata": {},
     "output_type": "execute_result"
    },
    {
     "data": {
      "text/plain": [
       "'----------------------------------------------------'"
      ]
     },
     "execution_count": 5,
     "metadata": {},
     "output_type": "execute_result"
    },
    {
     "data": {
      "text/plain": [
       "'Processing request for city 487: vanavara'"
      ]
     },
     "execution_count": 5,
     "metadata": {},
     "output_type": "execute_result"
    },
    {
     "data": {
      "text/plain": [
       "'http://api.openweathermap.org/data/2.5/weather?q=vanavara,ru&units=imperial&APPID=275d975a1c2099dde8c73d59417061cd'"
      ]
     },
     "execution_count": 5,
     "metadata": {},
     "output_type": "execute_result"
    },
    {
     "data": {
      "text/plain": [
       "'----------------------------------------------------'"
      ]
     },
     "execution_count": 5,
     "metadata": {},
     "output_type": "execute_result"
    },
    {
     "data": {
      "text/plain": [
       "'Processing request for city 488: nishihara'"
      ]
     },
     "execution_count": 5,
     "metadata": {},
     "output_type": "execute_result"
    },
    {
     "data": {
      "text/plain": [
       "'http://api.openweathermap.org/data/2.5/weather?q=nishihara,jp&units=imperial&APPID=275d975a1c2099dde8c73d59417061cd'"
      ]
     },
     "execution_count": 5,
     "metadata": {},
     "output_type": "execute_result"
    },
    {
     "data": {
      "text/plain": [
       "'----------------------------------------------------'"
      ]
     },
     "execution_count": 5,
     "metadata": {},
     "output_type": "execute_result"
    },
    {
     "data": {
      "text/plain": [
       "'Processing request for city 489: kibre mengist'"
      ]
     },
     "execution_count": 5,
     "metadata": {},
     "output_type": "execute_result"
    },
    {
     "data": {
      "text/plain": [
       "'http://api.openweathermap.org/data/2.5/weather?q=kibre mengist,et&units=imperial&APPID=275d975a1c2099dde8c73d59417061cd'"
      ]
     },
     "execution_count": 5,
     "metadata": {},
     "output_type": "execute_result"
    },
    {
     "data": {
      "text/plain": [
       "'----------------------------------------------------'"
      ]
     },
     "execution_count": 5,
     "metadata": {},
     "output_type": "execute_result"
    },
    {
     "data": {
      "text/plain": [
       "'Processing request for city 490: magnor'"
      ]
     },
     "execution_count": 5,
     "metadata": {},
     "output_type": "execute_result"
    },
    {
     "data": {
      "text/plain": [
       "'http://api.openweathermap.org/data/2.5/weather?q=magnor,no&units=imperial&APPID=275d975a1c2099dde8c73d59417061cd'"
      ]
     },
     "execution_count": 5,
     "metadata": {},
     "output_type": "execute_result"
    },
    {
     "data": {
      "text/plain": [
       "'City not found. Proceeding to next city on list...'"
      ]
     },
     "execution_count": 5,
     "metadata": {},
     "output_type": "execute_result"
    },
    {
     "data": {
      "text/plain": [
       "'----------------------------------------------------'"
      ]
     },
     "execution_count": 5,
     "metadata": {},
     "output_type": "execute_result"
    },
    {
     "data": {
      "text/plain": [
       "'Processing request for city 491: pundaguitan'"
      ]
     },
     "execution_count": 5,
     "metadata": {},
     "output_type": "execute_result"
    },
    {
     "data": {
      "text/plain": [
       "'http://api.openweathermap.org/data/2.5/weather?q=pundaguitan,ph&units=imperial&APPID=275d975a1c2099dde8c73d59417061cd'"
      ]
     },
     "execution_count": 5,
     "metadata": {},
     "output_type": "execute_result"
    },
    {
     "data": {
      "text/plain": [
       "'----------------------------------------------------'"
      ]
     },
     "execution_count": 5,
     "metadata": {},
     "output_type": "execute_result"
    },
    {
     "data": {
      "text/plain": [
       "'Processing request for city 492: dhidhdhoo'"
      ]
     },
     "execution_count": 5,
     "metadata": {},
     "output_type": "execute_result"
    },
    {
     "data": {
      "text/plain": [
       "'http://api.openweathermap.org/data/2.5/weather?q=dhidhdhoo,mv&units=imperial&APPID=275d975a1c2099dde8c73d59417061cd'"
      ]
     },
     "execution_count": 5,
     "metadata": {},
     "output_type": "execute_result"
    },
    {
     "data": {
      "text/plain": [
       "'----------------------------------------------------'"
      ]
     },
     "execution_count": 5,
     "metadata": {},
     "output_type": "execute_result"
    },
    {
     "data": {
      "text/plain": [
       "'Processing request for city 493: little current'"
      ]
     },
     "execution_count": 5,
     "metadata": {},
     "output_type": "execute_result"
    },
    {
     "data": {
      "text/plain": [
       "'http://api.openweathermap.org/data/2.5/weather?q=little current,ca&units=imperial&APPID=275d975a1c2099dde8c73d59417061cd'"
      ]
     },
     "execution_count": 5,
     "metadata": {},
     "output_type": "execute_result"
    },
    {
     "data": {
      "text/plain": [
       "'----------------------------------------------------'"
      ]
     },
     "execution_count": 5,
     "metadata": {},
     "output_type": "execute_result"
    },
    {
     "data": {
      "text/plain": [
       "'Processing request for city 494: zhicheng'"
      ]
     },
     "execution_count": 5,
     "metadata": {},
     "output_type": "execute_result"
    },
    {
     "data": {
      "text/plain": [
       "'http://api.openweathermap.org/data/2.5/weather?q=zhicheng,cn&units=imperial&APPID=275d975a1c2099dde8c73d59417061cd'"
      ]
     },
     "execution_count": 5,
     "metadata": {},
     "output_type": "execute_result"
    },
    {
     "data": {
      "text/plain": [
       "'----------------------------------------------------'"
      ]
     },
     "execution_count": 5,
     "metadata": {},
     "output_type": "execute_result"
    },
    {
     "data": {
      "text/plain": [
       "'Processing request for city 495: grand river south east'"
      ]
     },
     "execution_count": 5,
     "metadata": {},
     "output_type": "execute_result"
    },
    {
     "data": {
      "text/plain": [
       "'http://api.openweathermap.org/data/2.5/weather?q=grand river south east,mu&units=imperial&APPID=275d975a1c2099dde8c73d59417061cd'"
      ]
     },
     "execution_count": 5,
     "metadata": {},
     "output_type": "execute_result"
    },
    {
     "data": {
      "text/plain": [
       "'City not found. Proceeding to next city on list...'"
      ]
     },
     "execution_count": 5,
     "metadata": {},
     "output_type": "execute_result"
    },
    {
     "data": {
      "text/plain": [
       "'----------------------------------------------------'"
      ]
     },
     "execution_count": 5,
     "metadata": {},
     "output_type": "execute_result"
    },
    {
     "data": {
      "text/plain": [
       "'Processing request for city 496: chapais'"
      ]
     },
     "execution_count": 5,
     "metadata": {},
     "output_type": "execute_result"
    },
    {
     "data": {
      "text/plain": [
       "'http://api.openweathermap.org/data/2.5/weather?q=chapais,ca&units=imperial&APPID=275d975a1c2099dde8c73d59417061cd'"
      ]
     },
     "execution_count": 5,
     "metadata": {},
     "output_type": "execute_result"
    },
    {
     "data": {
      "text/plain": [
       "'----------------------------------------------------'"
      ]
     },
     "execution_count": 5,
     "metadata": {},
     "output_type": "execute_result"
    },
    {
     "data": {
      "text/plain": [
       "'Processing request for city 497: pachino'"
      ]
     },
     "execution_count": 5,
     "metadata": {},
     "output_type": "execute_result"
    },
    {
     "data": {
      "text/plain": [
       "'http://api.openweathermap.org/data/2.5/weather?q=pachino,it&units=imperial&APPID=275d975a1c2099dde8c73d59417061cd'"
      ]
     },
     "execution_count": 5,
     "metadata": {},
     "output_type": "execute_result"
    },
    {
     "data": {
      "text/plain": [
       "'----------------------------------------------------'"
      ]
     },
     "execution_count": 5,
     "metadata": {},
     "output_type": "execute_result"
    },
    {
     "data": {
      "text/plain": [
       "'Processing request for city 498: oktyabrskiy'"
      ]
     },
     "execution_count": 5,
     "metadata": {},
     "output_type": "execute_result"
    },
    {
     "data": {
      "text/plain": [
       "'http://api.openweathermap.org/data/2.5/weather?q=oktyabrskiy,ru&units=imperial&APPID=275d975a1c2099dde8c73d59417061cd'"
      ]
     },
     "execution_count": 5,
     "metadata": {},
     "output_type": "execute_result"
    },
    {
     "data": {
      "text/plain": [
       "'----------------------------------------------------'"
      ]
     },
     "execution_count": 5,
     "metadata": {},
     "output_type": "execute_result"
    },
    {
     "data": {
      "text/plain": [
       "'Processing request for city 499: kinlochleven'"
      ]
     },
     "execution_count": 5,
     "metadata": {},
     "output_type": "execute_result"
    },
    {
     "data": {
      "text/plain": [
       "'http://api.openweathermap.org/data/2.5/weather?q=kinlochleven,gb&units=imperial&APPID=275d975a1c2099dde8c73d59417061cd'"
      ]
     },
     "execution_count": 5,
     "metadata": {},
     "output_type": "execute_result"
    },
    {
     "data": {
      "text/plain": [
       "'----------------------------------------------------'"
      ]
     },
     "execution_count": 5,
     "metadata": {},
     "output_type": "execute_result"
    },
    {
     "data": {
      "text/plain": [
       "'Processing request for city 500: wanaka'"
      ]
     },
     "execution_count": 5,
     "metadata": {},
     "output_type": "execute_result"
    },
    {
     "data": {
      "text/plain": [
       "'http://api.openweathermap.org/data/2.5/weather?q=wanaka,nz&units=imperial&APPID=275d975a1c2099dde8c73d59417061cd'"
      ]
     },
     "execution_count": 5,
     "metadata": {},
     "output_type": "execute_result"
    },
    {
     "data": {
      "text/plain": [
       "'----------------------------------------------------'"
      ]
     },
     "execution_count": 5,
     "metadata": {},
     "output_type": "execute_result"
    },
    {
     "data": {
      "text/plain": [
       "'Processing request for city 501: tondano'"
      ]
     },
     "execution_count": 5,
     "metadata": {},
     "output_type": "execute_result"
    },
    {
     "data": {
      "text/plain": [
       "'http://api.openweathermap.org/data/2.5/weather?q=tondano,id&units=imperial&APPID=275d975a1c2099dde8c73d59417061cd'"
      ]
     },
     "execution_count": 5,
     "metadata": {},
     "output_type": "execute_result"
    },
    {
     "data": {
      "text/plain": [
       "'----------------------------------------------------'"
      ]
     },
     "execution_count": 5,
     "metadata": {},
     "output_type": "execute_result"
    },
    {
     "data": {
      "text/plain": [
       "'Processing request for city 502: jobabo'"
      ]
     },
     "execution_count": 5,
     "metadata": {},
     "output_type": "execute_result"
    },
    {
     "data": {
      "text/plain": [
       "'http://api.openweathermap.org/data/2.5/weather?q=jobabo,cu&units=imperial&APPID=275d975a1c2099dde8c73d59417061cd'"
      ]
     },
     "execution_count": 5,
     "metadata": {},
     "output_type": "execute_result"
    },
    {
     "data": {
      "text/plain": [
       "'----------------------------------------------------'"
      ]
     },
     "execution_count": 5,
     "metadata": {},
     "output_type": "execute_result"
    },
    {
     "data": {
      "text/plain": [
       "'Processing request for city 503: asfi'"
      ]
     },
     "execution_count": 5,
     "metadata": {},
     "output_type": "execute_result"
    },
    {
     "data": {
      "text/plain": [
       "'http://api.openweathermap.org/data/2.5/weather?q=asfi,ma&units=imperial&APPID=275d975a1c2099dde8c73d59417061cd'"
      ]
     },
     "execution_count": 5,
     "metadata": {},
     "output_type": "execute_result"
    },
    {
     "data": {
      "text/plain": [
       "'City not found. Proceeding to next city on list...'"
      ]
     },
     "execution_count": 5,
     "metadata": {},
     "output_type": "execute_result"
    },
    {
     "data": {
      "text/plain": [
       "'----------------------------------------------------'"
      ]
     },
     "execution_count": 5,
     "metadata": {},
     "output_type": "execute_result"
    },
    {
     "data": {
      "text/plain": [
       "'Processing request for city 504: sao jeronimo'"
      ]
     },
     "execution_count": 5,
     "metadata": {},
     "output_type": "execute_result"
    },
    {
     "data": {
      "text/plain": [
       "'http://api.openweathermap.org/data/2.5/weather?q=sao jeronimo,br&units=imperial&APPID=275d975a1c2099dde8c73d59417061cd'"
      ]
     },
     "execution_count": 5,
     "metadata": {},
     "output_type": "execute_result"
    },
    {
     "data": {
      "text/plain": [
       "'----------------------------------------------------'"
      ]
     },
     "execution_count": 5,
     "metadata": {},
     "output_type": "execute_result"
    },
    {
     "data": {
      "text/plain": [
       "'Processing request for city 505: korla'"
      ]
     },
     "execution_count": 5,
     "metadata": {},
     "output_type": "execute_result"
    },
    {
     "data": {
      "text/plain": [
       "'http://api.openweathermap.org/data/2.5/weather?q=korla,cn&units=imperial&APPID=275d975a1c2099dde8c73d59417061cd'"
      ]
     },
     "execution_count": 5,
     "metadata": {},
     "output_type": "execute_result"
    },
    {
     "data": {
      "text/plain": [
       "'----------------------------------------------------'"
      ]
     },
     "execution_count": 5,
     "metadata": {},
     "output_type": "execute_result"
    },
    {
     "data": {
      "text/plain": [
       "'Processing request for city 506: quatre cocos'"
      ]
     },
     "execution_count": 5,
     "metadata": {},
     "output_type": "execute_result"
    },
    {
     "data": {
      "text/plain": [
       "'http://api.openweathermap.org/data/2.5/weather?q=quatre cocos,mu&units=imperial&APPID=275d975a1c2099dde8c73d59417061cd'"
      ]
     },
     "execution_count": 5,
     "metadata": {},
     "output_type": "execute_result"
    },
    {
     "data": {
      "text/plain": [
       "'----------------------------------------------------'"
      ]
     },
     "execution_count": 5,
     "metadata": {},
     "output_type": "execute_result"
    },
    {
     "data": {
      "text/plain": [
       "'Processing request for city 507: churapcha'"
      ]
     },
     "execution_count": 5,
     "metadata": {},
     "output_type": "execute_result"
    },
    {
     "data": {
      "text/plain": [
       "'http://api.openweathermap.org/data/2.5/weather?q=churapcha,ru&units=imperial&APPID=275d975a1c2099dde8c73d59417061cd'"
      ]
     },
     "execution_count": 5,
     "metadata": {},
     "output_type": "execute_result"
    },
    {
     "data": {
      "text/plain": [
       "'----------------------------------------------------'"
      ]
     },
     "execution_count": 5,
     "metadata": {},
     "output_type": "execute_result"
    },
    {
     "data": {
      "text/plain": [
       "'Processing request for city 508: vetapalem'"
      ]
     },
     "execution_count": 5,
     "metadata": {},
     "output_type": "execute_result"
    },
    {
     "data": {
      "text/plain": [
       "'http://api.openweathermap.org/data/2.5/weather?q=vetapalem,in&units=imperial&APPID=275d975a1c2099dde8c73d59417061cd'"
      ]
     },
     "execution_count": 5,
     "metadata": {},
     "output_type": "execute_result"
    },
    {
     "data": {
      "text/plain": [
       "'----------------------------------------------------'"
      ]
     },
     "execution_count": 5,
     "metadata": {},
     "output_type": "execute_result"
    },
    {
     "data": {
      "text/plain": [
       "'Processing request for city 509: belyy yar'"
      ]
     },
     "execution_count": 5,
     "metadata": {},
     "output_type": "execute_result"
    },
    {
     "data": {
      "text/plain": [
       "'http://api.openweathermap.org/data/2.5/weather?q=belyy yar,ru&units=imperial&APPID=275d975a1c2099dde8c73d59417061cd'"
      ]
     },
     "execution_count": 5,
     "metadata": {},
     "output_type": "execute_result"
    },
    {
     "data": {
      "text/plain": [
       "'----------------------------------------------------'"
      ]
     },
     "execution_count": 5,
     "metadata": {},
     "output_type": "execute_result"
    },
    {
     "data": {
      "text/plain": [
       "'Processing request for city 510: lander'"
      ]
     },
     "execution_count": 5,
     "metadata": {},
     "output_type": "execute_result"
    },
    {
     "data": {
      "text/plain": [
       "'http://api.openweathermap.org/data/2.5/weather?q=lander,us&units=imperial&APPID=275d975a1c2099dde8c73d59417061cd'"
      ]
     },
     "execution_count": 5,
     "metadata": {},
     "output_type": "execute_result"
    },
    {
     "data": {
      "text/plain": [
       "'----------------------------------------------------'"
      ]
     },
     "execution_count": 5,
     "metadata": {},
     "output_type": "execute_result"
    },
    {
     "data": {
      "text/plain": [
       "'Processing request for city 511: benjamin constant'"
      ]
     },
     "execution_count": 5,
     "metadata": {},
     "output_type": "execute_result"
    },
    {
     "data": {
      "text/plain": [
       "'http://api.openweathermap.org/data/2.5/weather?q=benjamin constant,br&units=imperial&APPID=275d975a1c2099dde8c73d59417061cd'"
      ]
     },
     "execution_count": 5,
     "metadata": {},
     "output_type": "execute_result"
    },
    {
     "data": {
      "text/plain": [
       "'----------------------------------------------------'"
      ]
     },
     "execution_count": 5,
     "metadata": {},
     "output_type": "execute_result"
    },
    {
     "data": {
      "text/plain": [
       "'Processing request for city 512: guilin'"
      ]
     },
     "execution_count": 5,
     "metadata": {},
     "output_type": "execute_result"
    },
    {
     "data": {
      "text/plain": [
       "'http://api.openweathermap.org/data/2.5/weather?q=guilin,cn&units=imperial&APPID=275d975a1c2099dde8c73d59417061cd'"
      ]
     },
     "execution_count": 5,
     "metadata": {},
     "output_type": "execute_result"
    },
    {
     "data": {
      "text/plain": [
       "'----------------------------------------------------'"
      ]
     },
     "execution_count": 5,
     "metadata": {},
     "output_type": "execute_result"
    },
    {
     "data": {
      "text/plain": [
       "'Processing request for city 513: swan river'"
      ]
     },
     "execution_count": 5,
     "metadata": {},
     "output_type": "execute_result"
    },
    {
     "data": {
      "text/plain": [
       "'http://api.openweathermap.org/data/2.5/weather?q=swan river,ca&units=imperial&APPID=275d975a1c2099dde8c73d59417061cd'"
      ]
     },
     "execution_count": 5,
     "metadata": {},
     "output_type": "execute_result"
    },
    {
     "data": {
      "text/plain": [
       "'----------------------------------------------------'"
      ]
     },
     "execution_count": 5,
     "metadata": {},
     "output_type": "execute_result"
    },
    {
     "data": {
      "text/plain": [
       "'Processing request for city 514: saint-jean-de-maurienne'"
      ]
     },
     "execution_count": 5,
     "metadata": {},
     "output_type": "execute_result"
    },
    {
     "data": {
      "text/plain": [
       "'http://api.openweathermap.org/data/2.5/weather?q=saint-jean-de-maurienne,fr&units=imperial&APPID=275d975a1c2099dde8c73d59417061cd'"
      ]
     },
     "execution_count": 5,
     "metadata": {},
     "output_type": "execute_result"
    },
    {
     "data": {
      "text/plain": [
       "'----------------------------------------------------'"
      ]
     },
     "execution_count": 5,
     "metadata": {},
     "output_type": "execute_result"
    },
    {
     "data": {
      "text/plain": [
       "'Processing request for city 515: bonthe'"
      ]
     },
     "execution_count": 5,
     "metadata": {},
     "output_type": "execute_result"
    },
    {
     "data": {
      "text/plain": [
       "'http://api.openweathermap.org/data/2.5/weather?q=bonthe,sl&units=imperial&APPID=275d975a1c2099dde8c73d59417061cd'"
      ]
     },
     "execution_count": 5,
     "metadata": {},
     "output_type": "execute_result"
    },
    {
     "data": {
      "text/plain": [
       "'----------------------------------------------------'"
      ]
     },
     "execution_count": 5,
     "metadata": {},
     "output_type": "execute_result"
    },
    {
     "data": {
      "text/plain": [
       "'Processing request for city 516: olden'"
      ]
     },
     "execution_count": 5,
     "metadata": {},
     "output_type": "execute_result"
    },
    {
     "data": {
      "text/plain": [
       "'http://api.openweathermap.org/data/2.5/weather?q=olden,no&units=imperial&APPID=275d975a1c2099dde8c73d59417061cd'"
      ]
     },
     "execution_count": 5,
     "metadata": {},
     "output_type": "execute_result"
    },
    {
     "data": {
      "text/plain": [
       "'----------------------------------------------------'"
      ]
     },
     "execution_count": 5,
     "metadata": {},
     "output_type": "execute_result"
    },
    {
     "data": {
      "text/plain": [
       "'Processing request for city 517: boyabat'"
      ]
     },
     "execution_count": 5,
     "metadata": {},
     "output_type": "execute_result"
    },
    {
     "data": {
      "text/plain": [
       "'http://api.openweathermap.org/data/2.5/weather?q=boyabat,tr&units=imperial&APPID=275d975a1c2099dde8c73d59417061cd'"
      ]
     },
     "execution_count": 5,
     "metadata": {},
     "output_type": "execute_result"
    },
    {
     "data": {
      "text/plain": [
       "'----------------------------------------------------'"
      ]
     },
     "execution_count": 5,
     "metadata": {},
     "output_type": "execute_result"
    },
    {
     "data": {
      "text/plain": [
       "'Processing request for city 518: bandarbeyla'"
      ]
     },
     "execution_count": 5,
     "metadata": {},
     "output_type": "execute_result"
    },
    {
     "data": {
      "text/plain": [
       "'http://api.openweathermap.org/data/2.5/weather?q=bandarbeyla,so&units=imperial&APPID=275d975a1c2099dde8c73d59417061cd'"
      ]
     },
     "execution_count": 5,
     "metadata": {},
     "output_type": "execute_result"
    },
    {
     "data": {
      "text/plain": [
       "'----------------------------------------------------'"
      ]
     },
     "execution_count": 5,
     "metadata": {},
     "output_type": "execute_result"
    },
    {
     "data": {
      "text/plain": [
       "'Processing request for city 519: dandong'"
      ]
     },
     "execution_count": 5,
     "metadata": {},
     "output_type": "execute_result"
    },
    {
     "data": {
      "text/plain": [
       "'http://api.openweathermap.org/data/2.5/weather?q=dandong,cn&units=imperial&APPID=275d975a1c2099dde8c73d59417061cd'"
      ]
     },
     "execution_count": 5,
     "metadata": {},
     "output_type": "execute_result"
    },
    {
     "data": {
      "text/plain": [
       "'----------------------------------------------------'"
      ]
     },
     "execution_count": 5,
     "metadata": {},
     "output_type": "execute_result"
    },
    {
     "data": {
      "text/plain": [
       "'Processing request for city 520: de aar'"
      ]
     },
     "execution_count": 5,
     "metadata": {},
     "output_type": "execute_result"
    },
    {
     "data": {
      "text/plain": [
       "'http://api.openweathermap.org/data/2.5/weather?q=de aar,za&units=imperial&APPID=275d975a1c2099dde8c73d59417061cd'"
      ]
     },
     "execution_count": 5,
     "metadata": {},
     "output_type": "execute_result"
    },
    {
     "data": {
      "text/plain": [
       "'----------------------------------------------------'"
      ]
     },
     "execution_count": 5,
     "metadata": {},
     "output_type": "execute_result"
    },
    {
     "data": {
      "text/plain": [
       "'Processing request for city 521: myitkyina'"
      ]
     },
     "execution_count": 5,
     "metadata": {},
     "output_type": "execute_result"
    },
    {
     "data": {
      "text/plain": [
       "'http://api.openweathermap.org/data/2.5/weather?q=myitkyina,mm&units=imperial&APPID=275d975a1c2099dde8c73d59417061cd'"
      ]
     },
     "execution_count": 5,
     "metadata": {},
     "output_type": "execute_result"
    },
    {
     "data": {
      "text/plain": [
       "'----------------------------------------------------'"
      ]
     },
     "execution_count": 5,
     "metadata": {},
     "output_type": "execute_result"
    },
    {
     "data": {
      "text/plain": [
       "'Processing request for city 522: luzhou'"
      ]
     },
     "execution_count": 5,
     "metadata": {},
     "output_type": "execute_result"
    },
    {
     "data": {
      "text/plain": [
       "'http://api.openweathermap.org/data/2.5/weather?q=luzhou,cn&units=imperial&APPID=275d975a1c2099dde8c73d59417061cd'"
      ]
     },
     "execution_count": 5,
     "metadata": {},
     "output_type": "execute_result"
    },
    {
     "data": {
      "text/plain": [
       "'----------------------------------------------------'"
      ]
     },
     "execution_count": 5,
     "metadata": {},
     "output_type": "execute_result"
    },
    {
     "data": {
      "text/plain": [
       "'Processing request for city 523: bang saphan'"
      ]
     },
     "execution_count": 5,
     "metadata": {},
     "output_type": "execute_result"
    },
    {
     "data": {
      "text/plain": [
       "'http://api.openweathermap.org/data/2.5/weather?q=bang saphan,th&units=imperial&APPID=275d975a1c2099dde8c73d59417061cd'"
      ]
     },
     "execution_count": 5,
     "metadata": {},
     "output_type": "execute_result"
    },
    {
     "data": {
      "text/plain": [
       "'----------------------------------------------------'"
      ]
     },
     "execution_count": 5,
     "metadata": {},
     "output_type": "execute_result"
    },
    {
     "data": {
      "text/plain": [
       "'Processing request for city 524: beauvais'"
      ]
     },
     "execution_count": 5,
     "metadata": {},
     "output_type": "execute_result"
    },
    {
     "data": {
      "text/plain": [
       "'http://api.openweathermap.org/data/2.5/weather?q=beauvais,fr&units=imperial&APPID=275d975a1c2099dde8c73d59417061cd'"
      ]
     },
     "execution_count": 5,
     "metadata": {},
     "output_type": "execute_result"
    },
    {
     "data": {
      "text/plain": [
       "'----------------------------------------------------'"
      ]
     },
     "execution_count": 5,
     "metadata": {},
     "output_type": "execute_result"
    },
    {
     "data": {
      "text/plain": [
       "'Processing request for city 525: rawson'"
      ]
     },
     "execution_count": 5,
     "metadata": {},
     "output_type": "execute_result"
    },
    {
     "data": {
      "text/plain": [
       "'http://api.openweathermap.org/data/2.5/weather?q=rawson,ar&units=imperial&APPID=275d975a1c2099dde8c73d59417061cd'"
      ]
     },
     "execution_count": 5,
     "metadata": {},
     "output_type": "execute_result"
    },
    {
     "data": {
      "text/plain": [
       "'----------------------------------------------------'"
      ]
     },
     "execution_count": 5,
     "metadata": {},
     "output_type": "execute_result"
    },
    {
     "data": {
      "text/plain": [
       "'Processing request for city 526: richards bay'"
      ]
     },
     "execution_count": 5,
     "metadata": {},
     "output_type": "execute_result"
    },
    {
     "data": {
      "text/plain": [
       "'http://api.openweathermap.org/data/2.5/weather?q=richards bay,za&units=imperial&APPID=275d975a1c2099dde8c73d59417061cd'"
      ]
     },
     "execution_count": 5,
     "metadata": {},
     "output_type": "execute_result"
    },
    {
     "data": {
      "text/plain": [
       "'----------------------------------------------------'"
      ]
     },
     "execution_count": 5,
     "metadata": {},
     "output_type": "execute_result"
    },
    {
     "data": {
      "text/plain": [
       "'Processing request for city 527: manicore'"
      ]
     },
     "execution_count": 5,
     "metadata": {},
     "output_type": "execute_result"
    },
    {
     "data": {
      "text/plain": [
       "'http://api.openweathermap.org/data/2.5/weather?q=manicore,br&units=imperial&APPID=275d975a1c2099dde8c73d59417061cd'"
      ]
     },
     "execution_count": 5,
     "metadata": {},
     "output_type": "execute_result"
    },
    {
     "data": {
      "text/plain": [
       "'----------------------------------------------------'"
      ]
     },
     "execution_count": 5,
     "metadata": {},
     "output_type": "execute_result"
    },
    {
     "data": {
      "text/plain": [
       "'Processing request for city 528: neijiang'"
      ]
     },
     "execution_count": 5,
     "metadata": {},
     "output_type": "execute_result"
    },
    {
     "data": {
      "text/plain": [
       "'http://api.openweathermap.org/data/2.5/weather?q=neijiang,cn&units=imperial&APPID=275d975a1c2099dde8c73d59417061cd'"
      ]
     },
     "execution_count": 5,
     "metadata": {},
     "output_type": "execute_result"
    },
    {
     "data": {
      "text/plain": [
       "'----------------------------------------------------'"
      ]
     },
     "execution_count": 5,
     "metadata": {},
     "output_type": "execute_result"
    },
    {
     "data": {
      "text/plain": [
       "'Processing request for city 529: melnikovo'"
      ]
     },
     "execution_count": 5,
     "metadata": {},
     "output_type": "execute_result"
    },
    {
     "data": {
      "text/plain": [
       "'http://api.openweathermap.org/data/2.5/weather?q=melnikovo,ru&units=imperial&APPID=275d975a1c2099dde8c73d59417061cd'"
      ]
     },
     "execution_count": 5,
     "metadata": {},
     "output_type": "execute_result"
    },
    {
     "data": {
      "text/plain": [
       "'----------------------------------------------------'"
      ]
     },
     "execution_count": 5,
     "metadata": {},
     "output_type": "execute_result"
    },
    {
     "data": {
      "text/plain": [
       "'Processing request for city 530: barreirinhas'"
      ]
     },
     "execution_count": 5,
     "metadata": {},
     "output_type": "execute_result"
    },
    {
     "data": {
      "text/plain": [
       "'http://api.openweathermap.org/data/2.5/weather?q=barreirinhas,br&units=imperial&APPID=275d975a1c2099dde8c73d59417061cd'"
      ]
     },
     "execution_count": 5,
     "metadata": {},
     "output_type": "execute_result"
    },
    {
     "data": {
      "text/plain": [
       "'----------------------------------------------------'"
      ]
     },
     "execution_count": 5,
     "metadata": {},
     "output_type": "execute_result"
    },
    {
     "data": {
      "text/plain": [
       "'Processing request for city 531: cherkasskoye'"
      ]
     },
     "execution_count": 5,
     "metadata": {},
     "output_type": "execute_result"
    },
    {
     "data": {
      "text/plain": [
       "'http://api.openweathermap.org/data/2.5/weather?q=cherkasskoye,ru&units=imperial&APPID=275d975a1c2099dde8c73d59417061cd'"
      ]
     },
     "execution_count": 5,
     "metadata": {},
     "output_type": "execute_result"
    },
    {
     "data": {
      "text/plain": [
       "'----------------------------------------------------'"
      ]
     },
     "execution_count": 5,
     "metadata": {},
     "output_type": "execute_result"
    },
    {
     "data": {
      "text/plain": [
       "'Processing request for city 532: fortuna'"
      ]
     },
     "execution_count": 5,
     "metadata": {},
     "output_type": "execute_result"
    },
    {
     "data": {
      "text/plain": [
       "'http://api.openweathermap.org/data/2.5/weather?q=fortuna,us&units=imperial&APPID=275d975a1c2099dde8c73d59417061cd'"
      ]
     },
     "execution_count": 5,
     "metadata": {},
     "output_type": "execute_result"
    },
    {
     "data": {
      "text/plain": [
       "'----------------------------------------------------'"
      ]
     },
     "execution_count": 5,
     "metadata": {},
     "output_type": "execute_result"
    },
    {
     "data": {
      "text/plain": [
       "'Processing request for city 533: yumen'"
      ]
     },
     "execution_count": 5,
     "metadata": {},
     "output_type": "execute_result"
    },
    {
     "data": {
      "text/plain": [
       "'http://api.openweathermap.org/data/2.5/weather?q=yumen,cn&units=imperial&APPID=275d975a1c2099dde8c73d59417061cd'"
      ]
     },
     "execution_count": 5,
     "metadata": {},
     "output_type": "execute_result"
    },
    {
     "data": {
      "text/plain": [
       "'----------------------------------------------------'"
      ]
     },
     "execution_count": 5,
     "metadata": {},
     "output_type": "execute_result"
    },
    {
     "data": {
      "text/plain": [
       "'Processing request for city 534: bac lieu'"
      ]
     },
     "execution_count": 5,
     "metadata": {},
     "output_type": "execute_result"
    },
    {
     "data": {
      "text/plain": [
       "'http://api.openweathermap.org/data/2.5/weather?q=bac lieu,vn&units=imperial&APPID=275d975a1c2099dde8c73d59417061cd'"
      ]
     },
     "execution_count": 5,
     "metadata": {},
     "output_type": "execute_result"
    },
    {
     "data": {
      "text/plain": [
       "'City not found. Proceeding to next city on list...'"
      ]
     },
     "execution_count": 5,
     "metadata": {},
     "output_type": "execute_result"
    },
    {
     "data": {
      "text/plain": [
       "'----------------------------------------------------'"
      ]
     },
     "execution_count": 5,
     "metadata": {},
     "output_type": "execute_result"
    },
    {
     "data": {
      "text/plain": [
       "'Processing request for city 535: rio grande'"
      ]
     },
     "execution_count": 5,
     "metadata": {},
     "output_type": "execute_result"
    },
    {
     "data": {
      "text/plain": [
       "'http://api.openweathermap.org/data/2.5/weather?q=rio grande,br&units=imperial&APPID=275d975a1c2099dde8c73d59417061cd'"
      ]
     },
     "execution_count": 5,
     "metadata": {},
     "output_type": "execute_result"
    },
    {
     "data": {
      "text/plain": [
       "'----------------------------------------------------'"
      ]
     },
     "execution_count": 5,
     "metadata": {},
     "output_type": "execute_result"
    },
    {
     "data": {
      "text/plain": [
       "'Processing request for city 536: marystown'"
      ]
     },
     "execution_count": 5,
     "metadata": {},
     "output_type": "execute_result"
    },
    {
     "data": {
      "text/plain": [
       "'http://api.openweathermap.org/data/2.5/weather?q=marystown,ca&units=imperial&APPID=275d975a1c2099dde8c73d59417061cd'"
      ]
     },
     "execution_count": 5,
     "metadata": {},
     "output_type": "execute_result"
    },
    {
     "data": {
      "text/plain": [
       "'----------------------------------------------------'"
      ]
     },
     "execution_count": 5,
     "metadata": {},
     "output_type": "execute_result"
    },
    {
     "data": {
      "text/plain": [
       "'Processing request for city 537: sinjah'"
      ]
     },
     "execution_count": 5,
     "metadata": {},
     "output_type": "execute_result"
    },
    {
     "data": {
      "text/plain": [
       "'http://api.openweathermap.org/data/2.5/weather?q=sinjah,sd&units=imperial&APPID=275d975a1c2099dde8c73d59417061cd'"
      ]
     },
     "execution_count": 5,
     "metadata": {},
     "output_type": "execute_result"
    },
    {
     "data": {
      "text/plain": [
       "'City not found. Proceeding to next city on list...'"
      ]
     },
     "execution_count": 5,
     "metadata": {},
     "output_type": "execute_result"
    },
    {
     "data": {
      "text/plain": [
       "'----------------------------------------------------'"
      ]
     },
     "execution_count": 5,
     "metadata": {},
     "output_type": "execute_result"
    },
    {
     "data": {
      "text/plain": [
       "'Processing request for city 538: fallon'"
      ]
     },
     "execution_count": 5,
     "metadata": {},
     "output_type": "execute_result"
    },
    {
     "data": {
      "text/plain": [
       "'http://api.openweathermap.org/data/2.5/weather?q=fallon,us&units=imperial&APPID=275d975a1c2099dde8c73d59417061cd'"
      ]
     },
     "execution_count": 5,
     "metadata": {},
     "output_type": "execute_result"
    },
    {
     "data": {
      "text/plain": [
       "'----------------------------------------------------'"
      ]
     },
     "execution_count": 5,
     "metadata": {},
     "output_type": "execute_result"
    },
    {
     "data": {
      "text/plain": [
       "'Processing request for city 539: alotau'"
      ]
     },
     "execution_count": 5,
     "metadata": {},
     "output_type": "execute_result"
    },
    {
     "data": {
      "text/plain": [
       "'http://api.openweathermap.org/data/2.5/weather?q=alotau,pg&units=imperial&APPID=275d975a1c2099dde8c73d59417061cd'"
      ]
     },
     "execution_count": 5,
     "metadata": {},
     "output_type": "execute_result"
    },
    {
     "data": {
      "text/plain": [
       "'City not found. Proceeding to next city on list...'"
      ]
     },
     "execution_count": 5,
     "metadata": {},
     "output_type": "execute_result"
    },
    {
     "data": {
      "text/plain": [
       "'----------------------------------------------------'"
      ]
     },
     "execution_count": 5,
     "metadata": {},
     "output_type": "execute_result"
    },
    {
     "data": {
      "text/plain": [
       "'Processing request for city 540: paradwip'"
      ]
     },
     "execution_count": 5,
     "metadata": {},
     "output_type": "execute_result"
    },
    {
     "data": {
      "text/plain": [
       "'http://api.openweathermap.org/data/2.5/weather?q=paradwip,in&units=imperial&APPID=275d975a1c2099dde8c73d59417061cd'"
      ]
     },
     "execution_count": 5,
     "metadata": {},
     "output_type": "execute_result"
    },
    {
     "data": {
      "text/plain": [
       "'City not found. Proceeding to next city on list...'"
      ]
     },
     "execution_count": 5,
     "metadata": {},
     "output_type": "execute_result"
    },
    {
     "data": {
      "text/plain": [
       "'----------------------------------------------------'"
      ]
     },
     "execution_count": 5,
     "metadata": {},
     "output_type": "execute_result"
    },
    {
     "data": {
      "text/plain": [
       "'----------------------------------------------------'"
      ]
     },
     "execution_count": 5,
     "metadata": {},
     "output_type": "execute_result"
    },
    {
     "data": {
      "text/plain": [
       "'Pausing API requests for 20 seconds.'"
      ]
     },
     "execution_count": 5,
     "metadata": {},
     "output_type": "execute_result"
    },
    {
     "data": {
      "text/plain": [
       "\"(Don't want to overload my free account here.)\""
      ]
     },
     "execution_count": 5,
     "metadata": {},
     "output_type": "execute_result"
    },
    {
     "data": {
      "text/plain": [
       "'----------------------------------------------------'"
      ]
     },
     "execution_count": 5,
     "metadata": {},
     "output_type": "execute_result"
    },
    {
     "data": {
      "text/plain": [
       "'Processing request for city 541: franklin park'"
      ]
     },
     "execution_count": 5,
     "metadata": {},
     "output_type": "execute_result"
    },
    {
     "data": {
      "text/plain": [
       "'http://api.openweathermap.org/data/2.5/weather?q=franklin park,us&units=imperial&APPID=275d975a1c2099dde8c73d59417061cd'"
      ]
     },
     "execution_count": 5,
     "metadata": {},
     "output_type": "execute_result"
    },
    {
     "data": {
      "text/plain": [
       "'----------------------------------------------------'"
      ]
     },
     "execution_count": 5,
     "metadata": {},
     "output_type": "execute_result"
    },
    {
     "data": {
      "text/plain": [
       "'Processing request for city 542: lokosovo'"
      ]
     },
     "execution_count": 5,
     "metadata": {},
     "output_type": "execute_result"
    },
    {
     "data": {
      "text/plain": [
       "'http://api.openweathermap.org/data/2.5/weather?q=lokosovo,ru&units=imperial&APPID=275d975a1c2099dde8c73d59417061cd'"
      ]
     },
     "execution_count": 5,
     "metadata": {},
     "output_type": "execute_result"
    },
    {
     "data": {
      "text/plain": [
       "'----------------------------------------------------'"
      ]
     },
     "execution_count": 5,
     "metadata": {},
     "output_type": "execute_result"
    },
    {
     "data": {
      "text/plain": [
       "'Processing request for city 543: presidencia roque saenz pena'"
      ]
     },
     "execution_count": 5,
     "metadata": {},
     "output_type": "execute_result"
    },
    {
     "data": {
      "text/plain": [
       "'http://api.openweathermap.org/data/2.5/weather?q=presidencia roque saenz pena,ar&units=imperial&APPID=275d975a1c2099dde8c73d59417061cd'"
      ]
     },
     "execution_count": 5,
     "metadata": {},
     "output_type": "execute_result"
    },
    {
     "data": {
      "text/plain": [
       "'----------------------------------------------------'"
      ]
     },
     "execution_count": 5,
     "metadata": {},
     "output_type": "execute_result"
    },
    {
     "data": {
      "text/plain": [
       "'Processing request for city 544: teahupoo'"
      ]
     },
     "execution_count": 5,
     "metadata": {},
     "output_type": "execute_result"
    },
    {
     "data": {
      "text/plain": [
       "'http://api.openweathermap.org/data/2.5/weather?q=teahupoo,pf&units=imperial&APPID=275d975a1c2099dde8c73d59417061cd'"
      ]
     },
     "execution_count": 5,
     "metadata": {},
     "output_type": "execute_result"
    },
    {
     "data": {
      "text/plain": [
       "'----------------------------------------------------'"
      ]
     },
     "execution_count": 5,
     "metadata": {},
     "output_type": "execute_result"
    },
    {
     "data": {
      "text/plain": [
       "'Processing request for city 545: muyezerskiy'"
      ]
     },
     "execution_count": 5,
     "metadata": {},
     "output_type": "execute_result"
    },
    {
     "data": {
      "text/plain": [
       "'http://api.openweathermap.org/data/2.5/weather?q=muyezerskiy,ru&units=imperial&APPID=275d975a1c2099dde8c73d59417061cd'"
      ]
     },
     "execution_count": 5,
     "metadata": {},
     "output_type": "execute_result"
    },
    {
     "data": {
      "text/plain": [
       "'----------------------------------------------------'"
      ]
     },
     "execution_count": 5,
     "metadata": {},
     "output_type": "execute_result"
    },
    {
     "data": {
      "text/plain": [
       "'Processing request for city 546: kollumerland'"
      ]
     },
     "execution_count": 5,
     "metadata": {},
     "output_type": "execute_result"
    },
    {
     "data": {
      "text/plain": [
       "'http://api.openweathermap.org/data/2.5/weather?q=kollumerland,nl&units=imperial&APPID=275d975a1c2099dde8c73d59417061cd'"
      ]
     },
     "execution_count": 5,
     "metadata": {},
     "output_type": "execute_result"
    },
    {
     "data": {
      "text/plain": [
       "'City not found. Proceeding to next city on list...'"
      ]
     },
     "execution_count": 5,
     "metadata": {},
     "output_type": "execute_result"
    },
    {
     "data": {
      "text/plain": [
       "'----------------------------------------------------'"
      ]
     },
     "execution_count": 5,
     "metadata": {},
     "output_type": "execute_result"
    },
    {
     "data": {
      "text/plain": [
       "'Processing request for city 547: athens'"
      ]
     },
     "execution_count": 5,
     "metadata": {},
     "output_type": "execute_result"
    },
    {
     "data": {
      "text/plain": [
       "'http://api.openweathermap.org/data/2.5/weather?q=athens,us&units=imperial&APPID=275d975a1c2099dde8c73d59417061cd'"
      ]
     },
     "execution_count": 5,
     "metadata": {},
     "output_type": "execute_result"
    },
    {
     "data": {
      "text/plain": [
       "'----------------------------------------------------'"
      ]
     },
     "execution_count": 5,
     "metadata": {},
     "output_type": "execute_result"
    },
    {
     "data": {
      "text/plain": [
       "'Processing request for city 548: gao'"
      ]
     },
     "execution_count": 5,
     "metadata": {},
     "output_type": "execute_result"
    },
    {
     "data": {
      "text/plain": [
       "'http://api.openweathermap.org/data/2.5/weather?q=gao,ml&units=imperial&APPID=275d975a1c2099dde8c73d59417061cd'"
      ]
     },
     "execution_count": 5,
     "metadata": {},
     "output_type": "execute_result"
    },
    {
     "data": {
      "text/plain": [
       "'----------------------------------------------------'"
      ]
     },
     "execution_count": 5,
     "metadata": {},
     "output_type": "execute_result"
    },
    {
     "data": {
      "text/plain": [
       "'Processing request for city 549: bulgan'"
      ]
     },
     "execution_count": 5,
     "metadata": {},
     "output_type": "execute_result"
    },
    {
     "data": {
      "text/plain": [
       "'http://api.openweathermap.org/data/2.5/weather?q=bulgan,mn&units=imperial&APPID=275d975a1c2099dde8c73d59417061cd'"
      ]
     },
     "execution_count": 5,
     "metadata": {},
     "output_type": "execute_result"
    },
    {
     "data": {
      "text/plain": [
       "'----------------------------------------------------'"
      ]
     },
     "execution_count": 5,
     "metadata": {},
     "output_type": "execute_result"
    },
    {
     "data": {
      "text/plain": [
       "'Processing request for city 550: killam'"
      ]
     },
     "execution_count": 5,
     "metadata": {},
     "output_type": "execute_result"
    },
    {
     "data": {
      "text/plain": [
       "'http://api.openweathermap.org/data/2.5/weather?q=killam,ca&units=imperial&APPID=275d975a1c2099dde8c73d59417061cd'"
      ]
     },
     "execution_count": 5,
     "metadata": {},
     "output_type": "execute_result"
    },
    {
     "data": {
      "text/plain": [
       "'----------------------------------------------------'"
      ]
     },
     "execution_count": 5,
     "metadata": {},
     "output_type": "execute_result"
    },
    {
     "data": {
      "text/plain": [
       "'Processing request for city 551: belaya gora'"
      ]
     },
     "execution_count": 5,
     "metadata": {},
     "output_type": "execute_result"
    },
    {
     "data": {
      "text/plain": [
       "'http://api.openweathermap.org/data/2.5/weather?q=belaya gora,ru&units=imperial&APPID=275d975a1c2099dde8c73d59417061cd'"
      ]
     },
     "execution_count": 5,
     "metadata": {},
     "output_type": "execute_result"
    },
    {
     "data": {
      "text/plain": [
       "'----------------------------------------------------'"
      ]
     },
     "execution_count": 5,
     "metadata": {},
     "output_type": "execute_result"
    },
    {
     "data": {
      "text/plain": [
       "'Processing request for city 552: adrar'"
      ]
     },
     "execution_count": 5,
     "metadata": {},
     "output_type": "execute_result"
    },
    {
     "data": {
      "text/plain": [
       "'http://api.openweathermap.org/data/2.5/weather?q=adrar,dz&units=imperial&APPID=275d975a1c2099dde8c73d59417061cd'"
      ]
     },
     "execution_count": 5,
     "metadata": {},
     "output_type": "execute_result"
    },
    {
     "data": {
      "text/plain": [
       "'----------------------------------------------------'"
      ]
     },
     "execution_count": 5,
     "metadata": {},
     "output_type": "execute_result"
    },
    {
     "data": {
      "text/plain": [
       "'Processing request for city 553: san andres'"
      ]
     },
     "execution_count": 5,
     "metadata": {},
     "output_type": "execute_result"
    },
    {
     "data": {
      "text/plain": [
       "'http://api.openweathermap.org/data/2.5/weather?q=san andres,co&units=imperial&APPID=275d975a1c2099dde8c73d59417061cd'"
      ]
     },
     "execution_count": 5,
     "metadata": {},
     "output_type": "execute_result"
    },
    {
     "data": {
      "text/plain": [
       "'----------------------------------------------------'"
      ]
     },
     "execution_count": 5,
     "metadata": {},
     "output_type": "execute_result"
    },
    {
     "data": {
      "text/plain": [
       "'Processing request for city 554: ishigaki'"
      ]
     },
     "execution_count": 5,
     "metadata": {},
     "output_type": "execute_result"
    },
    {
     "data": {
      "text/plain": [
       "'http://api.openweathermap.org/data/2.5/weather?q=ishigaki,jp&units=imperial&APPID=275d975a1c2099dde8c73d59417061cd'"
      ]
     },
     "execution_count": 5,
     "metadata": {},
     "output_type": "execute_result"
    },
    {
     "data": {
      "text/plain": [
       "'----------------------------------------------------'"
      ]
     },
     "execution_count": 5,
     "metadata": {},
     "output_type": "execute_result"
    },
    {
     "data": {
      "text/plain": [
       "'Processing request for city 555: kentau'"
      ]
     },
     "execution_count": 5,
     "metadata": {},
     "output_type": "execute_result"
    },
    {
     "data": {
      "text/plain": [
       "'http://api.openweathermap.org/data/2.5/weather?q=kentau,kz&units=imperial&APPID=275d975a1c2099dde8c73d59417061cd'"
      ]
     },
     "execution_count": 5,
     "metadata": {},
     "output_type": "execute_result"
    },
    {
     "data": {
      "text/plain": [
       "'----------------------------------------------------'"
      ]
     },
     "execution_count": 5,
     "metadata": {},
     "output_type": "execute_result"
    },
    {
     "data": {
      "text/plain": [
       "'Processing request for city 556: taltal'"
      ]
     },
     "execution_count": 5,
     "metadata": {},
     "output_type": "execute_result"
    },
    {
     "data": {
      "text/plain": [
       "'http://api.openweathermap.org/data/2.5/weather?q=taltal,cl&units=imperial&APPID=275d975a1c2099dde8c73d59417061cd'"
      ]
     },
     "execution_count": 5,
     "metadata": {},
     "output_type": "execute_result"
    },
    {
     "data": {
      "text/plain": [
       "'----------------------------------------------------'"
      ]
     },
     "execution_count": 5,
     "metadata": {},
     "output_type": "execute_result"
    },
    {
     "data": {
      "text/plain": [
       "'Processing request for city 557: tooele'"
      ]
     },
     "execution_count": 5,
     "metadata": {},
     "output_type": "execute_result"
    },
    {
     "data": {
      "text/plain": [
       "'http://api.openweathermap.org/data/2.5/weather?q=tooele,us&units=imperial&APPID=275d975a1c2099dde8c73d59417061cd'"
      ]
     },
     "execution_count": 5,
     "metadata": {},
     "output_type": "execute_result"
    },
    {
     "data": {
      "text/plain": [
       "'----------------------------------------------------'"
      ]
     },
     "execution_count": 5,
     "metadata": {},
     "output_type": "execute_result"
    },
    {
     "data": {
      "text/plain": [
       "'Processing request for city 558: pangnirtung'"
      ]
     },
     "execution_count": 5,
     "metadata": {},
     "output_type": "execute_result"
    },
    {
     "data": {
      "text/plain": [
       "'http://api.openweathermap.org/data/2.5/weather?q=pangnirtung,ca&units=imperial&APPID=275d975a1c2099dde8c73d59417061cd'"
      ]
     },
     "execution_count": 5,
     "metadata": {},
     "output_type": "execute_result"
    },
    {
     "data": {
      "text/plain": [
       "'----------------------------------------------------'"
      ]
     },
     "execution_count": 5,
     "metadata": {},
     "output_type": "execute_result"
    },
    {
     "data": {
      "text/plain": [
       "'Processing request for city 559: omsukchan'"
      ]
     },
     "execution_count": 5,
     "metadata": {},
     "output_type": "execute_result"
    },
    {
     "data": {
      "text/plain": [
       "'http://api.openweathermap.org/data/2.5/weather?q=omsukchan,ru&units=imperial&APPID=275d975a1c2099dde8c73d59417061cd'"
      ]
     },
     "execution_count": 5,
     "metadata": {},
     "output_type": "execute_result"
    },
    {
     "data": {
      "text/plain": [
       "'----------------------------------------------------'"
      ]
     },
     "execution_count": 5,
     "metadata": {},
     "output_type": "execute_result"
    },
    {
     "data": {
      "text/plain": [
       "'Processing request for city 560: kirsanov'"
      ]
     },
     "execution_count": 5,
     "metadata": {},
     "output_type": "execute_result"
    },
    {
     "data": {
      "text/plain": [
       "'http://api.openweathermap.org/data/2.5/weather?q=kirsanov,ru&units=imperial&APPID=275d975a1c2099dde8c73d59417061cd'"
      ]
     },
     "execution_count": 5,
     "metadata": {},
     "output_type": "execute_result"
    },
    {
     "data": {
      "text/plain": [
       "'----------------------------------------------------'"
      ]
     },
     "execution_count": 5,
     "metadata": {},
     "output_type": "execute_result"
    },
    {
     "data": {
      "text/plain": [
       "'Processing request for city 561: taburi'"
      ]
     },
     "execution_count": 5,
     "metadata": {},
     "output_type": "execute_result"
    },
    {
     "data": {
      "text/plain": [
       "'http://api.openweathermap.org/data/2.5/weather?q=taburi,ph&units=imperial&APPID=275d975a1c2099dde8c73d59417061cd'"
      ]
     },
     "execution_count": 5,
     "metadata": {},
     "output_type": "execute_result"
    },
    {
     "data": {
      "text/plain": [
       "'City not found. Proceeding to next city on list...'"
      ]
     },
     "execution_count": 5,
     "metadata": {},
     "output_type": "execute_result"
    },
    {
     "data": {
      "text/plain": [
       "'----------------------------------------------------'"
      ]
     },
     "execution_count": 5,
     "metadata": {},
     "output_type": "execute_result"
    },
    {
     "data": {
      "text/plain": [
       "'Processing request for city 562: kashi'"
      ]
     },
     "execution_count": 5,
     "metadata": {},
     "output_type": "execute_result"
    },
    {
     "data": {
      "text/plain": [
       "'http://api.openweathermap.org/data/2.5/weather?q=kashi,cn&units=imperial&APPID=275d975a1c2099dde8c73d59417061cd'"
      ]
     },
     "execution_count": 5,
     "metadata": {},
     "output_type": "execute_result"
    },
    {
     "data": {
      "text/plain": [
       "'----------------------------------------------------'"
      ]
     },
     "execution_count": 5,
     "metadata": {},
     "output_type": "execute_result"
    },
    {
     "data": {
      "text/plain": [
       "'Processing request for city 563: nagornyy'"
      ]
     },
     "execution_count": 5,
     "metadata": {},
     "output_type": "execute_result"
    },
    {
     "data": {
      "text/plain": [
       "'http://api.openweathermap.org/data/2.5/weather?q=nagornyy,ru&units=imperial&APPID=275d975a1c2099dde8c73d59417061cd'"
      ]
     },
     "execution_count": 5,
     "metadata": {},
     "output_type": "execute_result"
    },
    {
     "data": {
      "text/plain": [
       "'City not found. Proceeding to next city on list...'"
      ]
     },
     "execution_count": 5,
     "metadata": {},
     "output_type": "execute_result"
    },
    {
     "data": {
      "text/plain": [
       "'----------------------------------------------------'"
      ]
     },
     "execution_count": 5,
     "metadata": {},
     "output_type": "execute_result"
    },
    {
     "data": {
      "text/plain": [
       "'Processing request for city 564: esmeraldas'"
      ]
     },
     "execution_count": 5,
     "metadata": {},
     "output_type": "execute_result"
    },
    {
     "data": {
      "text/plain": [
       "'http://api.openweathermap.org/data/2.5/weather?q=esmeraldas,ec&units=imperial&APPID=275d975a1c2099dde8c73d59417061cd'"
      ]
     },
     "execution_count": 5,
     "metadata": {},
     "output_type": "execute_result"
    },
    {
     "data": {
      "text/plain": [
       "'----------------------------------------------------'"
      ]
     },
     "execution_count": 5,
     "metadata": {},
     "output_type": "execute_result"
    },
    {
     "data": {
      "text/plain": [
       "'Processing request for city 565: zaysan'"
      ]
     },
     "execution_count": 5,
     "metadata": {},
     "output_type": "execute_result"
    },
    {
     "data": {
      "text/plain": [
       "'http://api.openweathermap.org/data/2.5/weather?q=zaysan,kz&units=imperial&APPID=275d975a1c2099dde8c73d59417061cd'"
      ]
     },
     "execution_count": 5,
     "metadata": {},
     "output_type": "execute_result"
    },
    {
     "data": {
      "text/plain": [
       "'----------------------------------------------------'"
      ]
     },
     "execution_count": 5,
     "metadata": {},
     "output_type": "execute_result"
    },
    {
     "data": {
      "text/plain": [
       "'Processing request for city 566: mandera'"
      ]
     },
     "execution_count": 5,
     "metadata": {},
     "output_type": "execute_result"
    },
    {
     "data": {
      "text/plain": [
       "'http://api.openweathermap.org/data/2.5/weather?q=mandera,ke&units=imperial&APPID=275d975a1c2099dde8c73d59417061cd'"
      ]
     },
     "execution_count": 5,
     "metadata": {},
     "output_type": "execute_result"
    },
    {
     "data": {
      "text/plain": [
       "'----------------------------------------------------'"
      ]
     },
     "execution_count": 5,
     "metadata": {},
     "output_type": "execute_result"
    },
    {
     "data": {
      "text/plain": [
       "'Processing request for city 567: narsaq'"
      ]
     },
     "execution_count": 5,
     "metadata": {},
     "output_type": "execute_result"
    },
    {
     "data": {
      "text/plain": [
       "'http://api.openweathermap.org/data/2.5/weather?q=narsaq,gl&units=imperial&APPID=275d975a1c2099dde8c73d59417061cd'"
      ]
     },
     "execution_count": 5,
     "metadata": {},
     "output_type": "execute_result"
    },
    {
     "data": {
      "text/plain": [
       "'----------------------------------------------------'"
      ]
     },
     "execution_count": 5,
     "metadata": {},
     "output_type": "execute_result"
    },
    {
     "data": {
      "text/plain": [
       "'Processing request for city 568: seoul'"
      ]
     },
     "execution_count": 5,
     "metadata": {},
     "output_type": "execute_result"
    },
    {
     "data": {
      "text/plain": [
       "'http://api.openweathermap.org/data/2.5/weather?q=seoul,kr&units=imperial&APPID=275d975a1c2099dde8c73d59417061cd'"
      ]
     },
     "execution_count": 5,
     "metadata": {},
     "output_type": "execute_result"
    },
    {
     "data": {
      "text/plain": [
       "'----------------------------------------------------'"
      ]
     },
     "execution_count": 5,
     "metadata": {},
     "output_type": "execute_result"
    },
    {
     "data": {
      "text/plain": [
       "'Processing request for city 569: kadoma'"
      ]
     },
     "execution_count": 5,
     "metadata": {},
     "output_type": "execute_result"
    },
    {
     "data": {
      "text/plain": [
       "'http://api.openweathermap.org/data/2.5/weather?q=kadoma,zw&units=imperial&APPID=275d975a1c2099dde8c73d59417061cd'"
      ]
     },
     "execution_count": 5,
     "metadata": {},
     "output_type": "execute_result"
    },
    {
     "data": {
      "text/plain": [
       "'----------------------------------------------------'"
      ]
     },
     "execution_count": 5,
     "metadata": {},
     "output_type": "execute_result"
    },
    {
     "data": {
      "text/plain": [
       "'Processing request for city 570: la libertad'"
      ]
     },
     "execution_count": 5,
     "metadata": {},
     "output_type": "execute_result"
    },
    {
     "data": {
      "text/plain": [
       "'http://api.openweathermap.org/data/2.5/weather?q=la libertad,sv&units=imperial&APPID=275d975a1c2099dde8c73d59417061cd'"
      ]
     },
     "execution_count": 5,
     "metadata": {},
     "output_type": "execute_result"
    },
    {
     "data": {
      "text/plain": [
       "'----------------------------------------------------'"
      ]
     },
     "execution_count": 5,
     "metadata": {},
     "output_type": "execute_result"
    },
    {
     "data": {
      "text/plain": [
       "'Processing request for city 571: sola'"
      ]
     },
     "execution_count": 5,
     "metadata": {},
     "output_type": "execute_result"
    },
    {
     "data": {
      "text/plain": [
       "'http://api.openweathermap.org/data/2.5/weather?q=sola,vu&units=imperial&APPID=275d975a1c2099dde8c73d59417061cd'"
      ]
     },
     "execution_count": 5,
     "metadata": {},
     "output_type": "execute_result"
    },
    {
     "data": {
      "text/plain": [
       "'----------------------------------------------------'"
      ]
     },
     "execution_count": 5,
     "metadata": {},
     "output_type": "execute_result"
    },
    {
     "data": {
      "text/plain": [
       "'Processing request for city 572: dingle'"
      ]
     },
     "execution_count": 5,
     "metadata": {},
     "output_type": "execute_result"
    },
    {
     "data": {
      "text/plain": [
       "'http://api.openweathermap.org/data/2.5/weather?q=dingle,ie&units=imperial&APPID=275d975a1c2099dde8c73d59417061cd'"
      ]
     },
     "execution_count": 5,
     "metadata": {},
     "output_type": "execute_result"
    },
    {
     "data": {
      "text/plain": [
       "'----------------------------------------------------'"
      ]
     },
     "execution_count": 5,
     "metadata": {},
     "output_type": "execute_result"
    },
    {
     "data": {
      "text/plain": [
       "'Processing request for city 573: sistranda'"
      ]
     },
     "execution_count": 5,
     "metadata": {},
     "output_type": "execute_result"
    },
    {
     "data": {
      "text/plain": [
       "'http://api.openweathermap.org/data/2.5/weather?q=sistranda,no&units=imperial&APPID=275d975a1c2099dde8c73d59417061cd'"
      ]
     },
     "execution_count": 5,
     "metadata": {},
     "output_type": "execute_result"
    },
    {
     "data": {
      "text/plain": [
       "'----------------------------------------------------'"
      ]
     },
     "execution_count": 5,
     "metadata": {},
     "output_type": "execute_result"
    },
    {
     "data": {
      "text/plain": [
       "'Processing request for city 574: manokwari'"
      ]
     },
     "execution_count": 5,
     "metadata": {},
     "output_type": "execute_result"
    },
    {
     "data": {
      "text/plain": [
       "'http://api.openweathermap.org/data/2.5/weather?q=manokwari,id&units=imperial&APPID=275d975a1c2099dde8c73d59417061cd'"
      ]
     },
     "execution_count": 5,
     "metadata": {},
     "output_type": "execute_result"
    },
    {
     "data": {
      "text/plain": [
       "'----------------------------------------------------'"
      ]
     },
     "execution_count": 5,
     "metadata": {},
     "output_type": "execute_result"
    },
    {
     "data": {
      "text/plain": [
       "'Processing request for city 575: labuhan'"
      ]
     },
     "execution_count": 5,
     "metadata": {},
     "output_type": "execute_result"
    },
    {
     "data": {
      "text/plain": [
       "'http://api.openweathermap.org/data/2.5/weather?q=labuhan,id&units=imperial&APPID=275d975a1c2099dde8c73d59417061cd'"
      ]
     },
     "execution_count": 5,
     "metadata": {},
     "output_type": "execute_result"
    },
    {
     "data": {
      "text/plain": [
       "'----------------------------------------------------'"
      ]
     },
     "execution_count": 5,
     "metadata": {},
     "output_type": "execute_result"
    },
    {
     "data": {
      "text/plain": [
       "'Processing request for city 576: siculeni'"
      ]
     },
     "execution_count": 5,
     "metadata": {},
     "output_type": "execute_result"
    },
    {
     "data": {
      "text/plain": [
       "'http://api.openweathermap.org/data/2.5/weather?q=siculeni,ro&units=imperial&APPID=275d975a1c2099dde8c73d59417061cd'"
      ]
     },
     "execution_count": 5,
     "metadata": {},
     "output_type": "execute_result"
    },
    {
     "data": {
      "text/plain": [
       "'----------------------------------------------------'"
      ]
     },
     "execution_count": 5,
     "metadata": {},
     "output_type": "execute_result"
    },
    {
     "data": {
      "text/plain": [
       "'Processing request for city 577: roma'"
      ]
     },
     "execution_count": 5,
     "metadata": {},
     "output_type": "execute_result"
    },
    {
     "data": {
      "text/plain": [
       "'http://api.openweathermap.org/data/2.5/weather?q=roma,au&units=imperial&APPID=275d975a1c2099dde8c73d59417061cd'"
      ]
     },
     "execution_count": 5,
     "metadata": {},
     "output_type": "execute_result"
    },
    {
     "data": {
      "text/plain": [
       "'----------------------------------------------------'"
      ]
     },
     "execution_count": 5,
     "metadata": {},
     "output_type": "execute_result"
    },
    {
     "data": {
      "text/plain": [
       "'Processing request for city 578: macia'"
      ]
     },
     "execution_count": 5,
     "metadata": {},
     "output_type": "execute_result"
    },
    {
     "data": {
      "text/plain": [
       "'http://api.openweathermap.org/data/2.5/weather?q=macia,mz&units=imperial&APPID=275d975a1c2099dde8c73d59417061cd'"
      ]
     },
     "execution_count": 5,
     "metadata": {},
     "output_type": "execute_result"
    },
    {
     "data": {
      "text/plain": [
       "'----------------------------------------------------'"
      ]
     },
     "execution_count": 5,
     "metadata": {},
     "output_type": "execute_result"
    },
    {
     "data": {
      "text/plain": [
       "'Processing request for city 579: marti'"
      ]
     },
     "execution_count": 5,
     "metadata": {},
     "output_type": "execute_result"
    },
    {
     "data": {
      "text/plain": [
       "'http://api.openweathermap.org/data/2.5/weather?q=marti,cu&units=imperial&APPID=275d975a1c2099dde8c73d59417061cd'"
      ]
     },
     "execution_count": 5,
     "metadata": {},
     "output_type": "execute_result"
    },
    {
     "data": {
      "text/plain": [
       "'----------------------------------------------------'"
      ]
     },
     "execution_count": 5,
     "metadata": {},
     "output_type": "execute_result"
    },
    {
     "data": {
      "text/plain": [
       "'Processing request for city 580: fort nelson'"
      ]
     },
     "execution_count": 5,
     "metadata": {},
     "output_type": "execute_result"
    },
    {
     "data": {
      "text/plain": [
       "'http://api.openweathermap.org/data/2.5/weather?q=fort nelson,ca&units=imperial&APPID=275d975a1c2099dde8c73d59417061cd'"
      ]
     },
     "execution_count": 5,
     "metadata": {},
     "output_type": "execute_result"
    },
    {
     "data": {
      "text/plain": [
       "'----------------------------------------------------'"
      ]
     },
     "execution_count": 5,
     "metadata": {},
     "output_type": "execute_result"
    },
    {
     "data": {
      "text/plain": [
       "'Processing request for city 581: klyuchi'"
      ]
     },
     "execution_count": 5,
     "metadata": {},
     "output_type": "execute_result"
    },
    {
     "data": {
      "text/plain": [
       "'http://api.openweathermap.org/data/2.5/weather?q=klyuchi,ru&units=imperial&APPID=275d975a1c2099dde8c73d59417061cd'"
      ]
     },
     "execution_count": 5,
     "metadata": {},
     "output_type": "execute_result"
    },
    {
     "data": {
      "text/plain": [
       "'----------------------------------------------------'"
      ]
     },
     "execution_count": 5,
     "metadata": {},
     "output_type": "execute_result"
    },
    {
     "data": {
      "text/plain": [
       "'Processing request for city 582: muli'"
      ]
     },
     "execution_count": 5,
     "metadata": {},
     "output_type": "execute_result"
    },
    {
     "data": {
      "text/plain": [
       "'http://api.openweathermap.org/data/2.5/weather?q=muli,mv&units=imperial&APPID=275d975a1c2099dde8c73d59417061cd'"
      ]
     },
     "execution_count": 5,
     "metadata": {},
     "output_type": "execute_result"
    },
    {
     "data": {
      "text/plain": [
       "'----------------------------------------------------'"
      ]
     },
     "execution_count": 5,
     "metadata": {},
     "output_type": "execute_result"
    },
    {
     "data": {
      "text/plain": [
       "'Processing request for city 583: kachikau'"
      ]
     },
     "execution_count": 5,
     "metadata": {},
     "output_type": "execute_result"
    },
    {
     "data": {
      "text/plain": [
       "'http://api.openweathermap.org/data/2.5/weather?q=kachikau,bw&units=imperial&APPID=275d975a1c2099dde8c73d59417061cd'"
      ]
     },
     "execution_count": 5,
     "metadata": {},
     "output_type": "execute_result"
    },
    {
     "data": {
      "text/plain": [
       "'City not found. Proceeding to next city on list...'"
      ]
     },
     "execution_count": 5,
     "metadata": {},
     "output_type": "execute_result"
    },
    {
     "data": {
      "text/plain": [
       "'----------------------------------------------------'"
      ]
     },
     "execution_count": 5,
     "metadata": {},
     "output_type": "execute_result"
    },
    {
     "data": {
      "text/plain": [
       "'Processing request for city 584: khoy'"
      ]
     },
     "execution_count": 5,
     "metadata": {},
     "output_type": "execute_result"
    },
    {
     "data": {
      "text/plain": [
       "'http://api.openweathermap.org/data/2.5/weather?q=khoy,ir&units=imperial&APPID=275d975a1c2099dde8c73d59417061cd'"
      ]
     },
     "execution_count": 5,
     "metadata": {},
     "output_type": "execute_result"
    },
    {
     "data": {
      "text/plain": [
       "'----------------------------------------------------'"
      ]
     },
     "execution_count": 5,
     "metadata": {},
     "output_type": "execute_result"
    },
    {
     "data": {
      "text/plain": [
       "'Processing request for city 585: kigali'"
      ]
     },
     "execution_count": 5,
     "metadata": {},
     "output_type": "execute_result"
    },
    {
     "data": {
      "text/plain": [
       "'http://api.openweathermap.org/data/2.5/weather?q=kigali,rw&units=imperial&APPID=275d975a1c2099dde8c73d59417061cd'"
      ]
     },
     "execution_count": 5,
     "metadata": {},
     "output_type": "execute_result"
    },
    {
     "data": {
      "text/plain": [
       "'----------------------------------------------------'"
      ]
     },
     "execution_count": 5,
     "metadata": {},
     "output_type": "execute_result"
    },
    {
     "data": {
      "text/plain": [
       "'Processing request for city 586: terra santa'"
      ]
     },
     "execution_count": 5,
     "metadata": {},
     "output_type": "execute_result"
    },
    {
     "data": {
      "text/plain": [
       "'http://api.openweathermap.org/data/2.5/weather?q=terra santa,br&units=imperial&APPID=275d975a1c2099dde8c73d59417061cd'"
      ]
     },
     "execution_count": 5,
     "metadata": {},
     "output_type": "execute_result"
    },
    {
     "data": {
      "text/plain": [
       "'----------------------------------------------------'"
      ]
     },
     "execution_count": 5,
     "metadata": {},
     "output_type": "execute_result"
    },
    {
     "data": {
      "text/plain": [
       "'Processing request for city 587: tiarei'"
      ]
     },
     "execution_count": 5,
     "metadata": {},
     "output_type": "execute_result"
    },
    {
     "data": {
      "text/plain": [
       "'http://api.openweathermap.org/data/2.5/weather?q=tiarei,pf&units=imperial&APPID=275d975a1c2099dde8c73d59417061cd'"
      ]
     },
     "execution_count": 5,
     "metadata": {},
     "output_type": "execute_result"
    },
    {
     "data": {
      "text/plain": [
       "'----------------------------------------------------'"
      ]
     },
     "execution_count": 5,
     "metadata": {},
     "output_type": "execute_result"
    },
    {
     "data": {
      "text/plain": [
       "'Processing request for city 588: fuerte olimpo'"
      ]
     },
     "execution_count": 5,
     "metadata": {},
     "output_type": "execute_result"
    },
    {
     "data": {
      "text/plain": [
       "'http://api.openweathermap.org/data/2.5/weather?q=fuerte olimpo,py&units=imperial&APPID=275d975a1c2099dde8c73d59417061cd'"
      ]
     },
     "execution_count": 5,
     "metadata": {},
     "output_type": "execute_result"
    },
    {
     "data": {
      "text/plain": [
       "'----------------------------------------------------'"
      ]
     },
     "execution_count": 5,
     "metadata": {},
     "output_type": "execute_result"
    },
    {
     "data": {
      "text/plain": [
       "'Processing request for city 589: coatepec harinas'"
      ]
     },
     "execution_count": 5,
     "metadata": {},
     "output_type": "execute_result"
    },
    {
     "data": {
      "text/plain": [
       "'http://api.openweathermap.org/data/2.5/weather?q=coatepec harinas,mx&units=imperial&APPID=275d975a1c2099dde8c73d59417061cd'"
      ]
     },
     "execution_count": 5,
     "metadata": {},
     "output_type": "execute_result"
    },
    {
     "data": {
      "text/plain": [
       "'----------------------------------------------------'"
      ]
     },
     "execution_count": 5,
     "metadata": {},
     "output_type": "execute_result"
    },
    {
     "data": {
      "text/plain": [
       "'Processing request for city 590: ahipara'"
      ]
     },
     "execution_count": 5,
     "metadata": {},
     "output_type": "execute_result"
    },
    {
     "data": {
      "text/plain": [
       "'http://api.openweathermap.org/data/2.5/weather?q=ahipara,nz&units=imperial&APPID=275d975a1c2099dde8c73d59417061cd'"
      ]
     },
     "execution_count": 5,
     "metadata": {},
     "output_type": "execute_result"
    },
    {
     "data": {
      "text/plain": [
       "'----------------------------------------------------'"
      ]
     },
     "execution_count": 5,
     "metadata": {},
     "output_type": "execute_result"
    },
    {
     "data": {
      "text/plain": [
       "'Processing request for city 591: truro'"
      ]
     },
     "execution_count": 5,
     "metadata": {},
     "output_type": "execute_result"
    },
    {
     "data": {
      "text/plain": [
       "'http://api.openweathermap.org/data/2.5/weather?q=truro,gb&units=imperial&APPID=275d975a1c2099dde8c73d59417061cd'"
      ]
     },
     "execution_count": 5,
     "metadata": {},
     "output_type": "execute_result"
    },
    {
     "data": {
      "text/plain": [
       "'----------------------------------------------------'"
      ]
     },
     "execution_count": 5,
     "metadata": {},
     "output_type": "execute_result"
    },
    {
     "data": {
      "text/plain": [
       "'Processing request for city 592: la peca'"
      ]
     },
     "execution_count": 5,
     "metadata": {},
     "output_type": "execute_result"
    },
    {
     "data": {
      "text/plain": [
       "'http://api.openweathermap.org/data/2.5/weather?q=la peca,pe&units=imperial&APPID=275d975a1c2099dde8c73d59417061cd'"
      ]
     },
     "execution_count": 5,
     "metadata": {},
     "output_type": "execute_result"
    },
    {
     "data": {
      "text/plain": [
       "'----------------------------------------------------'"
      ]
     },
     "execution_count": 5,
     "metadata": {},
     "output_type": "execute_result"
    },
    {
     "data": {
      "text/plain": [
       "'Processing request for city 593: dibaya'"
      ]
     },
     "execution_count": 5,
     "metadata": {},
     "output_type": "execute_result"
    },
    {
     "data": {
      "text/plain": [
       "'http://api.openweathermap.org/data/2.5/weather?q=dibaya,cd&units=imperial&APPID=275d975a1c2099dde8c73d59417061cd'"
      ]
     },
     "execution_count": 5,
     "metadata": {},
     "output_type": "execute_result"
    },
    {
     "data": {
      "text/plain": [
       "'City not found. Proceeding to next city on list...'"
      ]
     },
     "execution_count": 5,
     "metadata": {},
     "output_type": "execute_result"
    },
    {
     "data": {
      "text/plain": [
       "'----------------------------------------------------'"
      ]
     },
     "execution_count": 5,
     "metadata": {},
     "output_type": "execute_result"
    },
    {
     "data": {
      "text/plain": [
       "'Processing request for city 594: sudbury'"
      ]
     },
     "execution_count": 5,
     "metadata": {},
     "output_type": "execute_result"
    },
    {
     "data": {
      "text/plain": [
       "'http://api.openweathermap.org/data/2.5/weather?q=sudbury,ca&units=imperial&APPID=275d975a1c2099dde8c73d59417061cd'"
      ]
     },
     "execution_count": 5,
     "metadata": {},
     "output_type": "execute_result"
    },
    {
     "data": {
      "text/plain": [
       "'----------------------------------------------------'"
      ]
     },
     "execution_count": 5,
     "metadata": {},
     "output_type": "execute_result"
    },
    {
     "data": {
      "text/plain": [
       "'Processing request for city 595: las palmas'"
      ]
     },
     "execution_count": 5,
     "metadata": {},
     "output_type": "execute_result"
    },
    {
     "data": {
      "text/plain": [
       "'http://api.openweathermap.org/data/2.5/weather?q=las palmas,es&units=imperial&APPID=275d975a1c2099dde8c73d59417061cd'"
      ]
     },
     "execution_count": 5,
     "metadata": {},
     "output_type": "execute_result"
    },
    {
     "data": {
      "text/plain": [
       "'City not found. Proceeding to next city on list...'"
      ]
     },
     "execution_count": 5,
     "metadata": {},
     "output_type": "execute_result"
    },
    {
     "data": {
      "text/plain": [
       "'----------------------------------------------------'"
      ]
     },
     "execution_count": 5,
     "metadata": {},
     "output_type": "execute_result"
    },
    {
     "data": {
      "text/plain": [
       "'Processing request for city 596: derzhavinsk'"
      ]
     },
     "execution_count": 5,
     "metadata": {},
     "output_type": "execute_result"
    },
    {
     "data": {
      "text/plain": [
       "'http://api.openweathermap.org/data/2.5/weather?q=derzhavinsk,kz&units=imperial&APPID=275d975a1c2099dde8c73d59417061cd'"
      ]
     },
     "execution_count": 5,
     "metadata": {},
     "output_type": "execute_result"
    },
    {
     "data": {
      "text/plain": [
       "'----------------------------------------------------'"
      ]
     },
     "execution_count": 5,
     "metadata": {},
     "output_type": "execute_result"
    },
    {
     "data": {
      "text/plain": [
       "'Processing request for city 597: rundu'"
      ]
     },
     "execution_count": 5,
     "metadata": {},
     "output_type": "execute_result"
    },
    {
     "data": {
      "text/plain": [
       "'http://api.openweathermap.org/data/2.5/weather?q=rundu,na&units=imperial&APPID=275d975a1c2099dde8c73d59417061cd'"
      ]
     },
     "execution_count": 5,
     "metadata": {},
     "output_type": "execute_result"
    },
    {
     "data": {
      "text/plain": [
       "'----------------------------------------------------'"
      ]
     },
     "execution_count": 5,
     "metadata": {},
     "output_type": "execute_result"
    },
    {
     "data": {
      "text/plain": [
       "'Processing request for city 598: cumaribo'"
      ]
     },
     "execution_count": 5,
     "metadata": {},
     "output_type": "execute_result"
    },
    {
     "data": {
      "text/plain": [
       "'http://api.openweathermap.org/data/2.5/weather?q=cumaribo,co&units=imperial&APPID=275d975a1c2099dde8c73d59417061cd'"
      ]
     },
     "execution_count": 5,
     "metadata": {},
     "output_type": "execute_result"
    },
    {
     "data": {
      "text/plain": [
       "'City not found. Proceeding to next city on list...'"
      ]
     },
     "execution_count": 5,
     "metadata": {},
     "output_type": "execute_result"
    },
    {
     "data": {
      "text/plain": [
       "'----------------------------------------------------'"
      ]
     },
     "execution_count": 5,
     "metadata": {},
     "output_type": "execute_result"
    },
    {
     "data": {
      "text/plain": [
       "'Processing request for city 599: nueva loja'"
      ]
     },
     "execution_count": 5,
     "metadata": {},
     "output_type": "execute_result"
    },
    {
     "data": {
      "text/plain": [
       "'http://api.openweathermap.org/data/2.5/weather?q=nueva loja,ec&units=imperial&APPID=275d975a1c2099dde8c73d59417061cd'"
      ]
     },
     "execution_count": 5,
     "metadata": {},
     "output_type": "execute_result"
    },
    {
     "data": {
      "text/plain": [
       "'----------------------------------------------------'"
      ]
     },
     "execution_count": 5,
     "metadata": {},
     "output_type": "execute_result"
    },
    {
     "data": {
      "text/plain": [
       "'Processing request for city 600: panji'"
      ]
     },
     "execution_count": 5,
     "metadata": {},
     "output_type": "execute_result"
    },
    {
     "data": {
      "text/plain": [
       "'http://api.openweathermap.org/data/2.5/weather?q=panji,id&units=imperial&APPID=275d975a1c2099dde8c73d59417061cd'"
      ]
     },
     "execution_count": 5,
     "metadata": {},
     "output_type": "execute_result"
    },
    {
     "data": {
      "text/plain": [
       "'----------------------------------------------------'"
      ]
     },
     "execution_count": 5,
     "metadata": {},
     "output_type": "execute_result"
    },
    {
     "data": {
      "text/plain": [
       "'----------------------------------------------------'"
      ]
     },
     "execution_count": 5,
     "metadata": {},
     "output_type": "execute_result"
    },
    {
     "data": {
      "text/plain": [
       "'Pausing API requests for 20 seconds.'"
      ]
     },
     "execution_count": 5,
     "metadata": {},
     "output_type": "execute_result"
    },
    {
     "data": {
      "text/plain": [
       "\"(Don't want to overload my free account here.)\""
      ]
     },
     "execution_count": 5,
     "metadata": {},
     "output_type": "execute_result"
    },
    {
     "data": {
      "text/plain": [
       "'----------------------------------------------------'"
      ]
     },
     "execution_count": 5,
     "metadata": {},
     "output_type": "execute_result"
    },
    {
     "data": {
      "text/plain": [
       "'Processing request for city 601: iralaya'"
      ]
     },
     "execution_count": 5,
     "metadata": {},
     "output_type": "execute_result"
    },
    {
     "data": {
      "text/plain": [
       "'http://api.openweathermap.org/data/2.5/weather?q=iralaya,hn&units=imperial&APPID=275d975a1c2099dde8c73d59417061cd'"
      ]
     },
     "execution_count": 5,
     "metadata": {},
     "output_type": "execute_result"
    },
    {
     "data": {
      "text/plain": [
       "'----------------------------------------------------'"
      ]
     },
     "execution_count": 5,
     "metadata": {},
     "output_type": "execute_result"
    },
    {
     "data": {
      "text/plain": [
       "'Processing request for city 602: vila franca do campo'"
      ]
     },
     "execution_count": 5,
     "metadata": {},
     "output_type": "execute_result"
    },
    {
     "data": {
      "text/plain": [
       "'http://api.openweathermap.org/data/2.5/weather?q=vila franca do campo,pt&units=imperial&APPID=275d975a1c2099dde8c73d59417061cd'"
      ]
     },
     "execution_count": 5,
     "metadata": {},
     "output_type": "execute_result"
    },
    {
     "data": {
      "text/plain": [
       "'----------------------------------------------------'"
      ]
     },
     "execution_count": 5,
     "metadata": {},
     "output_type": "execute_result"
    },
    {
     "data": {
      "text/plain": [
       "'Processing request for city 603: ust-kamchatsk'"
      ]
     },
     "execution_count": 5,
     "metadata": {},
     "output_type": "execute_result"
    },
    {
     "data": {
      "text/plain": [
       "'http://api.openweathermap.org/data/2.5/weather?q=ust-kamchatsk,ru&units=imperial&APPID=275d975a1c2099dde8c73d59417061cd'"
      ]
     },
     "execution_count": 5,
     "metadata": {},
     "output_type": "execute_result"
    },
    {
     "data": {
      "text/plain": [
       "'City not found. Proceeding to next city on list...'"
      ]
     },
     "execution_count": 5,
     "metadata": {},
     "output_type": "execute_result"
    },
    {
     "data": {
      "text/plain": [
       "'----------------------------------------------------'"
      ]
     },
     "execution_count": 5,
     "metadata": {},
     "output_type": "execute_result"
    },
    {
     "data": {
      "text/plain": [
       "'Processing request for city 604: tanout'"
      ]
     },
     "execution_count": 5,
     "metadata": {},
     "output_type": "execute_result"
    },
    {
     "data": {
      "text/plain": [
       "'http://api.openweathermap.org/data/2.5/weather?q=tanout,ne&units=imperial&APPID=275d975a1c2099dde8c73d59417061cd'"
      ]
     },
     "execution_count": 5,
     "metadata": {},
     "output_type": "execute_result"
    },
    {
     "data": {
      "text/plain": [
       "'----------------------------------------------------'"
      ]
     },
     "execution_count": 5,
     "metadata": {},
     "output_type": "execute_result"
    },
    {
     "data": {
      "text/plain": [
       "'Processing request for city 605: tilichiki'"
      ]
     },
     "execution_count": 5,
     "metadata": {},
     "output_type": "execute_result"
    },
    {
     "data": {
      "text/plain": [
       "'http://api.openweathermap.org/data/2.5/weather?q=tilichiki,ru&units=imperial&APPID=275d975a1c2099dde8c73d59417061cd'"
      ]
     },
     "execution_count": 5,
     "metadata": {},
     "output_type": "execute_result"
    },
    {
     "data": {
      "text/plain": [
       "'----------------------------------------------------'"
      ]
     },
     "execution_count": 5,
     "metadata": {},
     "output_type": "execute_result"
    },
    {
     "data": {
      "text/plain": [
       "'Processing request for city 606: dale'"
      ]
     },
     "execution_count": 5,
     "metadata": {},
     "output_type": "execute_result"
    },
    {
     "data": {
      "text/plain": [
       "'http://api.openweathermap.org/data/2.5/weather?q=dale,no&units=imperial&APPID=275d975a1c2099dde8c73d59417061cd'"
      ]
     },
     "execution_count": 5,
     "metadata": {},
     "output_type": "execute_result"
    },
    {
     "data": {
      "text/plain": [
       "'----------------------------------------------------'"
      ]
     },
     "execution_count": 5,
     "metadata": {},
     "output_type": "execute_result"
    },
    {
     "data": {
      "text/plain": [
       "'Processing request for city 607: horsham'"
      ]
     },
     "execution_count": 5,
     "metadata": {},
     "output_type": "execute_result"
    },
    {
     "data": {
      "text/plain": [
       "'http://api.openweathermap.org/data/2.5/weather?q=horsham,au&units=imperial&APPID=275d975a1c2099dde8c73d59417061cd'"
      ]
     },
     "execution_count": 5,
     "metadata": {},
     "output_type": "execute_result"
    },
    {
     "data": {
      "text/plain": [
       "'----------------------------------------------------'"
      ]
     },
     "execution_count": 5,
     "metadata": {},
     "output_type": "execute_result"
    },
    {
     "data": {
      "text/plain": [
       "'Processing request for city 608: samusu'"
      ]
     },
     "execution_count": 5,
     "metadata": {},
     "output_type": "execute_result"
    },
    {
     "data": {
      "text/plain": [
       "'http://api.openweathermap.org/data/2.5/weather?q=samusu,ws&units=imperial&APPID=275d975a1c2099dde8c73d59417061cd'"
      ]
     },
     "execution_count": 5,
     "metadata": {},
     "output_type": "execute_result"
    },
    {
     "data": {
      "text/plain": [
       "'City not found. Proceeding to next city on list...'"
      ]
     },
     "execution_count": 5,
     "metadata": {},
     "output_type": "execute_result"
    },
    {
     "data": {
      "text/plain": [
       "'----------------------------------------------------'"
      ]
     },
     "execution_count": 5,
     "metadata": {},
     "output_type": "execute_result"
    },
    {
     "data": {
      "text/plain": [
       "'Processing request for city 609: waipawa'"
      ]
     },
     "execution_count": 5,
     "metadata": {},
     "output_type": "execute_result"
    },
    {
     "data": {
      "text/plain": [
       "'http://api.openweathermap.org/data/2.5/weather?q=waipawa,nz&units=imperial&APPID=275d975a1c2099dde8c73d59417061cd'"
      ]
     },
     "execution_count": 5,
     "metadata": {},
     "output_type": "execute_result"
    },
    {
     "data": {
      "text/plain": [
       "'----------------------------------------------------'"
      ]
     },
     "execution_count": 5,
     "metadata": {},
     "output_type": "execute_result"
    },
    {
     "data": {
      "text/plain": [
       "'Processing request for city 610: kyrylivka'"
      ]
     },
     "execution_count": 5,
     "metadata": {},
     "output_type": "execute_result"
    },
    {
     "data": {
      "text/plain": [
       "'http://api.openweathermap.org/data/2.5/weather?q=kyrylivka,ua&units=imperial&APPID=275d975a1c2099dde8c73d59417061cd'"
      ]
     },
     "execution_count": 5,
     "metadata": {},
     "output_type": "execute_result"
    },
    {
     "data": {
      "text/plain": [
       "'----------------------------------------------------'"
      ]
     },
     "execution_count": 5,
     "metadata": {},
     "output_type": "execute_result"
    },
    {
     "data": {
      "text/plain": [
       "'Processing request for city 611: zhuhai'"
      ]
     },
     "execution_count": 5,
     "metadata": {},
     "output_type": "execute_result"
    },
    {
     "data": {
      "text/plain": [
       "'http://api.openweathermap.org/data/2.5/weather?q=zhuhai,cn&units=imperial&APPID=275d975a1c2099dde8c73d59417061cd'"
      ]
     },
     "execution_count": 5,
     "metadata": {},
     "output_type": "execute_result"
    },
    {
     "data": {
      "text/plain": [
       "'----------------------------------------------------'"
      ]
     },
     "execution_count": 5,
     "metadata": {},
     "output_type": "execute_result"
    },
    {
     "data": {
      "text/plain": [
       "'Processing request for city 612: tessalit'"
      ]
     },
     "execution_count": 5,
     "metadata": {},
     "output_type": "execute_result"
    },
    {
     "data": {
      "text/plain": [
       "'http://api.openweathermap.org/data/2.5/weather?q=tessalit,ml&units=imperial&APPID=275d975a1c2099dde8c73d59417061cd'"
      ]
     },
     "execution_count": 5,
     "metadata": {},
     "output_type": "execute_result"
    },
    {
     "data": {
      "text/plain": [
       "'----------------------------------------------------'"
      ]
     },
     "execution_count": 5,
     "metadata": {},
     "output_type": "execute_result"
    },
    {
     "data": {
      "text/plain": [
       "'Processing request for city 613: usinsk'"
      ]
     },
     "execution_count": 5,
     "metadata": {},
     "output_type": "execute_result"
    },
    {
     "data": {
      "text/plain": [
       "'http://api.openweathermap.org/data/2.5/weather?q=usinsk,ru&units=imperial&APPID=275d975a1c2099dde8c73d59417061cd'"
      ]
     },
     "execution_count": 5,
     "metadata": {},
     "output_type": "execute_result"
    },
    {
     "data": {
      "text/plain": [
       "'----------------------------------------------------'"
      ]
     },
     "execution_count": 5,
     "metadata": {},
     "output_type": "execute_result"
    },
    {
     "data": {
      "text/plain": [
       "'Processing request for city 614: gondanglegi'"
      ]
     },
     "execution_count": 5,
     "metadata": {},
     "output_type": "execute_result"
    },
    {
     "data": {
      "text/plain": [
       "'http://api.openweathermap.org/data/2.5/weather?q=gondanglegi,id&units=imperial&APPID=275d975a1c2099dde8c73d59417061cd'"
      ]
     },
     "execution_count": 5,
     "metadata": {},
     "output_type": "execute_result"
    },
    {
     "data": {
      "text/plain": [
       "'----------------------------------------------------'"
      ]
     },
     "execution_count": 5,
     "metadata": {},
     "output_type": "execute_result"
    },
    {
     "data": {
      "text/plain": [
       "'Processing request for city 615: bargal'"
      ]
     },
     "execution_count": 5,
     "metadata": {},
     "output_type": "execute_result"
    },
    {
     "data": {
      "text/plain": [
       "'http://api.openweathermap.org/data/2.5/weather?q=bargal,so&units=imperial&APPID=275d975a1c2099dde8c73d59417061cd'"
      ]
     },
     "execution_count": 5,
     "metadata": {},
     "output_type": "execute_result"
    },
    {
     "data": {
      "text/plain": [
       "'City not found. Proceeding to next city on list...'"
      ]
     },
     "execution_count": 5,
     "metadata": {},
     "output_type": "execute_result"
    },
    {
     "data": {
      "text/plain": [
       "'----------------------------------------------------'"
      ]
     },
     "execution_count": 5,
     "metadata": {},
     "output_type": "execute_result"
    },
    {
     "data": {
      "text/plain": [
       "'Processing request for city 616: mokhsogollokh'"
      ]
     },
     "execution_count": 5,
     "metadata": {},
     "output_type": "execute_result"
    },
    {
     "data": {
      "text/plain": [
       "'http://api.openweathermap.org/data/2.5/weather?q=mokhsogollokh,ru&units=imperial&APPID=275d975a1c2099dde8c73d59417061cd'"
      ]
     },
     "execution_count": 5,
     "metadata": {},
     "output_type": "execute_result"
    },
    {
     "data": {
      "text/plain": [
       "'----------------------------------------------------'"
      ]
     },
     "execution_count": 5,
     "metadata": {},
     "output_type": "execute_result"
    },
    {
     "data": {
      "text/plain": [
       "'Processing request for city 617: wanlaweyn'"
      ]
     },
     "execution_count": 5,
     "metadata": {},
     "output_type": "execute_result"
    },
    {
     "data": {
      "text/plain": [
       "'http://api.openweathermap.org/data/2.5/weather?q=wanlaweyn,so&units=imperial&APPID=275d975a1c2099dde8c73d59417061cd'"
      ]
     },
     "execution_count": 5,
     "metadata": {},
     "output_type": "execute_result"
    },
    {
     "data": {
      "text/plain": [
       "'----------------------------------------------------'"
      ]
     },
     "execution_count": 5,
     "metadata": {},
     "output_type": "execute_result"
    },
    {
     "data": {
      "text/plain": [
       "'Processing request for city 618: felidhoo'"
      ]
     },
     "execution_count": 5,
     "metadata": {},
     "output_type": "execute_result"
    },
    {
     "data": {
      "text/plain": [
       "'http://api.openweathermap.org/data/2.5/weather?q=felidhoo,mv&units=imperial&APPID=275d975a1c2099dde8c73d59417061cd'"
      ]
     },
     "execution_count": 5,
     "metadata": {},
     "output_type": "execute_result"
    },
    {
     "data": {
      "text/plain": [
       "'City not found. Proceeding to next city on list...'"
      ]
     },
     "execution_count": 5,
     "metadata": {},
     "output_type": "execute_result"
    },
    {
     "data": {
      "text/plain": [
       "'----------------------------------------------------'"
      ]
     },
     "execution_count": 5,
     "metadata": {},
     "output_type": "execute_result"
    },
    {
     "data": {
      "text/plain": [
       "'Processing request for city 619: san ramon'"
      ]
     },
     "execution_count": 5,
     "metadata": {},
     "output_type": "execute_result"
    },
    {
     "data": {
      "text/plain": [
       "'http://api.openweathermap.org/data/2.5/weather?q=san ramon,bo&units=imperial&APPID=275d975a1c2099dde8c73d59417061cd'"
      ]
     },
     "execution_count": 5,
     "metadata": {},
     "output_type": "execute_result"
    },
    {
     "data": {
      "text/plain": [
       "'----------------------------------------------------'"
      ]
     },
     "execution_count": 5,
     "metadata": {},
     "output_type": "execute_result"
    },
    {
     "data": {
      "text/plain": [
       "'Processing request for city 620: duluth'"
      ]
     },
     "execution_count": 5,
     "metadata": {},
     "output_type": "execute_result"
    },
    {
     "data": {
      "text/plain": [
       "'http://api.openweathermap.org/data/2.5/weather?q=duluth,us&units=imperial&APPID=275d975a1c2099dde8c73d59417061cd'"
      ]
     },
     "execution_count": 5,
     "metadata": {},
     "output_type": "execute_result"
    },
    {
     "data": {
      "text/plain": [
       "'----------------------------------------------------'"
      ]
     },
     "execution_count": 5,
     "metadata": {},
     "output_type": "execute_result"
    },
    {
     "data": {
      "text/plain": [
       "'Processing request for city 621: jalu'"
      ]
     },
     "execution_count": 5,
     "metadata": {},
     "output_type": "execute_result"
    },
    {
     "data": {
      "text/plain": [
       "'http://api.openweathermap.org/data/2.5/weather?q=jalu,ly&units=imperial&APPID=275d975a1c2099dde8c73d59417061cd'"
      ]
     },
     "execution_count": 5,
     "metadata": {},
     "output_type": "execute_result"
    },
    {
     "data": {
      "text/plain": [
       "'----------------------------------------------------'"
      ]
     },
     "execution_count": 5,
     "metadata": {},
     "output_type": "execute_result"
    },
    {
     "data": {
      "text/plain": [
       "'Processing request for city 622: arivonimamo'"
      ]
     },
     "execution_count": 5,
     "metadata": {},
     "output_type": "execute_result"
    },
    {
     "data": {
      "text/plain": [
       "'http://api.openweathermap.org/data/2.5/weather?q=arivonimamo,mg&units=imperial&APPID=275d975a1c2099dde8c73d59417061cd'"
      ]
     },
     "execution_count": 5,
     "metadata": {},
     "output_type": "execute_result"
    },
    {
     "data": {
      "text/plain": [
       "'----------------------------------------------------'"
      ]
     },
     "execution_count": 5,
     "metadata": {},
     "output_type": "execute_result"
    },
    {
     "data": {
      "text/plain": [
       "'Processing request for city 623: kudahuvadhoo'"
      ]
     },
     "execution_count": 5,
     "metadata": {},
     "output_type": "execute_result"
    },
    {
     "data": {
      "text/plain": [
       "'http://api.openweathermap.org/data/2.5/weather?q=kudahuvadhoo,mv&units=imperial&APPID=275d975a1c2099dde8c73d59417061cd'"
      ]
     },
     "execution_count": 5,
     "metadata": {},
     "output_type": "execute_result"
    },
    {
     "data": {
      "text/plain": [
       "'----------------------------------------------------'"
      ]
     },
     "execution_count": 5,
     "metadata": {},
     "output_type": "execute_result"
    },
    {
     "data": {
      "text/plain": [
       "'Processing request for city 624: cagliliog'"
      ]
     },
     "execution_count": 5,
     "metadata": {},
     "output_type": "execute_result"
    },
    {
     "data": {
      "text/plain": [
       "'http://api.openweathermap.org/data/2.5/weather?q=cagliliog,ph&units=imperial&APPID=275d975a1c2099dde8c73d59417061cd'"
      ]
     },
     "execution_count": 5,
     "metadata": {},
     "output_type": "execute_result"
    },
    {
     "data": {
      "text/plain": [
       "'----------------------------------------------------'"
      ]
     },
     "execution_count": 5,
     "metadata": {},
     "output_type": "execute_result"
    },
    {
     "data": {
      "text/plain": [
       "'Processing request for city 625: kindia'"
      ]
     },
     "execution_count": 5,
     "metadata": {},
     "output_type": "execute_result"
    },
    {
     "data": {
      "text/plain": [
       "'http://api.openweathermap.org/data/2.5/weather?q=kindia,gn&units=imperial&APPID=275d975a1c2099dde8c73d59417061cd'"
      ]
     },
     "execution_count": 5,
     "metadata": {},
     "output_type": "execute_result"
    },
    {
     "data": {
      "text/plain": [
       "'----------------------------------------------------'"
      ]
     },
     "execution_count": 5,
     "metadata": {},
     "output_type": "execute_result"
    },
    {
     "data": {
      "text/plain": [
       "'Processing request for city 626: itaituba'"
      ]
     },
     "execution_count": 5,
     "metadata": {},
     "output_type": "execute_result"
    },
    {
     "data": {
      "text/plain": [
       "'http://api.openweathermap.org/data/2.5/weather?q=itaituba,br&units=imperial&APPID=275d975a1c2099dde8c73d59417061cd'"
      ]
     },
     "execution_count": 5,
     "metadata": {},
     "output_type": "execute_result"
    },
    {
     "data": {
      "text/plain": [
       "'----------------------------------------------------'"
      ]
     },
     "execution_count": 5,
     "metadata": {},
     "output_type": "execute_result"
    },
    {
     "data": {
      "text/plain": [
       "'----------------------------------------------------'"
      ]
     },
     "execution_count": 5,
     "metadata": {},
     "output_type": "execute_result"
    },
    {
     "data": {
      "text/plain": [
       "'Now concluding data retrieval from OpenWeatherMap API.'"
      ]
     },
     "execution_count": 5,
     "metadata": {},
     "output_type": "execute_result"
    },
    {
     "data": {
      "text/plain": [
       "'                  Have a nice day!'"
      ]
     },
     "execution_count": 5,
     "metadata": {},
     "output_type": "execute_result"
    },
    {
     "data": {
      "text/plain": [
       "'----------------------------------------------------'"
      ]
     },
     "execution_count": 5,
     "metadata": {},
     "output_type": "execute_result"
    }
   ],
   "source": [
    "# Building the JSON request loop by searching with city\n",
    "# and country code pairs, and a print log of each city as\n",
    "# the JSON is being processed\n",
    "\n",
    "json_counter = 0\n",
    "\n",
    "f'Initiating data retrieval from OpenWeatherMap API...'\n",
    "f'----------------------------------------------------'\n",
    "\n",
    "for index, row in citiweather_df.iterrows():\n",
    "    # OWM endpoint url with imperial units to get Fahrenheit\n",
    "    # temperature and miles per hour wind speed\n",
    "    # (Refer back to https://openweathermap.org/current for parameters)\n",
    "    owm_url = ('http://api.openweathermap.org/data/2.5/weather?q={0},{1}&units=imperial&APPID={2}').format(row['City'],row['Country Code'],owm_key)\n",
    "    owm_response = requests.get(owm_url).json()\n",
    "    f\"Processing request for city {json_counter + 1}: {citiweather_df.loc[index]['City']}\"\n",
    "    owm_url\n",
    "    json_counter += 1\n",
    "    \n",
    "    # Retrieving specific datapoints from each JSON request and \n",
    "    # putting them into the dataframe \n",
    "    try:\n",
    "        row['Lat'] = owm_response['coord']['lat'] # latitude\n",
    "        row['Lon'] = owm_response['coord']['lon'] # latitude\n",
    "        row['Date'] = owm_response['dt'] # date results retrieved \n",
    "        row['Temp (F)'] = owm_response['main']['temp'] # Farhenheit temperature\n",
    "        row['Humidity'] = owm_response['main']['humidity'] # humidity\n",
    "        row['Cloudiness'] = owm_response['clouds']['all'] # cloudliness\n",
    "        row['Wind Speed'] = owm_response['wind']['speed'] # wind speed  \n",
    "    \n",
    "    except KeyError:\n",
    "        f'City not found. Proceeding to next city on list...'\n",
    "\n",
    "    f'----------------------------------------------------'\n",
    "    \n",
    "    # Using a modulo and time here to pause requests as necessary\n",
    "    if (json_counter % 60) == 0:\n",
    "        f'----------------------------------------------------'\n",
    "        f'Pausing API requests for 20 seconds.'\n",
    "        f\"(Don't want to overload my free account here.)\"\n",
    "        f'----------------------------------------------------' \n",
    "        time.sleep(20)\n",
    "\n",
    "f'----------------------------------------------------'\n",
    "f'Now concluding data retrieval from OpenWeatherMap API.'\n",
    "f'                  Have a nice day!'\n",
    "f'----------------------------------------------------'"
   ]
  },
  {
   "cell_type": "code",
   "execution_count": 22,
   "metadata": {},
   "outputs": [
    {
     "data": {
      "text/html": [
       "<div>\n",
       "<style scoped>\n",
       "    .dataframe tbody tr th:only-of-type {\n",
       "        vertical-align: middle;\n",
       "    }\n",
       "\n",
       "    .dataframe tbody tr th {\n",
       "        vertical-align: top;\n",
       "    }\n",
       "\n",
       "    .dataframe thead th {\n",
       "        text-align: right;\n",
       "    }\n",
       "</style>\n",
       "<table border=\"1\" class=\"dataframe\">\n",
       "  <thead>\n",
       "    <tr style=\"text-align: right;\">\n",
       "      <th></th>\n",
       "      <th>City</th>\n",
       "      <th>Country Code</th>\n",
       "      <th>Lat</th>\n",
       "      <th>Lon</th>\n",
       "      <th>Date</th>\n",
       "      <th>Temp (F)</th>\n",
       "      <th>Humidity</th>\n",
       "      <th>Cloudiness</th>\n",
       "      <th>Wind Speed</th>\n",
       "    </tr>\n",
       "  </thead>\n",
       "  <tbody>\n",
       "    <tr>\n",
       "      <th>0</th>\n",
       "      <td>northam</td>\n",
       "      <td>au</td>\n",
       "      <td>-31.65</td>\n",
       "      <td>116.67</td>\n",
       "      <td>2018-10-19 16:30:00</td>\n",
       "      <td>48.2</td>\n",
       "      <td>93</td>\n",
       "      <td>0</td>\n",
       "      <td>3.36</td>\n",
       "    </tr>\n",
       "    <tr>\n",
       "      <th>1</th>\n",
       "      <td>khani</td>\n",
       "      <td>ru</td>\n",
       "      <td></td>\n",
       "      <td></td>\n",
       "      <td>NaT</td>\n",
       "      <td></td>\n",
       "      <td></td>\n",
       "      <td></td>\n",
       "      <td></td>\n",
       "    </tr>\n",
       "    <tr>\n",
       "      <th>2</th>\n",
       "      <td>namibe</td>\n",
       "      <td>ao</td>\n",
       "      <td>-15.19</td>\n",
       "      <td>12.15</td>\n",
       "      <td>2018-10-19 17:07:21</td>\n",
       "      <td>71.36</td>\n",
       "      <td>100</td>\n",
       "      <td>0</td>\n",
       "      <td>9.55</td>\n",
       "    </tr>\n",
       "    <tr>\n",
       "      <th>3</th>\n",
       "      <td>sartell</td>\n",
       "      <td>us</td>\n",
       "      <td>45.62</td>\n",
       "      <td>-94.21</td>\n",
       "      <td>2018-10-19 16:36:00</td>\n",
       "      <td>58.19</td>\n",
       "      <td>50</td>\n",
       "      <td>40</td>\n",
       "      <td>11.41</td>\n",
       "    </tr>\n",
       "    <tr>\n",
       "      <th>4</th>\n",
       "      <td>monrovia</td>\n",
       "      <td>lr</td>\n",
       "      <td>6.33</td>\n",
       "      <td>-10.8</td>\n",
       "      <td>2018-10-19 16:30:00</td>\n",
       "      <td>86</td>\n",
       "      <td>74</td>\n",
       "      <td>75</td>\n",
       "      <td>8.05</td>\n",
       "    </tr>\n",
       "    <tr>\n",
       "      <th>5</th>\n",
       "      <td>cherskiy</td>\n",
       "      <td>ru</td>\n",
       "      <td>68.75</td>\n",
       "      <td>161.3</td>\n",
       "      <td>2018-10-19 17:09:38</td>\n",
       "      <td>5.12</td>\n",
       "      <td>85</td>\n",
       "      <td>44</td>\n",
       "      <td>5.19</td>\n",
       "    </tr>\n",
       "    <tr>\n",
       "      <th>6</th>\n",
       "      <td>kiama</td>\n",
       "      <td>au</td>\n",
       "      <td>-34.67</td>\n",
       "      <td>150.86</td>\n",
       "      <td>2018-10-19 16:00:00</td>\n",
       "      <td>62.6</td>\n",
       "      <td>88</td>\n",
       "      <td>8</td>\n",
       "      <td>3.74</td>\n",
       "    </tr>\n",
       "    <tr>\n",
       "      <th>7</th>\n",
       "      <td>new norfolk</td>\n",
       "      <td>au</td>\n",
       "      <td>-42.78</td>\n",
       "      <td>147.06</td>\n",
       "      <td>2018-10-19 16:30:00</td>\n",
       "      <td>62.6</td>\n",
       "      <td>59</td>\n",
       "      <td>0</td>\n",
       "      <td>8.05</td>\n",
       "    </tr>\n",
       "    <tr>\n",
       "      <th>8</th>\n",
       "      <td>cape town</td>\n",
       "      <td>za</td>\n",
       "      <td>-33.93</td>\n",
       "      <td>18.42</td>\n",
       "      <td>2018-10-19 16:00:00</td>\n",
       "      <td>64.4</td>\n",
       "      <td>55</td>\n",
       "      <td>0</td>\n",
       "      <td>25.28</td>\n",
       "    </tr>\n",
       "    <tr>\n",
       "      <th>9</th>\n",
       "      <td>khatanga</td>\n",
       "      <td>ru</td>\n",
       "      <td>71.98</td>\n",
       "      <td>102.47</td>\n",
       "      <td>2018-10-19 17:09:39</td>\n",
       "      <td>8.36</td>\n",
       "      <td>66</td>\n",
       "      <td>36</td>\n",
       "      <td>3.62</td>\n",
       "    </tr>\n",
       "  </tbody>\n",
       "</table>\n",
       "</div>"
      ],
      "text/plain": [
       "          City Country Code    Lat     Lon                Date Temp (F)  \\\n",
       "0      northam           au -31.65  116.67 2018-10-19 16:30:00     48.2   \n",
       "1        khani           ru                                NaT            \n",
       "2       namibe           ao -15.19   12.15 2018-10-19 17:07:21    71.36   \n",
       "3      sartell           us  45.62  -94.21 2018-10-19 16:36:00    58.19   \n",
       "4     monrovia           lr   6.33   -10.8 2018-10-19 16:30:00       86   \n",
       "5     cherskiy           ru  68.75   161.3 2018-10-19 17:09:38     5.12   \n",
       "6        kiama           au -34.67  150.86 2018-10-19 16:00:00     62.6   \n",
       "7  new norfolk           au -42.78  147.06 2018-10-19 16:30:00     62.6   \n",
       "8    cape town           za -33.93   18.42 2018-10-19 16:00:00     64.4   \n",
       "9     khatanga           ru  71.98  102.47 2018-10-19 17:09:39     8.36   \n",
       "\n",
       "  Humidity Cloudiness Wind Speed  \n",
       "0       93          0       3.36  \n",
       "1                                 \n",
       "2      100          0       9.55  \n",
       "3       50         40      11.41  \n",
       "4       74         75       8.05  \n",
       "5       85         44       5.19  \n",
       "6       88          8       3.74  \n",
       "7       59          0       8.05  \n",
       "8       55          0      25.28  \n",
       "9       66         36       3.62  "
      ]
     },
     "execution_count": 22,
     "metadata": {},
     "output_type": "execute_result"
    },
    {
     "data": {
      "text/plain": [
       "626"
      ]
     },
     "execution_count": 22,
     "metadata": {},
     "output_type": "execute_result"
    }
   ],
   "source": [
    "# Converting date value to datetime\n",
    "citiweather_df['Date'] = pd.to_datetime(citiweather_df['Date'], unit='s')\n",
    "\n",
    "# Displaying initial results\n",
    "citiweather_df.head(10)\n",
    "\n",
    "# Finding the number of rows in dataframe\n",
    "len(citiweather_df.index)"
   ]
  },
  {
   "cell_type": "code",
   "execution_count": 28,
   "metadata": {},
   "outputs": [
    {
     "data": {
      "text/html": [
       "<div>\n",
       "<style scoped>\n",
       "    .dataframe tbody tr th:only-of-type {\n",
       "        vertical-align: middle;\n",
       "    }\n",
       "\n",
       "    .dataframe tbody tr th {\n",
       "        vertical-align: top;\n",
       "    }\n",
       "\n",
       "    .dataframe thead th {\n",
       "        text-align: right;\n",
       "    }\n",
       "</style>\n",
       "<table border=\"1\" class=\"dataframe\">\n",
       "  <thead>\n",
       "    <tr style=\"text-align: right;\">\n",
       "      <th></th>\n",
       "      <th>City</th>\n",
       "      <th>Country Code</th>\n",
       "      <th>Lat</th>\n",
       "      <th>Lon</th>\n",
       "      <th>Date</th>\n",
       "      <th>Temp (F)</th>\n",
       "      <th>Humidity</th>\n",
       "      <th>Cloudiness</th>\n",
       "      <th>Wind Speed</th>\n",
       "    </tr>\n",
       "  </thead>\n",
       "  <tbody>\n",
       "    <tr>\n",
       "      <th>0</th>\n",
       "      <td>northam</td>\n",
       "      <td>au</td>\n",
       "      <td>-31.65</td>\n",
       "      <td>116.67</td>\n",
       "      <td>2018-10-19 16:30:00</td>\n",
       "      <td>48.2</td>\n",
       "      <td>93</td>\n",
       "      <td>0</td>\n",
       "      <td>3.36</td>\n",
       "    </tr>\n",
       "    <tr>\n",
       "      <th>2</th>\n",
       "      <td>namibe</td>\n",
       "      <td>ao</td>\n",
       "      <td>-15.19</td>\n",
       "      <td>12.15</td>\n",
       "      <td>2018-10-19 17:07:21</td>\n",
       "      <td>71.36</td>\n",
       "      <td>100</td>\n",
       "      <td>0</td>\n",
       "      <td>9.55</td>\n",
       "    </tr>\n",
       "    <tr>\n",
       "      <th>3</th>\n",
       "      <td>sartell</td>\n",
       "      <td>us</td>\n",
       "      <td>45.62</td>\n",
       "      <td>-94.21</td>\n",
       "      <td>2018-10-19 16:36:00</td>\n",
       "      <td>58.19</td>\n",
       "      <td>50</td>\n",
       "      <td>40</td>\n",
       "      <td>11.41</td>\n",
       "    </tr>\n",
       "    <tr>\n",
       "      <th>4</th>\n",
       "      <td>monrovia</td>\n",
       "      <td>lr</td>\n",
       "      <td>6.33</td>\n",
       "      <td>-10.8</td>\n",
       "      <td>2018-10-19 16:30:00</td>\n",
       "      <td>86</td>\n",
       "      <td>74</td>\n",
       "      <td>75</td>\n",
       "      <td>8.05</td>\n",
       "    </tr>\n",
       "    <tr>\n",
       "      <th>5</th>\n",
       "      <td>cherskiy</td>\n",
       "      <td>ru</td>\n",
       "      <td>68.75</td>\n",
       "      <td>161.3</td>\n",
       "      <td>2018-10-19 17:09:38</td>\n",
       "      <td>5.12</td>\n",
       "      <td>85</td>\n",
       "      <td>44</td>\n",
       "      <td>5.19</td>\n",
       "    </tr>\n",
       "    <tr>\n",
       "      <th>6</th>\n",
       "      <td>kiama</td>\n",
       "      <td>au</td>\n",
       "      <td>-34.67</td>\n",
       "      <td>150.86</td>\n",
       "      <td>2018-10-19 16:00:00</td>\n",
       "      <td>62.6</td>\n",
       "      <td>88</td>\n",
       "      <td>8</td>\n",
       "      <td>3.74</td>\n",
       "    </tr>\n",
       "    <tr>\n",
       "      <th>7</th>\n",
       "      <td>new norfolk</td>\n",
       "      <td>au</td>\n",
       "      <td>-42.78</td>\n",
       "      <td>147.06</td>\n",
       "      <td>2018-10-19 16:30:00</td>\n",
       "      <td>62.6</td>\n",
       "      <td>59</td>\n",
       "      <td>0</td>\n",
       "      <td>8.05</td>\n",
       "    </tr>\n",
       "    <tr>\n",
       "      <th>8</th>\n",
       "      <td>cape town</td>\n",
       "      <td>za</td>\n",
       "      <td>-33.93</td>\n",
       "      <td>18.42</td>\n",
       "      <td>2018-10-19 16:00:00</td>\n",
       "      <td>64.4</td>\n",
       "      <td>55</td>\n",
       "      <td>0</td>\n",
       "      <td>25.28</td>\n",
       "    </tr>\n",
       "    <tr>\n",
       "      <th>9</th>\n",
       "      <td>khatanga</td>\n",
       "      <td>ru</td>\n",
       "      <td>71.98</td>\n",
       "      <td>102.47</td>\n",
       "      <td>2018-10-19 17:09:39</td>\n",
       "      <td>8.36</td>\n",
       "      <td>66</td>\n",
       "      <td>36</td>\n",
       "      <td>3.62</td>\n",
       "    </tr>\n",
       "    <tr>\n",
       "      <th>10</th>\n",
       "      <td>saint-philippe</td>\n",
       "      <td>re</td>\n",
       "      <td>-21.36</td>\n",
       "      <td>55.77</td>\n",
       "      <td>2018-10-19 16:30:00</td>\n",
       "      <td>74.25</td>\n",
       "      <td>83</td>\n",
       "      <td>75</td>\n",
       "      <td>4.7</td>\n",
       "    </tr>\n",
       "  </tbody>\n",
       "</table>\n",
       "</div>"
      ],
      "text/plain": [
       "              City Country Code    Lat     Lon                Date Temp (F)  \\\n",
       "0          northam           au -31.65  116.67 2018-10-19 16:30:00     48.2   \n",
       "2           namibe           ao -15.19   12.15 2018-10-19 17:07:21    71.36   \n",
       "3          sartell           us  45.62  -94.21 2018-10-19 16:36:00    58.19   \n",
       "4         monrovia           lr   6.33   -10.8 2018-10-19 16:30:00       86   \n",
       "5         cherskiy           ru  68.75   161.3 2018-10-19 17:09:38     5.12   \n",
       "6            kiama           au -34.67  150.86 2018-10-19 16:00:00     62.6   \n",
       "7      new norfolk           au -42.78  147.06 2018-10-19 16:30:00     62.6   \n",
       "8        cape town           za -33.93   18.42 2018-10-19 16:00:00     64.4   \n",
       "9         khatanga           ru  71.98  102.47 2018-10-19 17:09:39     8.36   \n",
       "10  saint-philippe           re -21.36   55.77 2018-10-19 16:30:00    74.25   \n",
       "\n",
       "   Humidity Cloudiness Wind Speed  \n",
       "0        93          0       3.36  \n",
       "2       100          0       9.55  \n",
       "3        50         40      11.41  \n",
       "4        74         75       8.05  \n",
       "5        85         44       5.19  \n",
       "6        88          8       3.74  \n",
       "7        59          0       8.05  \n",
       "8        55          0      25.28  \n",
       "9        66         36       3.62  \n",
       "10       83         75        4.7  "
      ]
     },
     "execution_count": 28,
     "metadata": {},
     "output_type": "execute_result"
    },
    {
     "data": {
      "text/plain": [
       "'Note: Of the randomly generated 626 cities,'"
      ]
     },
     "execution_count": 28,
     "metadata": {},
     "output_type": "execute_result"
    },
    {
     "data": {
      "text/plain": [
       "'only 547 were retrieved from OWM.'"
      ]
     },
     "execution_count": 28,
     "metadata": {},
     "output_type": "execute_result"
    }
   ],
   "source": [
    "# Dropping empty rows from city/country code \n",
    "# combinations not found in OWM\n",
    "# (Note: May have been better to retrieve\n",
    "# by OWM's cityIDs)\n",
    "\n",
    "citiweather_df_cleaned = citiweather_df[citiweather_df.Lat != '']\n",
    "citiweather_df_cleaned.head(10)\n",
    "f\"Note: Of the randomly generated {len(citiweather_df)} cities,\" \n",
    "f\"only {len(citiweather_df_cleaned)} were retrieved from OWM.\""
   ]
  },
  {
   "cell_type": "code",
   "execution_count": 29,
   "metadata": {},
   "outputs": [],
   "source": [
    "# Exporting results to csv file\n",
    "citiweather_df_cleaned.to_csv('output/citiweather_data.csv', index=False)"
   ]
  },
  {
   "cell_type": "markdown",
   "metadata": {},
   "source": [
    "### Plotting the Data\n",
    "* Use proper labeling of the plots using plot titles (including date of analysis) and axes labels.\n",
    "* Save the plotted figures as .pngs."
   ]
  },
  {
   "cell_type": "markdown",
   "metadata": {},
   "source": [
    "#### Latitude vs. Temperature Plot"
   ]
  },
  {
   "cell_type": "code",
   "execution_count": 56,
   "metadata": {
    "scrolled": true
   },
   "outputs": [
    {
     "data": {
      "application/javascript": [
       "/* Put everything inside the global mpl namespace */\n",
       "window.mpl = {};\n",
       "\n",
       "\n",
       "mpl.get_websocket_type = function() {\n",
       "    if (typeof(WebSocket) !== 'undefined') {\n",
       "        return WebSocket;\n",
       "    } else if (typeof(MozWebSocket) !== 'undefined') {\n",
       "        return MozWebSocket;\n",
       "    } else {\n",
       "        alert('Your browser does not have WebSocket support.' +\n",
       "              'Please try Chrome, Safari or Firefox ≥ 6. ' +\n",
       "              'Firefox 4 and 5 are also supported but you ' +\n",
       "              'have to enable WebSockets in about:config.');\n",
       "    };\n",
       "}\n",
       "\n",
       "mpl.figure = function(figure_id, websocket, ondownload, parent_element) {\n",
       "    this.id = figure_id;\n",
       "\n",
       "    this.ws = websocket;\n",
       "\n",
       "    this.supports_binary = (this.ws.binaryType != undefined);\n",
       "\n",
       "    if (!this.supports_binary) {\n",
       "        var warnings = document.getElementById(\"mpl-warnings\");\n",
       "        if (warnings) {\n",
       "            warnings.style.display = 'block';\n",
       "            warnings.textContent = (\n",
       "                \"This browser does not support binary websocket messages. \" +\n",
       "                    \"Performance may be slow.\");\n",
       "        }\n",
       "    }\n",
       "\n",
       "    this.imageObj = new Image();\n",
       "\n",
       "    this.context = undefined;\n",
       "    this.message = undefined;\n",
       "    this.canvas = undefined;\n",
       "    this.rubberband_canvas = undefined;\n",
       "    this.rubberband_context = undefined;\n",
       "    this.format_dropdown = undefined;\n",
       "\n",
       "    this.image_mode = 'full';\n",
       "\n",
       "    this.root = $('<div/>');\n",
       "    this._root_extra_style(this.root)\n",
       "    this.root.attr('style', 'display: inline-block');\n",
       "\n",
       "    $(parent_element).append(this.root);\n",
       "\n",
       "    this._init_header(this);\n",
       "    this._init_canvas(this);\n",
       "    this._init_toolbar(this);\n",
       "\n",
       "    var fig = this;\n",
       "\n",
       "    this.waiting = false;\n",
       "\n",
       "    this.ws.onopen =  function () {\n",
       "            fig.send_message(\"supports_binary\", {value: fig.supports_binary});\n",
       "            fig.send_message(\"send_image_mode\", {});\n",
       "            if (mpl.ratio != 1) {\n",
       "                fig.send_message(\"set_dpi_ratio\", {'dpi_ratio': mpl.ratio});\n",
       "            }\n",
       "            fig.send_message(\"refresh\", {});\n",
       "        }\n",
       "\n",
       "    this.imageObj.onload = function() {\n",
       "            if (fig.image_mode == 'full') {\n",
       "                // Full images could contain transparency (where diff images\n",
       "                // almost always do), so we need to clear the canvas so that\n",
       "                // there is no ghosting.\n",
       "                fig.context.clearRect(0, 0, fig.canvas.width, fig.canvas.height);\n",
       "            }\n",
       "            fig.context.drawImage(fig.imageObj, 0, 0);\n",
       "        };\n",
       "\n",
       "    this.imageObj.onunload = function() {\n",
       "        fig.ws.close();\n",
       "    }\n",
       "\n",
       "    this.ws.onmessage = this._make_on_message_function(this);\n",
       "\n",
       "    this.ondownload = ondownload;\n",
       "}\n",
       "\n",
       "mpl.figure.prototype._init_header = function() {\n",
       "    var titlebar = $(\n",
       "        '<div class=\"ui-dialog-titlebar ui-widget-header ui-corner-all ' +\n",
       "        'ui-helper-clearfix\"/>');\n",
       "    var titletext = $(\n",
       "        '<div class=\"ui-dialog-title\" style=\"width: 100%; ' +\n",
       "        'text-align: center; padding: 3px;\"/>');\n",
       "    titlebar.append(titletext)\n",
       "    this.root.append(titlebar);\n",
       "    this.header = titletext[0];\n",
       "}\n",
       "\n",
       "\n",
       "\n",
       "mpl.figure.prototype._canvas_extra_style = function(canvas_div) {\n",
       "\n",
       "}\n",
       "\n",
       "\n",
       "mpl.figure.prototype._root_extra_style = function(canvas_div) {\n",
       "\n",
       "}\n",
       "\n",
       "mpl.figure.prototype._init_canvas = function() {\n",
       "    var fig = this;\n",
       "\n",
       "    var canvas_div = $('<div/>');\n",
       "\n",
       "    canvas_div.attr('style', 'position: relative; clear: both; outline: 0');\n",
       "\n",
       "    function canvas_keyboard_event(event) {\n",
       "        return fig.key_event(event, event['data']);\n",
       "    }\n",
       "\n",
       "    canvas_div.keydown('key_press', canvas_keyboard_event);\n",
       "    canvas_div.keyup('key_release', canvas_keyboard_event);\n",
       "    this.canvas_div = canvas_div\n",
       "    this._canvas_extra_style(canvas_div)\n",
       "    this.root.append(canvas_div);\n",
       "\n",
       "    var canvas = $('<canvas/>');\n",
       "    canvas.addClass('mpl-canvas');\n",
       "    canvas.attr('style', \"left: 0; top: 0; z-index: 0; outline: 0\")\n",
       "\n",
       "    this.canvas = canvas[0];\n",
       "    this.context = canvas[0].getContext(\"2d\");\n",
       "\n",
       "    var backingStore = this.context.backingStorePixelRatio ||\n",
       "\tthis.context.webkitBackingStorePixelRatio ||\n",
       "\tthis.context.mozBackingStorePixelRatio ||\n",
       "\tthis.context.msBackingStorePixelRatio ||\n",
       "\tthis.context.oBackingStorePixelRatio ||\n",
       "\tthis.context.backingStorePixelRatio || 1;\n",
       "\n",
       "    mpl.ratio = (window.devicePixelRatio || 1) / backingStore;\n",
       "\n",
       "    var rubberband = $('<canvas/>');\n",
       "    rubberband.attr('style', \"position: absolute; left: 0; top: 0; z-index: 1;\")\n",
       "\n",
       "    var pass_mouse_events = true;\n",
       "\n",
       "    canvas_div.resizable({\n",
       "        start: function(event, ui) {\n",
       "            pass_mouse_events = false;\n",
       "        },\n",
       "        resize: function(event, ui) {\n",
       "            fig.request_resize(ui.size.width, ui.size.height);\n",
       "        },\n",
       "        stop: function(event, ui) {\n",
       "            pass_mouse_events = true;\n",
       "            fig.request_resize(ui.size.width, ui.size.height);\n",
       "        },\n",
       "    });\n",
       "\n",
       "    function mouse_event_fn(event) {\n",
       "        if (pass_mouse_events)\n",
       "            return fig.mouse_event(event, event['data']);\n",
       "    }\n",
       "\n",
       "    rubberband.mousedown('button_press', mouse_event_fn);\n",
       "    rubberband.mouseup('button_release', mouse_event_fn);\n",
       "    // Throttle sequential mouse events to 1 every 20ms.\n",
       "    rubberband.mousemove('motion_notify', mouse_event_fn);\n",
       "\n",
       "    rubberband.mouseenter('figure_enter', mouse_event_fn);\n",
       "    rubberband.mouseleave('figure_leave', mouse_event_fn);\n",
       "\n",
       "    canvas_div.on(\"wheel\", function (event) {\n",
       "        event = event.originalEvent;\n",
       "        event['data'] = 'scroll'\n",
       "        if (event.deltaY < 0) {\n",
       "            event.step = 1;\n",
       "        } else {\n",
       "            event.step = -1;\n",
       "        }\n",
       "        mouse_event_fn(event);\n",
       "    });\n",
       "\n",
       "    canvas_div.append(canvas);\n",
       "    canvas_div.append(rubberband);\n",
       "\n",
       "    this.rubberband = rubberband;\n",
       "    this.rubberband_canvas = rubberband[0];\n",
       "    this.rubberband_context = rubberband[0].getContext(\"2d\");\n",
       "    this.rubberband_context.strokeStyle = \"#000000\";\n",
       "\n",
       "    this._resize_canvas = function(width, height) {\n",
       "        // Keep the size of the canvas, canvas container, and rubber band\n",
       "        // canvas in synch.\n",
       "        canvas_div.css('width', width)\n",
       "        canvas_div.css('height', height)\n",
       "\n",
       "        canvas.attr('width', width * mpl.ratio);\n",
       "        canvas.attr('height', height * mpl.ratio);\n",
       "        canvas.attr('style', 'width: ' + width + 'px; height: ' + height + 'px;');\n",
       "\n",
       "        rubberband.attr('width', width);\n",
       "        rubberband.attr('height', height);\n",
       "    }\n",
       "\n",
       "    // Set the figure to an initial 600x600px, this will subsequently be updated\n",
       "    // upon first draw.\n",
       "    this._resize_canvas(600, 600);\n",
       "\n",
       "    // Disable right mouse context menu.\n",
       "    $(this.rubberband_canvas).bind(\"contextmenu\",function(e){\n",
       "        return false;\n",
       "    });\n",
       "\n",
       "    function set_focus () {\n",
       "        canvas.focus();\n",
       "        canvas_div.focus();\n",
       "    }\n",
       "\n",
       "    window.setTimeout(set_focus, 100);\n",
       "}\n",
       "\n",
       "mpl.figure.prototype._init_toolbar = function() {\n",
       "    var fig = this;\n",
       "\n",
       "    var nav_element = $('<div/>')\n",
       "    nav_element.attr('style', 'width: 100%');\n",
       "    this.root.append(nav_element);\n",
       "\n",
       "    // Define a callback function for later on.\n",
       "    function toolbar_event(event) {\n",
       "        return fig.toolbar_button_onclick(event['data']);\n",
       "    }\n",
       "    function toolbar_mouse_event(event) {\n",
       "        return fig.toolbar_button_onmouseover(event['data']);\n",
       "    }\n",
       "\n",
       "    for(var toolbar_ind in mpl.toolbar_items) {\n",
       "        var name = mpl.toolbar_items[toolbar_ind][0];\n",
       "        var tooltip = mpl.toolbar_items[toolbar_ind][1];\n",
       "        var image = mpl.toolbar_items[toolbar_ind][2];\n",
       "        var method_name = mpl.toolbar_items[toolbar_ind][3];\n",
       "\n",
       "        if (!name) {\n",
       "            // put a spacer in here.\n",
       "            continue;\n",
       "        }\n",
       "        var button = $('<button/>');\n",
       "        button.addClass('ui-button ui-widget ui-state-default ui-corner-all ' +\n",
       "                        'ui-button-icon-only');\n",
       "        button.attr('role', 'button');\n",
       "        button.attr('aria-disabled', 'false');\n",
       "        button.click(method_name, toolbar_event);\n",
       "        button.mouseover(tooltip, toolbar_mouse_event);\n",
       "\n",
       "        var icon_img = $('<span/>');\n",
       "        icon_img.addClass('ui-button-icon-primary ui-icon');\n",
       "        icon_img.addClass(image);\n",
       "        icon_img.addClass('ui-corner-all');\n",
       "\n",
       "        var tooltip_span = $('<span/>');\n",
       "        tooltip_span.addClass('ui-button-text');\n",
       "        tooltip_span.html(tooltip);\n",
       "\n",
       "        button.append(icon_img);\n",
       "        button.append(tooltip_span);\n",
       "\n",
       "        nav_element.append(button);\n",
       "    }\n",
       "\n",
       "    var fmt_picker_span = $('<span/>');\n",
       "\n",
       "    var fmt_picker = $('<select/>');\n",
       "    fmt_picker.addClass('mpl-toolbar-option ui-widget ui-widget-content');\n",
       "    fmt_picker_span.append(fmt_picker);\n",
       "    nav_element.append(fmt_picker_span);\n",
       "    this.format_dropdown = fmt_picker[0];\n",
       "\n",
       "    for (var ind in mpl.extensions) {\n",
       "        var fmt = mpl.extensions[ind];\n",
       "        var option = $(\n",
       "            '<option/>', {selected: fmt === mpl.default_extension}).html(fmt);\n",
       "        fmt_picker.append(option)\n",
       "    }\n",
       "\n",
       "    // Add hover states to the ui-buttons\n",
       "    $( \".ui-button\" ).hover(\n",
       "        function() { $(this).addClass(\"ui-state-hover\");},\n",
       "        function() { $(this).removeClass(\"ui-state-hover\");}\n",
       "    );\n",
       "\n",
       "    var status_bar = $('<span class=\"mpl-message\"/>');\n",
       "    nav_element.append(status_bar);\n",
       "    this.message = status_bar[0];\n",
       "}\n",
       "\n",
       "mpl.figure.prototype.request_resize = function(x_pixels, y_pixels) {\n",
       "    // Request matplotlib to resize the figure. Matplotlib will then trigger a resize in the client,\n",
       "    // which will in turn request a refresh of the image.\n",
       "    this.send_message('resize', {'width': x_pixels, 'height': y_pixels});\n",
       "}\n",
       "\n",
       "mpl.figure.prototype.send_message = function(type, properties) {\n",
       "    properties['type'] = type;\n",
       "    properties['figure_id'] = this.id;\n",
       "    this.ws.send(JSON.stringify(properties));\n",
       "}\n",
       "\n",
       "mpl.figure.prototype.send_draw_message = function() {\n",
       "    if (!this.waiting) {\n",
       "        this.waiting = true;\n",
       "        this.ws.send(JSON.stringify({type: \"draw\", figure_id: this.id}));\n",
       "    }\n",
       "}\n",
       "\n",
       "\n",
       "mpl.figure.prototype.handle_save = function(fig, msg) {\n",
       "    var format_dropdown = fig.format_dropdown;\n",
       "    var format = format_dropdown.options[format_dropdown.selectedIndex].value;\n",
       "    fig.ondownload(fig, format);\n",
       "}\n",
       "\n",
       "\n",
       "mpl.figure.prototype.handle_resize = function(fig, msg) {\n",
       "    var size = msg['size'];\n",
       "    if (size[0] != fig.canvas.width || size[1] != fig.canvas.height) {\n",
       "        fig._resize_canvas(size[0], size[1]);\n",
       "        fig.send_message(\"refresh\", {});\n",
       "    };\n",
       "}\n",
       "\n",
       "mpl.figure.prototype.handle_rubberband = function(fig, msg) {\n",
       "    var x0 = msg['x0'] / mpl.ratio;\n",
       "    var y0 = (fig.canvas.height - msg['y0']) / mpl.ratio;\n",
       "    var x1 = msg['x1'] / mpl.ratio;\n",
       "    var y1 = (fig.canvas.height - msg['y1']) / mpl.ratio;\n",
       "    x0 = Math.floor(x0) + 0.5;\n",
       "    y0 = Math.floor(y0) + 0.5;\n",
       "    x1 = Math.floor(x1) + 0.5;\n",
       "    y1 = Math.floor(y1) + 0.5;\n",
       "    var min_x = Math.min(x0, x1);\n",
       "    var min_y = Math.min(y0, y1);\n",
       "    var width = Math.abs(x1 - x0);\n",
       "    var height = Math.abs(y1 - y0);\n",
       "\n",
       "    fig.rubberband_context.clearRect(\n",
       "        0, 0, fig.canvas.width, fig.canvas.height);\n",
       "\n",
       "    fig.rubberband_context.strokeRect(min_x, min_y, width, height);\n",
       "}\n",
       "\n",
       "mpl.figure.prototype.handle_figure_label = function(fig, msg) {\n",
       "    // Updates the figure title.\n",
       "    fig.header.textContent = msg['label'];\n",
       "}\n",
       "\n",
       "mpl.figure.prototype.handle_cursor = function(fig, msg) {\n",
       "    var cursor = msg['cursor'];\n",
       "    switch(cursor)\n",
       "    {\n",
       "    case 0:\n",
       "        cursor = 'pointer';\n",
       "        break;\n",
       "    case 1:\n",
       "        cursor = 'default';\n",
       "        break;\n",
       "    case 2:\n",
       "        cursor = 'crosshair';\n",
       "        break;\n",
       "    case 3:\n",
       "        cursor = 'move';\n",
       "        break;\n",
       "    }\n",
       "    fig.rubberband_canvas.style.cursor = cursor;\n",
       "}\n",
       "\n",
       "mpl.figure.prototype.handle_message = function(fig, msg) {\n",
       "    fig.message.textContent = msg['message'];\n",
       "}\n",
       "\n",
       "mpl.figure.prototype.handle_draw = function(fig, msg) {\n",
       "    // Request the server to send over a new figure.\n",
       "    fig.send_draw_message();\n",
       "}\n",
       "\n",
       "mpl.figure.prototype.handle_image_mode = function(fig, msg) {\n",
       "    fig.image_mode = msg['mode'];\n",
       "}\n",
       "\n",
       "mpl.figure.prototype.updated_canvas_event = function() {\n",
       "    // Called whenever the canvas gets updated.\n",
       "    this.send_message(\"ack\", {});\n",
       "}\n",
       "\n",
       "// A function to construct a web socket function for onmessage handling.\n",
       "// Called in the figure constructor.\n",
       "mpl.figure.prototype._make_on_message_function = function(fig) {\n",
       "    return function socket_on_message(evt) {\n",
       "        if (evt.data instanceof Blob) {\n",
       "            /* FIXME: We get \"Resource interpreted as Image but\n",
       "             * transferred with MIME type text/plain:\" errors on\n",
       "             * Chrome.  But how to set the MIME type?  It doesn't seem\n",
       "             * to be part of the websocket stream */\n",
       "            evt.data.type = \"image/png\";\n",
       "\n",
       "            /* Free the memory for the previous frames */\n",
       "            if (fig.imageObj.src) {\n",
       "                (window.URL || window.webkitURL).revokeObjectURL(\n",
       "                    fig.imageObj.src);\n",
       "            }\n",
       "\n",
       "            fig.imageObj.src = (window.URL || window.webkitURL).createObjectURL(\n",
       "                evt.data);\n",
       "            fig.updated_canvas_event();\n",
       "            fig.waiting = false;\n",
       "            return;\n",
       "        }\n",
       "        else if (typeof evt.data === 'string' && evt.data.slice(0, 21) == \"data:image/png;base64\") {\n",
       "            fig.imageObj.src = evt.data;\n",
       "            fig.updated_canvas_event();\n",
       "            fig.waiting = false;\n",
       "            return;\n",
       "        }\n",
       "\n",
       "        var msg = JSON.parse(evt.data);\n",
       "        var msg_type = msg['type'];\n",
       "\n",
       "        // Call the  \"handle_{type}\" callback, which takes\n",
       "        // the figure and JSON message as its only arguments.\n",
       "        try {\n",
       "            var callback = fig[\"handle_\" + msg_type];\n",
       "        } catch (e) {\n",
       "            console.log(\"No handler for the '\" + msg_type + \"' message type: \", msg);\n",
       "            return;\n",
       "        }\n",
       "\n",
       "        if (callback) {\n",
       "            try {\n",
       "                // console.log(\"Handling '\" + msg_type + \"' message: \", msg);\n",
       "                callback(fig, msg);\n",
       "            } catch (e) {\n",
       "                console.log(\"Exception inside the 'handler_\" + msg_type + \"' callback:\", e, e.stack, msg);\n",
       "            }\n",
       "        }\n",
       "    };\n",
       "}\n",
       "\n",
       "// from http://stackoverflow.com/questions/1114465/getting-mouse-location-in-canvas\n",
       "mpl.findpos = function(e) {\n",
       "    //this section is from http://www.quirksmode.org/js/events_properties.html\n",
       "    var targ;\n",
       "    if (!e)\n",
       "        e = window.event;\n",
       "    if (e.target)\n",
       "        targ = e.target;\n",
       "    else if (e.srcElement)\n",
       "        targ = e.srcElement;\n",
       "    if (targ.nodeType == 3) // defeat Safari bug\n",
       "        targ = targ.parentNode;\n",
       "\n",
       "    // jQuery normalizes the pageX and pageY\n",
       "    // pageX,Y are the mouse positions relative to the document\n",
       "    // offset() returns the position of the element relative to the document\n",
       "    var x = e.pageX - $(targ).offset().left;\n",
       "    var y = e.pageY - $(targ).offset().top;\n",
       "\n",
       "    return {\"x\": x, \"y\": y};\n",
       "};\n",
       "\n",
       "/*\n",
       " * return a copy of an object with only non-object keys\n",
       " * we need this to avoid circular references\n",
       " * http://stackoverflow.com/a/24161582/3208463\n",
       " */\n",
       "function simpleKeys (original) {\n",
       "  return Object.keys(original).reduce(function (obj, key) {\n",
       "    if (typeof original[key] !== 'object')\n",
       "        obj[key] = original[key]\n",
       "    return obj;\n",
       "  }, {});\n",
       "}\n",
       "\n",
       "mpl.figure.prototype.mouse_event = function(event, name) {\n",
       "    var canvas_pos = mpl.findpos(event)\n",
       "\n",
       "    if (name === 'button_press')\n",
       "    {\n",
       "        this.canvas.focus();\n",
       "        this.canvas_div.focus();\n",
       "    }\n",
       "\n",
       "    var x = canvas_pos.x * mpl.ratio;\n",
       "    var y = canvas_pos.y * mpl.ratio;\n",
       "\n",
       "    this.send_message(name, {x: x, y: y, button: event.button,\n",
       "                             step: event.step,\n",
       "                             guiEvent: simpleKeys(event)});\n",
       "\n",
       "    /* This prevents the web browser from automatically changing to\n",
       "     * the text insertion cursor when the button is pressed.  We want\n",
       "     * to control all of the cursor setting manually through the\n",
       "     * 'cursor' event from matplotlib */\n",
       "    event.preventDefault();\n",
       "    return false;\n",
       "}\n",
       "\n",
       "mpl.figure.prototype._key_event_extra = function(event, name) {\n",
       "    // Handle any extra behaviour associated with a key event\n",
       "}\n",
       "\n",
       "mpl.figure.prototype.key_event = function(event, name) {\n",
       "\n",
       "    // Prevent repeat events\n",
       "    if (name == 'key_press')\n",
       "    {\n",
       "        if (event.which === this._key)\n",
       "            return;\n",
       "        else\n",
       "            this._key = event.which;\n",
       "    }\n",
       "    if (name == 'key_release')\n",
       "        this._key = null;\n",
       "\n",
       "    var value = '';\n",
       "    if (event.ctrlKey && event.which != 17)\n",
       "        value += \"ctrl+\";\n",
       "    if (event.altKey && event.which != 18)\n",
       "        value += \"alt+\";\n",
       "    if (event.shiftKey && event.which != 16)\n",
       "        value += \"shift+\";\n",
       "\n",
       "    value += 'k';\n",
       "    value += event.which.toString();\n",
       "\n",
       "    this._key_event_extra(event, name);\n",
       "\n",
       "    this.send_message(name, {key: value,\n",
       "                             guiEvent: simpleKeys(event)});\n",
       "    return false;\n",
       "}\n",
       "\n",
       "mpl.figure.prototype.toolbar_button_onclick = function(name) {\n",
       "    if (name == 'download') {\n",
       "        this.handle_save(this, null);\n",
       "    } else {\n",
       "        this.send_message(\"toolbar_button\", {name: name});\n",
       "    }\n",
       "};\n",
       "\n",
       "mpl.figure.prototype.toolbar_button_onmouseover = function(tooltip) {\n",
       "    this.message.textContent = tooltip;\n",
       "};\n",
       "mpl.toolbar_items = [[\"Home\", \"Reset original view\", \"fa fa-home icon-home\", \"home\"], [\"Back\", \"Back to  previous view\", \"fa fa-arrow-left icon-arrow-left\", \"back\"], [\"Forward\", \"Forward to next view\", \"fa fa-arrow-right icon-arrow-right\", \"forward\"], [\"\", \"\", \"\", \"\"], [\"Pan\", \"Pan axes with left mouse, zoom with right\", \"fa fa-arrows icon-move\", \"pan\"], [\"Zoom\", \"Zoom to rectangle\", \"fa fa-square-o icon-check-empty\", \"zoom\"], [\"\", \"\", \"\", \"\"], [\"Download\", \"Download plot\", \"fa fa-floppy-o icon-save\", \"download\"]];\n",
       "\n",
       "mpl.extensions = [\"eps\", \"jpeg\", \"pdf\", \"png\", \"ps\", \"raw\", \"svg\", \"tif\"];\n",
       "\n",
       "mpl.default_extension = \"png\";var comm_websocket_adapter = function(comm) {\n",
       "    // Create a \"websocket\"-like object which calls the given IPython comm\n",
       "    // object with the appropriate methods. Currently this is a non binary\n",
       "    // socket, so there is still some room for performance tuning.\n",
       "    var ws = {};\n",
       "\n",
       "    ws.close = function() {\n",
       "        comm.close()\n",
       "    };\n",
       "    ws.send = function(m) {\n",
       "        //console.log('sending', m);\n",
       "        comm.send(m);\n",
       "    };\n",
       "    // Register the callback with on_msg.\n",
       "    comm.on_msg(function(msg) {\n",
       "        //console.log('receiving', msg['content']['data'], msg);\n",
       "        // Pass the mpl event to the overridden (by mpl) onmessage function.\n",
       "        ws.onmessage(msg['content']['data'])\n",
       "    });\n",
       "    return ws;\n",
       "}\n",
       "\n",
       "mpl.mpl_figure_comm = function(comm, msg) {\n",
       "    // This is the function which gets called when the mpl process\n",
       "    // starts-up an IPython Comm through the \"matplotlib\" channel.\n",
       "\n",
       "    var id = msg.content.data.id;\n",
       "    // Get hold of the div created by the display call when the Comm\n",
       "    // socket was opened in Python.\n",
       "    var element = $(\"#\" + id);\n",
       "    var ws_proxy = comm_websocket_adapter(comm)\n",
       "\n",
       "    function ondownload(figure, format) {\n",
       "        window.open(figure.imageObj.src);\n",
       "    }\n",
       "\n",
       "    var fig = new mpl.figure(id, ws_proxy,\n",
       "                           ondownload,\n",
       "                           element.get(0));\n",
       "\n",
       "    // Call onopen now - mpl needs it, as it is assuming we've passed it a real\n",
       "    // web socket which is closed, not our websocket->open comm proxy.\n",
       "    ws_proxy.onopen();\n",
       "\n",
       "    fig.parent_element = element.get(0);\n",
       "    fig.cell_info = mpl.find_output_cell(\"<div id='\" + id + \"'></div>\");\n",
       "    if (!fig.cell_info) {\n",
       "        console.error(\"Failed to find cell for figure\", id, fig);\n",
       "        return;\n",
       "    }\n",
       "\n",
       "    var output_index = fig.cell_info[2]\n",
       "    var cell = fig.cell_info[0];\n",
       "\n",
       "};\n",
       "\n",
       "mpl.figure.prototype.handle_close = function(fig, msg) {\n",
       "    var width = fig.canvas.width/mpl.ratio\n",
       "    fig.root.unbind('remove')\n",
       "\n",
       "    // Update the output cell to use the data from the current canvas.\n",
       "    fig.push_to_output();\n",
       "    var dataURL = fig.canvas.toDataURL();\n",
       "    // Re-enable the keyboard manager in IPython - without this line, in FF,\n",
       "    // the notebook keyboard shortcuts fail.\n",
       "    IPython.keyboard_manager.enable()\n",
       "    $(fig.parent_element).html('<img src=\"' + dataURL + '\" width=\"' + width + '\">');\n",
       "    fig.close_ws(fig, msg);\n",
       "}\n",
       "\n",
       "mpl.figure.prototype.close_ws = function(fig, msg){\n",
       "    fig.send_message('closing', msg);\n",
       "    // fig.ws.close()\n",
       "}\n",
       "\n",
       "mpl.figure.prototype.push_to_output = function(remove_interactive) {\n",
       "    // Turn the data on the canvas into data in the output cell.\n",
       "    var width = this.canvas.width/mpl.ratio\n",
       "    var dataURL = this.canvas.toDataURL();\n",
       "    this.cell_info[1]['text/html'] = '<img src=\"' + dataURL + '\" width=\"' + width + '\">';\n",
       "}\n",
       "\n",
       "mpl.figure.prototype.updated_canvas_event = function() {\n",
       "    // Tell IPython that the notebook contents must change.\n",
       "    IPython.notebook.set_dirty(true);\n",
       "    this.send_message(\"ack\", {});\n",
       "    var fig = this;\n",
       "    // Wait a second, then push the new image to the DOM so\n",
       "    // that it is saved nicely (might be nice to debounce this).\n",
       "    setTimeout(function () { fig.push_to_output() }, 1000);\n",
       "}\n",
       "\n",
       "mpl.figure.prototype._init_toolbar = function() {\n",
       "    var fig = this;\n",
       "\n",
       "    var nav_element = $('<div/>')\n",
       "    nav_element.attr('style', 'width: 100%');\n",
       "    this.root.append(nav_element);\n",
       "\n",
       "    // Define a callback function for later on.\n",
       "    function toolbar_event(event) {\n",
       "        return fig.toolbar_button_onclick(event['data']);\n",
       "    }\n",
       "    function toolbar_mouse_event(event) {\n",
       "        return fig.toolbar_button_onmouseover(event['data']);\n",
       "    }\n",
       "\n",
       "    for(var toolbar_ind in mpl.toolbar_items){\n",
       "        var name = mpl.toolbar_items[toolbar_ind][0];\n",
       "        var tooltip = mpl.toolbar_items[toolbar_ind][1];\n",
       "        var image = mpl.toolbar_items[toolbar_ind][2];\n",
       "        var method_name = mpl.toolbar_items[toolbar_ind][3];\n",
       "\n",
       "        if (!name) { continue; };\n",
       "\n",
       "        var button = $('<button class=\"btn btn-default\" href=\"#\" title=\"' + name + '\"><i class=\"fa ' + image + ' fa-lg\"></i></button>');\n",
       "        button.click(method_name, toolbar_event);\n",
       "        button.mouseover(tooltip, toolbar_mouse_event);\n",
       "        nav_element.append(button);\n",
       "    }\n",
       "\n",
       "    // Add the status bar.\n",
       "    var status_bar = $('<span class=\"mpl-message\" style=\"text-align:right; float: right;\"/>');\n",
       "    nav_element.append(status_bar);\n",
       "    this.message = status_bar[0];\n",
       "\n",
       "    // Add the close button to the window.\n",
       "    var buttongrp = $('<div class=\"btn-group inline pull-right\"></div>');\n",
       "    var button = $('<button class=\"btn btn-mini btn-primary\" href=\"#\" title=\"Stop Interaction\"><i class=\"fa fa-power-off icon-remove icon-large\"></i></button>');\n",
       "    button.click(function (evt) { fig.handle_close(fig, {}); } );\n",
       "    button.mouseover('Stop Interaction', toolbar_mouse_event);\n",
       "    buttongrp.append(button);\n",
       "    var titlebar = this.root.find($('.ui-dialog-titlebar'));\n",
       "    titlebar.prepend(buttongrp);\n",
       "}\n",
       "\n",
       "mpl.figure.prototype._root_extra_style = function(el){\n",
       "    var fig = this\n",
       "    el.on(\"remove\", function(){\n",
       "\tfig.close_ws(fig, {});\n",
       "    });\n",
       "}\n",
       "\n",
       "mpl.figure.prototype._canvas_extra_style = function(el){\n",
       "    // this is important to make the div 'focusable\n",
       "    el.attr('tabindex', 0)\n",
       "    // reach out to IPython and tell the keyboard manager to turn it's self\n",
       "    // off when our div gets focus\n",
       "\n",
       "    // location in version 3\n",
       "    if (IPython.notebook.keyboard_manager) {\n",
       "        IPython.notebook.keyboard_manager.register_events(el);\n",
       "    }\n",
       "    else {\n",
       "        // location in version 2\n",
       "        IPython.keyboard_manager.register_events(el);\n",
       "    }\n",
       "\n",
       "}\n",
       "\n",
       "mpl.figure.prototype._key_event_extra = function(event, name) {\n",
       "    var manager = IPython.notebook.keyboard_manager;\n",
       "    if (!manager)\n",
       "        manager = IPython.keyboard_manager;\n",
       "\n",
       "    // Check for shift+enter\n",
       "    if (event.shiftKey && event.which == 13) {\n",
       "        this.canvas_div.blur();\n",
       "        event.shiftKey = false;\n",
       "        // Send a \"J\" for go to next cell\n",
       "        event.which = 74;\n",
       "        event.keyCode = 74;\n",
       "        manager.command_mode();\n",
       "        manager.handle_keydown(event);\n",
       "    }\n",
       "}\n",
       "\n",
       "mpl.figure.prototype.handle_save = function(fig, msg) {\n",
       "    fig.ondownload(fig, null);\n",
       "}\n",
       "\n",
       "\n",
       "mpl.find_output_cell = function(html_output) {\n",
       "    // Return the cell and output element which can be found *uniquely* in the notebook.\n",
       "    // Note - this is a bit hacky, but it is done because the \"notebook_saving.Notebook\"\n",
       "    // IPython event is triggered only after the cells have been serialised, which for\n",
       "    // our purposes (turning an active figure into a static one), is too late.\n",
       "    var cells = IPython.notebook.get_cells();\n",
       "    var ncells = cells.length;\n",
       "    for (var i=0; i<ncells; i++) {\n",
       "        var cell = cells[i];\n",
       "        if (cell.cell_type === 'code'){\n",
       "            for (var j=0; j<cell.output_area.outputs.length; j++) {\n",
       "                var data = cell.output_area.outputs[j];\n",
       "                if (data.data) {\n",
       "                    // IPython >= 3 moved mimebundle to data attribute of output\n",
       "                    data = data.data;\n",
       "                }\n",
       "                if (data['text/html'] == html_output) {\n",
       "                    return [cell, data, j];\n",
       "                }\n",
       "            }\n",
       "        }\n",
       "    }\n",
       "}\n",
       "\n",
       "// Register the function which deals with the matplotlib target/channel.\n",
       "// The kernel may be null if the page has been refreshed.\n",
       "if (IPython.notebook.kernel != null) {\n",
       "    IPython.notebook.kernel.comm_manager.register_target('matplotlib', mpl.mpl_figure_comm);\n",
       "}\n"
      ],
      "text/plain": [
       "<IPython.core.display.Javascript object>"
      ]
     },
     "metadata": {},
     "output_type": "display_data"
    },
    {
     "data": {
      "text/html": [
       "<img src=\"data:image/png;base64,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\" width=\"640\">"
      ],
      "text/plain": [
       "<IPython.core.display.HTML object>"
      ]
     },
     "metadata": {},
     "output_type": "display_data"
    },
    {
     "data": {
      "text/plain": [
       "<matplotlib.axes._subplots.AxesSubplot at 0x25227d01400>"
      ]
     },
     "execution_count": 56,
     "metadata": {},
     "output_type": "execute_result"
    },
    {
     "data": {
      "text/plain": [
       "Text(0.5,1,'City Latitude vs Temp (F) (10-19-2018)')"
      ]
     },
     "execution_count": 56,
     "metadata": {},
     "output_type": "execute_result"
    },
    {
     "data": {
      "text/plain": [
       "Text(0.5,0,'Latitude')"
      ]
     },
     "execution_count": 56,
     "metadata": {},
     "output_type": "execute_result"
    },
    {
     "data": {
      "text/plain": [
       "Text(0,0.5,'Temp (F)')"
      ]
     },
     "execution_count": 56,
     "metadata": {},
     "output_type": "execute_result"
    }
   ],
   "source": [
    "# Creating a scatter plot for latitude vs temperature\n",
    "citiweather_df_cleaned.plot.scatter(['Lat'], ['Temp (F)'], marker = 'o', facecolors = 'b', alpha = 0.6)\n",
    "# Chart information\n",
    "plt.title('City Latitude vs Temp (F) (10-19-2018)')\n",
    "plt.xlabel('Latitude')\n",
    "plt.ylabel('Temp (F)')\n",
    "\n",
    "# Exporting chart as png file\n",
    "plt.savefig('output/City Latitude vs Temp (F) (10-19-2018).png')\n",
    "plt.show()"
   ]
  },
  {
   "cell_type": "markdown",
   "metadata": {},
   "source": [
    "#### Latitude vs. Humidity Plot"
   ]
  },
  {
   "cell_type": "code",
   "execution_count": 57,
   "metadata": {
    "scrolled": true
   },
   "outputs": [
    {
     "data": {
      "application/javascript": [
       "/* Put everything inside the global mpl namespace */\n",
       "window.mpl = {};\n",
       "\n",
       "\n",
       "mpl.get_websocket_type = function() {\n",
       "    if (typeof(WebSocket) !== 'undefined') {\n",
       "        return WebSocket;\n",
       "    } else if (typeof(MozWebSocket) !== 'undefined') {\n",
       "        return MozWebSocket;\n",
       "    } else {\n",
       "        alert('Your browser does not have WebSocket support.' +\n",
       "              'Please try Chrome, Safari or Firefox ≥ 6. ' +\n",
       "              'Firefox 4 and 5 are also supported but you ' +\n",
       "              'have to enable WebSockets in about:config.');\n",
       "    };\n",
       "}\n",
       "\n",
       "mpl.figure = function(figure_id, websocket, ondownload, parent_element) {\n",
       "    this.id = figure_id;\n",
       "\n",
       "    this.ws = websocket;\n",
       "\n",
       "    this.supports_binary = (this.ws.binaryType != undefined);\n",
       "\n",
       "    if (!this.supports_binary) {\n",
       "        var warnings = document.getElementById(\"mpl-warnings\");\n",
       "        if (warnings) {\n",
       "            warnings.style.display = 'block';\n",
       "            warnings.textContent = (\n",
       "                \"This browser does not support binary websocket messages. \" +\n",
       "                    \"Performance may be slow.\");\n",
       "        }\n",
       "    }\n",
       "\n",
       "    this.imageObj = new Image();\n",
       "\n",
       "    this.context = undefined;\n",
       "    this.message = undefined;\n",
       "    this.canvas = undefined;\n",
       "    this.rubberband_canvas = undefined;\n",
       "    this.rubberband_context = undefined;\n",
       "    this.format_dropdown = undefined;\n",
       "\n",
       "    this.image_mode = 'full';\n",
       "\n",
       "    this.root = $('<div/>');\n",
       "    this._root_extra_style(this.root)\n",
       "    this.root.attr('style', 'display: inline-block');\n",
       "\n",
       "    $(parent_element).append(this.root);\n",
       "\n",
       "    this._init_header(this);\n",
       "    this._init_canvas(this);\n",
       "    this._init_toolbar(this);\n",
       "\n",
       "    var fig = this;\n",
       "\n",
       "    this.waiting = false;\n",
       "\n",
       "    this.ws.onopen =  function () {\n",
       "            fig.send_message(\"supports_binary\", {value: fig.supports_binary});\n",
       "            fig.send_message(\"send_image_mode\", {});\n",
       "            if (mpl.ratio != 1) {\n",
       "                fig.send_message(\"set_dpi_ratio\", {'dpi_ratio': mpl.ratio});\n",
       "            }\n",
       "            fig.send_message(\"refresh\", {});\n",
       "        }\n",
       "\n",
       "    this.imageObj.onload = function() {\n",
       "            if (fig.image_mode == 'full') {\n",
       "                // Full images could contain transparency (where diff images\n",
       "                // almost always do), so we need to clear the canvas so that\n",
       "                // there is no ghosting.\n",
       "                fig.context.clearRect(0, 0, fig.canvas.width, fig.canvas.height);\n",
       "            }\n",
       "            fig.context.drawImage(fig.imageObj, 0, 0);\n",
       "        };\n",
       "\n",
       "    this.imageObj.onunload = function() {\n",
       "        fig.ws.close();\n",
       "    }\n",
       "\n",
       "    this.ws.onmessage = this._make_on_message_function(this);\n",
       "\n",
       "    this.ondownload = ondownload;\n",
       "}\n",
       "\n",
       "mpl.figure.prototype._init_header = function() {\n",
       "    var titlebar = $(\n",
       "        '<div class=\"ui-dialog-titlebar ui-widget-header ui-corner-all ' +\n",
       "        'ui-helper-clearfix\"/>');\n",
       "    var titletext = $(\n",
       "        '<div class=\"ui-dialog-title\" style=\"width: 100%; ' +\n",
       "        'text-align: center; padding: 3px;\"/>');\n",
       "    titlebar.append(titletext)\n",
       "    this.root.append(titlebar);\n",
       "    this.header = titletext[0];\n",
       "}\n",
       "\n",
       "\n",
       "\n",
       "mpl.figure.prototype._canvas_extra_style = function(canvas_div) {\n",
       "\n",
       "}\n",
       "\n",
       "\n",
       "mpl.figure.prototype._root_extra_style = function(canvas_div) {\n",
       "\n",
       "}\n",
       "\n",
       "mpl.figure.prototype._init_canvas = function() {\n",
       "    var fig = this;\n",
       "\n",
       "    var canvas_div = $('<div/>');\n",
       "\n",
       "    canvas_div.attr('style', 'position: relative; clear: both; outline: 0');\n",
       "\n",
       "    function canvas_keyboard_event(event) {\n",
       "        return fig.key_event(event, event['data']);\n",
       "    }\n",
       "\n",
       "    canvas_div.keydown('key_press', canvas_keyboard_event);\n",
       "    canvas_div.keyup('key_release', canvas_keyboard_event);\n",
       "    this.canvas_div = canvas_div\n",
       "    this._canvas_extra_style(canvas_div)\n",
       "    this.root.append(canvas_div);\n",
       "\n",
       "    var canvas = $('<canvas/>');\n",
       "    canvas.addClass('mpl-canvas');\n",
       "    canvas.attr('style', \"left: 0; top: 0; z-index: 0; outline: 0\")\n",
       "\n",
       "    this.canvas = canvas[0];\n",
       "    this.context = canvas[0].getContext(\"2d\");\n",
       "\n",
       "    var backingStore = this.context.backingStorePixelRatio ||\n",
       "\tthis.context.webkitBackingStorePixelRatio ||\n",
       "\tthis.context.mozBackingStorePixelRatio ||\n",
       "\tthis.context.msBackingStorePixelRatio ||\n",
       "\tthis.context.oBackingStorePixelRatio ||\n",
       "\tthis.context.backingStorePixelRatio || 1;\n",
       "\n",
       "    mpl.ratio = (window.devicePixelRatio || 1) / backingStore;\n",
       "\n",
       "    var rubberband = $('<canvas/>');\n",
       "    rubberband.attr('style', \"position: absolute; left: 0; top: 0; z-index: 1;\")\n",
       "\n",
       "    var pass_mouse_events = true;\n",
       "\n",
       "    canvas_div.resizable({\n",
       "        start: function(event, ui) {\n",
       "            pass_mouse_events = false;\n",
       "        },\n",
       "        resize: function(event, ui) {\n",
       "            fig.request_resize(ui.size.width, ui.size.height);\n",
       "        },\n",
       "        stop: function(event, ui) {\n",
       "            pass_mouse_events = true;\n",
       "            fig.request_resize(ui.size.width, ui.size.height);\n",
       "        },\n",
       "    });\n",
       "\n",
       "    function mouse_event_fn(event) {\n",
       "        if (pass_mouse_events)\n",
       "            return fig.mouse_event(event, event['data']);\n",
       "    }\n",
       "\n",
       "    rubberband.mousedown('button_press', mouse_event_fn);\n",
       "    rubberband.mouseup('button_release', mouse_event_fn);\n",
       "    // Throttle sequential mouse events to 1 every 20ms.\n",
       "    rubberband.mousemove('motion_notify', mouse_event_fn);\n",
       "\n",
       "    rubberband.mouseenter('figure_enter', mouse_event_fn);\n",
       "    rubberband.mouseleave('figure_leave', mouse_event_fn);\n",
       "\n",
       "    canvas_div.on(\"wheel\", function (event) {\n",
       "        event = event.originalEvent;\n",
       "        event['data'] = 'scroll'\n",
       "        if (event.deltaY < 0) {\n",
       "            event.step = 1;\n",
       "        } else {\n",
       "            event.step = -1;\n",
       "        }\n",
       "        mouse_event_fn(event);\n",
       "    });\n",
       "\n",
       "    canvas_div.append(canvas);\n",
       "    canvas_div.append(rubberband);\n",
       "\n",
       "    this.rubberband = rubberband;\n",
       "    this.rubberband_canvas = rubberband[0];\n",
       "    this.rubberband_context = rubberband[0].getContext(\"2d\");\n",
       "    this.rubberband_context.strokeStyle = \"#000000\";\n",
       "\n",
       "    this._resize_canvas = function(width, height) {\n",
       "        // Keep the size of the canvas, canvas container, and rubber band\n",
       "        // canvas in synch.\n",
       "        canvas_div.css('width', width)\n",
       "        canvas_div.css('height', height)\n",
       "\n",
       "        canvas.attr('width', width * mpl.ratio);\n",
       "        canvas.attr('height', height * mpl.ratio);\n",
       "        canvas.attr('style', 'width: ' + width + 'px; height: ' + height + 'px;');\n",
       "\n",
       "        rubberband.attr('width', width);\n",
       "        rubberband.attr('height', height);\n",
       "    }\n",
       "\n",
       "    // Set the figure to an initial 600x600px, this will subsequently be updated\n",
       "    // upon first draw.\n",
       "    this._resize_canvas(600, 600);\n",
       "\n",
       "    // Disable right mouse context menu.\n",
       "    $(this.rubberband_canvas).bind(\"contextmenu\",function(e){\n",
       "        return false;\n",
       "    });\n",
       "\n",
       "    function set_focus () {\n",
       "        canvas.focus();\n",
       "        canvas_div.focus();\n",
       "    }\n",
       "\n",
       "    window.setTimeout(set_focus, 100);\n",
       "}\n",
       "\n",
       "mpl.figure.prototype._init_toolbar = function() {\n",
       "    var fig = this;\n",
       "\n",
       "    var nav_element = $('<div/>')\n",
       "    nav_element.attr('style', 'width: 100%');\n",
       "    this.root.append(nav_element);\n",
       "\n",
       "    // Define a callback function for later on.\n",
       "    function toolbar_event(event) {\n",
       "        return fig.toolbar_button_onclick(event['data']);\n",
       "    }\n",
       "    function toolbar_mouse_event(event) {\n",
       "        return fig.toolbar_button_onmouseover(event['data']);\n",
       "    }\n",
       "\n",
       "    for(var toolbar_ind in mpl.toolbar_items) {\n",
       "        var name = mpl.toolbar_items[toolbar_ind][0];\n",
       "        var tooltip = mpl.toolbar_items[toolbar_ind][1];\n",
       "        var image = mpl.toolbar_items[toolbar_ind][2];\n",
       "        var method_name = mpl.toolbar_items[toolbar_ind][3];\n",
       "\n",
       "        if (!name) {\n",
       "            // put a spacer in here.\n",
       "            continue;\n",
       "        }\n",
       "        var button = $('<button/>');\n",
       "        button.addClass('ui-button ui-widget ui-state-default ui-corner-all ' +\n",
       "                        'ui-button-icon-only');\n",
       "        button.attr('role', 'button');\n",
       "        button.attr('aria-disabled', 'false');\n",
       "        button.click(method_name, toolbar_event);\n",
       "        button.mouseover(tooltip, toolbar_mouse_event);\n",
       "\n",
       "        var icon_img = $('<span/>');\n",
       "        icon_img.addClass('ui-button-icon-primary ui-icon');\n",
       "        icon_img.addClass(image);\n",
       "        icon_img.addClass('ui-corner-all');\n",
       "\n",
       "        var tooltip_span = $('<span/>');\n",
       "        tooltip_span.addClass('ui-button-text');\n",
       "        tooltip_span.html(tooltip);\n",
       "\n",
       "        button.append(icon_img);\n",
       "        button.append(tooltip_span);\n",
       "\n",
       "        nav_element.append(button);\n",
       "    }\n",
       "\n",
       "    var fmt_picker_span = $('<span/>');\n",
       "\n",
       "    var fmt_picker = $('<select/>');\n",
       "    fmt_picker.addClass('mpl-toolbar-option ui-widget ui-widget-content');\n",
       "    fmt_picker_span.append(fmt_picker);\n",
       "    nav_element.append(fmt_picker_span);\n",
       "    this.format_dropdown = fmt_picker[0];\n",
       "\n",
       "    for (var ind in mpl.extensions) {\n",
       "        var fmt = mpl.extensions[ind];\n",
       "        var option = $(\n",
       "            '<option/>', {selected: fmt === mpl.default_extension}).html(fmt);\n",
       "        fmt_picker.append(option)\n",
       "    }\n",
       "\n",
       "    // Add hover states to the ui-buttons\n",
       "    $( \".ui-button\" ).hover(\n",
       "        function() { $(this).addClass(\"ui-state-hover\");},\n",
       "        function() { $(this).removeClass(\"ui-state-hover\");}\n",
       "    );\n",
       "\n",
       "    var status_bar = $('<span class=\"mpl-message\"/>');\n",
       "    nav_element.append(status_bar);\n",
       "    this.message = status_bar[0];\n",
       "}\n",
       "\n",
       "mpl.figure.prototype.request_resize = function(x_pixels, y_pixels) {\n",
       "    // Request matplotlib to resize the figure. Matplotlib will then trigger a resize in the client,\n",
       "    // which will in turn request a refresh of the image.\n",
       "    this.send_message('resize', {'width': x_pixels, 'height': y_pixels});\n",
       "}\n",
       "\n",
       "mpl.figure.prototype.send_message = function(type, properties) {\n",
       "    properties['type'] = type;\n",
       "    properties['figure_id'] = this.id;\n",
       "    this.ws.send(JSON.stringify(properties));\n",
       "}\n",
       "\n",
       "mpl.figure.prototype.send_draw_message = function() {\n",
       "    if (!this.waiting) {\n",
       "        this.waiting = true;\n",
       "        this.ws.send(JSON.stringify({type: \"draw\", figure_id: this.id}));\n",
       "    }\n",
       "}\n",
       "\n",
       "\n",
       "mpl.figure.prototype.handle_save = function(fig, msg) {\n",
       "    var format_dropdown = fig.format_dropdown;\n",
       "    var format = format_dropdown.options[format_dropdown.selectedIndex].value;\n",
       "    fig.ondownload(fig, format);\n",
       "}\n",
       "\n",
       "\n",
       "mpl.figure.prototype.handle_resize = function(fig, msg) {\n",
       "    var size = msg['size'];\n",
       "    if (size[0] != fig.canvas.width || size[1] != fig.canvas.height) {\n",
       "        fig._resize_canvas(size[0], size[1]);\n",
       "        fig.send_message(\"refresh\", {});\n",
       "    };\n",
       "}\n",
       "\n",
       "mpl.figure.prototype.handle_rubberband = function(fig, msg) {\n",
       "    var x0 = msg['x0'] / mpl.ratio;\n",
       "    var y0 = (fig.canvas.height - msg['y0']) / mpl.ratio;\n",
       "    var x1 = msg['x1'] / mpl.ratio;\n",
       "    var y1 = (fig.canvas.height - msg['y1']) / mpl.ratio;\n",
       "    x0 = Math.floor(x0) + 0.5;\n",
       "    y0 = Math.floor(y0) + 0.5;\n",
       "    x1 = Math.floor(x1) + 0.5;\n",
       "    y1 = Math.floor(y1) + 0.5;\n",
       "    var min_x = Math.min(x0, x1);\n",
       "    var min_y = Math.min(y0, y1);\n",
       "    var width = Math.abs(x1 - x0);\n",
       "    var height = Math.abs(y1 - y0);\n",
       "\n",
       "    fig.rubberband_context.clearRect(\n",
       "        0, 0, fig.canvas.width, fig.canvas.height);\n",
       "\n",
       "    fig.rubberband_context.strokeRect(min_x, min_y, width, height);\n",
       "}\n",
       "\n",
       "mpl.figure.prototype.handle_figure_label = function(fig, msg) {\n",
       "    // Updates the figure title.\n",
       "    fig.header.textContent = msg['label'];\n",
       "}\n",
       "\n",
       "mpl.figure.prototype.handle_cursor = function(fig, msg) {\n",
       "    var cursor = msg['cursor'];\n",
       "    switch(cursor)\n",
       "    {\n",
       "    case 0:\n",
       "        cursor = 'pointer';\n",
       "        break;\n",
       "    case 1:\n",
       "        cursor = 'default';\n",
       "        break;\n",
       "    case 2:\n",
       "        cursor = 'crosshair';\n",
       "        break;\n",
       "    case 3:\n",
       "        cursor = 'move';\n",
       "        break;\n",
       "    }\n",
       "    fig.rubberband_canvas.style.cursor = cursor;\n",
       "}\n",
       "\n",
       "mpl.figure.prototype.handle_message = function(fig, msg) {\n",
       "    fig.message.textContent = msg['message'];\n",
       "}\n",
       "\n",
       "mpl.figure.prototype.handle_draw = function(fig, msg) {\n",
       "    // Request the server to send over a new figure.\n",
       "    fig.send_draw_message();\n",
       "}\n",
       "\n",
       "mpl.figure.prototype.handle_image_mode = function(fig, msg) {\n",
       "    fig.image_mode = msg['mode'];\n",
       "}\n",
       "\n",
       "mpl.figure.prototype.updated_canvas_event = function() {\n",
       "    // Called whenever the canvas gets updated.\n",
       "    this.send_message(\"ack\", {});\n",
       "}\n",
       "\n",
       "// A function to construct a web socket function for onmessage handling.\n",
       "// Called in the figure constructor.\n",
       "mpl.figure.prototype._make_on_message_function = function(fig) {\n",
       "    return function socket_on_message(evt) {\n",
       "        if (evt.data instanceof Blob) {\n",
       "            /* FIXME: We get \"Resource interpreted as Image but\n",
       "             * transferred with MIME type text/plain:\" errors on\n",
       "             * Chrome.  But how to set the MIME type?  It doesn't seem\n",
       "             * to be part of the websocket stream */\n",
       "            evt.data.type = \"image/png\";\n",
       "\n",
       "            /* Free the memory for the previous frames */\n",
       "            if (fig.imageObj.src) {\n",
       "                (window.URL || window.webkitURL).revokeObjectURL(\n",
       "                    fig.imageObj.src);\n",
       "            }\n",
       "\n",
       "            fig.imageObj.src = (window.URL || window.webkitURL).createObjectURL(\n",
       "                evt.data);\n",
       "            fig.updated_canvas_event();\n",
       "            fig.waiting = false;\n",
       "            return;\n",
       "        }\n",
       "        else if (typeof evt.data === 'string' && evt.data.slice(0, 21) == \"data:image/png;base64\") {\n",
       "            fig.imageObj.src = evt.data;\n",
       "            fig.updated_canvas_event();\n",
       "            fig.waiting = false;\n",
       "            return;\n",
       "        }\n",
       "\n",
       "        var msg = JSON.parse(evt.data);\n",
       "        var msg_type = msg['type'];\n",
       "\n",
       "        // Call the  \"handle_{type}\" callback, which takes\n",
       "        // the figure and JSON message as its only arguments.\n",
       "        try {\n",
       "            var callback = fig[\"handle_\" + msg_type];\n",
       "        } catch (e) {\n",
       "            console.log(\"No handler for the '\" + msg_type + \"' message type: \", msg);\n",
       "            return;\n",
       "        }\n",
       "\n",
       "        if (callback) {\n",
       "            try {\n",
       "                // console.log(\"Handling '\" + msg_type + \"' message: \", msg);\n",
       "                callback(fig, msg);\n",
       "            } catch (e) {\n",
       "                console.log(\"Exception inside the 'handler_\" + msg_type + \"' callback:\", e, e.stack, msg);\n",
       "            }\n",
       "        }\n",
       "    };\n",
       "}\n",
       "\n",
       "// from http://stackoverflow.com/questions/1114465/getting-mouse-location-in-canvas\n",
       "mpl.findpos = function(e) {\n",
       "    //this section is from http://www.quirksmode.org/js/events_properties.html\n",
       "    var targ;\n",
       "    if (!e)\n",
       "        e = window.event;\n",
       "    if (e.target)\n",
       "        targ = e.target;\n",
       "    else if (e.srcElement)\n",
       "        targ = e.srcElement;\n",
       "    if (targ.nodeType == 3) // defeat Safari bug\n",
       "        targ = targ.parentNode;\n",
       "\n",
       "    // jQuery normalizes the pageX and pageY\n",
       "    // pageX,Y are the mouse positions relative to the document\n",
       "    // offset() returns the position of the element relative to the document\n",
       "    var x = e.pageX - $(targ).offset().left;\n",
       "    var y = e.pageY - $(targ).offset().top;\n",
       "\n",
       "    return {\"x\": x, \"y\": y};\n",
       "};\n",
       "\n",
       "/*\n",
       " * return a copy of an object with only non-object keys\n",
       " * we need this to avoid circular references\n",
       " * http://stackoverflow.com/a/24161582/3208463\n",
       " */\n",
       "function simpleKeys (original) {\n",
       "  return Object.keys(original).reduce(function (obj, key) {\n",
       "    if (typeof original[key] !== 'object')\n",
       "        obj[key] = original[key]\n",
       "    return obj;\n",
       "  }, {});\n",
       "}\n",
       "\n",
       "mpl.figure.prototype.mouse_event = function(event, name) {\n",
       "    var canvas_pos = mpl.findpos(event)\n",
       "\n",
       "    if (name === 'button_press')\n",
       "    {\n",
       "        this.canvas.focus();\n",
       "        this.canvas_div.focus();\n",
       "    }\n",
       "\n",
       "    var x = canvas_pos.x * mpl.ratio;\n",
       "    var y = canvas_pos.y * mpl.ratio;\n",
       "\n",
       "    this.send_message(name, {x: x, y: y, button: event.button,\n",
       "                             step: event.step,\n",
       "                             guiEvent: simpleKeys(event)});\n",
       "\n",
       "    /* This prevents the web browser from automatically changing to\n",
       "     * the text insertion cursor when the button is pressed.  We want\n",
       "     * to control all of the cursor setting manually through the\n",
       "     * 'cursor' event from matplotlib */\n",
       "    event.preventDefault();\n",
       "    return false;\n",
       "}\n",
       "\n",
       "mpl.figure.prototype._key_event_extra = function(event, name) {\n",
       "    // Handle any extra behaviour associated with a key event\n",
       "}\n",
       "\n",
       "mpl.figure.prototype.key_event = function(event, name) {\n",
       "\n",
       "    // Prevent repeat events\n",
       "    if (name == 'key_press')\n",
       "    {\n",
       "        if (event.which === this._key)\n",
       "            return;\n",
       "        else\n",
       "            this._key = event.which;\n",
       "    }\n",
       "    if (name == 'key_release')\n",
       "        this._key = null;\n",
       "\n",
       "    var value = '';\n",
       "    if (event.ctrlKey && event.which != 17)\n",
       "        value += \"ctrl+\";\n",
       "    if (event.altKey && event.which != 18)\n",
       "        value += \"alt+\";\n",
       "    if (event.shiftKey && event.which != 16)\n",
       "        value += \"shift+\";\n",
       "\n",
       "    value += 'k';\n",
       "    value += event.which.toString();\n",
       "\n",
       "    this._key_event_extra(event, name);\n",
       "\n",
       "    this.send_message(name, {key: value,\n",
       "                             guiEvent: simpleKeys(event)});\n",
       "    return false;\n",
       "}\n",
       "\n",
       "mpl.figure.prototype.toolbar_button_onclick = function(name) {\n",
       "    if (name == 'download') {\n",
       "        this.handle_save(this, null);\n",
       "    } else {\n",
       "        this.send_message(\"toolbar_button\", {name: name});\n",
       "    }\n",
       "};\n",
       "\n",
       "mpl.figure.prototype.toolbar_button_onmouseover = function(tooltip) {\n",
       "    this.message.textContent = tooltip;\n",
       "};\n",
       "mpl.toolbar_items = [[\"Home\", \"Reset original view\", \"fa fa-home icon-home\", \"home\"], [\"Back\", \"Back to  previous view\", \"fa fa-arrow-left icon-arrow-left\", \"back\"], [\"Forward\", \"Forward to next view\", \"fa fa-arrow-right icon-arrow-right\", \"forward\"], [\"\", \"\", \"\", \"\"], [\"Pan\", \"Pan axes with left mouse, zoom with right\", \"fa fa-arrows icon-move\", \"pan\"], [\"Zoom\", \"Zoom to rectangle\", \"fa fa-square-o icon-check-empty\", \"zoom\"], [\"\", \"\", \"\", \"\"], [\"Download\", \"Download plot\", \"fa fa-floppy-o icon-save\", \"download\"]];\n",
       "\n",
       "mpl.extensions = [\"eps\", \"jpeg\", \"pdf\", \"png\", \"ps\", \"raw\", \"svg\", \"tif\"];\n",
       "\n",
       "mpl.default_extension = \"png\";var comm_websocket_adapter = function(comm) {\n",
       "    // Create a \"websocket\"-like object which calls the given IPython comm\n",
       "    // object with the appropriate methods. Currently this is a non binary\n",
       "    // socket, so there is still some room for performance tuning.\n",
       "    var ws = {};\n",
       "\n",
       "    ws.close = function() {\n",
       "        comm.close()\n",
       "    };\n",
       "    ws.send = function(m) {\n",
       "        //console.log('sending', m);\n",
       "        comm.send(m);\n",
       "    };\n",
       "    // Register the callback with on_msg.\n",
       "    comm.on_msg(function(msg) {\n",
       "        //console.log('receiving', msg['content']['data'], msg);\n",
       "        // Pass the mpl event to the overridden (by mpl) onmessage function.\n",
       "        ws.onmessage(msg['content']['data'])\n",
       "    });\n",
       "    return ws;\n",
       "}\n",
       "\n",
       "mpl.mpl_figure_comm = function(comm, msg) {\n",
       "    // This is the function which gets called when the mpl process\n",
       "    // starts-up an IPython Comm through the \"matplotlib\" channel.\n",
       "\n",
       "    var id = msg.content.data.id;\n",
       "    // Get hold of the div created by the display call when the Comm\n",
       "    // socket was opened in Python.\n",
       "    var element = $(\"#\" + id);\n",
       "    var ws_proxy = comm_websocket_adapter(comm)\n",
       "\n",
       "    function ondownload(figure, format) {\n",
       "        window.open(figure.imageObj.src);\n",
       "    }\n",
       "\n",
       "    var fig = new mpl.figure(id, ws_proxy,\n",
       "                           ondownload,\n",
       "                           element.get(0));\n",
       "\n",
       "    // Call onopen now - mpl needs it, as it is assuming we've passed it a real\n",
       "    // web socket which is closed, not our websocket->open comm proxy.\n",
       "    ws_proxy.onopen();\n",
       "\n",
       "    fig.parent_element = element.get(0);\n",
       "    fig.cell_info = mpl.find_output_cell(\"<div id='\" + id + \"'></div>\");\n",
       "    if (!fig.cell_info) {\n",
       "        console.error(\"Failed to find cell for figure\", id, fig);\n",
       "        return;\n",
       "    }\n",
       "\n",
       "    var output_index = fig.cell_info[2]\n",
       "    var cell = fig.cell_info[0];\n",
       "\n",
       "};\n",
       "\n",
       "mpl.figure.prototype.handle_close = function(fig, msg) {\n",
       "    var width = fig.canvas.width/mpl.ratio\n",
       "    fig.root.unbind('remove')\n",
       "\n",
       "    // Update the output cell to use the data from the current canvas.\n",
       "    fig.push_to_output();\n",
       "    var dataURL = fig.canvas.toDataURL();\n",
       "    // Re-enable the keyboard manager in IPython - without this line, in FF,\n",
       "    // the notebook keyboard shortcuts fail.\n",
       "    IPython.keyboard_manager.enable()\n",
       "    $(fig.parent_element).html('<img src=\"' + dataURL + '\" width=\"' + width + '\">');\n",
       "    fig.close_ws(fig, msg);\n",
       "}\n",
       "\n",
       "mpl.figure.prototype.close_ws = function(fig, msg){\n",
       "    fig.send_message('closing', msg);\n",
       "    // fig.ws.close()\n",
       "}\n",
       "\n",
       "mpl.figure.prototype.push_to_output = function(remove_interactive) {\n",
       "    // Turn the data on the canvas into data in the output cell.\n",
       "    var width = this.canvas.width/mpl.ratio\n",
       "    var dataURL = this.canvas.toDataURL();\n",
       "    this.cell_info[1]['text/html'] = '<img src=\"' + dataURL + '\" width=\"' + width + '\">';\n",
       "}\n",
       "\n",
       "mpl.figure.prototype.updated_canvas_event = function() {\n",
       "    // Tell IPython that the notebook contents must change.\n",
       "    IPython.notebook.set_dirty(true);\n",
       "    this.send_message(\"ack\", {});\n",
       "    var fig = this;\n",
       "    // Wait a second, then push the new image to the DOM so\n",
       "    // that it is saved nicely (might be nice to debounce this).\n",
       "    setTimeout(function () { fig.push_to_output() }, 1000);\n",
       "}\n",
       "\n",
       "mpl.figure.prototype._init_toolbar = function() {\n",
       "    var fig = this;\n",
       "\n",
       "    var nav_element = $('<div/>')\n",
       "    nav_element.attr('style', 'width: 100%');\n",
       "    this.root.append(nav_element);\n",
       "\n",
       "    // Define a callback function for later on.\n",
       "    function toolbar_event(event) {\n",
       "        return fig.toolbar_button_onclick(event['data']);\n",
       "    }\n",
       "    function toolbar_mouse_event(event) {\n",
       "        return fig.toolbar_button_onmouseover(event['data']);\n",
       "    }\n",
       "\n",
       "    for(var toolbar_ind in mpl.toolbar_items){\n",
       "        var name = mpl.toolbar_items[toolbar_ind][0];\n",
       "        var tooltip = mpl.toolbar_items[toolbar_ind][1];\n",
       "        var image = mpl.toolbar_items[toolbar_ind][2];\n",
       "        var method_name = mpl.toolbar_items[toolbar_ind][3];\n",
       "\n",
       "        if (!name) { continue; };\n",
       "\n",
       "        var button = $('<button class=\"btn btn-default\" href=\"#\" title=\"' + name + '\"><i class=\"fa ' + image + ' fa-lg\"></i></button>');\n",
       "        button.click(method_name, toolbar_event);\n",
       "        button.mouseover(tooltip, toolbar_mouse_event);\n",
       "        nav_element.append(button);\n",
       "    }\n",
       "\n",
       "    // Add the status bar.\n",
       "    var status_bar = $('<span class=\"mpl-message\" style=\"text-align:right; float: right;\"/>');\n",
       "    nav_element.append(status_bar);\n",
       "    this.message = status_bar[0];\n",
       "\n",
       "    // Add the close button to the window.\n",
       "    var buttongrp = $('<div class=\"btn-group inline pull-right\"></div>');\n",
       "    var button = $('<button class=\"btn btn-mini btn-primary\" href=\"#\" title=\"Stop Interaction\"><i class=\"fa fa-power-off icon-remove icon-large\"></i></button>');\n",
       "    button.click(function (evt) { fig.handle_close(fig, {}); } );\n",
       "    button.mouseover('Stop Interaction', toolbar_mouse_event);\n",
       "    buttongrp.append(button);\n",
       "    var titlebar = this.root.find($('.ui-dialog-titlebar'));\n",
       "    titlebar.prepend(buttongrp);\n",
       "}\n",
       "\n",
       "mpl.figure.prototype._root_extra_style = function(el){\n",
       "    var fig = this\n",
       "    el.on(\"remove\", function(){\n",
       "\tfig.close_ws(fig, {});\n",
       "    });\n",
       "}\n",
       "\n",
       "mpl.figure.prototype._canvas_extra_style = function(el){\n",
       "    // this is important to make the div 'focusable\n",
       "    el.attr('tabindex', 0)\n",
       "    // reach out to IPython and tell the keyboard manager to turn it's self\n",
       "    // off when our div gets focus\n",
       "\n",
       "    // location in version 3\n",
       "    if (IPython.notebook.keyboard_manager) {\n",
       "        IPython.notebook.keyboard_manager.register_events(el);\n",
       "    }\n",
       "    else {\n",
       "        // location in version 2\n",
       "        IPython.keyboard_manager.register_events(el);\n",
       "    }\n",
       "\n",
       "}\n",
       "\n",
       "mpl.figure.prototype._key_event_extra = function(event, name) {\n",
       "    var manager = IPython.notebook.keyboard_manager;\n",
       "    if (!manager)\n",
       "        manager = IPython.keyboard_manager;\n",
       "\n",
       "    // Check for shift+enter\n",
       "    if (event.shiftKey && event.which == 13) {\n",
       "        this.canvas_div.blur();\n",
       "        event.shiftKey = false;\n",
       "        // Send a \"J\" for go to next cell\n",
       "        event.which = 74;\n",
       "        event.keyCode = 74;\n",
       "        manager.command_mode();\n",
       "        manager.handle_keydown(event);\n",
       "    }\n",
       "}\n",
       "\n",
       "mpl.figure.prototype.handle_save = function(fig, msg) {\n",
       "    fig.ondownload(fig, null);\n",
       "}\n",
       "\n",
       "\n",
       "mpl.find_output_cell = function(html_output) {\n",
       "    // Return the cell and output element which can be found *uniquely* in the notebook.\n",
       "    // Note - this is a bit hacky, but it is done because the \"notebook_saving.Notebook\"\n",
       "    // IPython event is triggered only after the cells have been serialised, which for\n",
       "    // our purposes (turning an active figure into a static one), is too late.\n",
       "    var cells = IPython.notebook.get_cells();\n",
       "    var ncells = cells.length;\n",
       "    for (var i=0; i<ncells; i++) {\n",
       "        var cell = cells[i];\n",
       "        if (cell.cell_type === 'code'){\n",
       "            for (var j=0; j<cell.output_area.outputs.length; j++) {\n",
       "                var data = cell.output_area.outputs[j];\n",
       "                if (data.data) {\n",
       "                    // IPython >= 3 moved mimebundle to data attribute of output\n",
       "                    data = data.data;\n",
       "                }\n",
       "                if (data['text/html'] == html_output) {\n",
       "                    return [cell, data, j];\n",
       "                }\n",
       "            }\n",
       "        }\n",
       "    }\n",
       "}\n",
       "\n",
       "// Register the function which deals with the matplotlib target/channel.\n",
       "// The kernel may be null if the page has been refreshed.\n",
       "if (IPython.notebook.kernel != null) {\n",
       "    IPython.notebook.kernel.comm_manager.register_target('matplotlib', mpl.mpl_figure_comm);\n",
       "}\n"
      ],
      "text/plain": [
       "<IPython.core.display.Javascript object>"
      ]
     },
     "metadata": {},
     "output_type": "display_data"
    },
    {
     "data": {
      "text/html": [
       "<img src=\"data:image/png;base64,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\" width=\"640\">"
      ],
      "text/plain": [
       "<IPython.core.display.HTML object>"
      ]
     },
     "metadata": {},
     "output_type": "display_data"
    },
    {
     "data": {
      "text/plain": [
       "<matplotlib.axes._subplots.AxesSubplot at 0x25227fd95f8>"
      ]
     },
     "execution_count": 57,
     "metadata": {},
     "output_type": "execute_result"
    },
    {
     "data": {
      "text/plain": [
       "Text(0.5,1,'City Latitude vs Humidity (10-19-2018)')"
      ]
     },
     "execution_count": 57,
     "metadata": {},
     "output_type": "execute_result"
    },
    {
     "data": {
      "text/plain": [
       "Text(0.5,0,'Latitude')"
      ]
     },
     "execution_count": 57,
     "metadata": {},
     "output_type": "execute_result"
    },
    {
     "data": {
      "text/plain": [
       "Text(0,0.5,'Humidity')"
      ]
     },
     "execution_count": 57,
     "metadata": {},
     "output_type": "execute_result"
    }
   ],
   "source": [
    "# Creating a scatter plot for latitude vs humidity\n",
    "citiweather_df_cleaned.plot.scatter(['Lat'], ['Humidity'], marker = 'o', facecolors = 'b', alpha = 0.6)\n",
    "# Chart information\n",
    "plt.title('City Latitude vs Humidity (10-19-2018)')\n",
    "plt.xlabel('Latitude')\n",
    "plt.ylabel('Humidity')\n",
    "\n",
    "# Exporting chart as png file\n",
    "plt.savefig('output/City Latitude vs Humidity (10-19-2018).png')\n",
    "plt.show()"
   ]
  },
  {
   "cell_type": "code",
   "execution_count": null,
   "metadata": {},
   "outputs": [],
   "source": []
  },
  {
   "cell_type": "markdown",
   "metadata": {},
   "source": [
    "#### Latitude vs. Cloudiness Plot"
   ]
  },
  {
   "cell_type": "code",
   "execution_count": 58,
   "metadata": {
    "scrolled": true
   },
   "outputs": [
    {
     "data": {
      "application/javascript": [
       "/* Put everything inside the global mpl namespace */\n",
       "window.mpl = {};\n",
       "\n",
       "\n",
       "mpl.get_websocket_type = function() {\n",
       "    if (typeof(WebSocket) !== 'undefined') {\n",
       "        return WebSocket;\n",
       "    } else if (typeof(MozWebSocket) !== 'undefined') {\n",
       "        return MozWebSocket;\n",
       "    } else {\n",
       "        alert('Your browser does not have WebSocket support.' +\n",
       "              'Please try Chrome, Safari or Firefox ≥ 6. ' +\n",
       "              'Firefox 4 and 5 are also supported but you ' +\n",
       "              'have to enable WebSockets in about:config.');\n",
       "    };\n",
       "}\n",
       "\n",
       "mpl.figure = function(figure_id, websocket, ondownload, parent_element) {\n",
       "    this.id = figure_id;\n",
       "\n",
       "    this.ws = websocket;\n",
       "\n",
       "    this.supports_binary = (this.ws.binaryType != undefined);\n",
       "\n",
       "    if (!this.supports_binary) {\n",
       "        var warnings = document.getElementById(\"mpl-warnings\");\n",
       "        if (warnings) {\n",
       "            warnings.style.display = 'block';\n",
       "            warnings.textContent = (\n",
       "                \"This browser does not support binary websocket messages. \" +\n",
       "                    \"Performance may be slow.\");\n",
       "        }\n",
       "    }\n",
       "\n",
       "    this.imageObj = new Image();\n",
       "\n",
       "    this.context = undefined;\n",
       "    this.message = undefined;\n",
       "    this.canvas = undefined;\n",
       "    this.rubberband_canvas = undefined;\n",
       "    this.rubberband_context = undefined;\n",
       "    this.format_dropdown = undefined;\n",
       "\n",
       "    this.image_mode = 'full';\n",
       "\n",
       "    this.root = $('<div/>');\n",
       "    this._root_extra_style(this.root)\n",
       "    this.root.attr('style', 'display: inline-block');\n",
       "\n",
       "    $(parent_element).append(this.root);\n",
       "\n",
       "    this._init_header(this);\n",
       "    this._init_canvas(this);\n",
       "    this._init_toolbar(this);\n",
       "\n",
       "    var fig = this;\n",
       "\n",
       "    this.waiting = false;\n",
       "\n",
       "    this.ws.onopen =  function () {\n",
       "            fig.send_message(\"supports_binary\", {value: fig.supports_binary});\n",
       "            fig.send_message(\"send_image_mode\", {});\n",
       "            if (mpl.ratio != 1) {\n",
       "                fig.send_message(\"set_dpi_ratio\", {'dpi_ratio': mpl.ratio});\n",
       "            }\n",
       "            fig.send_message(\"refresh\", {});\n",
       "        }\n",
       "\n",
       "    this.imageObj.onload = function() {\n",
       "            if (fig.image_mode == 'full') {\n",
       "                // Full images could contain transparency (where diff images\n",
       "                // almost always do), so we need to clear the canvas so that\n",
       "                // there is no ghosting.\n",
       "                fig.context.clearRect(0, 0, fig.canvas.width, fig.canvas.height);\n",
       "            }\n",
       "            fig.context.drawImage(fig.imageObj, 0, 0);\n",
       "        };\n",
       "\n",
       "    this.imageObj.onunload = function() {\n",
       "        fig.ws.close();\n",
       "    }\n",
       "\n",
       "    this.ws.onmessage = this._make_on_message_function(this);\n",
       "\n",
       "    this.ondownload = ondownload;\n",
       "}\n",
       "\n",
       "mpl.figure.prototype._init_header = function() {\n",
       "    var titlebar = $(\n",
       "        '<div class=\"ui-dialog-titlebar ui-widget-header ui-corner-all ' +\n",
       "        'ui-helper-clearfix\"/>');\n",
       "    var titletext = $(\n",
       "        '<div class=\"ui-dialog-title\" style=\"width: 100%; ' +\n",
       "        'text-align: center; padding: 3px;\"/>');\n",
       "    titlebar.append(titletext)\n",
       "    this.root.append(titlebar);\n",
       "    this.header = titletext[0];\n",
       "}\n",
       "\n",
       "\n",
       "\n",
       "mpl.figure.prototype._canvas_extra_style = function(canvas_div) {\n",
       "\n",
       "}\n",
       "\n",
       "\n",
       "mpl.figure.prototype._root_extra_style = function(canvas_div) {\n",
       "\n",
       "}\n",
       "\n",
       "mpl.figure.prototype._init_canvas = function() {\n",
       "    var fig = this;\n",
       "\n",
       "    var canvas_div = $('<div/>');\n",
       "\n",
       "    canvas_div.attr('style', 'position: relative; clear: both; outline: 0');\n",
       "\n",
       "    function canvas_keyboard_event(event) {\n",
       "        return fig.key_event(event, event['data']);\n",
       "    }\n",
       "\n",
       "    canvas_div.keydown('key_press', canvas_keyboard_event);\n",
       "    canvas_div.keyup('key_release', canvas_keyboard_event);\n",
       "    this.canvas_div = canvas_div\n",
       "    this._canvas_extra_style(canvas_div)\n",
       "    this.root.append(canvas_div);\n",
       "\n",
       "    var canvas = $('<canvas/>');\n",
       "    canvas.addClass('mpl-canvas');\n",
       "    canvas.attr('style', \"left: 0; top: 0; z-index: 0; outline: 0\")\n",
       "\n",
       "    this.canvas = canvas[0];\n",
       "    this.context = canvas[0].getContext(\"2d\");\n",
       "\n",
       "    var backingStore = this.context.backingStorePixelRatio ||\n",
       "\tthis.context.webkitBackingStorePixelRatio ||\n",
       "\tthis.context.mozBackingStorePixelRatio ||\n",
       "\tthis.context.msBackingStorePixelRatio ||\n",
       "\tthis.context.oBackingStorePixelRatio ||\n",
       "\tthis.context.backingStorePixelRatio || 1;\n",
       "\n",
       "    mpl.ratio = (window.devicePixelRatio || 1) / backingStore;\n",
       "\n",
       "    var rubberband = $('<canvas/>');\n",
       "    rubberband.attr('style', \"position: absolute; left: 0; top: 0; z-index: 1;\")\n",
       "\n",
       "    var pass_mouse_events = true;\n",
       "\n",
       "    canvas_div.resizable({\n",
       "        start: function(event, ui) {\n",
       "            pass_mouse_events = false;\n",
       "        },\n",
       "        resize: function(event, ui) {\n",
       "            fig.request_resize(ui.size.width, ui.size.height);\n",
       "        },\n",
       "        stop: function(event, ui) {\n",
       "            pass_mouse_events = true;\n",
       "            fig.request_resize(ui.size.width, ui.size.height);\n",
       "        },\n",
       "    });\n",
       "\n",
       "    function mouse_event_fn(event) {\n",
       "        if (pass_mouse_events)\n",
       "            return fig.mouse_event(event, event['data']);\n",
       "    }\n",
       "\n",
       "    rubberband.mousedown('button_press', mouse_event_fn);\n",
       "    rubberband.mouseup('button_release', mouse_event_fn);\n",
       "    // Throttle sequential mouse events to 1 every 20ms.\n",
       "    rubberband.mousemove('motion_notify', mouse_event_fn);\n",
       "\n",
       "    rubberband.mouseenter('figure_enter', mouse_event_fn);\n",
       "    rubberband.mouseleave('figure_leave', mouse_event_fn);\n",
       "\n",
       "    canvas_div.on(\"wheel\", function (event) {\n",
       "        event = event.originalEvent;\n",
       "        event['data'] = 'scroll'\n",
       "        if (event.deltaY < 0) {\n",
       "            event.step = 1;\n",
       "        } else {\n",
       "            event.step = -1;\n",
       "        }\n",
       "        mouse_event_fn(event);\n",
       "    });\n",
       "\n",
       "    canvas_div.append(canvas);\n",
       "    canvas_div.append(rubberband);\n",
       "\n",
       "    this.rubberband = rubberband;\n",
       "    this.rubberband_canvas = rubberband[0];\n",
       "    this.rubberband_context = rubberband[0].getContext(\"2d\");\n",
       "    this.rubberband_context.strokeStyle = \"#000000\";\n",
       "\n",
       "    this._resize_canvas = function(width, height) {\n",
       "        // Keep the size of the canvas, canvas container, and rubber band\n",
       "        // canvas in synch.\n",
       "        canvas_div.css('width', width)\n",
       "        canvas_div.css('height', height)\n",
       "\n",
       "        canvas.attr('width', width * mpl.ratio);\n",
       "        canvas.attr('height', height * mpl.ratio);\n",
       "        canvas.attr('style', 'width: ' + width + 'px; height: ' + height + 'px;');\n",
       "\n",
       "        rubberband.attr('width', width);\n",
       "        rubberband.attr('height', height);\n",
       "    }\n",
       "\n",
       "    // Set the figure to an initial 600x600px, this will subsequently be updated\n",
       "    // upon first draw.\n",
       "    this._resize_canvas(600, 600);\n",
       "\n",
       "    // Disable right mouse context menu.\n",
       "    $(this.rubberband_canvas).bind(\"contextmenu\",function(e){\n",
       "        return false;\n",
       "    });\n",
       "\n",
       "    function set_focus () {\n",
       "        canvas.focus();\n",
       "        canvas_div.focus();\n",
       "    }\n",
       "\n",
       "    window.setTimeout(set_focus, 100);\n",
       "}\n",
       "\n",
       "mpl.figure.prototype._init_toolbar = function() {\n",
       "    var fig = this;\n",
       "\n",
       "    var nav_element = $('<div/>')\n",
       "    nav_element.attr('style', 'width: 100%');\n",
       "    this.root.append(nav_element);\n",
       "\n",
       "    // Define a callback function for later on.\n",
       "    function toolbar_event(event) {\n",
       "        return fig.toolbar_button_onclick(event['data']);\n",
       "    }\n",
       "    function toolbar_mouse_event(event) {\n",
       "        return fig.toolbar_button_onmouseover(event['data']);\n",
       "    }\n",
       "\n",
       "    for(var toolbar_ind in mpl.toolbar_items) {\n",
       "        var name = mpl.toolbar_items[toolbar_ind][0];\n",
       "        var tooltip = mpl.toolbar_items[toolbar_ind][1];\n",
       "        var image = mpl.toolbar_items[toolbar_ind][2];\n",
       "        var method_name = mpl.toolbar_items[toolbar_ind][3];\n",
       "\n",
       "        if (!name) {\n",
       "            // put a spacer in here.\n",
       "            continue;\n",
       "        }\n",
       "        var button = $('<button/>');\n",
       "        button.addClass('ui-button ui-widget ui-state-default ui-corner-all ' +\n",
       "                        'ui-button-icon-only');\n",
       "        button.attr('role', 'button');\n",
       "        button.attr('aria-disabled', 'false');\n",
       "        button.click(method_name, toolbar_event);\n",
       "        button.mouseover(tooltip, toolbar_mouse_event);\n",
       "\n",
       "        var icon_img = $('<span/>');\n",
       "        icon_img.addClass('ui-button-icon-primary ui-icon');\n",
       "        icon_img.addClass(image);\n",
       "        icon_img.addClass('ui-corner-all');\n",
       "\n",
       "        var tooltip_span = $('<span/>');\n",
       "        tooltip_span.addClass('ui-button-text');\n",
       "        tooltip_span.html(tooltip);\n",
       "\n",
       "        button.append(icon_img);\n",
       "        button.append(tooltip_span);\n",
       "\n",
       "        nav_element.append(button);\n",
       "    }\n",
       "\n",
       "    var fmt_picker_span = $('<span/>');\n",
       "\n",
       "    var fmt_picker = $('<select/>');\n",
       "    fmt_picker.addClass('mpl-toolbar-option ui-widget ui-widget-content');\n",
       "    fmt_picker_span.append(fmt_picker);\n",
       "    nav_element.append(fmt_picker_span);\n",
       "    this.format_dropdown = fmt_picker[0];\n",
       "\n",
       "    for (var ind in mpl.extensions) {\n",
       "        var fmt = mpl.extensions[ind];\n",
       "        var option = $(\n",
       "            '<option/>', {selected: fmt === mpl.default_extension}).html(fmt);\n",
       "        fmt_picker.append(option)\n",
       "    }\n",
       "\n",
       "    // Add hover states to the ui-buttons\n",
       "    $( \".ui-button\" ).hover(\n",
       "        function() { $(this).addClass(\"ui-state-hover\");},\n",
       "        function() { $(this).removeClass(\"ui-state-hover\");}\n",
       "    );\n",
       "\n",
       "    var status_bar = $('<span class=\"mpl-message\"/>');\n",
       "    nav_element.append(status_bar);\n",
       "    this.message = status_bar[0];\n",
       "}\n",
       "\n",
       "mpl.figure.prototype.request_resize = function(x_pixels, y_pixels) {\n",
       "    // Request matplotlib to resize the figure. Matplotlib will then trigger a resize in the client,\n",
       "    // which will in turn request a refresh of the image.\n",
       "    this.send_message('resize', {'width': x_pixels, 'height': y_pixels});\n",
       "}\n",
       "\n",
       "mpl.figure.prototype.send_message = function(type, properties) {\n",
       "    properties['type'] = type;\n",
       "    properties['figure_id'] = this.id;\n",
       "    this.ws.send(JSON.stringify(properties));\n",
       "}\n",
       "\n",
       "mpl.figure.prototype.send_draw_message = function() {\n",
       "    if (!this.waiting) {\n",
       "        this.waiting = true;\n",
       "        this.ws.send(JSON.stringify({type: \"draw\", figure_id: this.id}));\n",
       "    }\n",
       "}\n",
       "\n",
       "\n",
       "mpl.figure.prototype.handle_save = function(fig, msg) {\n",
       "    var format_dropdown = fig.format_dropdown;\n",
       "    var format = format_dropdown.options[format_dropdown.selectedIndex].value;\n",
       "    fig.ondownload(fig, format);\n",
       "}\n",
       "\n",
       "\n",
       "mpl.figure.prototype.handle_resize = function(fig, msg) {\n",
       "    var size = msg['size'];\n",
       "    if (size[0] != fig.canvas.width || size[1] != fig.canvas.height) {\n",
       "        fig._resize_canvas(size[0], size[1]);\n",
       "        fig.send_message(\"refresh\", {});\n",
       "    };\n",
       "}\n",
       "\n",
       "mpl.figure.prototype.handle_rubberband = function(fig, msg) {\n",
       "    var x0 = msg['x0'] / mpl.ratio;\n",
       "    var y0 = (fig.canvas.height - msg['y0']) / mpl.ratio;\n",
       "    var x1 = msg['x1'] / mpl.ratio;\n",
       "    var y1 = (fig.canvas.height - msg['y1']) / mpl.ratio;\n",
       "    x0 = Math.floor(x0) + 0.5;\n",
       "    y0 = Math.floor(y0) + 0.5;\n",
       "    x1 = Math.floor(x1) + 0.5;\n",
       "    y1 = Math.floor(y1) + 0.5;\n",
       "    var min_x = Math.min(x0, x1);\n",
       "    var min_y = Math.min(y0, y1);\n",
       "    var width = Math.abs(x1 - x0);\n",
       "    var height = Math.abs(y1 - y0);\n",
       "\n",
       "    fig.rubberband_context.clearRect(\n",
       "        0, 0, fig.canvas.width, fig.canvas.height);\n",
       "\n",
       "    fig.rubberband_context.strokeRect(min_x, min_y, width, height);\n",
       "}\n",
       "\n",
       "mpl.figure.prototype.handle_figure_label = function(fig, msg) {\n",
       "    // Updates the figure title.\n",
       "    fig.header.textContent = msg['label'];\n",
       "}\n",
       "\n",
       "mpl.figure.prototype.handle_cursor = function(fig, msg) {\n",
       "    var cursor = msg['cursor'];\n",
       "    switch(cursor)\n",
       "    {\n",
       "    case 0:\n",
       "        cursor = 'pointer';\n",
       "        break;\n",
       "    case 1:\n",
       "        cursor = 'default';\n",
       "        break;\n",
       "    case 2:\n",
       "        cursor = 'crosshair';\n",
       "        break;\n",
       "    case 3:\n",
       "        cursor = 'move';\n",
       "        break;\n",
       "    }\n",
       "    fig.rubberband_canvas.style.cursor = cursor;\n",
       "}\n",
       "\n",
       "mpl.figure.prototype.handle_message = function(fig, msg) {\n",
       "    fig.message.textContent = msg['message'];\n",
       "}\n",
       "\n",
       "mpl.figure.prototype.handle_draw = function(fig, msg) {\n",
       "    // Request the server to send over a new figure.\n",
       "    fig.send_draw_message();\n",
       "}\n",
       "\n",
       "mpl.figure.prototype.handle_image_mode = function(fig, msg) {\n",
       "    fig.image_mode = msg['mode'];\n",
       "}\n",
       "\n",
       "mpl.figure.prototype.updated_canvas_event = function() {\n",
       "    // Called whenever the canvas gets updated.\n",
       "    this.send_message(\"ack\", {});\n",
       "}\n",
       "\n",
       "// A function to construct a web socket function for onmessage handling.\n",
       "// Called in the figure constructor.\n",
       "mpl.figure.prototype._make_on_message_function = function(fig) {\n",
       "    return function socket_on_message(evt) {\n",
       "        if (evt.data instanceof Blob) {\n",
       "            /* FIXME: We get \"Resource interpreted as Image but\n",
       "             * transferred with MIME type text/plain:\" errors on\n",
       "             * Chrome.  But how to set the MIME type?  It doesn't seem\n",
       "             * to be part of the websocket stream */\n",
       "            evt.data.type = \"image/png\";\n",
       "\n",
       "            /* Free the memory for the previous frames */\n",
       "            if (fig.imageObj.src) {\n",
       "                (window.URL || window.webkitURL).revokeObjectURL(\n",
       "                    fig.imageObj.src);\n",
       "            }\n",
       "\n",
       "            fig.imageObj.src = (window.URL || window.webkitURL).createObjectURL(\n",
       "                evt.data);\n",
       "            fig.updated_canvas_event();\n",
       "            fig.waiting = false;\n",
       "            return;\n",
       "        }\n",
       "        else if (typeof evt.data === 'string' && evt.data.slice(0, 21) == \"data:image/png;base64\") {\n",
       "            fig.imageObj.src = evt.data;\n",
       "            fig.updated_canvas_event();\n",
       "            fig.waiting = false;\n",
       "            return;\n",
       "        }\n",
       "\n",
       "        var msg = JSON.parse(evt.data);\n",
       "        var msg_type = msg['type'];\n",
       "\n",
       "        // Call the  \"handle_{type}\" callback, which takes\n",
       "        // the figure and JSON message as its only arguments.\n",
       "        try {\n",
       "            var callback = fig[\"handle_\" + msg_type];\n",
       "        } catch (e) {\n",
       "            console.log(\"No handler for the '\" + msg_type + \"' message type: \", msg);\n",
       "            return;\n",
       "        }\n",
       "\n",
       "        if (callback) {\n",
       "            try {\n",
       "                // console.log(\"Handling '\" + msg_type + \"' message: \", msg);\n",
       "                callback(fig, msg);\n",
       "            } catch (e) {\n",
       "                console.log(\"Exception inside the 'handler_\" + msg_type + \"' callback:\", e, e.stack, msg);\n",
       "            }\n",
       "        }\n",
       "    };\n",
       "}\n",
       "\n",
       "// from http://stackoverflow.com/questions/1114465/getting-mouse-location-in-canvas\n",
       "mpl.findpos = function(e) {\n",
       "    //this section is from http://www.quirksmode.org/js/events_properties.html\n",
       "    var targ;\n",
       "    if (!e)\n",
       "        e = window.event;\n",
       "    if (e.target)\n",
       "        targ = e.target;\n",
       "    else if (e.srcElement)\n",
       "        targ = e.srcElement;\n",
       "    if (targ.nodeType == 3) // defeat Safari bug\n",
       "        targ = targ.parentNode;\n",
       "\n",
       "    // jQuery normalizes the pageX and pageY\n",
       "    // pageX,Y are the mouse positions relative to the document\n",
       "    // offset() returns the position of the element relative to the document\n",
       "    var x = e.pageX - $(targ).offset().left;\n",
       "    var y = e.pageY - $(targ).offset().top;\n",
       "\n",
       "    return {\"x\": x, \"y\": y};\n",
       "};\n",
       "\n",
       "/*\n",
       " * return a copy of an object with only non-object keys\n",
       " * we need this to avoid circular references\n",
       " * http://stackoverflow.com/a/24161582/3208463\n",
       " */\n",
       "function simpleKeys (original) {\n",
       "  return Object.keys(original).reduce(function (obj, key) {\n",
       "    if (typeof original[key] !== 'object')\n",
       "        obj[key] = original[key]\n",
       "    return obj;\n",
       "  }, {});\n",
       "}\n",
       "\n",
       "mpl.figure.prototype.mouse_event = function(event, name) {\n",
       "    var canvas_pos = mpl.findpos(event)\n",
       "\n",
       "    if (name === 'button_press')\n",
       "    {\n",
       "        this.canvas.focus();\n",
       "        this.canvas_div.focus();\n",
       "    }\n",
       "\n",
       "    var x = canvas_pos.x * mpl.ratio;\n",
       "    var y = canvas_pos.y * mpl.ratio;\n",
       "\n",
       "    this.send_message(name, {x: x, y: y, button: event.button,\n",
       "                             step: event.step,\n",
       "                             guiEvent: simpleKeys(event)});\n",
       "\n",
       "    /* This prevents the web browser from automatically changing to\n",
       "     * the text insertion cursor when the button is pressed.  We want\n",
       "     * to control all of the cursor setting manually through the\n",
       "     * 'cursor' event from matplotlib */\n",
       "    event.preventDefault();\n",
       "    return false;\n",
       "}\n",
       "\n",
       "mpl.figure.prototype._key_event_extra = function(event, name) {\n",
       "    // Handle any extra behaviour associated with a key event\n",
       "}\n",
       "\n",
       "mpl.figure.prototype.key_event = function(event, name) {\n",
       "\n",
       "    // Prevent repeat events\n",
       "    if (name == 'key_press')\n",
       "    {\n",
       "        if (event.which === this._key)\n",
       "            return;\n",
       "        else\n",
       "            this._key = event.which;\n",
       "    }\n",
       "    if (name == 'key_release')\n",
       "        this._key = null;\n",
       "\n",
       "    var value = '';\n",
       "    if (event.ctrlKey && event.which != 17)\n",
       "        value += \"ctrl+\";\n",
       "    if (event.altKey && event.which != 18)\n",
       "        value += \"alt+\";\n",
       "    if (event.shiftKey && event.which != 16)\n",
       "        value += \"shift+\";\n",
       "\n",
       "    value += 'k';\n",
       "    value += event.which.toString();\n",
       "\n",
       "    this._key_event_extra(event, name);\n",
       "\n",
       "    this.send_message(name, {key: value,\n",
       "                             guiEvent: simpleKeys(event)});\n",
       "    return false;\n",
       "}\n",
       "\n",
       "mpl.figure.prototype.toolbar_button_onclick = function(name) {\n",
       "    if (name == 'download') {\n",
       "        this.handle_save(this, null);\n",
       "    } else {\n",
       "        this.send_message(\"toolbar_button\", {name: name});\n",
       "    }\n",
       "};\n",
       "\n",
       "mpl.figure.prototype.toolbar_button_onmouseover = function(tooltip) {\n",
       "    this.message.textContent = tooltip;\n",
       "};\n",
       "mpl.toolbar_items = [[\"Home\", \"Reset original view\", \"fa fa-home icon-home\", \"home\"], [\"Back\", \"Back to  previous view\", \"fa fa-arrow-left icon-arrow-left\", \"back\"], [\"Forward\", \"Forward to next view\", \"fa fa-arrow-right icon-arrow-right\", \"forward\"], [\"\", \"\", \"\", \"\"], [\"Pan\", \"Pan axes with left mouse, zoom with right\", \"fa fa-arrows icon-move\", \"pan\"], [\"Zoom\", \"Zoom to rectangle\", \"fa fa-square-o icon-check-empty\", \"zoom\"], [\"\", \"\", \"\", \"\"], [\"Download\", \"Download plot\", \"fa fa-floppy-o icon-save\", \"download\"]];\n",
       "\n",
       "mpl.extensions = [\"eps\", \"jpeg\", \"pdf\", \"png\", \"ps\", \"raw\", \"svg\", \"tif\"];\n",
       "\n",
       "mpl.default_extension = \"png\";var comm_websocket_adapter = function(comm) {\n",
       "    // Create a \"websocket\"-like object which calls the given IPython comm\n",
       "    // object with the appropriate methods. Currently this is a non binary\n",
       "    // socket, so there is still some room for performance tuning.\n",
       "    var ws = {};\n",
       "\n",
       "    ws.close = function() {\n",
       "        comm.close()\n",
       "    };\n",
       "    ws.send = function(m) {\n",
       "        //console.log('sending', m);\n",
       "        comm.send(m);\n",
       "    };\n",
       "    // Register the callback with on_msg.\n",
       "    comm.on_msg(function(msg) {\n",
       "        //console.log('receiving', msg['content']['data'], msg);\n",
       "        // Pass the mpl event to the overridden (by mpl) onmessage function.\n",
       "        ws.onmessage(msg['content']['data'])\n",
       "    });\n",
       "    return ws;\n",
       "}\n",
       "\n",
       "mpl.mpl_figure_comm = function(comm, msg) {\n",
       "    // This is the function which gets called when the mpl process\n",
       "    // starts-up an IPython Comm through the \"matplotlib\" channel.\n",
       "\n",
       "    var id = msg.content.data.id;\n",
       "    // Get hold of the div created by the display call when the Comm\n",
       "    // socket was opened in Python.\n",
       "    var element = $(\"#\" + id);\n",
       "    var ws_proxy = comm_websocket_adapter(comm)\n",
       "\n",
       "    function ondownload(figure, format) {\n",
       "        window.open(figure.imageObj.src);\n",
       "    }\n",
       "\n",
       "    var fig = new mpl.figure(id, ws_proxy,\n",
       "                           ondownload,\n",
       "                           element.get(0));\n",
       "\n",
       "    // Call onopen now - mpl needs it, as it is assuming we've passed it a real\n",
       "    // web socket which is closed, not our websocket->open comm proxy.\n",
       "    ws_proxy.onopen();\n",
       "\n",
       "    fig.parent_element = element.get(0);\n",
       "    fig.cell_info = mpl.find_output_cell(\"<div id='\" + id + \"'></div>\");\n",
       "    if (!fig.cell_info) {\n",
       "        console.error(\"Failed to find cell for figure\", id, fig);\n",
       "        return;\n",
       "    }\n",
       "\n",
       "    var output_index = fig.cell_info[2]\n",
       "    var cell = fig.cell_info[0];\n",
       "\n",
       "};\n",
       "\n",
       "mpl.figure.prototype.handle_close = function(fig, msg) {\n",
       "    var width = fig.canvas.width/mpl.ratio\n",
       "    fig.root.unbind('remove')\n",
       "\n",
       "    // Update the output cell to use the data from the current canvas.\n",
       "    fig.push_to_output();\n",
       "    var dataURL = fig.canvas.toDataURL();\n",
       "    // Re-enable the keyboard manager in IPython - without this line, in FF,\n",
       "    // the notebook keyboard shortcuts fail.\n",
       "    IPython.keyboard_manager.enable()\n",
       "    $(fig.parent_element).html('<img src=\"' + dataURL + '\" width=\"' + width + '\">');\n",
       "    fig.close_ws(fig, msg);\n",
       "}\n",
       "\n",
       "mpl.figure.prototype.close_ws = function(fig, msg){\n",
       "    fig.send_message('closing', msg);\n",
       "    // fig.ws.close()\n",
       "}\n",
       "\n",
       "mpl.figure.prototype.push_to_output = function(remove_interactive) {\n",
       "    // Turn the data on the canvas into data in the output cell.\n",
       "    var width = this.canvas.width/mpl.ratio\n",
       "    var dataURL = this.canvas.toDataURL();\n",
       "    this.cell_info[1]['text/html'] = '<img src=\"' + dataURL + '\" width=\"' + width + '\">';\n",
       "}\n",
       "\n",
       "mpl.figure.prototype.updated_canvas_event = function() {\n",
       "    // Tell IPython that the notebook contents must change.\n",
       "    IPython.notebook.set_dirty(true);\n",
       "    this.send_message(\"ack\", {});\n",
       "    var fig = this;\n",
       "    // Wait a second, then push the new image to the DOM so\n",
       "    // that it is saved nicely (might be nice to debounce this).\n",
       "    setTimeout(function () { fig.push_to_output() }, 1000);\n",
       "}\n",
       "\n",
       "mpl.figure.prototype._init_toolbar = function() {\n",
       "    var fig = this;\n",
       "\n",
       "    var nav_element = $('<div/>')\n",
       "    nav_element.attr('style', 'width: 100%');\n",
       "    this.root.append(nav_element);\n",
       "\n",
       "    // Define a callback function for later on.\n",
       "    function toolbar_event(event) {\n",
       "        return fig.toolbar_button_onclick(event['data']);\n",
       "    }\n",
       "    function toolbar_mouse_event(event) {\n",
       "        return fig.toolbar_button_onmouseover(event['data']);\n",
       "    }\n",
       "\n",
       "    for(var toolbar_ind in mpl.toolbar_items){\n",
       "        var name = mpl.toolbar_items[toolbar_ind][0];\n",
       "        var tooltip = mpl.toolbar_items[toolbar_ind][1];\n",
       "        var image = mpl.toolbar_items[toolbar_ind][2];\n",
       "        var method_name = mpl.toolbar_items[toolbar_ind][3];\n",
       "\n",
       "        if (!name) { continue; };\n",
       "\n",
       "        var button = $('<button class=\"btn btn-default\" href=\"#\" title=\"' + name + '\"><i class=\"fa ' + image + ' fa-lg\"></i></button>');\n",
       "        button.click(method_name, toolbar_event);\n",
       "        button.mouseover(tooltip, toolbar_mouse_event);\n",
       "        nav_element.append(button);\n",
       "    }\n",
       "\n",
       "    // Add the status bar.\n",
       "    var status_bar = $('<span class=\"mpl-message\" style=\"text-align:right; float: right;\"/>');\n",
       "    nav_element.append(status_bar);\n",
       "    this.message = status_bar[0];\n",
       "\n",
       "    // Add the close button to the window.\n",
       "    var buttongrp = $('<div class=\"btn-group inline pull-right\"></div>');\n",
       "    var button = $('<button class=\"btn btn-mini btn-primary\" href=\"#\" title=\"Stop Interaction\"><i class=\"fa fa-power-off icon-remove icon-large\"></i></button>');\n",
       "    button.click(function (evt) { fig.handle_close(fig, {}); } );\n",
       "    button.mouseover('Stop Interaction', toolbar_mouse_event);\n",
       "    buttongrp.append(button);\n",
       "    var titlebar = this.root.find($('.ui-dialog-titlebar'));\n",
       "    titlebar.prepend(buttongrp);\n",
       "}\n",
       "\n",
       "mpl.figure.prototype._root_extra_style = function(el){\n",
       "    var fig = this\n",
       "    el.on(\"remove\", function(){\n",
       "\tfig.close_ws(fig, {});\n",
       "    });\n",
       "}\n",
       "\n",
       "mpl.figure.prototype._canvas_extra_style = function(el){\n",
       "    // this is important to make the div 'focusable\n",
       "    el.attr('tabindex', 0)\n",
       "    // reach out to IPython and tell the keyboard manager to turn it's self\n",
       "    // off when our div gets focus\n",
       "\n",
       "    // location in version 3\n",
       "    if (IPython.notebook.keyboard_manager) {\n",
       "        IPython.notebook.keyboard_manager.register_events(el);\n",
       "    }\n",
       "    else {\n",
       "        // location in version 2\n",
       "        IPython.keyboard_manager.register_events(el);\n",
       "    }\n",
       "\n",
       "}\n",
       "\n",
       "mpl.figure.prototype._key_event_extra = function(event, name) {\n",
       "    var manager = IPython.notebook.keyboard_manager;\n",
       "    if (!manager)\n",
       "        manager = IPython.keyboard_manager;\n",
       "\n",
       "    // Check for shift+enter\n",
       "    if (event.shiftKey && event.which == 13) {\n",
       "        this.canvas_div.blur();\n",
       "        event.shiftKey = false;\n",
       "        // Send a \"J\" for go to next cell\n",
       "        event.which = 74;\n",
       "        event.keyCode = 74;\n",
       "        manager.command_mode();\n",
       "        manager.handle_keydown(event);\n",
       "    }\n",
       "}\n",
       "\n",
       "mpl.figure.prototype.handle_save = function(fig, msg) {\n",
       "    fig.ondownload(fig, null);\n",
       "}\n",
       "\n",
       "\n",
       "mpl.find_output_cell = function(html_output) {\n",
       "    // Return the cell and output element which can be found *uniquely* in the notebook.\n",
       "    // Note - this is a bit hacky, but it is done because the \"notebook_saving.Notebook\"\n",
       "    // IPython event is triggered only after the cells have been serialised, which for\n",
       "    // our purposes (turning an active figure into a static one), is too late.\n",
       "    var cells = IPython.notebook.get_cells();\n",
       "    var ncells = cells.length;\n",
       "    for (var i=0; i<ncells; i++) {\n",
       "        var cell = cells[i];\n",
       "        if (cell.cell_type === 'code'){\n",
       "            for (var j=0; j<cell.output_area.outputs.length; j++) {\n",
       "                var data = cell.output_area.outputs[j];\n",
       "                if (data.data) {\n",
       "                    // IPython >= 3 moved mimebundle to data attribute of output\n",
       "                    data = data.data;\n",
       "                }\n",
       "                if (data['text/html'] == html_output) {\n",
       "                    return [cell, data, j];\n",
       "                }\n",
       "            }\n",
       "        }\n",
       "    }\n",
       "}\n",
       "\n",
       "// Register the function which deals with the matplotlib target/channel.\n",
       "// The kernel may be null if the page has been refreshed.\n",
       "if (IPython.notebook.kernel != null) {\n",
       "    IPython.notebook.kernel.comm_manager.register_target('matplotlib', mpl.mpl_figure_comm);\n",
       "}\n"
      ],
      "text/plain": [
       "<IPython.core.display.Javascript object>"
      ]
     },
     "metadata": {},
     "output_type": "display_data"
    },
    {
     "data": {
      "text/html": [
       "<img src=\"data:image/png;base64,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\" width=\"640\">"
      ],
      "text/plain": [
       "<IPython.core.display.HTML object>"
      ]
     },
     "metadata": {},
     "output_type": "display_data"
    },
    {
     "data": {
      "text/plain": [
       "<matplotlib.axes._subplots.AxesSubplot at 0x252280349e8>"
      ]
     },
     "execution_count": 58,
     "metadata": {},
     "output_type": "execute_result"
    },
    {
     "data": {
      "text/plain": [
       "Text(0.5,1,'City Latitude vs Cloudiness (10-19-2018)')"
      ]
     },
     "execution_count": 58,
     "metadata": {},
     "output_type": "execute_result"
    },
    {
     "data": {
      "text/plain": [
       "Text(0.5,0,'Latitude')"
      ]
     },
     "execution_count": 58,
     "metadata": {},
     "output_type": "execute_result"
    },
    {
     "data": {
      "text/plain": [
       "Text(0,0.5,'Cloudiness')"
      ]
     },
     "execution_count": 58,
     "metadata": {},
     "output_type": "execute_result"
    }
   ],
   "source": [
    "# Creating a scatter plot for latitude vs cloudiness\n",
    "citiweather_df_cleaned.plot.scatter(['Lat'], ['Cloudiness'], marker = 'o', facecolors = 'b', alpha = 0.6)\n",
    "# Chart information\n",
    "plt.title('City Latitude vs Cloudiness (10-19-2018)')\n",
    "plt.xlabel('Latitude')\n",
    "plt.ylabel('Cloudiness')\n",
    "\n",
    "# Exporting chart as png file\n",
    "plt.savefig('output/City Latitude vs Cloudiness (10-19-2018).png')\n",
    "plt.show()"
   ]
  },
  {
   "cell_type": "markdown",
   "metadata": {},
   "source": [
    "#### Latitude vs. Wind Speed Plot"
   ]
  },
  {
   "cell_type": "code",
   "execution_count": 60,
   "metadata": {
    "scrolled": true
   },
   "outputs": [
    {
     "data": {
      "application/javascript": [
       "/* Put everything inside the global mpl namespace */\n",
       "window.mpl = {};\n",
       "\n",
       "\n",
       "mpl.get_websocket_type = function() {\n",
       "    if (typeof(WebSocket) !== 'undefined') {\n",
       "        return WebSocket;\n",
       "    } else if (typeof(MozWebSocket) !== 'undefined') {\n",
       "        return MozWebSocket;\n",
       "    } else {\n",
       "        alert('Your browser does not have WebSocket support.' +\n",
       "              'Please try Chrome, Safari or Firefox ≥ 6. ' +\n",
       "              'Firefox 4 and 5 are also supported but you ' +\n",
       "              'have to enable WebSockets in about:config.');\n",
       "    };\n",
       "}\n",
       "\n",
       "mpl.figure = function(figure_id, websocket, ondownload, parent_element) {\n",
       "    this.id = figure_id;\n",
       "\n",
       "    this.ws = websocket;\n",
       "\n",
       "    this.supports_binary = (this.ws.binaryType != undefined);\n",
       "\n",
       "    if (!this.supports_binary) {\n",
       "        var warnings = document.getElementById(\"mpl-warnings\");\n",
       "        if (warnings) {\n",
       "            warnings.style.display = 'block';\n",
       "            warnings.textContent = (\n",
       "                \"This browser does not support binary websocket messages. \" +\n",
       "                    \"Performance may be slow.\");\n",
       "        }\n",
       "    }\n",
       "\n",
       "    this.imageObj = new Image();\n",
       "\n",
       "    this.context = undefined;\n",
       "    this.message = undefined;\n",
       "    this.canvas = undefined;\n",
       "    this.rubberband_canvas = undefined;\n",
       "    this.rubberband_context = undefined;\n",
       "    this.format_dropdown = undefined;\n",
       "\n",
       "    this.image_mode = 'full';\n",
       "\n",
       "    this.root = $('<div/>');\n",
       "    this._root_extra_style(this.root)\n",
       "    this.root.attr('style', 'display: inline-block');\n",
       "\n",
       "    $(parent_element).append(this.root);\n",
       "\n",
       "    this._init_header(this);\n",
       "    this._init_canvas(this);\n",
       "    this._init_toolbar(this);\n",
       "\n",
       "    var fig = this;\n",
       "\n",
       "    this.waiting = false;\n",
       "\n",
       "    this.ws.onopen =  function () {\n",
       "            fig.send_message(\"supports_binary\", {value: fig.supports_binary});\n",
       "            fig.send_message(\"send_image_mode\", {});\n",
       "            if (mpl.ratio != 1) {\n",
       "                fig.send_message(\"set_dpi_ratio\", {'dpi_ratio': mpl.ratio});\n",
       "            }\n",
       "            fig.send_message(\"refresh\", {});\n",
       "        }\n",
       "\n",
       "    this.imageObj.onload = function() {\n",
       "            if (fig.image_mode == 'full') {\n",
       "                // Full images could contain transparency (where diff images\n",
       "                // almost always do), so we need to clear the canvas so that\n",
       "                // there is no ghosting.\n",
       "                fig.context.clearRect(0, 0, fig.canvas.width, fig.canvas.height);\n",
       "            }\n",
       "            fig.context.drawImage(fig.imageObj, 0, 0);\n",
       "        };\n",
       "\n",
       "    this.imageObj.onunload = function() {\n",
       "        fig.ws.close();\n",
       "    }\n",
       "\n",
       "    this.ws.onmessage = this._make_on_message_function(this);\n",
       "\n",
       "    this.ondownload = ondownload;\n",
       "}\n",
       "\n",
       "mpl.figure.prototype._init_header = function() {\n",
       "    var titlebar = $(\n",
       "        '<div class=\"ui-dialog-titlebar ui-widget-header ui-corner-all ' +\n",
       "        'ui-helper-clearfix\"/>');\n",
       "    var titletext = $(\n",
       "        '<div class=\"ui-dialog-title\" style=\"width: 100%; ' +\n",
       "        'text-align: center; padding: 3px;\"/>');\n",
       "    titlebar.append(titletext)\n",
       "    this.root.append(titlebar);\n",
       "    this.header = titletext[0];\n",
       "}\n",
       "\n",
       "\n",
       "\n",
       "mpl.figure.prototype._canvas_extra_style = function(canvas_div) {\n",
       "\n",
       "}\n",
       "\n",
       "\n",
       "mpl.figure.prototype._root_extra_style = function(canvas_div) {\n",
       "\n",
       "}\n",
       "\n",
       "mpl.figure.prototype._init_canvas = function() {\n",
       "    var fig = this;\n",
       "\n",
       "    var canvas_div = $('<div/>');\n",
       "\n",
       "    canvas_div.attr('style', 'position: relative; clear: both; outline: 0');\n",
       "\n",
       "    function canvas_keyboard_event(event) {\n",
       "        return fig.key_event(event, event['data']);\n",
       "    }\n",
       "\n",
       "    canvas_div.keydown('key_press', canvas_keyboard_event);\n",
       "    canvas_div.keyup('key_release', canvas_keyboard_event);\n",
       "    this.canvas_div = canvas_div\n",
       "    this._canvas_extra_style(canvas_div)\n",
       "    this.root.append(canvas_div);\n",
       "\n",
       "    var canvas = $('<canvas/>');\n",
       "    canvas.addClass('mpl-canvas');\n",
       "    canvas.attr('style', \"left: 0; top: 0; z-index: 0; outline: 0\")\n",
       "\n",
       "    this.canvas = canvas[0];\n",
       "    this.context = canvas[0].getContext(\"2d\");\n",
       "\n",
       "    var backingStore = this.context.backingStorePixelRatio ||\n",
       "\tthis.context.webkitBackingStorePixelRatio ||\n",
       "\tthis.context.mozBackingStorePixelRatio ||\n",
       "\tthis.context.msBackingStorePixelRatio ||\n",
       "\tthis.context.oBackingStorePixelRatio ||\n",
       "\tthis.context.backingStorePixelRatio || 1;\n",
       "\n",
       "    mpl.ratio = (window.devicePixelRatio || 1) / backingStore;\n",
       "\n",
       "    var rubberband = $('<canvas/>');\n",
       "    rubberband.attr('style', \"position: absolute; left: 0; top: 0; z-index: 1;\")\n",
       "\n",
       "    var pass_mouse_events = true;\n",
       "\n",
       "    canvas_div.resizable({\n",
       "        start: function(event, ui) {\n",
       "            pass_mouse_events = false;\n",
       "        },\n",
       "        resize: function(event, ui) {\n",
       "            fig.request_resize(ui.size.width, ui.size.height);\n",
       "        },\n",
       "        stop: function(event, ui) {\n",
       "            pass_mouse_events = true;\n",
       "            fig.request_resize(ui.size.width, ui.size.height);\n",
       "        },\n",
       "    });\n",
       "\n",
       "    function mouse_event_fn(event) {\n",
       "        if (pass_mouse_events)\n",
       "            return fig.mouse_event(event, event['data']);\n",
       "    }\n",
       "\n",
       "    rubberband.mousedown('button_press', mouse_event_fn);\n",
       "    rubberband.mouseup('button_release', mouse_event_fn);\n",
       "    // Throttle sequential mouse events to 1 every 20ms.\n",
       "    rubberband.mousemove('motion_notify', mouse_event_fn);\n",
       "\n",
       "    rubberband.mouseenter('figure_enter', mouse_event_fn);\n",
       "    rubberband.mouseleave('figure_leave', mouse_event_fn);\n",
       "\n",
       "    canvas_div.on(\"wheel\", function (event) {\n",
       "        event = event.originalEvent;\n",
       "        event['data'] = 'scroll'\n",
       "        if (event.deltaY < 0) {\n",
       "            event.step = 1;\n",
       "        } else {\n",
       "            event.step = -1;\n",
       "        }\n",
       "        mouse_event_fn(event);\n",
       "    });\n",
       "\n",
       "    canvas_div.append(canvas);\n",
       "    canvas_div.append(rubberband);\n",
       "\n",
       "    this.rubberband = rubberband;\n",
       "    this.rubberband_canvas = rubberband[0];\n",
       "    this.rubberband_context = rubberband[0].getContext(\"2d\");\n",
       "    this.rubberband_context.strokeStyle = \"#000000\";\n",
       "\n",
       "    this._resize_canvas = function(width, height) {\n",
       "        // Keep the size of the canvas, canvas container, and rubber band\n",
       "        // canvas in synch.\n",
       "        canvas_div.css('width', width)\n",
       "        canvas_div.css('height', height)\n",
       "\n",
       "        canvas.attr('width', width * mpl.ratio);\n",
       "        canvas.attr('height', height * mpl.ratio);\n",
       "        canvas.attr('style', 'width: ' + width + 'px; height: ' + height + 'px;');\n",
       "\n",
       "        rubberband.attr('width', width);\n",
       "        rubberband.attr('height', height);\n",
       "    }\n",
       "\n",
       "    // Set the figure to an initial 600x600px, this will subsequently be updated\n",
       "    // upon first draw.\n",
       "    this._resize_canvas(600, 600);\n",
       "\n",
       "    // Disable right mouse context menu.\n",
       "    $(this.rubberband_canvas).bind(\"contextmenu\",function(e){\n",
       "        return false;\n",
       "    });\n",
       "\n",
       "    function set_focus () {\n",
       "        canvas.focus();\n",
       "        canvas_div.focus();\n",
       "    }\n",
       "\n",
       "    window.setTimeout(set_focus, 100);\n",
       "}\n",
       "\n",
       "mpl.figure.prototype._init_toolbar = function() {\n",
       "    var fig = this;\n",
       "\n",
       "    var nav_element = $('<div/>')\n",
       "    nav_element.attr('style', 'width: 100%');\n",
       "    this.root.append(nav_element);\n",
       "\n",
       "    // Define a callback function for later on.\n",
       "    function toolbar_event(event) {\n",
       "        return fig.toolbar_button_onclick(event['data']);\n",
       "    }\n",
       "    function toolbar_mouse_event(event) {\n",
       "        return fig.toolbar_button_onmouseover(event['data']);\n",
       "    }\n",
       "\n",
       "    for(var toolbar_ind in mpl.toolbar_items) {\n",
       "        var name = mpl.toolbar_items[toolbar_ind][0];\n",
       "        var tooltip = mpl.toolbar_items[toolbar_ind][1];\n",
       "        var image = mpl.toolbar_items[toolbar_ind][2];\n",
       "        var method_name = mpl.toolbar_items[toolbar_ind][3];\n",
       "\n",
       "        if (!name) {\n",
       "            // put a spacer in here.\n",
       "            continue;\n",
       "        }\n",
       "        var button = $('<button/>');\n",
       "        button.addClass('ui-button ui-widget ui-state-default ui-corner-all ' +\n",
       "                        'ui-button-icon-only');\n",
       "        button.attr('role', 'button');\n",
       "        button.attr('aria-disabled', 'false');\n",
       "        button.click(method_name, toolbar_event);\n",
       "        button.mouseover(tooltip, toolbar_mouse_event);\n",
       "\n",
       "        var icon_img = $('<span/>');\n",
       "        icon_img.addClass('ui-button-icon-primary ui-icon');\n",
       "        icon_img.addClass(image);\n",
       "        icon_img.addClass('ui-corner-all');\n",
       "\n",
       "        var tooltip_span = $('<span/>');\n",
       "        tooltip_span.addClass('ui-button-text');\n",
       "        tooltip_span.html(tooltip);\n",
       "\n",
       "        button.append(icon_img);\n",
       "        button.append(tooltip_span);\n",
       "\n",
       "        nav_element.append(button);\n",
       "    }\n",
       "\n",
       "    var fmt_picker_span = $('<span/>');\n",
       "\n",
       "    var fmt_picker = $('<select/>');\n",
       "    fmt_picker.addClass('mpl-toolbar-option ui-widget ui-widget-content');\n",
       "    fmt_picker_span.append(fmt_picker);\n",
       "    nav_element.append(fmt_picker_span);\n",
       "    this.format_dropdown = fmt_picker[0];\n",
       "\n",
       "    for (var ind in mpl.extensions) {\n",
       "        var fmt = mpl.extensions[ind];\n",
       "        var option = $(\n",
       "            '<option/>', {selected: fmt === mpl.default_extension}).html(fmt);\n",
       "        fmt_picker.append(option)\n",
       "    }\n",
       "\n",
       "    // Add hover states to the ui-buttons\n",
       "    $( \".ui-button\" ).hover(\n",
       "        function() { $(this).addClass(\"ui-state-hover\");},\n",
       "        function() { $(this).removeClass(\"ui-state-hover\");}\n",
       "    );\n",
       "\n",
       "    var status_bar = $('<span class=\"mpl-message\"/>');\n",
       "    nav_element.append(status_bar);\n",
       "    this.message = status_bar[0];\n",
       "}\n",
       "\n",
       "mpl.figure.prototype.request_resize = function(x_pixels, y_pixels) {\n",
       "    // Request matplotlib to resize the figure. Matplotlib will then trigger a resize in the client,\n",
       "    // which will in turn request a refresh of the image.\n",
       "    this.send_message('resize', {'width': x_pixels, 'height': y_pixels});\n",
       "}\n",
       "\n",
       "mpl.figure.prototype.send_message = function(type, properties) {\n",
       "    properties['type'] = type;\n",
       "    properties['figure_id'] = this.id;\n",
       "    this.ws.send(JSON.stringify(properties));\n",
       "}\n",
       "\n",
       "mpl.figure.prototype.send_draw_message = function() {\n",
       "    if (!this.waiting) {\n",
       "        this.waiting = true;\n",
       "        this.ws.send(JSON.stringify({type: \"draw\", figure_id: this.id}));\n",
       "    }\n",
       "}\n",
       "\n",
       "\n",
       "mpl.figure.prototype.handle_save = function(fig, msg) {\n",
       "    var format_dropdown = fig.format_dropdown;\n",
       "    var format = format_dropdown.options[format_dropdown.selectedIndex].value;\n",
       "    fig.ondownload(fig, format);\n",
       "}\n",
       "\n",
       "\n",
       "mpl.figure.prototype.handle_resize = function(fig, msg) {\n",
       "    var size = msg['size'];\n",
       "    if (size[0] != fig.canvas.width || size[1] != fig.canvas.height) {\n",
       "        fig._resize_canvas(size[0], size[1]);\n",
       "        fig.send_message(\"refresh\", {});\n",
       "    };\n",
       "}\n",
       "\n",
       "mpl.figure.prototype.handle_rubberband = function(fig, msg) {\n",
       "    var x0 = msg['x0'] / mpl.ratio;\n",
       "    var y0 = (fig.canvas.height - msg['y0']) / mpl.ratio;\n",
       "    var x1 = msg['x1'] / mpl.ratio;\n",
       "    var y1 = (fig.canvas.height - msg['y1']) / mpl.ratio;\n",
       "    x0 = Math.floor(x0) + 0.5;\n",
       "    y0 = Math.floor(y0) + 0.5;\n",
       "    x1 = Math.floor(x1) + 0.5;\n",
       "    y1 = Math.floor(y1) + 0.5;\n",
       "    var min_x = Math.min(x0, x1);\n",
       "    var min_y = Math.min(y0, y1);\n",
       "    var width = Math.abs(x1 - x0);\n",
       "    var height = Math.abs(y1 - y0);\n",
       "\n",
       "    fig.rubberband_context.clearRect(\n",
       "        0, 0, fig.canvas.width, fig.canvas.height);\n",
       "\n",
       "    fig.rubberband_context.strokeRect(min_x, min_y, width, height);\n",
       "}\n",
       "\n",
       "mpl.figure.prototype.handle_figure_label = function(fig, msg) {\n",
       "    // Updates the figure title.\n",
       "    fig.header.textContent = msg['label'];\n",
       "}\n",
       "\n",
       "mpl.figure.prototype.handle_cursor = function(fig, msg) {\n",
       "    var cursor = msg['cursor'];\n",
       "    switch(cursor)\n",
       "    {\n",
       "    case 0:\n",
       "        cursor = 'pointer';\n",
       "        break;\n",
       "    case 1:\n",
       "        cursor = 'default';\n",
       "        break;\n",
       "    case 2:\n",
       "        cursor = 'crosshair';\n",
       "        break;\n",
       "    case 3:\n",
       "        cursor = 'move';\n",
       "        break;\n",
       "    }\n",
       "    fig.rubberband_canvas.style.cursor = cursor;\n",
       "}\n",
       "\n",
       "mpl.figure.prototype.handle_message = function(fig, msg) {\n",
       "    fig.message.textContent = msg['message'];\n",
       "}\n",
       "\n",
       "mpl.figure.prototype.handle_draw = function(fig, msg) {\n",
       "    // Request the server to send over a new figure.\n",
       "    fig.send_draw_message();\n",
       "}\n",
       "\n",
       "mpl.figure.prototype.handle_image_mode = function(fig, msg) {\n",
       "    fig.image_mode = msg['mode'];\n",
       "}\n",
       "\n",
       "mpl.figure.prototype.updated_canvas_event = function() {\n",
       "    // Called whenever the canvas gets updated.\n",
       "    this.send_message(\"ack\", {});\n",
       "}\n",
       "\n",
       "// A function to construct a web socket function for onmessage handling.\n",
       "// Called in the figure constructor.\n",
       "mpl.figure.prototype._make_on_message_function = function(fig) {\n",
       "    return function socket_on_message(evt) {\n",
       "        if (evt.data instanceof Blob) {\n",
       "            /* FIXME: We get \"Resource interpreted as Image but\n",
       "             * transferred with MIME type text/plain:\" errors on\n",
       "             * Chrome.  But how to set the MIME type?  It doesn't seem\n",
       "             * to be part of the websocket stream */\n",
       "            evt.data.type = \"image/png\";\n",
       "\n",
       "            /* Free the memory for the previous frames */\n",
       "            if (fig.imageObj.src) {\n",
       "                (window.URL || window.webkitURL).revokeObjectURL(\n",
       "                    fig.imageObj.src);\n",
       "            }\n",
       "\n",
       "            fig.imageObj.src = (window.URL || window.webkitURL).createObjectURL(\n",
       "                evt.data);\n",
       "            fig.updated_canvas_event();\n",
       "            fig.waiting = false;\n",
       "            return;\n",
       "        }\n",
       "        else if (typeof evt.data === 'string' && evt.data.slice(0, 21) == \"data:image/png;base64\") {\n",
       "            fig.imageObj.src = evt.data;\n",
       "            fig.updated_canvas_event();\n",
       "            fig.waiting = false;\n",
       "            return;\n",
       "        }\n",
       "\n",
       "        var msg = JSON.parse(evt.data);\n",
       "        var msg_type = msg['type'];\n",
       "\n",
       "        // Call the  \"handle_{type}\" callback, which takes\n",
       "        // the figure and JSON message as its only arguments.\n",
       "        try {\n",
       "            var callback = fig[\"handle_\" + msg_type];\n",
       "        } catch (e) {\n",
       "            console.log(\"No handler for the '\" + msg_type + \"' message type: \", msg);\n",
       "            return;\n",
       "        }\n",
       "\n",
       "        if (callback) {\n",
       "            try {\n",
       "                // console.log(\"Handling '\" + msg_type + \"' message: \", msg);\n",
       "                callback(fig, msg);\n",
       "            } catch (e) {\n",
       "                console.log(\"Exception inside the 'handler_\" + msg_type + \"' callback:\", e, e.stack, msg);\n",
       "            }\n",
       "        }\n",
       "    };\n",
       "}\n",
       "\n",
       "// from http://stackoverflow.com/questions/1114465/getting-mouse-location-in-canvas\n",
       "mpl.findpos = function(e) {\n",
       "    //this section is from http://www.quirksmode.org/js/events_properties.html\n",
       "    var targ;\n",
       "    if (!e)\n",
       "        e = window.event;\n",
       "    if (e.target)\n",
       "        targ = e.target;\n",
       "    else if (e.srcElement)\n",
       "        targ = e.srcElement;\n",
       "    if (targ.nodeType == 3) // defeat Safari bug\n",
       "        targ = targ.parentNode;\n",
       "\n",
       "    // jQuery normalizes the pageX and pageY\n",
       "    // pageX,Y are the mouse positions relative to the document\n",
       "    // offset() returns the position of the element relative to the document\n",
       "    var x = e.pageX - $(targ).offset().left;\n",
       "    var y = e.pageY - $(targ).offset().top;\n",
       "\n",
       "    return {\"x\": x, \"y\": y};\n",
       "};\n",
       "\n",
       "/*\n",
       " * return a copy of an object with only non-object keys\n",
       " * we need this to avoid circular references\n",
       " * http://stackoverflow.com/a/24161582/3208463\n",
       " */\n",
       "function simpleKeys (original) {\n",
       "  return Object.keys(original).reduce(function (obj, key) {\n",
       "    if (typeof original[key] !== 'object')\n",
       "        obj[key] = original[key]\n",
       "    return obj;\n",
       "  }, {});\n",
       "}\n",
       "\n",
       "mpl.figure.prototype.mouse_event = function(event, name) {\n",
       "    var canvas_pos = mpl.findpos(event)\n",
       "\n",
       "    if (name === 'button_press')\n",
       "    {\n",
       "        this.canvas.focus();\n",
       "        this.canvas_div.focus();\n",
       "    }\n",
       "\n",
       "    var x = canvas_pos.x * mpl.ratio;\n",
       "    var y = canvas_pos.y * mpl.ratio;\n",
       "\n",
       "    this.send_message(name, {x: x, y: y, button: event.button,\n",
       "                             step: event.step,\n",
       "                             guiEvent: simpleKeys(event)});\n",
       "\n",
       "    /* This prevents the web browser from automatically changing to\n",
       "     * the text insertion cursor when the button is pressed.  We want\n",
       "     * to control all of the cursor setting manually through the\n",
       "     * 'cursor' event from matplotlib */\n",
       "    event.preventDefault();\n",
       "    return false;\n",
       "}\n",
       "\n",
       "mpl.figure.prototype._key_event_extra = function(event, name) {\n",
       "    // Handle any extra behaviour associated with a key event\n",
       "}\n",
       "\n",
       "mpl.figure.prototype.key_event = function(event, name) {\n",
       "\n",
       "    // Prevent repeat events\n",
       "    if (name == 'key_press')\n",
       "    {\n",
       "        if (event.which === this._key)\n",
       "            return;\n",
       "        else\n",
       "            this._key = event.which;\n",
       "    }\n",
       "    if (name == 'key_release')\n",
       "        this._key = null;\n",
       "\n",
       "    var value = '';\n",
       "    if (event.ctrlKey && event.which != 17)\n",
       "        value += \"ctrl+\";\n",
       "    if (event.altKey && event.which != 18)\n",
       "        value += \"alt+\";\n",
       "    if (event.shiftKey && event.which != 16)\n",
       "        value += \"shift+\";\n",
       "\n",
       "    value += 'k';\n",
       "    value += event.which.toString();\n",
       "\n",
       "    this._key_event_extra(event, name);\n",
       "\n",
       "    this.send_message(name, {key: value,\n",
       "                             guiEvent: simpleKeys(event)});\n",
       "    return false;\n",
       "}\n",
       "\n",
       "mpl.figure.prototype.toolbar_button_onclick = function(name) {\n",
       "    if (name == 'download') {\n",
       "        this.handle_save(this, null);\n",
       "    } else {\n",
       "        this.send_message(\"toolbar_button\", {name: name});\n",
       "    }\n",
       "};\n",
       "\n",
       "mpl.figure.prototype.toolbar_button_onmouseover = function(tooltip) {\n",
       "    this.message.textContent = tooltip;\n",
       "};\n",
       "mpl.toolbar_items = [[\"Home\", \"Reset original view\", \"fa fa-home icon-home\", \"home\"], [\"Back\", \"Back to  previous view\", \"fa fa-arrow-left icon-arrow-left\", \"back\"], [\"Forward\", \"Forward to next view\", \"fa fa-arrow-right icon-arrow-right\", \"forward\"], [\"\", \"\", \"\", \"\"], [\"Pan\", \"Pan axes with left mouse, zoom with right\", \"fa fa-arrows icon-move\", \"pan\"], [\"Zoom\", \"Zoom to rectangle\", \"fa fa-square-o icon-check-empty\", \"zoom\"], [\"\", \"\", \"\", \"\"], [\"Download\", \"Download plot\", \"fa fa-floppy-o icon-save\", \"download\"]];\n",
       "\n",
       "mpl.extensions = [\"eps\", \"jpeg\", \"pdf\", \"png\", \"ps\", \"raw\", \"svg\", \"tif\"];\n",
       "\n",
       "mpl.default_extension = \"png\";var comm_websocket_adapter = function(comm) {\n",
       "    // Create a \"websocket\"-like object which calls the given IPython comm\n",
       "    // object with the appropriate methods. Currently this is a non binary\n",
       "    // socket, so there is still some room for performance tuning.\n",
       "    var ws = {};\n",
       "\n",
       "    ws.close = function() {\n",
       "        comm.close()\n",
       "    };\n",
       "    ws.send = function(m) {\n",
       "        //console.log('sending', m);\n",
       "        comm.send(m);\n",
       "    };\n",
       "    // Register the callback with on_msg.\n",
       "    comm.on_msg(function(msg) {\n",
       "        //console.log('receiving', msg['content']['data'], msg);\n",
       "        // Pass the mpl event to the overridden (by mpl) onmessage function.\n",
       "        ws.onmessage(msg['content']['data'])\n",
       "    });\n",
       "    return ws;\n",
       "}\n",
       "\n",
       "mpl.mpl_figure_comm = function(comm, msg) {\n",
       "    // This is the function which gets called when the mpl process\n",
       "    // starts-up an IPython Comm through the \"matplotlib\" channel.\n",
       "\n",
       "    var id = msg.content.data.id;\n",
       "    // Get hold of the div created by the display call when the Comm\n",
       "    // socket was opened in Python.\n",
       "    var element = $(\"#\" + id);\n",
       "    var ws_proxy = comm_websocket_adapter(comm)\n",
       "\n",
       "    function ondownload(figure, format) {\n",
       "        window.open(figure.imageObj.src);\n",
       "    }\n",
       "\n",
       "    var fig = new mpl.figure(id, ws_proxy,\n",
       "                           ondownload,\n",
       "                           element.get(0));\n",
       "\n",
       "    // Call onopen now - mpl needs it, as it is assuming we've passed it a real\n",
       "    // web socket which is closed, not our websocket->open comm proxy.\n",
       "    ws_proxy.onopen();\n",
       "\n",
       "    fig.parent_element = element.get(0);\n",
       "    fig.cell_info = mpl.find_output_cell(\"<div id='\" + id + \"'></div>\");\n",
       "    if (!fig.cell_info) {\n",
       "        console.error(\"Failed to find cell for figure\", id, fig);\n",
       "        return;\n",
       "    }\n",
       "\n",
       "    var output_index = fig.cell_info[2]\n",
       "    var cell = fig.cell_info[0];\n",
       "\n",
       "};\n",
       "\n",
       "mpl.figure.prototype.handle_close = function(fig, msg) {\n",
       "    var width = fig.canvas.width/mpl.ratio\n",
       "    fig.root.unbind('remove')\n",
       "\n",
       "    // Update the output cell to use the data from the current canvas.\n",
       "    fig.push_to_output();\n",
       "    var dataURL = fig.canvas.toDataURL();\n",
       "    // Re-enable the keyboard manager in IPython - without this line, in FF,\n",
       "    // the notebook keyboard shortcuts fail.\n",
       "    IPython.keyboard_manager.enable()\n",
       "    $(fig.parent_element).html('<img src=\"' + dataURL + '\" width=\"' + width + '\">');\n",
       "    fig.close_ws(fig, msg);\n",
       "}\n",
       "\n",
       "mpl.figure.prototype.close_ws = function(fig, msg){\n",
       "    fig.send_message('closing', msg);\n",
       "    // fig.ws.close()\n",
       "}\n",
       "\n",
       "mpl.figure.prototype.push_to_output = function(remove_interactive) {\n",
       "    // Turn the data on the canvas into data in the output cell.\n",
       "    var width = this.canvas.width/mpl.ratio\n",
       "    var dataURL = this.canvas.toDataURL();\n",
       "    this.cell_info[1]['text/html'] = '<img src=\"' + dataURL + '\" width=\"' + width + '\">';\n",
       "}\n",
       "\n",
       "mpl.figure.prototype.updated_canvas_event = function() {\n",
       "    // Tell IPython that the notebook contents must change.\n",
       "    IPython.notebook.set_dirty(true);\n",
       "    this.send_message(\"ack\", {});\n",
       "    var fig = this;\n",
       "    // Wait a second, then push the new image to the DOM so\n",
       "    // that it is saved nicely (might be nice to debounce this).\n",
       "    setTimeout(function () { fig.push_to_output() }, 1000);\n",
       "}\n",
       "\n",
       "mpl.figure.prototype._init_toolbar = function() {\n",
       "    var fig = this;\n",
       "\n",
       "    var nav_element = $('<div/>')\n",
       "    nav_element.attr('style', 'width: 100%');\n",
       "    this.root.append(nav_element);\n",
       "\n",
       "    // Define a callback function for later on.\n",
       "    function toolbar_event(event) {\n",
       "        return fig.toolbar_button_onclick(event['data']);\n",
       "    }\n",
       "    function toolbar_mouse_event(event) {\n",
       "        return fig.toolbar_button_onmouseover(event['data']);\n",
       "    }\n",
       "\n",
       "    for(var toolbar_ind in mpl.toolbar_items){\n",
       "        var name = mpl.toolbar_items[toolbar_ind][0];\n",
       "        var tooltip = mpl.toolbar_items[toolbar_ind][1];\n",
       "        var image = mpl.toolbar_items[toolbar_ind][2];\n",
       "        var method_name = mpl.toolbar_items[toolbar_ind][3];\n",
       "\n",
       "        if (!name) { continue; };\n",
       "\n",
       "        var button = $('<button class=\"btn btn-default\" href=\"#\" title=\"' + name + '\"><i class=\"fa ' + image + ' fa-lg\"></i></button>');\n",
       "        button.click(method_name, toolbar_event);\n",
       "        button.mouseover(tooltip, toolbar_mouse_event);\n",
       "        nav_element.append(button);\n",
       "    }\n",
       "\n",
       "    // Add the status bar.\n",
       "    var status_bar = $('<span class=\"mpl-message\" style=\"text-align:right; float: right;\"/>');\n",
       "    nav_element.append(status_bar);\n",
       "    this.message = status_bar[0];\n",
       "\n",
       "    // Add the close button to the window.\n",
       "    var buttongrp = $('<div class=\"btn-group inline pull-right\"></div>');\n",
       "    var button = $('<button class=\"btn btn-mini btn-primary\" href=\"#\" title=\"Stop Interaction\"><i class=\"fa fa-power-off icon-remove icon-large\"></i></button>');\n",
       "    button.click(function (evt) { fig.handle_close(fig, {}); } );\n",
       "    button.mouseover('Stop Interaction', toolbar_mouse_event);\n",
       "    buttongrp.append(button);\n",
       "    var titlebar = this.root.find($('.ui-dialog-titlebar'));\n",
       "    titlebar.prepend(buttongrp);\n",
       "}\n",
       "\n",
       "mpl.figure.prototype._root_extra_style = function(el){\n",
       "    var fig = this\n",
       "    el.on(\"remove\", function(){\n",
       "\tfig.close_ws(fig, {});\n",
       "    });\n",
       "}\n",
       "\n",
       "mpl.figure.prototype._canvas_extra_style = function(el){\n",
       "    // this is important to make the div 'focusable\n",
       "    el.attr('tabindex', 0)\n",
       "    // reach out to IPython and tell the keyboard manager to turn it's self\n",
       "    // off when our div gets focus\n",
       "\n",
       "    // location in version 3\n",
       "    if (IPython.notebook.keyboard_manager) {\n",
       "        IPython.notebook.keyboard_manager.register_events(el);\n",
       "    }\n",
       "    else {\n",
       "        // location in version 2\n",
       "        IPython.keyboard_manager.register_events(el);\n",
       "    }\n",
       "\n",
       "}\n",
       "\n",
       "mpl.figure.prototype._key_event_extra = function(event, name) {\n",
       "    var manager = IPython.notebook.keyboard_manager;\n",
       "    if (!manager)\n",
       "        manager = IPython.keyboard_manager;\n",
       "\n",
       "    // Check for shift+enter\n",
       "    if (event.shiftKey && event.which == 13) {\n",
       "        this.canvas_div.blur();\n",
       "        event.shiftKey = false;\n",
       "        // Send a \"J\" for go to next cell\n",
       "        event.which = 74;\n",
       "        event.keyCode = 74;\n",
       "        manager.command_mode();\n",
       "        manager.handle_keydown(event);\n",
       "    }\n",
       "}\n",
       "\n",
       "mpl.figure.prototype.handle_save = function(fig, msg) {\n",
       "    fig.ondownload(fig, null);\n",
       "}\n",
       "\n",
       "\n",
       "mpl.find_output_cell = function(html_output) {\n",
       "    // Return the cell and output element which can be found *uniquely* in the notebook.\n",
       "    // Note - this is a bit hacky, but it is done because the \"notebook_saving.Notebook\"\n",
       "    // IPython event is triggered only after the cells have been serialised, which for\n",
       "    // our purposes (turning an active figure into a static one), is too late.\n",
       "    var cells = IPython.notebook.get_cells();\n",
       "    var ncells = cells.length;\n",
       "    for (var i=0; i<ncells; i++) {\n",
       "        var cell = cells[i];\n",
       "        if (cell.cell_type === 'code'){\n",
       "            for (var j=0; j<cell.output_area.outputs.length; j++) {\n",
       "                var data = cell.output_area.outputs[j];\n",
       "                if (data.data) {\n",
       "                    // IPython >= 3 moved mimebundle to data attribute of output\n",
       "                    data = data.data;\n",
       "                }\n",
       "                if (data['text/html'] == html_output) {\n",
       "                    return [cell, data, j];\n",
       "                }\n",
       "            }\n",
       "        }\n",
       "    }\n",
       "}\n",
       "\n",
       "// Register the function which deals with the matplotlib target/channel.\n",
       "// The kernel may be null if the page has been refreshed.\n",
       "if (IPython.notebook.kernel != null) {\n",
       "    IPython.notebook.kernel.comm_manager.register_target('matplotlib', mpl.mpl_figure_comm);\n",
       "}\n"
      ],
      "text/plain": [
       "<IPython.core.display.Javascript object>"
      ]
     },
     "metadata": {},
     "output_type": "display_data"
    },
    {
     "data": {
      "text/html": [
       "<img src=\"data:image/png;base64,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\" width=\"640\">"
      ],
      "text/plain": [
       "<IPython.core.display.HTML object>"
      ]
     },
     "metadata": {},
     "output_type": "display_data"
    },
    {
     "data": {
      "text/plain": [
       "<matplotlib.axes._subplots.AxesSubplot at 0x252295c3a90>"
      ]
     },
     "execution_count": 60,
     "metadata": {},
     "output_type": "execute_result"
    },
    {
     "data": {
      "text/plain": [
       "Text(0.5,1,'City Latitude vs Wind Speed (mph) (10-19-2018)')"
      ]
     },
     "execution_count": 60,
     "metadata": {},
     "output_type": "execute_result"
    },
    {
     "data": {
      "text/plain": [
       "Text(0.5,0,'Latitude')"
      ]
     },
     "execution_count": 60,
     "metadata": {},
     "output_type": "execute_result"
    },
    {
     "data": {
      "text/plain": [
       "Text(0,0.5,'Wind Speed (mph)')"
      ]
     },
     "execution_count": 60,
     "metadata": {},
     "output_type": "execute_result"
    }
   ],
   "source": [
    "# Creating a scatter plot for latitude vs wind speed\n",
    "citiweather_df_cleaned.plot.scatter(['Lat'], ['Wind Speed'], marker = 'o', facecolors = 'b', alpha = 0.6)\n",
    "# Chart information\n",
    "plt.title('City Latitude vs Wind Speed (mph) (10-19-2018)')\n",
    "plt.xlabel('Latitude')\n",
    "plt.ylabel('Wind Speed (mph)')\n",
    "\n",
    "# Exporting chart as png file\n",
    "plt.savefig('output/City Latitude vs Wind Speed (mph) (10-19-2018).png')\n",
    "plt.show()"
   ]
  },
  {
   "cell_type": "markdown",
   "metadata": {},
   "source": [
    "## Observations\n",
    "- We cannot make too many generalizations as this data is a day snapshot of the current weather of a randomized set of cities; however, it is fair to state that cities closer to the equator (with latitude closer to 0) are warmer than those farther away (with latitudes further away from 0 in both positive and negative directions).\n",
    "- It was interesting to see that humidity is high for a good number of the cities in the dataset, regardless of latitude.\n",
    "- There does not seem to be a strong relationship between latitude and cloudiness (I would also argue that the measurement of cloudiness by OWM and quite possibly the measurement of a unit of 'cloudiness' is somewhat arbitrary, and difficult to discern meaningful insight from such calculations, since there are distinct 'bands' which indicate numerous instances of the same level of cloudiness across cities regardless of latitude.)\n",
    "- There seems to be a weak/negligible relationship between latitude and wind speed, with some minor clustering of low windspeeds in the higher latitudes/northern hemisphere. (This variable is probably best measured over time, not in a snapshot instance like the current dataset. Also, I would argue elevation as a third variable is necessary to determine whether there is a relationship between wind speed and latitude, which is not captured with the current dataset.)\n",
    "\n",
    "See output directory below for csv file of citiweather dataframe and image exports: \n",
    "\n",
    "https://github.com/Emanste92/UCBEx_DataAnalytics/tree/master/WeatherPy/output"
   ]
  }
 ],
 "metadata": {
  "anaconda-cloud": {},
  "kernelspec": {
   "display_name": "Python 3",
   "language": "python",
   "name": "python3"
  },
  "language_info": {
   "codemirror_mode": {
    "name": "ipython",
    "version": 3
   },
   "file_extension": ".py",
   "mimetype": "text/x-python",
   "name": "python",
   "nbconvert_exporter": "python",
   "pygments_lexer": "ipython3",
   "version": "3.6.6"
  }
 },
 "nbformat": 4,
 "nbformat_minor": 2
}
