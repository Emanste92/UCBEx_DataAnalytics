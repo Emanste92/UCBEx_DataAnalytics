{
 "cells": [
  {
   "cell_type": "markdown",
   "metadata": {},
   "source": [
    "# PyCity Schools Analysis\n",
    "\n",
    "* As a whole, schools with higher budgets, did not yield better test results. By contrast, schools with higher spending per student actually (\\$645-675) underperformed compared to schools with smaller budgets (<\\$585 per student).\n",
    "\n",
    "* As a whole, smaller and medium sized schools dramatically out-performed large sized schools on passing math performances (89-91% passing vs 67%).\n",
    "\n",
    "* As a whole, charter schools out-performed the public district schools across all metrics. However, more analysis will be required to glean if the effect is due to school practices or the fact that charter schools tend to serve smaller student populations per school. \n",
    "---"
   ]
  },
  {
   "cell_type": "markdown",
   "metadata": {},
   "source": [
    "### Note\n",
    "* Instructions have been included for each segment. You do not have to follow them exactly, but they are included to help you think through the steps."
   ]
  },
  {
   "cell_type": "code",
   "execution_count": 1,
   "metadata": {},
   "outputs": [
    {
     "data": {
      "text/plain": [
       "['school_name',\n",
       " 'Student ID',\n",
       " 'grade',\n",
       " 'reading_score',\n",
       " 'math_score',\n",
       " 'School ID',\n",
       " 'type',\n",
       " 'size',\n",
       " 'budget']"
      ]
     },
     "execution_count": 1,
     "metadata": {},
     "output_type": "execute_result"
    }
   ],
   "source": [
    "# import packages and modifying output settings\n",
    "import pandas as pd\n",
    "import numpy as np\n",
    "from IPython.core.interactiveshell import InteractiveShell\n",
    "InteractiveShell.ast_node_interactivity = \"all\"\n",
    "# Remember to enter in the cell twice for this to work\n",
    "\n",
    "# Loading files\n",
    "school_data_to_load = \"Resources/schools_complete.csv\"\n",
    "student_data_to_load = \"Resources/students_complete.csv\"\n",
    "\n",
    "# Creating Pandas DataFrames\n",
    "school_data = pd.read_csv(school_data_to_load)\n",
    "student_data = pd.read_csv(student_data_to_load)\n",
    "\n",
    "# Merging datasets into one DataFrame\n",
    "school_data_complete = pd.merge(student_data, school_data, how=\"left\", \n",
    "                                on=[\"school_name\", \"school_name\"])\n",
    "\n",
    "# Removing unnecessary columns\n",
    "school_data_analysis = school_data_complete[['school_name','Student ID','grade',\n",
    "                                             'reading_score','math_score',\n",
    "                                             'School ID', 'type','size','budget']]\n",
    "# Initial overview of DataFrame\n",
    "school_data_analysis.head(3)\n",
    "\n",
    "# Printing a list of column names for reference\n",
    "list(school_data_analysis)\n",
    "\n",
    "# stylistic note: _calc and _pre are my interim step variables \n",
    "# to make the variables I need "
   ]
  },
  {
   "cell_type": "markdown",
   "metadata": {},
   "source": [
    "## District Summary\n",
    "\n",
    "* Calculate the total number of schools\n",
    "\n",
    "* Calculate the total number of students\n",
    "\n",
    "* Calculate the total budget\n",
    "\n",
    "* Calculate the average math score \n",
    "\n",
    "* Calculate the average reading score\n",
    "\n",
    "* Calculate the overall passing rate (overall average score), i.e. (avg. math score + avg. reading score)/2\n",
    "\n",
    "* Calculate the percentage of students with a passing math score (70 or greater)\n",
    "\n",
    "* Calculate the percentage of students with a passing reading score (70 or greater)\n",
    "\n",
    "* Create a dataframe to hold the above results\n",
    "\n",
    "* Optional: give the displayed data cleaner formatting"
   ]
  },
  {
   "cell_type": "code",
   "execution_count": 2,
   "metadata": {},
   "outputs": [],
   "source": [
    "# Total number of schools\n",
    "school_total = school_data_analysis['school_name'].nunique()"
   ]
  },
  {
   "cell_type": "code",
   "execution_count": 3,
   "metadata": {},
   "outputs": [],
   "source": [
    "# Total number of students\n",
    "student_total = school_data_analysis['Student ID'].count()"
   ]
  },
  {
   "cell_type": "code",
   "execution_count": 4,
   "metadata": {
    "scrolled": true
   },
   "outputs": [],
   "source": [
    "# Total budget\n",
    "district_total_budget = sum(school_data_analysis['budget'].unique())"
   ]
  },
  {
   "cell_type": "code",
   "execution_count": 5,
   "metadata": {},
   "outputs": [],
   "source": [
    "# Average math score \n",
    "avg_math_score = round(school_data_analysis['math_score'].mean(),2)"
   ]
  },
  {
   "cell_type": "code",
   "execution_count": 6,
   "metadata": {},
   "outputs": [],
   "source": [
    "# Average reading score\n",
    "avg_read_score = round(school_data_analysis['reading_score'].mean(),2)"
   ]
  },
  {
   "cell_type": "code",
   "execution_count": 7,
   "metadata": {},
   "outputs": [],
   "source": [
    "# Overall passing rate \n",
    "overall_pass_rate = round(((school_data_analysis['math_score'].mean()) + \n",
    "                           (school_data_analysis['reading_score'].mean())) / 2, 2)"
   ]
  },
  {
   "cell_type": "code",
   "execution_count": 8,
   "metadata": {},
   "outputs": [],
   "source": [
    "# Percentage of students with a passing math score (70 or greater)\n",
    "# .tolist() was useful here\n",
    "math_pass_calc = round(((school_data_analysis['math_score'] >= 70)\n",
    "                        .value_counts(\"True\")) * 100, 2).tolist()\n",
    "math_pass = math_pass_calc[0]"
   ]
  },
  {
   "cell_type": "code",
   "execution_count": 9,
   "metadata": {},
   "outputs": [],
   "source": [
    "# Percentage of students with a passing reading score (70 or greater)\n",
    "reading_pass_calc = round(((school_data_analysis['reading_score'] >= 70)\n",
    "                           .value_counts(\"True\")) * 100, 2).tolist()\n",
    "reading_pass = reading_pass_calc[0]"
   ]
  },
  {
   "cell_type": "code",
   "execution_count": 18,
   "metadata": {
    "scrolled": true
   },
   "outputs": [
    {
     "data": {
      "text/html": [
       "<div>\n",
       "<style scoped>\n",
       "    .dataframe tbody tr th:only-of-type {\n",
       "        vertical-align: middle;\n",
       "    }\n",
       "\n",
       "    .dataframe tbody tr th {\n",
       "        vertical-align: top;\n",
       "    }\n",
       "\n",
       "    .dataframe thead th {\n",
       "        text-align: right;\n",
       "    }\n",
       "</style>\n",
       "<table border=\"1\" class=\"dataframe\">\n",
       "  <thead>\n",
       "    <tr style=\"text-align: right;\">\n",
       "      <th></th>\n",
       "      <th>School Total</th>\n",
       "      <th>Student Total</th>\n",
       "      <th>District Total Budget</th>\n",
       "      <th>Average Math Score</th>\n",
       "      <th>Average Reading Score</th>\n",
       "      <th>Overall Passing %</th>\n",
       "      <th>Math Passing % (score &gt;= 70)</th>\n",
       "      <th>Reading Passing % (score &gt;= 70)</th>\n",
       "    </tr>\n",
       "  </thead>\n",
       "  <tbody>\n",
       "    <tr>\n",
       "      <th>0</th>\n",
       "      <td>15</td>\n",
       "      <td>39170</td>\n",
       "      <td>24649428</td>\n",
       "      <td>78.99</td>\n",
       "      <td>81.88</td>\n",
       "      <td>80.43</td>\n",
       "      <td>74.98</td>\n",
       "      <td>85.81</td>\n",
       "    </tr>\n",
       "  </tbody>\n",
       "</table>\n",
       "</div>"
      ],
      "text/plain": [
       "   School Total  Student Total  District Total Budget  Average Math Score  \\\n",
       "0            15          39170               24649428               78.99   \n",
       "\n",
       "   Average Reading Score  Overall Passing %  Math Passing % (score >= 70)  \\\n",
       "0                  81.88              80.43                         74.98   \n",
       "\n",
       "   Reading Passing % (score >= 70)  \n",
       "0                            85.81  "
      ]
     },
     "execution_count": 18,
     "metadata": {},
     "output_type": "execute_result"
    }
   ],
   "source": [
    "# Creating dataframe with the above datapoints\n",
    "\n",
    "# school_data_analysis[\"district_total_budget\"] = school_data_analysis[\"district_total_budget\"].map(\"${:.2f}\".format)\n",
    "\n",
    "dataSummary1 = pd.DataFrame({'School Total': school_total, 'Student Total': student_total,\n",
    "                            'District Total Budget': district_total_budget,'Average Math Score':\n",
    "                            avg_math_score,'Average Reading Score': avg_read_score,\n",
    "                            'Overall Passing %': overall_pass_rate, 'Math Passing % (score >= 70)':\n",
    "                            math_pass, 'Reading Passing % (score >= 70)': reading_pass},index=[0])\n",
    "\n",
    "dataSummary1"
   ]
  },
  {
   "cell_type": "markdown",
   "metadata": {},
   "source": [
    "## School Summary"
   ]
  },
  {
   "cell_type": "markdown",
   "metadata": {},
   "source": [
    "* Create an overview table that summarizes key metrics about each school, including:\n",
    "  * School Name\n",
    "  * School Type\n",
    "  * Total Students\n",
    "  * Total School Budget\n",
    "  * Per Student Budget\n",
    "  * Average Math Score\n",
    "  * Average Reading Score\n",
    "  * % Passing Math\n",
    "  * % Passing Reading\n",
    "  * Overall Passing Rate (Average of the above two)\n",
    "  \n",
    "* Create a dataframe to hold the above results"
   ]
  },
  {
   "cell_type": "code",
   "execution_count": 11,
   "metadata": {},
   "outputs": [],
   "source": [
    "# Creating a groupby object by school_name and type\n",
    "byschool_summary = school_data_analysis.groupby(['school_name','type'])\n",
    "\n",
    "# Making a list of school names\n",
    "school_names = byschool_summary.median().index.get_level_values(0).tolist()\n",
    "\n",
    "# Making a list of school type\n",
    "school_type = byschool_summary.median().index.get_level_values(1).tolist()"
   ]
  },
  {
   "cell_type": "code",
   "execution_count": 12,
   "metadata": {
    "scrolled": false
   },
   "outputs": [],
   "source": [
    "# Total number of students\n",
    "byschool_student_total = round(school_data_analysis['school_name'].value_counts(),2).tolist()\n",
    "\n",
    "# Creating an array for further calculations\n",
    "byschool_student_total_calc = np.asarray(byschool_student_total)"
   ]
  },
  {
   "cell_type": "code",
   "execution_count": 13,
   "metadata": {
    "scrolled": false
   },
   "outputs": [],
   "source": [
    "# School budgets\n",
    "byschool_budgets_total = school_data_analysis.groupby(['school_name']).mean()['budget'].tolist()\n",
    "\n",
    "# Creating an array for further calculations\n",
    "byschool_budgets_total_calc = np.asarray(byschool_budgets_total)"
   ]
  },
  {
   "cell_type": "code",
   "execution_count": 14,
   "metadata": {},
   "outputs": [],
   "source": [
    "# Budget amount spent per student\n",
    "byschool_budget_per = (byschool_budgets_total_calc / byschool_student_total_calc).tolist()"
   ]
  },
  {
   "cell_type": "code",
   "execution_count": 15,
   "metadata": {},
   "outputs": [],
   "source": [
    "# Average math scores by school\n",
    "byschool_math_avgs = round(school_data_analysis.groupby(['school_name']).mean()['math_score'],2).tolist()"
   ]
  },
  {
   "cell_type": "code",
   "execution_count": 16,
   "metadata": {},
   "outputs": [],
   "source": [
    "# Average reading scores by school\n",
    "byschool_reading_avgs = round(school_data_analysis.groupby(['school_name']).mean()['reading_score'],2).tolist()"
   ]
  },
  {
   "cell_type": "code",
   "execution_count": 30,
   "metadata": {},
   "outputs": [
    {
     "data": {
      "text/html": [
       "<div>\n",
       "<style scoped>\n",
       "    .dataframe tbody tr th:only-of-type {\n",
       "        vertical-align: middle;\n",
       "    }\n",
       "\n",
       "    .dataframe tbody tr th {\n",
       "        vertical-align: top;\n",
       "    }\n",
       "\n",
       "    .dataframe thead th {\n",
       "        text-align: right;\n",
       "    }\n",
       "</style>\n",
       "<table border=\"1\" class=\"dataframe\">\n",
       "  <thead>\n",
       "    <tr style=\"text-align: right;\">\n",
       "      <th></th>\n",
       "      <th>school_name</th>\n",
       "      <th>list</th>\n",
       "    </tr>\n",
       "  </thead>\n",
       "  <tbody>\n",
       "    <tr>\n",
       "      <th>0</th>\n",
       "      <td>Bailey High School</td>\n",
       "      <td>[59, 58, 86, 89, 61, 85, 70, 99, 80, 62, 95, 7...</td>\n",
       "    </tr>\n",
       "    <tr>\n",
       "      <th>1</th>\n",
       "      <td>Cabrera High School</td>\n",
       "      <td>[94, 97, 83, 92, 71, 72, 97, 70, 89, 96, 99, 8...</td>\n",
       "    </tr>\n",
       "    <tr>\n",
       "      <th>2</th>\n",
       "      <td>Figueroa High School</td>\n",
       "      <td>[87, 84, 77, 64, 64, 93, 90, 75, 77, 73, 75, 6...</td>\n",
       "    </tr>\n",
       "    <tr>\n",
       "      <th>3</th>\n",
       "      <td>Ford High School</td>\n",
       "      <td>[94, 63, 59, 58, 55, 75, 59, 84, 67, 93, 84, 9...</td>\n",
       "    </tr>\n",
       "    <tr>\n",
       "      <th>4</th>\n",
       "      <td>Griffin High School</td>\n",
       "      <td>[68, 81, 89, 85, 83, 71, 91, 73, 79, 76, 80, 6...</td>\n",
       "    </tr>\n",
       "    <tr>\n",
       "      <th>5</th>\n",
       "      <td>Hernandez High School</td>\n",
       "      <td>[88, 93, 81, 91, 93, 81, 71, 93, 97, 60, 99, 8...</td>\n",
       "    </tr>\n",
       "    <tr>\n",
       "      <th>6</th>\n",
       "      <td>Holden High School</td>\n",
       "      <td>[92, 81, 93, 90, 85, 99, 69, 98, 79, 89, 86, 8...</td>\n",
       "    </tr>\n",
       "    <tr>\n",
       "      <th>7</th>\n",
       "      <td>Huang High School</td>\n",
       "      <td>[79, 61, 60, 58, 84, 94, 80, 69, 87, 84, 70, 7...</td>\n",
       "    </tr>\n",
       "    <tr>\n",
       "      <th>8</th>\n",
       "      <td>Johnson High School</td>\n",
       "      <td>[87, 62, 77, 85, 85, 84, 73, 58, 80, 56, 56, 8...</td>\n",
       "    </tr>\n",
       "    <tr>\n",
       "      <th>9</th>\n",
       "      <td>Pena High School</td>\n",
       "      <td>[75, 76, 91, 71, 92, 84, 97, 72, 88, 86, 77, 9...</td>\n",
       "    </tr>\n",
       "    <tr>\n",
       "      <th>10</th>\n",
       "      <td>Rodriguez High School</td>\n",
       "      <td>[81, 86, 62, 73, 92, 98, 61, 98, 97, 61, 60, 9...</td>\n",
       "    </tr>\n",
       "    <tr>\n",
       "      <th>11</th>\n",
       "      <td>Shelton High School</td>\n",
       "      <td>[91, 71, 99, 95, 82, 86, 86, 94, 76, 75, 75, 9...</td>\n",
       "    </tr>\n",
       "    <tr>\n",
       "      <th>12</th>\n",
       "      <td>Thomas High School</td>\n",
       "      <td>[76, 82, 90, 69, 76, 96, 76, 94, 73, 92, 68, 8...</td>\n",
       "    </tr>\n",
       "    <tr>\n",
       "      <th>13</th>\n",
       "      <td>Wilson High School</td>\n",
       "      <td>[71, 87, 82, 68, 72, 91, 95, 71, 94, 76, 80, 7...</td>\n",
       "    </tr>\n",
       "    <tr>\n",
       "      <th>14</th>\n",
       "      <td>Wright High School</td>\n",
       "      <td>[72, 93, 88, 84, 82, 86, 72, 74, 78, 74, 96, 9...</td>\n",
       "    </tr>\n",
       "  </tbody>\n",
       "</table>\n",
       "</div>"
      ],
      "text/plain": [
       "              school_name                                               list\n",
       "0      Bailey High School  [59, 58, 86, 89, 61, 85, 70, 99, 80, 62, 95, 7...\n",
       "1     Cabrera High School  [94, 97, 83, 92, 71, 72, 97, 70, 89, 96, 99, 8...\n",
       "2    Figueroa High School  [87, 84, 77, 64, 64, 93, 90, 75, 77, 73, 75, 6...\n",
       "3        Ford High School  [94, 63, 59, 58, 55, 75, 59, 84, 67, 93, 84, 9...\n",
       "4     Griffin High School  [68, 81, 89, 85, 83, 71, 91, 73, 79, 76, 80, 6...\n",
       "5   Hernandez High School  [88, 93, 81, 91, 93, 81, 71, 93, 97, 60, 99, 8...\n",
       "6      Holden High School  [92, 81, 93, 90, 85, 99, 69, 98, 79, 89, 86, 8...\n",
       "7       Huang High School  [79, 61, 60, 58, 84, 94, 80, 69, 87, 84, 70, 7...\n",
       "8     Johnson High School  [87, 62, 77, 85, 85, 84, 73, 58, 80, 56, 56, 8...\n",
       "9        Pena High School  [75, 76, 91, 71, 92, 84, 97, 72, 88, 86, 77, 9...\n",
       "10  Rodriguez High School  [81, 86, 62, 73, 92, 98, 61, 98, 97, 61, 60, 9...\n",
       "11    Shelton High School  [91, 71, 99, 95, 82, 86, 86, 94, 76, 75, 75, 9...\n",
       "12     Thomas High School  [76, 82, 90, 69, 76, 96, 76, 94, 73, 92, 68, 8...\n",
       "13     Wilson High School  [71, 87, 82, 68, 72, 91, 95, 71, 94, 76, 80, 7...\n",
       "14     Wright High School  [72, 93, 88, 84, 82, 86, 72, 74, 78, 74, 96, 9..."
      ]
     },
     "execution_count": 30,
     "metadata": {},
     "output_type": "execute_result"
    }
   ],
   "source": [
    "# % students passing math\n",
    "byschool_reading_pass_calc_pre = school_data_analysis.groupby(['school_name'],as_index=False)['math_score'].agg({'math scores':(lambda x: list(x))})\n",
    "byschool_reading_pass_calc_pre\n",
    "# need the appropriate conditional logic "
   ]
  },
  {
   "cell_type": "code",
   "execution_count": 17,
   "metadata": {},
   "outputs": [
    {
     "ename": "TypeError",
     "evalue": "'>=' not supported between instances of 'SeriesGroupBy' and 'int'",
     "output_type": "error",
     "traceback": [
      "\u001b[1;31m---------------------------------------------------------------------------\u001b[0m",
      "\u001b[1;31mTypeError\u001b[0m                                 Traceback (most recent call last)",
      "\u001b[1;32m<ipython-input-17-2f68e0539748>\u001b[0m in \u001b[0;36m<module>\u001b[1;34m()\u001b[0m\n\u001b[0;32m      1\u001b[0m \u001b[1;31m# % Passing Reading\u001b[0m\u001b[1;33m\u001b[0m\u001b[1;33m\u001b[0m\u001b[0m\n\u001b[1;32m----> 2\u001b[1;33m byschool_reading_pass_calc = round(((byschool_summary['reading_score'] >= 70)\n\u001b[0m\u001b[0;32m      3\u001b[0m                            .value_counts(\"True\")) * 100, 2).tolist()\n\u001b[0;32m      4\u001b[0m \u001b[0mbyschool_reading_pass_calc\u001b[0m\u001b[1;33m\u001b[0m\u001b[0m\n\u001b[0;32m      5\u001b[0m \u001b[1;31m# need the appropriate conditional logic\u001b[0m\u001b[1;33m\u001b[0m\u001b[1;33m\u001b[0m\u001b[0m\n",
      "\u001b[1;31mTypeError\u001b[0m: '>=' not supported between instances of 'SeriesGroupBy' and 'int'"
     ]
    }
   ],
   "source": [
    "# # % students passing Reading\n",
    "# byschool_reading_pass_calc = round(((byschool_summary['reading_score'] >= 70)\n",
    "#                            .value_counts('True')) * 100, 2).tolist()\n",
    "# byschool_reading_pass_calc\n",
    "# # need the appropriate conditional logic "
   ]
  },
  {
   "cell_type": "code",
   "execution_count": null,
   "metadata": {},
   "outputs": [],
   "source": []
  },
  {
   "cell_type": "code",
   "execution_count": null,
   "metadata": {},
   "outputs": [],
   "source": [
    "# Overall Passing Rate (Average of the above two)\n",
    "\n",
    "# use as guide \n",
    "# overall_pass_rate = round(((school_data_analysis['math_score'].mean()) + \n",
    "#                            (school_data_analysis['reading_score'].mean())) / 2, 2)\n",
    "# overall_pass_rate\n",
    "\n",
    "\n",
    "# school_overall_passing_rate = (school_math_pass + school_reading_pass) / 2\n"
   ]
  },
  {
   "cell_type": "code",
   "execution_count": null,
   "metadata": {},
   "outputs": [],
   "source": []
  },
  {
   "cell_type": "code",
   "execution_count": null,
   "metadata": {},
   "outputs": [],
   "source": [
    "# Creating dataframe with the above datapoints\n",
    "#  # % Passing Math   # % Passing Reading  # Overall Passing % (Average of Passing Math/Reading)\n",
    "\n",
    "\n",
    "dataSummary2 = pd.DataFrame({'School Name': school_names, 'Type': school_type, \n",
    "                             'Total Students': byschool_student_total, 'Total Budgets':\n",
    "                            byschool_budgets_total, 'Per Student Budgets': byschool_budget_per,\n",
    "                             'Average Math Score': byschool_math_avgs, 'Average Reading Score':\n",
    "                             byschool_reading_avgs\n",
    "                            })\n",
    "dataSummary2"
   ]
  },
  {
   "cell_type": "markdown",
   "metadata": {},
   "source": [
    "## Top Performing Schools (By Passing Rate)"
   ]
  },
  {
   "cell_type": "markdown",
   "metadata": {},
   "source": [
    "* Sort and display the top five schools in overall passing rate"
   ]
  },
  {
   "cell_type": "code",
   "execution_count": null,
   "metadata": {},
   "outputs": [],
   "source": [
    "# Top5Schools = school_summary_grouped.sort\n",
    "# Top5Schools"
   ]
  },
  {
   "cell_type": "code",
   "execution_count": null,
   "metadata": {},
   "outputs": [],
   "source": []
  },
  {
   "cell_type": "code",
   "execution_count": null,
   "metadata": {
    "scrolled": true
   },
   "outputs": [],
   "source": []
  },
  {
   "cell_type": "markdown",
   "metadata": {},
   "source": [
    "## Bottom Performing Schools (By Passing Rate)"
   ]
  },
  {
   "cell_type": "markdown",
   "metadata": {},
   "source": [
    "* Sort and display the five worst-performing schools"
   ]
  },
  {
   "cell_type": "code",
   "execution_count": null,
   "metadata": {},
   "outputs": [],
   "source": [
    "# Bottom5Schools = school_summary_grouped.sort\n",
    "# Bottom5Schools"
   ]
  },
  {
   "cell_type": "code",
   "execution_count": null,
   "metadata": {},
   "outputs": [],
   "source": []
  },
  {
   "cell_type": "code",
   "execution_count": null,
   "metadata": {
    "scrolled": true
   },
   "outputs": [],
   "source": []
  },
  {
   "cell_type": "markdown",
   "metadata": {
    "collapsed": true
   },
   "source": [
    "## Math Scores by Grade"
   ]
  },
  {
   "cell_type": "markdown",
   "metadata": {},
   "source": [
    "* Create a table that lists the average Reading Score for students of each grade level (9th, 10th, 11th, 12th) at each school.\n",
    "\n",
    "  * Create a pandas series for each grade. Hint: use a conditional statement.\n",
    "  \n",
    "  * Group each series by school\n",
    "  \n",
    "  * Combine the series into a dataframe\n",
    "  \n",
    "  * Optional: give the displayed data cleaner formatting"
   ]
  },
  {
   "cell_type": "code",
   "execution_count": null,
   "metadata": {},
   "outputs": [],
   "source": []
  },
  {
   "cell_type": "code",
   "execution_count": null,
   "metadata": {},
   "outputs": [],
   "source": []
  },
  {
   "cell_type": "code",
   "execution_count": null,
   "metadata": {
    "scrolled": true
   },
   "outputs": [],
   "source": []
  },
  {
   "cell_type": "markdown",
   "metadata": {},
   "source": [
    "## Reading Score by Grade "
   ]
  },
  {
   "cell_type": "markdown",
   "metadata": {},
   "source": [
    "* Perform the same operations as above for reading scores"
   ]
  },
  {
   "cell_type": "code",
   "execution_count": null,
   "metadata": {},
   "outputs": [],
   "source": []
  },
  {
   "cell_type": "code",
   "execution_count": null,
   "metadata": {},
   "outputs": [],
   "source": []
  },
  {
   "cell_type": "code",
   "execution_count": null,
   "metadata": {
    "scrolled": true
   },
   "outputs": [],
   "source": []
  },
  {
   "cell_type": "code",
   "execution_count": null,
   "metadata": {},
   "outputs": [],
   "source": []
  },
  {
   "cell_type": "markdown",
   "metadata": {},
   "source": [
    "## Scores by School Spending"
   ]
  },
  {
   "cell_type": "markdown",
   "metadata": {},
   "source": [
    "* Create a table that breaks down school performances based on average Spending Ranges (Per Student). Use 4 reasonable bins to group school spending. Include in the table each of the following:\n",
    "  * Average Math Score\n",
    "  * Average Reading Score\n",
    "  * % Passing Math\n",
    "  * % Passing Reading\n",
    "  * Overall Passing Rate (Average of the above two)"
   ]
  },
  {
   "cell_type": "code",
   "execution_count": null,
   "metadata": {},
   "outputs": [],
   "source": []
  },
  {
   "cell_type": "code",
   "execution_count": null,
   "metadata": {},
   "outputs": [],
   "source": []
  },
  {
   "cell_type": "code",
   "execution_count": null,
   "metadata": {},
   "outputs": [],
   "source": []
  },
  {
   "cell_type": "code",
   "execution_count": null,
   "metadata": {},
   "outputs": [],
   "source": [
    "# Sample bins. Feel free to create your own bins.\n",
    "spending_bins = [0, 585, 615, 645, 675]\n",
    "group_names = [\"<$585\", \"$585-615\", \"$615-645\", \"$645-675\"]"
   ]
  },
  {
   "cell_type": "code",
   "execution_count": null,
   "metadata": {},
   "outputs": [],
   "source": []
  },
  {
   "cell_type": "code",
   "execution_count": null,
   "metadata": {
    "scrolled": true
   },
   "outputs": [],
   "source": []
  },
  {
   "cell_type": "code",
   "execution_count": null,
   "metadata": {},
   "outputs": [],
   "source": []
  },
  {
   "cell_type": "code",
   "execution_count": null,
   "metadata": {},
   "outputs": [],
   "source": []
  },
  {
   "cell_type": "markdown",
   "metadata": {},
   "source": [
    "## Scores by School Size"
   ]
  },
  {
   "cell_type": "markdown",
   "metadata": {},
   "source": [
    "* Perform the same operations as above, based on school size."
   ]
  },
  {
   "cell_type": "code",
   "execution_count": null,
   "metadata": {},
   "outputs": [],
   "source": []
  },
  {
   "cell_type": "code",
   "execution_count": null,
   "metadata": {},
   "outputs": [],
   "source": []
  },
  {
   "cell_type": "code",
   "execution_count": null,
   "metadata": {},
   "outputs": [],
   "source": [
    "# Sample bins. Feel free to create your own bins.\n",
    "size_bins = [0, 1000, 2000, 5000]\n",
    "group_names = [\"Small (<1000)\", \"Medium (1000-2000)\", \"Large (2000-5000)\"]"
   ]
  },
  {
   "cell_type": "code",
   "execution_count": null,
   "metadata": {},
   "outputs": [],
   "source": []
  },
  {
   "cell_type": "code",
   "execution_count": null,
   "metadata": {
    "scrolled": false
   },
   "outputs": [],
   "source": []
  },
  {
   "cell_type": "code",
   "execution_count": null,
   "metadata": {},
   "outputs": [],
   "source": []
  },
  {
   "cell_type": "code",
   "execution_count": null,
   "metadata": {},
   "outputs": [],
   "source": []
  },
  {
   "cell_type": "markdown",
   "metadata": {},
   "source": [
    "## Scores by School Type"
   ]
  },
  {
   "cell_type": "markdown",
   "metadata": {},
   "source": [
    "* Perform the same operations as above, based on school type."
   ]
  },
  {
   "cell_type": "code",
   "execution_count": null,
   "metadata": {},
   "outputs": [],
   "source": [
    "\n",
    "# # not what I needed here, but cool to have\n",
    "# # Student totals by School type\n",
    "# byschool_type = school_data_analysis['type'].value_counts()\n",
    "# byschool_type\n",
    "# type(byschool_type)"
   ]
  },
  {
   "cell_type": "code",
   "execution_count": null,
   "metadata": {
    "scrolled": true
   },
   "outputs": [],
   "source": []
  },
  {
   "cell_type": "code",
   "execution_count": null,
   "metadata": {},
   "outputs": [],
   "source": []
  },
  {
   "cell_type": "code",
   "execution_count": null,
   "metadata": {},
   "outputs": [],
   "source": []
  }
 ],
 "metadata": {
  "anaconda-cloud": {},
  "kernel_info": {
   "name": "python3"
  },
  "kernelspec": {
   "display_name": "Python 3",
   "language": "python",
   "name": "python3"
  },
  "language_info": {
   "codemirror_mode": {
    "name": "ipython",
    "version": 3
   },
   "file_extension": ".py",
   "mimetype": "text/x-python",
   "name": "python",
   "nbconvert_exporter": "python",
   "pygments_lexer": "ipython3",
   "version": "3.6.5"
  },
  "nteract": {
   "version": "0.8.4"
  }
 },
 "nbformat": 4,
 "nbformat_minor": 1
}
