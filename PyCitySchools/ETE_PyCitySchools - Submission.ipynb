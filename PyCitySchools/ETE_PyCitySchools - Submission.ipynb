{
 "cells": [
  {
   "cell_type": "markdown",
   "metadata": {},
   "source": [
    "# PyCity Schools Analysis\n",
    "\n",
    "* As a whole, schools with higher budgets, did not yield better test results. By contrast, schools with higher spending per student actually (\\$645-675) underperformed compared to schools with smaller budgets (<\\$585 per student).\n",
    "\n",
    "* As a whole, smaller and medium sized schools dramatically out-performed large sized schools on passing math performances (89-91% passing vs 67%).\n",
    "\n",
    "* As a whole, charter schools out-performed the public district schools across all metrics. However, more analysis will be required to glean if the effect is due to school practices or the fact that charter schools tend to serve smaller student populations per school. \n",
    "---"
   ]
  },
  {
   "cell_type": "markdown",
   "metadata": {},
   "source": [
    "### Note\n",
    "* Instructions have been included for each segment. You do not have to follow them exactly, but they are included to help you think through the steps."
   ]
  },
  {
   "cell_type": "code",
   "execution_count": 48,
   "metadata": {
    "scrolled": true
   },
   "outputs": [
    {
     "data": {
      "text/html": [
       "<div>\n",
       "<style scoped>\n",
       "    .dataframe tbody tr th:only-of-type {\n",
       "        vertical-align: middle;\n",
       "    }\n",
       "\n",
       "    .dataframe tbody tr th {\n",
       "        vertical-align: top;\n",
       "    }\n",
       "\n",
       "    .dataframe thead th {\n",
       "        text-align: right;\n",
       "    }\n",
       "</style>\n",
       "<table border=\"1\" class=\"dataframe\">\n",
       "  <thead>\n",
       "    <tr style=\"text-align: right;\">\n",
       "      <th></th>\n",
       "      <th>Student ID</th>\n",
       "      <th>student_name</th>\n",
       "      <th>gender</th>\n",
       "      <th>grade</th>\n",
       "      <th>school_name</th>\n",
       "      <th>reading_score</th>\n",
       "      <th>math_score</th>\n",
       "      <th>School ID</th>\n",
       "      <th>type</th>\n",
       "      <th>size</th>\n",
       "      <th>budget</th>\n",
       "      <th>math_pass</th>\n",
       "      <th>reading_pass</th>\n",
       "    </tr>\n",
       "  </thead>\n",
       "  <tbody>\n",
       "    <tr>\n",
       "      <th>0</th>\n",
       "      <td>0</td>\n",
       "      <td>Paul Bradley</td>\n",
       "      <td>M</td>\n",
       "      <td>9th</td>\n",
       "      <td>Huang High School</td>\n",
       "      <td>66</td>\n",
       "      <td>79</td>\n",
       "      <td>0</td>\n",
       "      <td>District</td>\n",
       "      <td>2917</td>\n",
       "      <td>1910635</td>\n",
       "      <td>True</td>\n",
       "      <td>False</td>\n",
       "    </tr>\n",
       "    <tr>\n",
       "      <th>1</th>\n",
       "      <td>1</td>\n",
       "      <td>Victor Smith</td>\n",
       "      <td>M</td>\n",
       "      <td>12th</td>\n",
       "      <td>Huang High School</td>\n",
       "      <td>94</td>\n",
       "      <td>61</td>\n",
       "      <td>0</td>\n",
       "      <td>District</td>\n",
       "      <td>2917</td>\n",
       "      <td>1910635</td>\n",
       "      <td>False</td>\n",
       "      <td>True</td>\n",
       "    </tr>\n",
       "    <tr>\n",
       "      <th>2</th>\n",
       "      <td>2</td>\n",
       "      <td>Kevin Rodriguez</td>\n",
       "      <td>M</td>\n",
       "      <td>12th</td>\n",
       "      <td>Huang High School</td>\n",
       "      <td>90</td>\n",
       "      <td>60</td>\n",
       "      <td>0</td>\n",
       "      <td>District</td>\n",
       "      <td>2917</td>\n",
       "      <td>1910635</td>\n",
       "      <td>False</td>\n",
       "      <td>True</td>\n",
       "    </tr>\n",
       "    <tr>\n",
       "      <th>3</th>\n",
       "      <td>3</td>\n",
       "      <td>Dr. Richard Scott</td>\n",
       "      <td>M</td>\n",
       "      <td>12th</td>\n",
       "      <td>Huang High School</td>\n",
       "      <td>67</td>\n",
       "      <td>58</td>\n",
       "      <td>0</td>\n",
       "      <td>District</td>\n",
       "      <td>2917</td>\n",
       "      <td>1910635</td>\n",
       "      <td>False</td>\n",
       "      <td>False</td>\n",
       "    </tr>\n",
       "    <tr>\n",
       "      <th>4</th>\n",
       "      <td>4</td>\n",
       "      <td>Bonnie Ray</td>\n",
       "      <td>F</td>\n",
       "      <td>9th</td>\n",
       "      <td>Huang High School</td>\n",
       "      <td>97</td>\n",
       "      <td>84</td>\n",
       "      <td>0</td>\n",
       "      <td>District</td>\n",
       "      <td>2917</td>\n",
       "      <td>1910635</td>\n",
       "      <td>True</td>\n",
       "      <td>True</td>\n",
       "    </tr>\n",
       "  </tbody>\n",
       "</table>\n",
       "</div>"
      ],
      "text/plain": [
       "   Student ID       student_name gender grade        school_name  \\\n",
       "0           0       Paul Bradley      M   9th  Huang High School   \n",
       "1           1       Victor Smith      M  12th  Huang High School   \n",
       "2           2    Kevin Rodriguez      M  12th  Huang High School   \n",
       "3           3  Dr. Richard Scott      M  12th  Huang High School   \n",
       "4           4         Bonnie Ray      F   9th  Huang High School   \n",
       "\n",
       "   reading_score  math_score  School ID      type  size   budget  math_pass  \\\n",
       "0             66          79          0  District  2917  1910635       True   \n",
       "1             94          61          0  District  2917  1910635      False   \n",
       "2             90          60          0  District  2917  1910635      False   \n",
       "3             67          58          0  District  2917  1910635      False   \n",
       "4             97          84          0  District  2917  1910635       True   \n",
       "\n",
       "   reading_pass  \n",
       "0         False  \n",
       "1          True  \n",
       "2          True  \n",
       "3         False  \n",
       "4          True  "
      ]
     },
     "execution_count": 48,
     "metadata": {},
     "output_type": "execute_result"
    }
   ],
   "source": [
    "# import packages and modifying output settings\n",
    "import pandas as pd\n",
    "import numpy as np\n",
    "from IPython.core.interactiveshell import InteractiveShell\n",
    "InteractiveShell.ast_node_interactivity = \"all\"\n",
    "from collections import OrderedDict\n",
    "# Remember to enter in the cell twice for this to work\n",
    "\n",
    "# Loading files\n",
    "school_data_to_load = \"Resources/schools_complete.csv\"\n",
    "student_data_to_load = \"Resources/students_complete.csv\"\n",
    "\n",
    "# Creating Pandas DataFrames\n",
    "school_data = pd.read_csv(school_data_to_load)\n",
    "student_data = pd.read_csv(student_data_to_load)\n",
    "\n",
    "# Merging datasets into one DataFrame\n",
    "school_data_analysis = pd.merge(student_data, school_data, how=\"left\", \n",
    "                                on=[\"school_name\", \"school_name\"])\n",
    "\n",
    "# Generating new columns of math_pass and reading_pass if original \n",
    "# scores are >= 70 here to call upon later on\n",
    "school_data_analysis.loc[:,'math_pass'] = np.where(school_data_analysis['math_score'] >= 70, True, False)\n",
    "school_data_analysis.loc[:,'reading_pass'] = np.where(school_data_analysis['reading_score'] >= 70, True, False)\n",
    "school_data_analysis.head(5)\n",
    "\n",
    "# Changelog: for posterity's sake: \n",
    "# - To make the dataframes, make columns; initially tried making lists into dataframes,\n",
    "# and that got seriously messy. Had to just combine manually by 'name': variable, where\n",
    "# the variables were storing lists with relevant information.\n",
    "# - Remember that manipulating a groupby object with a method returns a series.\n",
    "# Additionally, chaining methods is awesome, .tolist() is a friend.\n",
    "# - Cannot run operations on lists, need to trsnform them to np.arrays and change them\n",
    "# back to lists.\n",
    "# - Removing columns and creating a new dataframe from that caused problems with \n",
    "# how I was initially generating new columns for math_pass and reading_pass, since\n",
    "# apparently a copy() is required to make sure I didn't get SettingWithCopyWarning\n",
    "# - Stylistic note for this assigment: _calc and _pre are my interim \n",
    "# step variables to make the variables I needed."
   ]
  },
  {
   "cell_type": "markdown",
   "metadata": {},
   "source": [
    "## District Summary\n",
    "\n",
    "* Calculate the total number of schools\n",
    "\n",
    "* Calculate the total number of students\n",
    "\n",
    "* Calculate the total budget\n",
    "\n",
    "* Calculate the average math score \n",
    "\n",
    "* Calculate the average reading score\n",
    "\n",
    "* Calculate the overall passing rate (overall average score), i.e. (avg. math score + avg. reading score)/2\n",
    "\n",
    "* Calculate the percentage of students with a passing math score (70 or greater)\n",
    "\n",
    "* Calculate the percentage of students with a passing reading score (70 or greater)\n",
    "\n",
    "* Create a dataframe to hold the above results\n",
    "\n",
    "* Optional: give the displayed data cleaner formatting"
   ]
  },
  {
   "cell_type": "code",
   "execution_count": 2,
   "metadata": {},
   "outputs": [],
   "source": [
    "# Total number of schools\n",
    "school_total = school_data_analysis['school_name'].nunique()"
   ]
  },
  {
   "cell_type": "code",
   "execution_count": 3,
   "metadata": {},
   "outputs": [],
   "source": [
    "# Total number of students\n",
    "student_total = school_data_analysis['Student ID'].count()"
   ]
  },
  {
   "cell_type": "code",
   "execution_count": 4,
   "metadata": {
    "scrolled": true
   },
   "outputs": [],
   "source": [
    "# Total budget\n",
    "district_total_budget = sum(school_data_analysis['budget'].unique())"
   ]
  },
  {
   "cell_type": "code",
   "execution_count": 5,
   "metadata": {},
   "outputs": [],
   "source": [
    "# Average math score \n",
    "avg_math_score = round(school_data_analysis['math_score'].mean(),2)"
   ]
  },
  {
   "cell_type": "code",
   "execution_count": 6,
   "metadata": {},
   "outputs": [],
   "source": [
    "# Average reading score\n",
    "avg_read_score = round(school_data_analysis['reading_score'].mean(),2)"
   ]
  },
  {
   "cell_type": "code",
   "execution_count": 7,
   "metadata": {},
   "outputs": [],
   "source": [
    "# Overall passing rate \n",
    "overall_pass_rate = round(((school_data_analysis['math_score'].mean()) + \n",
    "                           (school_data_analysis['reading_score'].mean())) / 2, 2)"
   ]
  },
  {
   "cell_type": "code",
   "execution_count": 8,
   "metadata": {},
   "outputs": [],
   "source": [
    "# Percentage of students with a passing math score (70 or greater)\n",
    "math_pass_calc = round(((school_data_analysis['math_score'] >= 70)\n",
    "                        .value_counts(\"True\")) * 100, 2).tolist()\n",
    "math_pass = math_pass_calc[0]"
   ]
  },
  {
   "cell_type": "code",
   "execution_count": 9,
   "metadata": {},
   "outputs": [],
   "source": [
    "# Percentage of students with a passing reading score (70 or greater)\n",
    "reading_pass_calc = round(((school_data_analysis['reading_score'] >= 70)\n",
    "                           .value_counts(\"True\")) * 100, 2).tolist()\n",
    "reading_pass = reading_pass_calc[0]"
   ]
  },
  {
   "cell_type": "code",
   "execution_count": 26,
   "metadata": {
    "scrolled": true
   },
   "outputs": [
    {
     "data": {
      "text/html": [
       "<div>\n",
       "<style scoped>\n",
       "    .dataframe tbody tr th:only-of-type {\n",
       "        vertical-align: middle;\n",
       "    }\n",
       "\n",
       "    .dataframe tbody tr th {\n",
       "        vertical-align: top;\n",
       "    }\n",
       "\n",
       "    .dataframe thead th {\n",
       "        text-align: right;\n",
       "    }\n",
       "</style>\n",
       "<table border=\"1\" class=\"dataframe\">\n",
       "  <thead>\n",
       "    <tr style=\"text-align: right;\">\n",
       "      <th></th>\n",
       "      <th>School Total</th>\n",
       "      <th>Student Total</th>\n",
       "      <th>District Total Budget</th>\n",
       "      <th>Average Math Score</th>\n",
       "      <th>Average Reading Score</th>\n",
       "      <th>Overall Passing %</th>\n",
       "      <th>Math Passing % (score &gt;= 70)</th>\n",
       "      <th>Reading Passing % (score &gt;= 70)</th>\n",
       "    </tr>\n",
       "  </thead>\n",
       "  <tbody>\n",
       "    <tr>\n",
       "      <th>0</th>\n",
       "      <td>15</td>\n",
       "      <td>39170</td>\n",
       "      <td>24649428</td>\n",
       "      <td>78.99</td>\n",
       "      <td>81.88</td>\n",
       "      <td>80.43</td>\n",
       "      <td>74.98</td>\n",
       "      <td>85.81</td>\n",
       "    </tr>\n",
       "  </tbody>\n",
       "</table>\n",
       "</div>"
      ],
      "text/plain": [
       "   School Total  Student Total  District Total Budget  Average Math Score  \\\n",
       "0            15          39170               24649428               78.99   \n",
       "\n",
       "   Average Reading Score  Overall Passing %  Math Passing % (score >= 70)  \\\n",
       "0                  81.88              80.43                         74.98   \n",
       "\n",
       "   Reading Passing % (score >= 70)  \n",
       "0                            85.81  "
      ]
     },
     "execution_count": 26,
     "metadata": {},
     "output_type": "execute_result"
    }
   ],
   "source": [
    "# Creating dataframe with the above datapoints\n",
    "\n",
    "# school_data_analysis[\"district_total_budget\"] = school_data_analysis[\"district_total_budget\"].map(\"${:.2f}\".format)\n",
    "\n",
    "dataSummary_overview = pd.DataFrame({'School Total': school_total, 'Student Total': student_total,\n",
    "                            'District Total Budget': district_total_budget,'Average Math Score':\n",
    "                            avg_math_score,'Average Reading Score': avg_read_score,\n",
    "                            'Overall Passing %': overall_pass_rate, 'Math Passing % (score >= 70)':\n",
    "                            math_pass, 'Reading Passing % (score >= 70)': reading_pass},index=[0])\n",
    "\n",
    "dataSummary_overview"
   ]
  },
  {
   "cell_type": "markdown",
   "metadata": {},
   "source": [
    "## School Summary"
   ]
  },
  {
   "cell_type": "markdown",
   "metadata": {},
   "source": [
    "* Create an overview table that summarizes key metrics about each school, including:\n",
    "  * School Name\n",
    "  * School Type\n",
    "  * Total Students\n",
    "  * Total School Budget\n",
    "  * Per Student Budget\n",
    "  * Average Math Score\n",
    "  * Average Reading Score\n",
    "  * % Passing Math\n",
    "  * % Passing Reading\n",
    "  * Overall Passing Rate (Average of the above two)\n",
    "  \n",
    "* Create a dataframe to hold the above results"
   ]
  },
  {
   "cell_type": "code",
   "execution_count": 11,
   "metadata": {},
   "outputs": [],
   "source": [
    "# Creating a groupby object by school_name and type\n",
    "byschool_summary = school_data_analysis.groupby(['school_name','type'])\n",
    "\n",
    "# Making a list of school names\n",
    "school_names = byschool_summary.median().index.get_level_values(0).tolist()\n",
    "\n",
    "# Making a list of school type\n",
    "school_type = byschool_summary.median().index.get_level_values(1).tolist()"
   ]
  },
  {
   "cell_type": "code",
   "execution_count": 12,
   "metadata": {
    "scrolled": false
   },
   "outputs": [],
   "source": [
    "# Total number of students\n",
    "byschool_student_total = round(school_data_analysis['school_name']\n",
    "                               .value_counts(),2).tolist()\n",
    "\n",
    "# Creating an array for further calculations\n",
    "byschool_student_total_calc = np.asarray(byschool_student_total)"
   ]
  },
  {
   "cell_type": "code",
   "execution_count": 13,
   "metadata": {
    "scrolled": false
   },
   "outputs": [],
   "source": [
    "# School budgets\n",
    "byschool_budgets_total = school_data_analysis.groupby(['school_name']).mean()['budget'].tolist()\n",
    "    \n",
    "# Creating an array for further calculations\n",
    "byschool_budgets_total_calc = np.asarray(byschool_budgets_total)"
   ]
  },
  {
   "cell_type": "code",
   "execution_count": 14,
   "metadata": {},
   "outputs": [],
   "source": [
    "# Budget amount spent per student\n",
    "byschool_budget_per = (byschool_budgets_total_calc / byschool_student_total_calc).tolist()"
   ]
  },
  {
   "cell_type": "code",
   "execution_count": 15,
   "metadata": {},
   "outputs": [],
   "source": [
    "# Average math scores by school\n",
    "byschool_math_avgs = round(school_data_analysis.groupby(['school_name']).mean()\n",
    "                           ['math_score'],2).tolist()"
   ]
  },
  {
   "cell_type": "code",
   "execution_count": 16,
   "metadata": {},
   "outputs": [],
   "source": [
    "# Average reading scores by school\n",
    "byschool_reading_avgs = round(school_data_analysis.groupby(['school_name']).mean()\n",
    "                              ['reading_score'],2).tolist()"
   ]
  },
  {
   "cell_type": "code",
   "execution_count": 17,
   "metadata": {},
   "outputs": [],
   "source": [
    "# Percentage of students passing math\n",
    "byschool_math_pass = round((school_data_analysis.groupby(['school_name']).mean()\n",
    "                            ['math_pass'])*100,2).tolist()\n",
    "\n",
    "# Creating an array for further calculations\n",
    "byschool_math_pass_calc = np.asarray(byschool_math_pass)"
   ]
  },
  {
   "cell_type": "code",
   "execution_count": 18,
   "metadata": {},
   "outputs": [],
   "source": [
    "# Percentage of students passing reading\n",
    "byschool_reading_pass = round((school_data_analysis.groupby(['school_name']).mean()\n",
    "                               ['reading_pass'])*100,2).tolist()\n",
    "\n",
    "# Creating an array for further calculations\n",
    "byschool_reading_pass_calc = np.asarray(byschool_reading_pass)"
   ]
  },
  {
   "cell_type": "code",
   "execution_count": 19,
   "metadata": {},
   "outputs": [],
   "source": [
    "# Overall passing percentage\n",
    "byschool_overall_pass =((byschool_math_pass_calc + byschool_reading_pass_calc)/2).tolist()"
   ]
  },
  {
   "cell_type": "code",
   "execution_count": 27,
   "metadata": {},
   "outputs": [
    {
     "data": {
      "text/html": [
       "<div>\n",
       "<style scoped>\n",
       "    .dataframe tbody tr th:only-of-type {\n",
       "        vertical-align: middle;\n",
       "    }\n",
       "\n",
       "    .dataframe tbody tr th {\n",
       "        vertical-align: top;\n",
       "    }\n",
       "\n",
       "    .dataframe thead th {\n",
       "        text-align: right;\n",
       "    }\n",
       "</style>\n",
       "<table border=\"1\" class=\"dataframe\">\n",
       "  <thead>\n",
       "    <tr style=\"text-align: right;\">\n",
       "      <th></th>\n",
       "      <th>School Name</th>\n",
       "      <th>Type</th>\n",
       "      <th>Total Students</th>\n",
       "      <th>Total Budgets</th>\n",
       "      <th>Per Student Budgets</th>\n",
       "      <th>Average Math Score</th>\n",
       "      <th>Average Reading Score</th>\n",
       "      <th>% Passing Math</th>\n",
       "      <th>% Passing Reading</th>\n",
       "      <th>% Overall Passing</th>\n",
       "    </tr>\n",
       "  </thead>\n",
       "  <tbody>\n",
       "    <tr>\n",
       "      <th>0</th>\n",
       "      <td>Bailey High School</td>\n",
       "      <td>District</td>\n",
       "      <td>4976</td>\n",
       "      <td>3124928.0</td>\n",
       "      <td>628.000000</td>\n",
       "      <td>77.05</td>\n",
       "      <td>81.03</td>\n",
       "      <td>66.68</td>\n",
       "      <td>81.93</td>\n",
       "      <td>74.305</td>\n",
       "    </tr>\n",
       "    <tr>\n",
       "      <th>1</th>\n",
       "      <td>Cabrera High School</td>\n",
       "      <td>Charter</td>\n",
       "      <td>4761</td>\n",
       "      <td>1081356.0</td>\n",
       "      <td>227.127914</td>\n",
       "      <td>83.06</td>\n",
       "      <td>83.98</td>\n",
       "      <td>94.13</td>\n",
       "      <td>97.04</td>\n",
       "      <td>95.585</td>\n",
       "    </tr>\n",
       "    <tr>\n",
       "      <th>2</th>\n",
       "      <td>Figueroa High School</td>\n",
       "      <td>District</td>\n",
       "      <td>4635</td>\n",
       "      <td>1884411.0</td>\n",
       "      <td>406.561165</td>\n",
       "      <td>76.71</td>\n",
       "      <td>81.16</td>\n",
       "      <td>65.99</td>\n",
       "      <td>80.74</td>\n",
       "      <td>73.365</td>\n",
       "    </tr>\n",
       "    <tr>\n",
       "      <th>3</th>\n",
       "      <td>Ford High School</td>\n",
       "      <td>District</td>\n",
       "      <td>3999</td>\n",
       "      <td>1763916.0</td>\n",
       "      <td>441.089272</td>\n",
       "      <td>77.10</td>\n",
       "      <td>80.75</td>\n",
       "      <td>68.31</td>\n",
       "      <td>79.30</td>\n",
       "      <td>73.805</td>\n",
       "    </tr>\n",
       "    <tr>\n",
       "      <th>4</th>\n",
       "      <td>Griffin High School</td>\n",
       "      <td>Charter</td>\n",
       "      <td>2949</td>\n",
       "      <td>917500.0</td>\n",
       "      <td>311.122414</td>\n",
       "      <td>83.35</td>\n",
       "      <td>83.82</td>\n",
       "      <td>93.39</td>\n",
       "      <td>97.14</td>\n",
       "      <td>95.265</td>\n",
       "    </tr>\n",
       "    <tr>\n",
       "      <th>5</th>\n",
       "      <td>Hernandez High School</td>\n",
       "      <td>District</td>\n",
       "      <td>2917</td>\n",
       "      <td>3022020.0</td>\n",
       "      <td>1036.002743</td>\n",
       "      <td>77.29</td>\n",
       "      <td>80.93</td>\n",
       "      <td>66.75</td>\n",
       "      <td>80.86</td>\n",
       "      <td>73.805</td>\n",
       "    </tr>\n",
       "    <tr>\n",
       "      <th>6</th>\n",
       "      <td>Holden High School</td>\n",
       "      <td>Charter</td>\n",
       "      <td>2739</td>\n",
       "      <td>248087.0</td>\n",
       "      <td>90.575758</td>\n",
       "      <td>83.80</td>\n",
       "      <td>83.81</td>\n",
       "      <td>92.51</td>\n",
       "      <td>96.25</td>\n",
       "      <td>94.380</td>\n",
       "    </tr>\n",
       "    <tr>\n",
       "      <th>7</th>\n",
       "      <td>Huang High School</td>\n",
       "      <td>District</td>\n",
       "      <td>2283</td>\n",
       "      <td>1910635.0</td>\n",
       "      <td>836.896627</td>\n",
       "      <td>76.63</td>\n",
       "      <td>81.18</td>\n",
       "      <td>65.68</td>\n",
       "      <td>81.32</td>\n",
       "      <td>73.500</td>\n",
       "    </tr>\n",
       "    <tr>\n",
       "      <th>8</th>\n",
       "      <td>Johnson High School</td>\n",
       "      <td>District</td>\n",
       "      <td>1858</td>\n",
       "      <td>3094650.0</td>\n",
       "      <td>1665.581270</td>\n",
       "      <td>77.07</td>\n",
       "      <td>80.97</td>\n",
       "      <td>66.06</td>\n",
       "      <td>81.22</td>\n",
       "      <td>73.640</td>\n",
       "    </tr>\n",
       "    <tr>\n",
       "      <th>9</th>\n",
       "      <td>Pena High School</td>\n",
       "      <td>Charter</td>\n",
       "      <td>1800</td>\n",
       "      <td>585858.0</td>\n",
       "      <td>325.476667</td>\n",
       "      <td>83.84</td>\n",
       "      <td>84.04</td>\n",
       "      <td>94.59</td>\n",
       "      <td>95.95</td>\n",
       "      <td>95.270</td>\n",
       "    </tr>\n",
       "    <tr>\n",
       "      <th>10</th>\n",
       "      <td>Rodriguez High School</td>\n",
       "      <td>District</td>\n",
       "      <td>1761</td>\n",
       "      <td>2547363.0</td>\n",
       "      <td>1446.543441</td>\n",
       "      <td>76.84</td>\n",
       "      <td>80.74</td>\n",
       "      <td>66.37</td>\n",
       "      <td>80.22</td>\n",
       "      <td>73.295</td>\n",
       "    </tr>\n",
       "    <tr>\n",
       "      <th>11</th>\n",
       "      <td>Shelton High School</td>\n",
       "      <td>Charter</td>\n",
       "      <td>1635</td>\n",
       "      <td>1056600.0</td>\n",
       "      <td>646.238532</td>\n",
       "      <td>83.36</td>\n",
       "      <td>83.73</td>\n",
       "      <td>93.87</td>\n",
       "      <td>95.85</td>\n",
       "      <td>94.860</td>\n",
       "    </tr>\n",
       "    <tr>\n",
       "      <th>12</th>\n",
       "      <td>Thomas High School</td>\n",
       "      <td>Charter</td>\n",
       "      <td>1468</td>\n",
       "      <td>1043130.0</td>\n",
       "      <td>710.579019</td>\n",
       "      <td>83.42</td>\n",
       "      <td>83.85</td>\n",
       "      <td>93.27</td>\n",
       "      <td>97.31</td>\n",
       "      <td>95.290</td>\n",
       "    </tr>\n",
       "    <tr>\n",
       "      <th>13</th>\n",
       "      <td>Wilson High School</td>\n",
       "      <td>Charter</td>\n",
       "      <td>962</td>\n",
       "      <td>1319574.0</td>\n",
       "      <td>1371.698545</td>\n",
       "      <td>83.27</td>\n",
       "      <td>83.99</td>\n",
       "      <td>93.87</td>\n",
       "      <td>96.54</td>\n",
       "      <td>95.205</td>\n",
       "    </tr>\n",
       "    <tr>\n",
       "      <th>14</th>\n",
       "      <td>Wright High School</td>\n",
       "      <td>Charter</td>\n",
       "      <td>427</td>\n",
       "      <td>1049400.0</td>\n",
       "      <td>2457.611241</td>\n",
       "      <td>83.68</td>\n",
       "      <td>83.96</td>\n",
       "      <td>93.33</td>\n",
       "      <td>96.61</td>\n",
       "      <td>94.970</td>\n",
       "    </tr>\n",
       "  </tbody>\n",
       "</table>\n",
       "</div>"
      ],
      "text/plain": [
       "              School Name      Type  Total Students  Total Budgets  \\\n",
       "0      Bailey High School  District            4976      3124928.0   \n",
       "1     Cabrera High School   Charter            4761      1081356.0   \n",
       "2    Figueroa High School  District            4635      1884411.0   \n",
       "3        Ford High School  District            3999      1763916.0   \n",
       "4     Griffin High School   Charter            2949       917500.0   \n",
       "5   Hernandez High School  District            2917      3022020.0   \n",
       "6      Holden High School   Charter            2739       248087.0   \n",
       "7       Huang High School  District            2283      1910635.0   \n",
       "8     Johnson High School  District            1858      3094650.0   \n",
       "9        Pena High School   Charter            1800       585858.0   \n",
       "10  Rodriguez High School  District            1761      2547363.0   \n",
       "11    Shelton High School   Charter            1635      1056600.0   \n",
       "12     Thomas High School   Charter            1468      1043130.0   \n",
       "13     Wilson High School   Charter             962      1319574.0   \n",
       "14     Wright High School   Charter             427      1049400.0   \n",
       "\n",
       "    Per Student Budgets  Average Math Score  Average Reading Score  \\\n",
       "0            628.000000               77.05                  81.03   \n",
       "1            227.127914               83.06                  83.98   \n",
       "2            406.561165               76.71                  81.16   \n",
       "3            441.089272               77.10                  80.75   \n",
       "4            311.122414               83.35                  83.82   \n",
       "5           1036.002743               77.29                  80.93   \n",
       "6             90.575758               83.80                  83.81   \n",
       "7            836.896627               76.63                  81.18   \n",
       "8           1665.581270               77.07                  80.97   \n",
       "9            325.476667               83.84                  84.04   \n",
       "10          1446.543441               76.84                  80.74   \n",
       "11           646.238532               83.36                  83.73   \n",
       "12           710.579019               83.42                  83.85   \n",
       "13          1371.698545               83.27                  83.99   \n",
       "14          2457.611241               83.68                  83.96   \n",
       "\n",
       "    % Passing Math  % Passing Reading  % Overall Passing  \n",
       "0            66.68              81.93             74.305  \n",
       "1            94.13              97.04             95.585  \n",
       "2            65.99              80.74             73.365  \n",
       "3            68.31              79.30             73.805  \n",
       "4            93.39              97.14             95.265  \n",
       "5            66.75              80.86             73.805  \n",
       "6            92.51              96.25             94.380  \n",
       "7            65.68              81.32             73.500  \n",
       "8            66.06              81.22             73.640  \n",
       "9            94.59              95.95             95.270  \n",
       "10           66.37              80.22             73.295  \n",
       "11           93.87              95.85             94.860  \n",
       "12           93.27              97.31             95.290  \n",
       "13           93.87              96.54             95.205  \n",
       "14           93.33              96.61             94.970  "
      ]
     },
     "execution_count": 27,
     "metadata": {},
     "output_type": "execute_result"
    }
   ],
   "source": [
    "# Creating dataframe with the above datapoints\n",
    "dataSummary_byschool = pd.DataFrame({'School Name': school_names, 'Type': school_type, \n",
    "                             'Total Students': byschool_student_total, 'Total Budgets':\n",
    "                            byschool_budgets_total, 'Per Student Budgets': byschool_budget_per,\n",
    "                             'Average Math Score': byschool_math_avgs, 'Average Reading Score':\n",
    "                             byschool_reading_avgs, '% Passing Math': byschool_math_pass,\n",
    "                             '% Passing Reading': byschool_reading_pass,\n",
    "                             '% Overall Passing': byschool_overall_pass\n",
    "                            })\n",
    "dataSummary_byschool              "
   ]
  },
  {
   "cell_type": "markdown",
   "metadata": {},
   "source": [
    "## Top Performing Schools (By Passing Rate)"
   ]
  },
  {
   "cell_type": "markdown",
   "metadata": {},
   "source": [
    "* Sort and display the top five schools in overall passing rate"
   ]
  },
  {
   "cell_type": "code",
   "execution_count": 28,
   "metadata": {},
   "outputs": [
    {
     "data": {
      "text/html": [
       "<div>\n",
       "<style scoped>\n",
       "    .dataframe tbody tr th:only-of-type {\n",
       "        vertical-align: middle;\n",
       "    }\n",
       "\n",
       "    .dataframe tbody tr th {\n",
       "        vertical-align: top;\n",
       "    }\n",
       "\n",
       "    .dataframe thead th {\n",
       "        text-align: right;\n",
       "    }\n",
       "</style>\n",
       "<table border=\"1\" class=\"dataframe\">\n",
       "  <thead>\n",
       "    <tr style=\"text-align: right;\">\n",
       "      <th></th>\n",
       "      <th>School Name</th>\n",
       "      <th>Type</th>\n",
       "      <th>Total Students</th>\n",
       "      <th>Total Budgets</th>\n",
       "      <th>Per Student Budgets</th>\n",
       "      <th>Average Math Score</th>\n",
       "      <th>Average Reading Score</th>\n",
       "      <th>% Passing Math</th>\n",
       "      <th>% Passing Reading</th>\n",
       "      <th>% Overall Passing</th>\n",
       "    </tr>\n",
       "  </thead>\n",
       "  <tbody>\n",
       "    <tr>\n",
       "      <th>1</th>\n",
       "      <td>Cabrera High School</td>\n",
       "      <td>Charter</td>\n",
       "      <td>4761</td>\n",
       "      <td>1081356.0</td>\n",
       "      <td>227.127914</td>\n",
       "      <td>83.06</td>\n",
       "      <td>83.98</td>\n",
       "      <td>94.13</td>\n",
       "      <td>97.04</td>\n",
       "      <td>95.585</td>\n",
       "    </tr>\n",
       "    <tr>\n",
       "      <th>12</th>\n",
       "      <td>Thomas High School</td>\n",
       "      <td>Charter</td>\n",
       "      <td>1468</td>\n",
       "      <td>1043130.0</td>\n",
       "      <td>710.579019</td>\n",
       "      <td>83.42</td>\n",
       "      <td>83.85</td>\n",
       "      <td>93.27</td>\n",
       "      <td>97.31</td>\n",
       "      <td>95.290</td>\n",
       "    </tr>\n",
       "    <tr>\n",
       "      <th>9</th>\n",
       "      <td>Pena High School</td>\n",
       "      <td>Charter</td>\n",
       "      <td>1800</td>\n",
       "      <td>585858.0</td>\n",
       "      <td>325.476667</td>\n",
       "      <td>83.84</td>\n",
       "      <td>84.04</td>\n",
       "      <td>94.59</td>\n",
       "      <td>95.95</td>\n",
       "      <td>95.270</td>\n",
       "    </tr>\n",
       "    <tr>\n",
       "      <th>4</th>\n",
       "      <td>Griffin High School</td>\n",
       "      <td>Charter</td>\n",
       "      <td>2949</td>\n",
       "      <td>917500.0</td>\n",
       "      <td>311.122414</td>\n",
       "      <td>83.35</td>\n",
       "      <td>83.82</td>\n",
       "      <td>93.39</td>\n",
       "      <td>97.14</td>\n",
       "      <td>95.265</td>\n",
       "    </tr>\n",
       "    <tr>\n",
       "      <th>13</th>\n",
       "      <td>Wilson High School</td>\n",
       "      <td>Charter</td>\n",
       "      <td>962</td>\n",
       "      <td>1319574.0</td>\n",
       "      <td>1371.698545</td>\n",
       "      <td>83.27</td>\n",
       "      <td>83.99</td>\n",
       "      <td>93.87</td>\n",
       "      <td>96.54</td>\n",
       "      <td>95.205</td>\n",
       "    </tr>\n",
       "  </tbody>\n",
       "</table>\n",
       "</div>"
      ],
      "text/plain": [
       "            School Name     Type  Total Students  Total Budgets  \\\n",
       "1   Cabrera High School  Charter            4761      1081356.0   \n",
       "12   Thomas High School  Charter            1468      1043130.0   \n",
       "9      Pena High School  Charter            1800       585858.0   \n",
       "4   Griffin High School  Charter            2949       917500.0   \n",
       "13   Wilson High School  Charter             962      1319574.0   \n",
       "\n",
       "    Per Student Budgets  Average Math Score  Average Reading Score  \\\n",
       "1            227.127914               83.06                  83.98   \n",
       "12           710.579019               83.42                  83.85   \n",
       "9            325.476667               83.84                  84.04   \n",
       "4            311.122414               83.35                  83.82   \n",
       "13          1371.698545               83.27                  83.99   \n",
       "\n",
       "    % Passing Math  % Passing Reading  % Overall Passing  \n",
       "1            94.13              97.04             95.585  \n",
       "12           93.27              97.31             95.290  \n",
       "9            94.59              95.95             95.270  \n",
       "4            93.39              97.14             95.265  \n",
       "13           93.87              96.54             95.205  "
      ]
     },
     "execution_count": 28,
     "metadata": {},
     "output_type": "execute_result"
    }
   ],
   "source": [
    "Top5Schools = dataSummary_byschool.sort_values('% Overall Passing',axis=0,ascending=False)\n",
    "Top5Schools.head(5)"
   ]
  },
  {
   "cell_type": "markdown",
   "metadata": {},
   "source": [
    "## Bottom Performing Schools (By Passing Rate)"
   ]
  },
  {
   "cell_type": "markdown",
   "metadata": {},
   "source": [
    "* Sort and display the five worst-performing schools"
   ]
  },
  {
   "cell_type": "code",
   "execution_count": 29,
   "metadata": {},
   "outputs": [
    {
     "data": {
      "text/html": [
       "<div>\n",
       "<style scoped>\n",
       "    .dataframe tbody tr th:only-of-type {\n",
       "        vertical-align: middle;\n",
       "    }\n",
       "\n",
       "    .dataframe tbody tr th {\n",
       "        vertical-align: top;\n",
       "    }\n",
       "\n",
       "    .dataframe thead th {\n",
       "        text-align: right;\n",
       "    }\n",
       "</style>\n",
       "<table border=\"1\" class=\"dataframe\">\n",
       "  <thead>\n",
       "    <tr style=\"text-align: right;\">\n",
       "      <th></th>\n",
       "      <th>School Name</th>\n",
       "      <th>Type</th>\n",
       "      <th>Total Students</th>\n",
       "      <th>Total Budgets</th>\n",
       "      <th>Per Student Budgets</th>\n",
       "      <th>Average Math Score</th>\n",
       "      <th>Average Reading Score</th>\n",
       "      <th>% Passing Math</th>\n",
       "      <th>% Passing Reading</th>\n",
       "      <th>% Overall Passing</th>\n",
       "    </tr>\n",
       "  </thead>\n",
       "  <tbody>\n",
       "    <tr>\n",
       "      <th>10</th>\n",
       "      <td>Rodriguez High School</td>\n",
       "      <td>District</td>\n",
       "      <td>1761</td>\n",
       "      <td>2547363.0</td>\n",
       "      <td>1446.543441</td>\n",
       "      <td>76.84</td>\n",
       "      <td>80.74</td>\n",
       "      <td>66.37</td>\n",
       "      <td>80.22</td>\n",
       "      <td>73.295</td>\n",
       "    </tr>\n",
       "    <tr>\n",
       "      <th>2</th>\n",
       "      <td>Figueroa High School</td>\n",
       "      <td>District</td>\n",
       "      <td>4635</td>\n",
       "      <td>1884411.0</td>\n",
       "      <td>406.561165</td>\n",
       "      <td>76.71</td>\n",
       "      <td>81.16</td>\n",
       "      <td>65.99</td>\n",
       "      <td>80.74</td>\n",
       "      <td>73.365</td>\n",
       "    </tr>\n",
       "    <tr>\n",
       "      <th>7</th>\n",
       "      <td>Huang High School</td>\n",
       "      <td>District</td>\n",
       "      <td>2283</td>\n",
       "      <td>1910635.0</td>\n",
       "      <td>836.896627</td>\n",
       "      <td>76.63</td>\n",
       "      <td>81.18</td>\n",
       "      <td>65.68</td>\n",
       "      <td>81.32</td>\n",
       "      <td>73.500</td>\n",
       "    </tr>\n",
       "    <tr>\n",
       "      <th>8</th>\n",
       "      <td>Johnson High School</td>\n",
       "      <td>District</td>\n",
       "      <td>1858</td>\n",
       "      <td>3094650.0</td>\n",
       "      <td>1665.581270</td>\n",
       "      <td>77.07</td>\n",
       "      <td>80.97</td>\n",
       "      <td>66.06</td>\n",
       "      <td>81.22</td>\n",
       "      <td>73.640</td>\n",
       "    </tr>\n",
       "    <tr>\n",
       "      <th>3</th>\n",
       "      <td>Ford High School</td>\n",
       "      <td>District</td>\n",
       "      <td>3999</td>\n",
       "      <td>1763916.0</td>\n",
       "      <td>441.089272</td>\n",
       "      <td>77.10</td>\n",
       "      <td>80.75</td>\n",
       "      <td>68.31</td>\n",
       "      <td>79.30</td>\n",
       "      <td>73.805</td>\n",
       "    </tr>\n",
       "  </tbody>\n",
       "</table>\n",
       "</div>"
      ],
      "text/plain": [
       "              School Name      Type  Total Students  Total Budgets  \\\n",
       "10  Rodriguez High School  District            1761      2547363.0   \n",
       "2    Figueroa High School  District            4635      1884411.0   \n",
       "7       Huang High School  District            2283      1910635.0   \n",
       "8     Johnson High School  District            1858      3094650.0   \n",
       "3        Ford High School  District            3999      1763916.0   \n",
       "\n",
       "    Per Student Budgets  Average Math Score  Average Reading Score  \\\n",
       "10          1446.543441               76.84                  80.74   \n",
       "2            406.561165               76.71                  81.16   \n",
       "7            836.896627               76.63                  81.18   \n",
       "8           1665.581270               77.07                  80.97   \n",
       "3            441.089272               77.10                  80.75   \n",
       "\n",
       "    % Passing Math  % Passing Reading  % Overall Passing  \n",
       "10           66.37              80.22             73.295  \n",
       "2            65.99              80.74             73.365  \n",
       "7            65.68              81.32             73.500  \n",
       "8            66.06              81.22             73.640  \n",
       "3            68.31              79.30             73.805  "
      ]
     },
     "execution_count": 29,
     "metadata": {},
     "output_type": "execute_result"
    }
   ],
   "source": [
    "Bottom5Schools = dataSummary_byschool.sort_values('% Overall Passing',axis=0,ascending=True)\n",
    "Bottom5Schools.head(5)"
   ]
  },
  {
   "cell_type": "markdown",
   "metadata": {
    "collapsed": true
   },
   "source": [
    "## Math Scores by Grade"
   ]
  },
  {
   "cell_type": "markdown",
   "metadata": {},
   "source": [
    "* Create a table that lists the average Reading Score for students of each grade level (9th, 10th, 11th, 12th) at each school.\n",
    "\n",
    "  * Create a pandas series for each grade. Hint: use a conditional statement.\n",
    "  \n",
    "  * Group each series by school\n",
    "  \n",
    "  * Combine the series into a dataframe\n",
    "  \n",
    "  * Optional: give the displayed data cleaner formatting"
   ]
  },
  {
   "cell_type": "code",
   "execution_count": 56,
   "metadata": {
    "scrolled": true
   },
   "outputs": [
    {
     "data": {
      "text/plain": [
       "school_name            grade\n",
       "Bailey High School     10th     76.996772\n",
       "                       11th     77.515588\n",
       "                       12th     76.492218\n",
       "                       9th      77.083676\n",
       "Cabrera High School    10th     83.154506\n",
       "                       11th     82.765560\n",
       "                       12th     83.277487\n",
       "                       9th      83.094697\n",
       "Figueroa High School   10th     76.539974\n",
       "                       11th     76.884344\n",
       "                       12th     77.151369\n",
       "                       9th      76.403037\n",
       "Ford High School       10th     77.672316\n",
       "                       11th     76.918058\n",
       "                       12th     76.179963\n",
       "                       9th      77.361345\n",
       "Griffin High School    10th     84.229064\n",
       "                       11th     83.842105\n",
       "                       12th     83.356164\n",
       "                       9th      82.044010\n",
       "Hernandez High School  10th     77.337408\n",
       "                       11th     77.136029\n",
       "                       12th     77.186567\n",
       "                       9th      77.438495\n",
       "Holden High School     10th     83.429825\n",
       "                       11th     85.000000\n",
       "                       12th     82.855422\n",
       "                       9th      83.787402\n",
       "Huang High School      10th     75.908735\n",
       "                       11th     76.446602\n",
       "                       12th     77.225641\n",
       "                       9th      77.027251\n",
       "Johnson High School    10th     76.691117\n",
       "                       11th     77.491653\n",
       "                       12th     76.863248\n",
       "                       9th      77.187857\n",
       "Pena High School       10th     83.372000\n",
       "                       11th     84.328125\n",
       "                       12th     84.121547\n",
       "                       9th      83.625455\n",
       "Rodriguez High School  10th     76.612500\n",
       "                       11th     76.395626\n",
       "                       12th     77.690748\n",
       "                       9th      76.859966\n",
       "Shelton High School    10th     82.917411\n",
       "                       11th     83.383495\n",
       "                       12th     83.778976\n",
       "                       9th      83.420755\n",
       "Thomas High School     10th     83.087886\n",
       "                       11th     83.498795\n",
       "                       12th     83.497041\n",
       "                       9th      83.590022\n",
       "Wilson High School     10th     83.724422\n",
       "                       11th     83.195326\n",
       "                       12th     83.035794\n",
       "                       9th      83.085578\n",
       "Wright High School     10th     84.010288\n",
       "                       11th     83.836782\n",
       "                       12th     83.644986\n",
       "                       9th      83.264706\n",
       "Name: math_score, dtype: float64"
      ]
     },
     "execution_count": 56,
     "metadata": {},
     "output_type": "execute_result"
    }
   ],
   "source": [
    "# Note: so far, this isn't in grade order\n",
    "grade_avg_reading_pre = school_data_analysis.groupby(['school_name','grade']).mean()['math_score']\n",
    "grade_avg_reading_pre\n",
    "# grade_avg_reading = grade_avg_reading_pre.to_frame().reset_index()\n",
    "# grade_avg_reading\n",
    "# type(grade_avg_reading)"
   ]
  },
  {
   "cell_type": "code",
   "execution_count": 67,
   "metadata": {},
   "outputs": [],
   "source": [
    "# 9th grade grouping\n"
   ]
  },
  {
   "cell_type": "code",
   "execution_count": null,
   "metadata": {
    "scrolled": true
   },
   "outputs": [],
   "source": []
  },
  {
   "cell_type": "code",
   "execution_count": null,
   "metadata": {},
   "outputs": [],
   "source": []
  },
  {
   "cell_type": "code",
   "execution_count": null,
   "metadata": {},
   "outputs": [],
   "source": []
  },
  {
   "cell_type": "code",
   "execution_count": null,
   "metadata": {},
   "outputs": [],
   "source": []
  },
  {
   "cell_type": "code",
   "execution_count": null,
   "metadata": {},
   "outputs": [],
   "source": []
  },
  {
   "cell_type": "code",
   "execution_count": null,
   "metadata": {},
   "outputs": [],
   "source": []
  },
  {
   "cell_type": "code",
   "execution_count": null,
   "metadata": {},
   "outputs": [],
   "source": []
  },
  {
   "cell_type": "markdown",
   "metadata": {},
   "source": [
    "## Reading Score by Grade "
   ]
  },
  {
   "cell_type": "markdown",
   "metadata": {},
   "source": [
    "* Perform the same operations as above for reading scores"
   ]
  },
  {
   "cell_type": "code",
   "execution_count": null,
   "metadata": {},
   "outputs": [],
   "source": []
  },
  {
   "cell_type": "code",
   "execution_count": null,
   "metadata": {},
   "outputs": [],
   "source": []
  },
  {
   "cell_type": "code",
   "execution_count": null,
   "metadata": {
    "scrolled": true
   },
   "outputs": [],
   "source": []
  },
  {
   "cell_type": "code",
   "execution_count": null,
   "metadata": {},
   "outputs": [],
   "source": []
  },
  {
   "cell_type": "code",
   "execution_count": null,
   "metadata": {},
   "outputs": [],
   "source": []
  },
  {
   "cell_type": "code",
   "execution_count": null,
   "metadata": {},
   "outputs": [],
   "source": []
  },
  {
   "cell_type": "code",
   "execution_count": null,
   "metadata": {},
   "outputs": [],
   "source": []
  },
  {
   "cell_type": "code",
   "execution_count": null,
   "metadata": {},
   "outputs": [],
   "source": []
  },
  {
   "cell_type": "code",
   "execution_count": null,
   "metadata": {},
   "outputs": [],
   "source": []
  },
  {
   "cell_type": "markdown",
   "metadata": {},
   "source": [
    "## Scores by School Spending"
   ]
  },
  {
   "cell_type": "markdown",
   "metadata": {},
   "source": [
    "* Create a table that breaks down school performances based on average Spending Ranges (Per Student). Use 4 reasonable bins to group school spending. Include in the table each of the following:\n",
    "  * Average Math Score\n",
    "  * Average Reading Score\n",
    "  * % Passing Math\n",
    "  * % Passing Reading\n",
    "  * Overall Passing Rate (Average of the above two)"
   ]
  },
  {
   "cell_type": "code",
   "execution_count": null,
   "metadata": {},
   "outputs": [],
   "source": []
  },
  {
   "cell_type": "code",
   "execution_count": null,
   "metadata": {},
   "outputs": [],
   "source": []
  },
  {
   "cell_type": "code",
   "execution_count": null,
   "metadata": {},
   "outputs": [],
   "source": []
  },
  {
   "cell_type": "code",
   "execution_count": 23,
   "metadata": {},
   "outputs": [],
   "source": [
    "# Sample bins. Feel free to create your own bins.\n",
    "spending_bins = [0, 585, 615, 645, 675]\n",
    "group_names = [\"<$585\", \"$585-615\", \"$615-645\", \"$645-675\"]"
   ]
  },
  {
   "cell_type": "code",
   "execution_count": null,
   "metadata": {},
   "outputs": [],
   "source": []
  },
  {
   "cell_type": "code",
   "execution_count": null,
   "metadata": {
    "scrolled": true
   },
   "outputs": [],
   "source": []
  },
  {
   "cell_type": "code",
   "execution_count": null,
   "metadata": {},
   "outputs": [],
   "source": []
  },
  {
   "cell_type": "code",
   "execution_count": null,
   "metadata": {},
   "outputs": [],
   "source": []
  },
  {
   "cell_type": "markdown",
   "metadata": {},
   "source": [
    "## Scores by School Size"
   ]
  },
  {
   "cell_type": "markdown",
   "metadata": {},
   "source": [
    "* Perform the same operations as above, based on school size."
   ]
  },
  {
   "cell_type": "code",
   "execution_count": null,
   "metadata": {},
   "outputs": [],
   "source": []
  },
  {
   "cell_type": "code",
   "execution_count": null,
   "metadata": {},
   "outputs": [],
   "source": []
  },
  {
   "cell_type": "code",
   "execution_count": 24,
   "metadata": {},
   "outputs": [],
   "source": [
    "# Sample bins. Feel free to create your own bins.\n",
    "size_bins = [0, 1000, 2000, 5000]\n",
    "group_names = [\"Small (<1000)\", \"Medium (1000-2000)\", \"Large (2000-5000)\"]"
   ]
  },
  {
   "cell_type": "code",
   "execution_count": null,
   "metadata": {},
   "outputs": [],
   "source": []
  },
  {
   "cell_type": "code",
   "execution_count": null,
   "metadata": {
    "scrolled": false
   },
   "outputs": [],
   "source": []
  },
  {
   "cell_type": "code",
   "execution_count": null,
   "metadata": {},
   "outputs": [],
   "source": []
  },
  {
   "cell_type": "code",
   "execution_count": null,
   "metadata": {},
   "outputs": [],
   "source": []
  },
  {
   "cell_type": "markdown",
   "metadata": {},
   "source": [
    "## Scores by School Type"
   ]
  },
  {
   "cell_type": "markdown",
   "metadata": {},
   "source": [
    "* Perform the same operations as above, based on school type."
   ]
  },
  {
   "cell_type": "code",
   "execution_count": 25,
   "metadata": {},
   "outputs": [],
   "source": [
    "\n",
    "# # not what I needed here, but cool to have\n",
    "# # Student totals by School type\n",
    "# byschool_type = school_data_analysis['type'].value_counts()\n",
    "# byschool_type\n",
    "# type(byschool_type)"
   ]
  },
  {
   "cell_type": "code",
   "execution_count": null,
   "metadata": {
    "scrolled": true
   },
   "outputs": [],
   "source": []
  },
  {
   "cell_type": "code",
   "execution_count": null,
   "metadata": {},
   "outputs": [],
   "source": []
  },
  {
   "cell_type": "code",
   "execution_count": null,
   "metadata": {},
   "outputs": [],
   "source": []
  }
 ],
 "metadata": {
  "anaconda-cloud": {},
  "kernel_info": {
   "name": "python3"
  },
  "kernelspec": {
   "display_name": "Python 3",
   "language": "python",
   "name": "python3"
  },
  "language_info": {
   "codemirror_mode": {
    "name": "ipython",
    "version": 3
   },
   "file_extension": ".py",
   "mimetype": "text/x-python",
   "name": "python",
   "nbconvert_exporter": "python",
   "pygments_lexer": "ipython3",
   "version": "3.6.5"
  },
  "nteract": {
   "version": "0.8.4"
  }
 },
 "nbformat": 4,
 "nbformat_minor": 1
}
