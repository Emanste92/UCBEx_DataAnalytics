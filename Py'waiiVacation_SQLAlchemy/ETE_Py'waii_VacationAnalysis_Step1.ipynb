{
 "cells": [
  {
   "cell_type": "code",
   "execution_count": null,
   "metadata": {},
   "outputs": [],
   "source": [
    "# Loading packages\n",
    "\n",
    "# Visualization and Analysis\n",
    "import numpy as np\n",
    "import pandas as pd\n",
    "%matplotlib inline\n",
    "from matplotlib import style\n",
    "style.use('fivethirtyeight')\n",
    "import matplotlib.pyplot as plt\n",
    "import seaborn\n",
    "import datetime as dt\n",
    "from IPython.core.interactiveshell import InteractiveShell\n",
    "InteractiveShell.ast_node_interactivity = \"all\"\n",
    "\n",
    "# SQLAlchemy and ORM\n",
    "import sqlalchemy\n",
    "from sqlalchemy.ext.automap import automap_base\n",
    "from sqlalchemy.orm import Session\n",
    "from sqlalchemy import create_engine, func, inspect, and_\n",
    "\n",
    "# Building Engine, Automapping Base, Staring Session\n",
    "engine = create_engine(\"sqlite:///Resources/hawaii.sqlite\")\n",
    "Base = automap_base()\n",
    "Base.prepare(engine, reflect=True)\n",
    "session = Session(engine)\n",
    "inspector = inspect(engine)\n",
    "\n",
    "# Viewing classes from automap\n",
    "# Base.classes.keys()"
   ]
  },
  {
   "cell_type": "code",
   "execution_count": null,
   "metadata": {},
   "outputs": [],
   "source": [
    "# Defining references to each table\n",
    "Measurement = Base.classes.measurement\n",
    "Station = Base.classes.station\n",
    "\n",
    "# Printing table columns for reference\n",
    "f\"measurement table columns\"\n",
    "measurement_columns = inspector.get_columns('measurement')\n",
    "for m_c in measurement_columns:\n",
    "    print(m_c['name'], m_c[\"type\"])\n",
    "f\"---\"\n",
    "f\"station table columns\"\n",
    "station_columns = inspector.get_columns('station')\n",
    "for s_c in station_columns:\n",
    "    print(s_c['name'], s_c[\"type\"])"
   ]
  },
  {
   "cell_type": "code",
   "execution_count": null,
   "metadata": {
    "scrolled": true
   },
   "outputs": [],
   "source": [
    "# Previewing table items\n",
    "engine.execute('SELECT * FROM measurement LIMIT 10').fetchall()\n",
    "engine.execute('SELECT * FROM station LIMIT 10').fetchall()"
   ]
  },
  {
   "cell_type": "markdown",
   "metadata": {},
   "source": [
    "# Exploratory Climate Analysis"
   ]
  },
  {
   "cell_type": "code",
   "execution_count": null,
   "metadata": {
    "scrolled": true
   },
   "outputs": [],
   "source": [
    "# Notes: \n",
    "# - precipitation abbreviated as prcp and temperature \n",
    "# abbreviated as tobs like in measurement table\n",
    "# - .label() is the same as SQL select as aliasing\n",
    "# - Left \"legacy code\" as older alternate solutions\n",
    "# - Referenced many external pages and left links in comments\n",
    "\n",
    "# Figuring out the latest date and the year prior in the dataset\n",
    "latest_date_query = str(session.query(Measurement.date).order_by(Measurement.date.desc()).first())\n",
    "latest_date = latest_date_query[2:12]\n",
    "f\"The latest date in the dataset: {latest_date}\"\n",
    "\n",
    "year_before_latest_date_calc = str(int(latest_date[0:4]) - 1)\n",
    "year_before_latest_date = year_before_latest_date_calc + latest_date[4:]\n",
    "f\"The year before the latest date in the dataset: {year_before_latest_date}\"\n",
    "\n",
    "# Retrieving last 12 months of prcp data\n",
    "prcp_raw_points = session.query(Measurement.date.label('Date'),\n",
    "                    Measurement.station.label('Station_ID'),\n",
    "                    Measurement.prcp.label('Precipitation levels')).\\\n",
    "                    filter(Measurement.date.between(year_before_latest_date,latest_date)).\\\n",
    "                    order_by(Measurement.date)\n",
    "prcp_df = pd.read_sql(prcp_raw_points.statement, prcp_raw_points.session.bind)\n",
    "\n",
    "# Legacy code: Using list comprehensions to unpack the output of tuples\n",
    "# dates = [prcp_raw_point[0] for prcp_raw_point in prcp_raw_points]\n",
    "# station_names = [prcp_raw_point[1] for prcp_raw_point in prcp_raw_points]\n",
    "# prcp_points = [prcp_raw_point[2] for prcp_raw_point in prcp_raw_points]\n",
    "# prcp_df = pd.DataFrame(\n",
    "#     {'Date': dates,\n",
    "#      'Station': station_names,\n",
    "#      'Precipitation levels': prcp_points})\n",
    "\n",
    "# Setting Date as the index \n",
    "prcp_df.set_index('Date', inplace=True)\n",
    "\n",
    "# Sorting by Date\n",
    "prcp_df.sort_values(by='Date', ascending=True).head(10)\n",
    "# prcp_df.tail(10)"
   ]
  },
  {
   "cell_type": "code",
   "execution_count": null,
   "metadata": {
    "scrolled": true
   },
   "outputs": [],
   "source": [
    "# # Plotting figure of prcp_df\n",
    "plt.figure(figsize=(18,4))\n",
    "plt.plot(prcp_df.index, prcp_df['Precipitation levels'])\n",
    "plt.ylabel(\"Precipitation (inches)\")\n",
    "plt.xlabel(\"Date\")\n",
    "plt.title(\"Precipitation Levels 08/23/2016 - 08/23/2017\")\n",
    "plt.tight_layout()\n",
    "plt.show()\n",
    "\n",
    "# Tried to get the formatting to work on xticks, couldn't fix it in this case"
   ]
  },
  {
   "cell_type": "code",
   "execution_count": null,
   "metadata": {},
   "outputs": [],
   "source": [
    "# prcp_df summary statistics\n",
    "prcp_df.describe()\n",
    "\n",
    "# Number of stations in dataset\n",
    "HI_stations_count = session.query(Station).group_by(Station.station).count()\n",
    "f\"There are {HI_stations_count} weather stations in this dataset.\""
   ]
  },
  {
   "cell_type": "code",
   "execution_count": null,
   "metadata": {},
   "outputs": [],
   "source": [
    "# Listing stations in descending order of activity \n",
    "# in the whole dataset (via tobs count)\n",
    "# Putting it into a dataframe for readability\n",
    "StationActivity = session.query(Station.station.label('Station_ID'), \n",
    "                                Station.name.label('Station_Name'),\n",
    "                                func.count(Measurement.tobs).label('Activity_Count')).\\\n",
    "                                filter(Station.station == Measurement.station).\\\n",
    "                                group_by(Measurement.station).\\\n",
    "                                order_by(func.count(Measurement.tobs).desc())\n",
    "StationActivity_df = pd.read_sql(StationActivity.statement, StationActivity.session.bind)\n",
    "StationActivity_df\n",
    "\n",
    "f\"The station with the most activity is Station ID: {StationActivity_df.at[0,'Station_ID']},\"\n",
    "f\"at {StationActivity_df.at[0,'Station_Name']} with {StationActivity_df.at[0,'Activity_Count']} datapoints in the dataset.\""
   ]
  },
  {
   "cell_type": "code",
   "execution_count": null,
   "metadata": {},
   "outputs": [],
   "source": [
    "# Calculating the lowest temperature recorded, highest temperature recorded, \n",
    "# and average temperature from WAIHEE 837.5 in the whole dataset\n",
    "\n",
    "Lowest_tobs_calc = session.query(func.min(Measurement.tobs)).\\\n",
    "            filter(Station.station == 'USC00519281').all()\n",
    "Lowest_tobs_format = str(Lowest_tobs_calc[0])\n",
    "Lowest_tobs = Lowest_tobs_format[1:3]\n",
    "f\"Lowest temperature recorded at Waihee: {Lowest_tobs} degrees\"\n",
    "\n",
    "Highest_tobs_calc = session.query(func.max(Measurement.tobs)).\\\n",
    "            filter(Station.station == 'USC00519281').all()\n",
    "Highest_tobs_format = str(Highest_tobs_calc[0])\n",
    "Highest_tobs = Highest_tobs_format[1:3]\n",
    "f\"Lowest temperature recorded at Waihee: {Highest_tobs} degrees\"\n",
    "\n",
    "Avg_tobs_calc = session.query(func.avg(Measurement.tobs)).\\\n",
    "            filter(Station.station == 'USC00519281').all()\n",
    "Avg_tobs_format = str(Avg_tobs_calc[0])\n",
    "Avg_tobs = Avg_tobs_format[1:3]\n",
    "f\"Average temperature recorded at Waihee: {Avg_tobs} degrees\""
   ]
  },
  {
   "cell_type": "code",
   "execution_count": null,
   "metadata": {},
   "outputs": [],
   "source": [
    "# Retrieving last 12 months of tobs data from all stations\n",
    "tobs_raw_points = session.query(Measurement.date.label('Date'),\n",
    "                    Measurement.station.label('Station_ID'),\n",
    "                    Measurement.tobs.label('Observed Temp')).\\\n",
    "                    filter(Measurement.date.between(year_before_latest_date,latest_date)).\\\n",
    "                    order_by(Measurement.date)\n",
    "\n",
    "tobs_df = pd.read_sql(tobs_raw_points.statement, tobs_raw_points.session.bind)\n",
    "\n",
    "# Setting Date as the index\n",
    "tobs_df.set_index('Date', inplace=True)\n",
    "\n",
    "# Sorting by Date\n",
    "tobs_df.sort_values(by='Date', ascending=True).head(10)\n",
    "# tobs_df.tail(10)"
   ]
  },
  {
   "cell_type": "code",
   "execution_count": null,
   "metadata": {},
   "outputs": [],
   "source": [
    "# Retrieving last 12 months of tobs data from Waihee\n",
    "Waihee_raw_points = session.query(Measurement.date.label('Date'),\n",
    "                    Measurement.tobs.label('Observed Temp')).\\\n",
    "                    filter(Measurement.date.between(year_before_latest_date,latest_date)).\\\n",
    "                    filter(Measurement.station == 'USC00519281').\\\n",
    "                    order_by(Measurement.date)\n",
    "\n",
    "# Making a dataframe and finding its shape to confirm there\n",
    "# is around a year's worth of data\n",
    "Waihee_df = pd.read_sql(Waihee_raw_points.statement, Waihee_raw_points.session.bind)\n",
    "Waihee_df.shape \n",
    "Waihee_df.head(5)"
   ]
  },
  {
   "cell_type": "code",
   "execution_count": null,
   "metadata": {},
   "outputs": [],
   "source": [
    "# Plotting a histogram for the last 12 months of tobs data from WAIHEE 837.5\n",
    "tobs = [x[1] for x in Waihee_raw_points]\n",
    "plt.hist(tobs, bins=12)\n",
    "plt.ylabel(\"Frequency\")\n",
    "plt.xlabel(\"Observed Temperature\")\n",
    "plt.title(\"Observed Temperatures at Waihee 08/23/2016 - 08/23/2017\")\n",
    "#plt.savefig()\n",
    "plt.show()"
   ]
  },
  {
   "cell_type": "code",
   "execution_count": null,
   "metadata": {},
   "outputs": [],
   "source": [
    "# Using provided `calc_temps` to calculate the tmin, tavg, and tmax \n",
    "# for your trip using the previous year's data for those same dates.\n",
    "\n",
    "def calc_temps(start_date, end_date):\n",
    "    \"\"\"TMIN, TAVG, and TMAX for a list of dates.\n",
    "    Args:\n",
    "        start_date (string): A date string in the format %Y-%m-%d\n",
    "        end_date (string): A date string in the format %Y-%m-%d\n",
    "    Returns:\n",
    "        TMIN, TAVE, and TMAX\n",
    "    \"\"\"\n",
    "    return session.query(func.min(Measurement.tobs), func.avg(Measurement.tobs), func.max(Measurement.tobs)).\\\n",
    "        filter(Measurement.date >= start_date).filter(Measurement.date <= end_date).all()\n",
    "\n",
    "# Using the date range 2017-03-05 to 2017-03-17\n",
    "trip = calc_temps('2017-03-05', '2017-03-17')[0]\n",
    "f\"For the duration of 3/5/17 to 3/17/17:\"\n",
    "f\"Min temp: {trip[0]}\"\n",
    "f\"Max temp: {trip[2]}\"\n",
    "f\"Average temp: {trip[1]}\""
   ]
  },
  {
   "cell_type": "code",
   "execution_count": null,
   "metadata": {},
   "outputs": [],
   "source": [
    "# Plotting a bar chart for the average temp calculated above\n",
    "# with the \"peak-to-peak\" (tmax-tmin) value as an error barr\n",
    "\n",
    "plt.figure(figsize=(2,6))\n",
    "plt.title(\"Trip Average Temp\")\n",
    "plt.ylabel(\"Temperature (F)\")\n",
    "plt.bar(1, trip[1], yerr = (trip[2] - trip[0]), tick_label = \"\")\n",
    "# plt.savefig(\"Outputs/Temperature Analysis.png\")\n",
    "plt.show()"
   ]
  },
  {
   "cell_type": "code",
   "execution_count": null,
   "metadata": {},
   "outputs": [],
   "source": [
    "# Calculating rainfall per weather station for the dates used above\n",
    "# Sorted in descending order\n",
    "\n",
    "AllStationRainfall_During_Trip = session.query(Station.station.label('Station_ID'), \n",
    "                                Station.name.label('Station_Name'),\n",
    "                                Station.latitude.label('Latitude'),\n",
    "                                Station.longitude.label('Longitude'),\n",
    "                                Station.elevation.label('Elevation'),\n",
    "                                func.sum(Measurement.prcp).label('Precipitation Total')).\\\n",
    "                                filter(Station.station == Measurement.station).\\\n",
    "                                filter(Measurement.date.between('2017-03-05', '2017-03-17')).\\\n",
    "                                group_by(Measurement.station).\\\n",
    "                                order_by(func.sum(Measurement.prcp).desc())\n",
    "AllStationRainfall_During_Trip_df = pd.read_sql(AllStationRainfall_During_Trip.statement, \n",
    "                                                AllStationRainfall_During_Trip.session.bind)\n",
    "AllStationRainfall_During_Trip_df"
   ]
  },
  {
   "cell_type": "code",
   "execution_count": null,
   "metadata": {},
   "outputs": [],
   "source": [
    "# Using provided query to calculate the daily normals for the date range\n",
    "# (daily normals = averages for tmin, tmax, and tavg for all historic \n",
    "# data matching a specific month and day)\n",
    "def daily_normals(date):\n",
    "    \"\"\"Daily Normals. \n",
    "    Args:\n",
    "        date (str): A date string in the format '%m-%d'       \n",
    "    Returns:\n",
    "        A list of tuples containing the daily normals, tmin, tmax, and tavg   \n",
    "    \"\"\"   \n",
    "    sel = [func.min(Measurement.tobs),func.max(Measurement.tobs),func.avg(Measurement.tobs)]\n",
    "    return session.query(*sel).filter(func.strftime(\"%m-%d\", Measurement.date) == date)\n",
    "\n",
    "# Using the date range 2017-03-05 to 2017-03-17\n",
    "# Making a list of dates, based on\n",
    "# https://stackoverflow.com/a/24637447\n",
    "trip_dates = []\n",
    "trip_daily_normals = []\n",
    "\n",
    "start = dt.datetime.strptime(\"03-05\", \"%m-%d\")\n",
    "end = dt.datetime.strptime(\"03-17\", \"%m-%d\")\n",
    "date_generated = [start + dt.timedelta(days=x) for x in range(0, (end-start).days + 1)]\n",
    "\n",
    "for date in date_generated:\n",
    "    trip_dates.append(date.strftime(\"%m-%d\"))\n",
    "\n",
    "# Making a list of daily normals from the dates generated above\n",
    "for date in trip_dates:\n",
    "    trip_daily_normals.append(daily_normals(date)[0])\n",
    "\n",
    "# Unpacking the tuples from the above list\n",
    "trip_tmins = [trip_daily_normal[0] for trip_daily_normal in trip_daily_normals]\n",
    "trip_tmaxs = [trip_daily_normal[1] for trip_daily_normal in trip_daily_normals]\n",
    "trip_tavgs = [trip_daily_normal[2] for trip_daily_normal in trip_daily_normals]\n",
    "\n",
    "# Making a dataframe with these results, making trip_dates the index\n",
    "dailynorms_df = pd.DataFrame(\n",
    "    {'Trip Dates': trip_dates,'Min Temp': trip_tmins,\n",
    "     'Max Temp': trip_tmaxs, 'Avg Temp': trip_tavgs})\n",
    "\n",
    "# Setting Date as the index\n",
    "dailynorms_df.set_index('Trip Dates', inplace=True)\n",
    "\n",
    "# Sorting by Date\n",
    "dailynorms_df.sort_values(by='Trip Dates', ascending=True).head(10)"
   ]
  },
  {
   "cell_type": "code",
   "execution_count": null,
   "metadata": {},
   "outputs": [],
   "source": [
    "# Plotting daily normals as an area plot with `stacked=False`\n",
    "# Reference: https://stackoverflow.com/questions/34421434/pandas-dataframe-area-plot-stacked-false-not-working\n",
    "x = np.arange(0,len(trip_dates))\n",
    "dailynorms_df.plot(kind='area', stacked=False, alpha=0.5, colormap='Oranges', grid=True, \n",
    "                   title='Daily Normals 03-05 to 03-17')\n",
    "plt.legend(loc='lower right')\n",
    "plt.rc('grid', linestyle=\":\", linewidth=1, color='gray')\n",
    "plt.xticks(x, trip_dates, rotation = 45)\n",
    "plt.show()"
   ]
  },
  {
   "cell_type": "markdown",
   "metadata": {},
   "source": [
    "## See Step 2 for Flask API.py [hyperlink here when done]\n"
   ]
  }
 ],
 "metadata": {
  "kernel_info": {
   "name": "python3"
  },
  "kernelspec": {
   "display_name": "Python 3",
   "language": "python",
   "name": "python3"
  },
  "language_info": {
   "codemirror_mode": {
    "name": "ipython",
    "version": 3
   },
   "file_extension": ".py",
   "mimetype": "text/x-python",
   "name": "python",
   "nbconvert_exporter": "python",
   "pygments_lexer": "ipython3",
   "version": "3.7.1"
  },
  "nteract": {
   "version": "0.9.1"
  },
  "varInspector": {
   "cols": {
    "lenName": 16,
    "lenType": 16,
    "lenVar": 40
   },
   "kernels_config": {
    "python": {
     "delete_cmd_postfix": "",
     "delete_cmd_prefix": "del ",
     "library": "var_list.py",
     "varRefreshCmd": "print(var_dic_list())"
    },
    "r": {
     "delete_cmd_postfix": ") ",
     "delete_cmd_prefix": "rm(",
     "library": "var_list.r",
     "varRefreshCmd": "cat(var_dic_list()) "
    }
   },
   "types_to_exclude": [
    "module",
    "function",
    "builtin_function_or_method",
    "instance",
    "_Feature"
   ],
   "window_display": false
  }
 },
 "nbformat": 4,
 "nbformat_minor": 2
}
