{
 "cells": [
  {
   "cell_type": "code",
   "execution_count": 1,
   "metadata": {},
   "outputs": [],
   "source": [
    "# Loading packages\n",
    "\n",
    "# Visualization and Analysis\n",
    "import numpy as np\n",
    "import pandas as pd\n",
    "%matplotlib inline\n",
    "from matplotlib import style\n",
    "style.use('fivethirtyeight')\n",
    "import matplotlib.pyplot as plt\n",
    "import seaborn\n",
    "import datetime as dt\n",
    "from IPython.core.interactiveshell import InteractiveShell\n",
    "InteractiveShell.ast_node_interactivity = \"all\"\n",
    "\n",
    "# SQLAlchemy and ORM\n",
    "import sqlalchemy\n",
    "from sqlalchemy.ext.automap import automap_base\n",
    "from sqlalchemy.orm import Session\n",
    "from sqlalchemy import create_engine, func, inspect, and_\n",
    "\n",
    "# Building Engine, Automapping Base, Staring Session\n",
    "engine = create_engine(\"sqlite:///Resources/hawaii.sqlite\")\n",
    "Base = automap_base()\n",
    "Base.prepare(engine, reflect=True)\n",
    "session = Session(engine)\n",
    "inspector = inspect(engine)\n",
    "\n",
    "# Viewing classes from automap\n",
    "# Base.classes.keys()"
   ]
  },
  {
   "cell_type": "code",
   "execution_count": 2,
   "metadata": {},
   "outputs": [
    {
     "data": {
      "text/plain": [
       "'measurement table columns'"
      ]
     },
     "execution_count": 2,
     "metadata": {},
     "output_type": "execute_result"
    },
    {
     "name": "stdout",
     "output_type": "stream",
     "text": [
      "id INTEGER\n",
      "station TEXT\n",
      "date TEXT\n",
      "prcp FLOAT\n",
      "tobs FLOAT\n"
     ]
    },
    {
     "data": {
      "text/plain": [
       "'---'"
      ]
     },
     "execution_count": 2,
     "metadata": {},
     "output_type": "execute_result"
    },
    {
     "data": {
      "text/plain": [
       "'station table columns'"
      ]
     },
     "execution_count": 2,
     "metadata": {},
     "output_type": "execute_result"
    },
    {
     "name": "stdout",
     "output_type": "stream",
     "text": [
      "id INTEGER\n",
      "station TEXT\n",
      "name TEXT\n",
      "latitude FLOAT\n",
      "longitude FLOAT\n",
      "elevation FLOAT\n"
     ]
    }
   ],
   "source": [
    "# Defining references to each table\n",
    "Measurement = Base.classes.measurement\n",
    "Station = Base.classes.station\n",
    "\n",
    "# Printing table columns for reference\n",
    "f\"measurement table columns\"\n",
    "measurement_columns = inspector.get_columns('measurement')\n",
    "for m_c in measurement_columns:\n",
    "    print(m_c['name'], m_c[\"type\"])\n",
    "f\"---\"\n",
    "f\"station table columns\"\n",
    "station_columns = inspector.get_columns('station')\n",
    "for s_c in station_columns:\n",
    "    print(s_c['name'], s_c[\"type\"])"
   ]
  },
  {
   "cell_type": "code",
   "execution_count": 3,
   "metadata": {
    "scrolled": true
   },
   "outputs": [
    {
     "data": {
      "text/plain": [
       "[(1, 'USC00519397', '2010-01-01', 0.08, 65.0),\n",
       " (2, 'USC00519397', '2010-01-02', 0.0, 63.0),\n",
       " (3, 'USC00519397', '2010-01-03', 0.0, 74.0),\n",
       " (4, 'USC00519397', '2010-01-04', 0.0, 76.0),\n",
       " (5, 'USC00519397', '2010-01-06', None, 73.0),\n",
       " (6, 'USC00519397', '2010-01-07', 0.06, 70.0),\n",
       " (7, 'USC00519397', '2010-01-08', 0.0, 64.0),\n",
       " (8, 'USC00519397', '2010-01-09', 0.0, 68.0),\n",
       " (9, 'USC00519397', '2010-01-10', 0.0, 73.0),\n",
       " (10, 'USC00519397', '2010-01-11', 0.01, 64.0)]"
      ]
     },
     "execution_count": 3,
     "metadata": {},
     "output_type": "execute_result"
    },
    {
     "data": {
      "text/plain": [
       "[(1, 'USC00519397', 'WAIKIKI 717.2, HI US', 21.2716, -157.8168, 3.0),\n",
       " (2, 'USC00513117', 'KANEOHE 838.1, HI US', 21.4234, -157.8015, 14.6),\n",
       " (3, 'USC00514830', 'KUALOA RANCH HEADQUARTERS 886.9, HI US', 21.5213, -157.8374, 7.0),\n",
       " (4, 'USC00517948', 'PEARL CITY, HI US', 21.3934, -157.9751, 11.9),\n",
       " (5, 'USC00518838', 'UPPER WAHIAWA 874.3, HI US', 21.4992, -158.0111, 306.6),\n",
       " (6, 'USC00519523', 'WAIMANALO EXPERIMENTAL FARM, HI US', 21.33556, -157.71139, 19.5),\n",
       " (7, 'USC00519281', 'WAIHEE 837.5, HI US', 21.45167, -157.84888999999998, 32.9),\n",
       " (8, 'USC00511918', 'HONOLULU OBSERVATORY 702.2, HI US', 21.3152, -157.9992, 0.9),\n",
       " (9, 'USC00516128', 'MANOA LYON ARBO 785.2, HI US', 21.3331, -157.8025, 152.4)]"
      ]
     },
     "execution_count": 3,
     "metadata": {},
     "output_type": "execute_result"
    }
   ],
   "source": [
    "# Previewing table items\n",
    "engine.execute('SELECT * FROM measurement LIMIT 10').fetchall()\n",
    "engine.execute('SELECT * FROM station LIMIT 10').fetchall()"
   ]
  },
  {
   "cell_type": "markdown",
   "metadata": {},
   "source": [
    "# Exploratory Climate Analysis"
   ]
  },
  {
   "cell_type": "code",
   "execution_count": 4,
   "metadata": {},
   "outputs": [
    {
     "data": {
      "text/plain": [
       "'The latest date in the dataset: 2017-08-23'"
      ]
     },
     "execution_count": 4,
     "metadata": {},
     "output_type": "execute_result"
    },
    {
     "data": {
      "text/plain": [
       "'The year before the latest date in the dataset: 2016-08-23'"
      ]
     },
     "execution_count": 4,
     "metadata": {},
     "output_type": "execute_result"
    },
    {
     "data": {
      "text/html": [
       "<div>\n",
       "<style scoped>\n",
       "    .dataframe tbody tr th:only-of-type {\n",
       "        vertical-align: middle;\n",
       "    }\n",
       "\n",
       "    .dataframe tbody tr th {\n",
       "        vertical-align: top;\n",
       "    }\n",
       "\n",
       "    .dataframe thead th {\n",
       "        text-align: right;\n",
       "    }\n",
       "</style>\n",
       "<table border=\"1\" class=\"dataframe\">\n",
       "  <thead>\n",
       "    <tr style=\"text-align: right;\">\n",
       "      <th></th>\n",
       "      <th>Station_ID</th>\n",
       "      <th>Precipitation levels</th>\n",
       "    </tr>\n",
       "    <tr>\n",
       "      <th>Date</th>\n",
       "      <th></th>\n",
       "      <th></th>\n",
       "    </tr>\n",
       "  </thead>\n",
       "  <tbody>\n",
       "    <tr>\n",
       "      <th>2016-08-23</th>\n",
       "      <td>USC00519397</td>\n",
       "      <td>0.00</td>\n",
       "    </tr>\n",
       "    <tr>\n",
       "      <th>2016-08-23</th>\n",
       "      <td>USC00513117</td>\n",
       "      <td>0.15</td>\n",
       "    </tr>\n",
       "    <tr>\n",
       "      <th>2016-08-23</th>\n",
       "      <td>USC00514830</td>\n",
       "      <td>0.05</td>\n",
       "    </tr>\n",
       "    <tr>\n",
       "      <th>2016-08-23</th>\n",
       "      <td>USC00517948</td>\n",
       "      <td>NaN</td>\n",
       "    </tr>\n",
       "    <tr>\n",
       "      <th>2016-08-23</th>\n",
       "      <td>USC00519523</td>\n",
       "      <td>0.02</td>\n",
       "    </tr>\n",
       "    <tr>\n",
       "      <th>2016-08-23</th>\n",
       "      <td>USC00519281</td>\n",
       "      <td>1.79</td>\n",
       "    </tr>\n",
       "    <tr>\n",
       "      <th>2016-08-23</th>\n",
       "      <td>USC00516128</td>\n",
       "      <td>0.70</td>\n",
       "    </tr>\n",
       "    <tr>\n",
       "      <th>2016-08-24</th>\n",
       "      <td>USC00516128</td>\n",
       "      <td>1.45</td>\n",
       "    </tr>\n",
       "    <tr>\n",
       "      <th>2016-08-24</th>\n",
       "      <td>USC00519281</td>\n",
       "      <td>2.15</td>\n",
       "    </tr>\n",
       "    <tr>\n",
       "      <th>2016-08-24</th>\n",
       "      <td>USC00519523</td>\n",
       "      <td>1.22</td>\n",
       "    </tr>\n",
       "  </tbody>\n",
       "</table>\n",
       "</div>"
      ],
      "text/plain": [
       "             Station_ID  Precipitation levels\n",
       "Date                                         \n",
       "2016-08-23  USC00519397                  0.00\n",
       "2016-08-23  USC00513117                  0.15\n",
       "2016-08-23  USC00514830                  0.05\n",
       "2016-08-23  USC00517948                   NaN\n",
       "2016-08-23  USC00519523                  0.02\n",
       "2016-08-23  USC00519281                  1.79\n",
       "2016-08-23  USC00516128                  0.70\n",
       "2016-08-24  USC00516128                  1.45\n",
       "2016-08-24  USC00519281                  2.15\n",
       "2016-08-24  USC00519523                  1.22"
      ]
     },
     "execution_count": 4,
     "metadata": {},
     "output_type": "execute_result"
    },
    {
     "data": {
      "text/html": [
       "<div>\n",
       "<style scoped>\n",
       "    .dataframe tbody tr th:only-of-type {\n",
       "        vertical-align: middle;\n",
       "    }\n",
       "\n",
       "    .dataframe tbody tr th {\n",
       "        vertical-align: top;\n",
       "    }\n",
       "\n",
       "    .dataframe thead th {\n",
       "        text-align: right;\n",
       "    }\n",
       "</style>\n",
       "<table border=\"1\" class=\"dataframe\">\n",
       "  <thead>\n",
       "    <tr style=\"text-align: right;\">\n",
       "      <th></th>\n",
       "      <th>Station_ID</th>\n",
       "      <th>Precipitation levels</th>\n",
       "    </tr>\n",
       "    <tr>\n",
       "      <th>Date</th>\n",
       "      <th></th>\n",
       "      <th></th>\n",
       "    </tr>\n",
       "  </thead>\n",
       "  <tbody>\n",
       "    <tr>\n",
       "      <th>2017-08-21</th>\n",
       "      <td>USC00514830</td>\n",
       "      <td>0.02</td>\n",
       "    </tr>\n",
       "    <tr>\n",
       "      <th>2017-08-21</th>\n",
       "      <td>USC00519523</td>\n",
       "      <td>NaN</td>\n",
       "    </tr>\n",
       "    <tr>\n",
       "      <th>2017-08-21</th>\n",
       "      <td>USC00516128</td>\n",
       "      <td>0.56</td>\n",
       "    </tr>\n",
       "    <tr>\n",
       "      <th>2017-08-22</th>\n",
       "      <td>USC00519397</td>\n",
       "      <td>0.00</td>\n",
       "    </tr>\n",
       "    <tr>\n",
       "      <th>2017-08-22</th>\n",
       "      <td>USC00519523</td>\n",
       "      <td>0.00</td>\n",
       "    </tr>\n",
       "    <tr>\n",
       "      <th>2017-08-22</th>\n",
       "      <td>USC00516128</td>\n",
       "      <td>0.50</td>\n",
       "    </tr>\n",
       "    <tr>\n",
       "      <th>2017-08-23</th>\n",
       "      <td>USC00519397</td>\n",
       "      <td>0.00</td>\n",
       "    </tr>\n",
       "    <tr>\n",
       "      <th>2017-08-23</th>\n",
       "      <td>USC00514830</td>\n",
       "      <td>0.00</td>\n",
       "    </tr>\n",
       "    <tr>\n",
       "      <th>2017-08-23</th>\n",
       "      <td>USC00519523</td>\n",
       "      <td>0.08</td>\n",
       "    </tr>\n",
       "    <tr>\n",
       "      <th>2017-08-23</th>\n",
       "      <td>USC00516128</td>\n",
       "      <td>0.45</td>\n",
       "    </tr>\n",
       "  </tbody>\n",
       "</table>\n",
       "</div>"
      ],
      "text/plain": [
       "             Station_ID  Precipitation levels\n",
       "Date                                         \n",
       "2017-08-21  USC00514830                  0.02\n",
       "2017-08-21  USC00519523                   NaN\n",
       "2017-08-21  USC00516128                  0.56\n",
       "2017-08-22  USC00519397                  0.00\n",
       "2017-08-22  USC00519523                  0.00\n",
       "2017-08-22  USC00516128                  0.50\n",
       "2017-08-23  USC00519397                  0.00\n",
       "2017-08-23  USC00514830                  0.00\n",
       "2017-08-23  USC00519523                  0.08\n",
       "2017-08-23  USC00516128                  0.45"
      ]
     },
     "execution_count": 4,
     "metadata": {},
     "output_type": "execute_result"
    }
   ],
   "source": [
    "# Notes: \n",
    "# - precipitation abbreviated as prcp and temperature \n",
    "# abbreviated as tobs like in measurement table\n",
    "# -  .label() is the same as SQL select as aliasing\n",
    "\n",
    "# Figuring out the latest date and the year prior in the dataset\n",
    "latest_date_query = str(session.query(Measurement.date).order_by(Measurement.date.desc()).first())\n",
    "latest_date = latest_date_query[2:12]\n",
    "f\"The latest date in the dataset: {latest_date}\"\n",
    "\n",
    "year_before_latest_date_calc = str(int(latest_date[0:4]) - 1)\n",
    "year_before_latest_date = year_before_latest_date_calc + latest_date[4:]\n",
    "f\"The year before the latest date in the dataset: {year_before_latest_date}\"\n",
    "\n",
    "# Retrieving last 12 months of prcp data\n",
    "prcp_raw_points = session.query(Measurement.date.label('Date'),\n",
    "                    Measurement.station.label('Station_ID'),\n",
    "                    Measurement.prcp.label('Precipitation levels')).\\\n",
    "                    filter(Measurement.date.between(year_before_latest_date,latest_date)).\\\n",
    "                    order_by(Measurement.date)\n",
    "\n",
    "prcp_df = pd.read_sql(prcp_raw_points.statement, prcp_raw_points.session.bind)\n",
    "\n",
    "# Legacy code: Alternate way of making a dataframe using list comprehensions\n",
    "# to unpack the output of tuples\n",
    "# dates = [prcp_raw_point[0] for prcp_raw_point in prcp_raw_points]\n",
    "# station_names = [prcp_raw_point[1] for prcp_raw_point in prcp_raw_points]\n",
    "# prcp_points = [prcp_raw_point[2] for prcp_raw_point in prcp_raw_points]\n",
    "# prcp_df = pd.DataFrame(\n",
    "#     {'Date': dates,\n",
    "#      'Station': station_names,\n",
    "#      'Precipitation levels': prcp_points})\n",
    "\n",
    "# Setting Date as the index\n",
    "prcp_df.set_index('Date', inplace=True)\n",
    "\n",
    "# Sorting by Date\n",
    "prcp_df.sort_values(by='Date', ascending=True).head(10)\n",
    "prcp_df.tail(10)"
   ]
  },
  {
   "cell_type": "code",
   "execution_count": 5,
   "metadata": {},
   "outputs": [],
   "source": [
    "# prcp_df\n",
    "# (do a groupby month by extracting the string year-month"
   ]
  },
  {
   "cell_type": "code",
   "execution_count": 6,
   "metadata": {
    "scrolled": true
   },
   "outputs": [
    {
     "data": {
      "text/plain": [
       "<Figure size 1224x360 with 0 Axes>"
      ]
     },
     "execution_count": 6,
     "metadata": {},
     "output_type": "execute_result"
    },
    {
     "data": {
      "text/plain": [
       "[<matplotlib.lines.Line2D at 0xba4d6fb2e8>]"
      ]
     },
     "execution_count": 6,
     "metadata": {},
     "output_type": "execute_result"
    },
    {
     "data": {
      "text/plain": [
       "Text(0, 0.5, 'Precipitation (inches)')"
      ]
     },
     "execution_count": 6,
     "metadata": {},
     "output_type": "execute_result"
    },
    {
     "data": {
      "text/plain": [
       "Text(0.5, 0, 'Date')"
      ]
     },
     "execution_count": 6,
     "metadata": {},
     "output_type": "execute_result"
    },
    {
     "data": {
      "text/plain": [
       "Text(0.5, 1.0, 'Precipitation Levels 08/23/2016 - 08/23/2017')"
      ]
     },
     "execution_count": 6,
     "metadata": {},
     "output_type": "execute_result"
    },
    {
     "data": {
      "image/png": "[encoded data removed]",
      "text/plain": [
       "<Figure size 1224x360 with 1 Axes>"
      ]
     },
     "metadata": {
      "needs_background": "light"
     },
     "output_type": "display_data"
    }
   ],
   "source": [
    "# Plotting figure of prcp_df\n",
    "plt.figure(figsize=(17,5))\n",
    "plt.plot(prcp_df.index, prcp_df['Precipitation levels'])\n",
    "plt.ylabel(\"Precipitation (inches)\")\n",
    "plt.xlabel(\"Date\")\n",
    "plt.title(\"Precipitation Levels 08/23/2016 - 08/23/2017\")\n",
    "plt.tight_layout()\n",
    "plt.show()\n",
    "\n",
    "# make a time series coz it looks prettier \n",
    "# http://earthpy.org/time_series_analysis_with_pandas_part_2.html"
   ]
  },
  {
   "cell_type": "code",
   "execution_count": 7,
   "metadata": {},
   "outputs": [
    {
     "data": {
      "text/html": [
       "<div>\n",
       "<style scoped>\n",
       "    .dataframe tbody tr th:only-of-type {\n",
       "        vertical-align: middle;\n",
       "    }\n",
       "\n",
       "    .dataframe tbody tr th {\n",
       "        vertical-align: top;\n",
       "    }\n",
       "\n",
       "    .dataframe thead th {\n",
       "        text-align: right;\n",
       "    }\n",
       "</style>\n",
       "<table border=\"1\" class=\"dataframe\">\n",
       "  <thead>\n",
       "    <tr style=\"text-align: right;\">\n",
       "      <th></th>\n",
       "      <th>Precipitation levels</th>\n",
       "    </tr>\n",
       "  </thead>\n",
       "  <tbody>\n",
       "    <tr>\n",
       "      <th>count</th>\n",
       "      <td>2021.000000</td>\n",
       "    </tr>\n",
       "    <tr>\n",
       "      <th>mean</th>\n",
       "      <td>0.177279</td>\n",
       "    </tr>\n",
       "    <tr>\n",
       "      <th>std</th>\n",
       "      <td>0.461190</td>\n",
       "    </tr>\n",
       "    <tr>\n",
       "      <th>min</th>\n",
       "      <td>0.000000</td>\n",
       "    </tr>\n",
       "    <tr>\n",
       "      <th>25%</th>\n",
       "      <td>0.000000</td>\n",
       "    </tr>\n",
       "    <tr>\n",
       "      <th>50%</th>\n",
       "      <td>0.020000</td>\n",
       "    </tr>\n",
       "    <tr>\n",
       "      <th>75%</th>\n",
       "      <td>0.130000</td>\n",
       "    </tr>\n",
       "    <tr>\n",
       "      <th>max</th>\n",
       "      <td>6.700000</td>\n",
       "    </tr>\n",
       "  </tbody>\n",
       "</table>\n",
       "</div>"
      ],
      "text/plain": [
       "       Precipitation levels\n",
       "count           2021.000000\n",
       "mean               0.177279\n",
       "std                0.461190\n",
       "min                0.000000\n",
       "25%                0.000000\n",
       "50%                0.020000\n",
       "75%                0.130000\n",
       "max                6.700000"
      ]
     },
     "execution_count": 7,
     "metadata": {},
     "output_type": "execute_result"
    },
    {
     "data": {
      "text/plain": [
       "'There are 9 weather stations in this dataset.'"
      ]
     },
     "execution_count": 7,
     "metadata": {},
     "output_type": "execute_result"
    }
   ],
   "source": [
    "# prcp_df summary statistics\n",
    "prcp_df.describe()\n",
    "\n",
    "# Number of stations in dataset\n",
    "HI_stations_count = session.query(Station).group_by(Station.station).count()\n",
    "f\"There are {HI_stations_count} weather stations in this dataset.\""
   ]
  },
  {
   "cell_type": "code",
   "execution_count": 8,
   "metadata": {},
   "outputs": [
    {
     "data": {
      "text/html": [
       "<div>\n",
       "<style scoped>\n",
       "    .dataframe tbody tr th:only-of-type {\n",
       "        vertical-align: middle;\n",
       "    }\n",
       "\n",
       "    .dataframe tbody tr th {\n",
       "        vertical-align: top;\n",
       "    }\n",
       "\n",
       "    .dataframe thead th {\n",
       "        text-align: right;\n",
       "    }\n",
       "</style>\n",
       "<table border=\"1\" class=\"dataframe\">\n",
       "  <thead>\n",
       "    <tr style=\"text-align: right;\">\n",
       "      <th></th>\n",
       "      <th>Station_ID</th>\n",
       "      <th>Station_Name</th>\n",
       "      <th>Activity_Count</th>\n",
       "    </tr>\n",
       "  </thead>\n",
       "  <tbody>\n",
       "    <tr>\n",
       "      <th>0</th>\n",
       "      <td>USC00519281</td>\n",
       "      <td>WAIHEE 837.5, HI US</td>\n",
       "      <td>2772</td>\n",
       "    </tr>\n",
       "    <tr>\n",
       "      <th>1</th>\n",
       "      <td>USC00519397</td>\n",
       "      <td>WAIKIKI 717.2, HI US</td>\n",
       "      <td>2724</td>\n",
       "    </tr>\n",
       "    <tr>\n",
       "      <th>2</th>\n",
       "      <td>USC00513117</td>\n",
       "      <td>KANEOHE 838.1, HI US</td>\n",
       "      <td>2709</td>\n",
       "    </tr>\n",
       "    <tr>\n",
       "      <th>3</th>\n",
       "      <td>USC00519523</td>\n",
       "      <td>WAIMANALO EXPERIMENTAL FARM, HI US</td>\n",
       "      <td>2669</td>\n",
       "    </tr>\n",
       "    <tr>\n",
       "      <th>4</th>\n",
       "      <td>USC00516128</td>\n",
       "      <td>MANOA LYON ARBO 785.2, HI US</td>\n",
       "      <td>2612</td>\n",
       "    </tr>\n",
       "    <tr>\n",
       "      <th>5</th>\n",
       "      <td>USC00514830</td>\n",
       "      <td>KUALOA RANCH HEADQUARTERS 886.9, HI US</td>\n",
       "      <td>2202</td>\n",
       "    </tr>\n",
       "    <tr>\n",
       "      <th>6</th>\n",
       "      <td>USC00511918</td>\n",
       "      <td>HONOLULU OBSERVATORY 702.2, HI US</td>\n",
       "      <td>1979</td>\n",
       "    </tr>\n",
       "    <tr>\n",
       "      <th>7</th>\n",
       "      <td>USC00517948</td>\n",
       "      <td>PEARL CITY, HI US</td>\n",
       "      <td>1372</td>\n",
       "    </tr>\n",
       "    <tr>\n",
       "      <th>8</th>\n",
       "      <td>USC00518838</td>\n",
       "      <td>UPPER WAHIAWA 874.3, HI US</td>\n",
       "      <td>511</td>\n",
       "    </tr>\n",
       "  </tbody>\n",
       "</table>\n",
       "</div>"
      ],
      "text/plain": [
       "    Station_ID                            Station_Name  Activity_Count\n",
       "0  USC00519281                     WAIHEE 837.5, HI US            2772\n",
       "1  USC00519397                    WAIKIKI 717.2, HI US            2724\n",
       "2  USC00513117                    KANEOHE 838.1, HI US            2709\n",
       "3  USC00519523      WAIMANALO EXPERIMENTAL FARM, HI US            2669\n",
       "4  USC00516128            MANOA LYON ARBO 785.2, HI US            2612\n",
       "5  USC00514830  KUALOA RANCH HEADQUARTERS 886.9, HI US            2202\n",
       "6  USC00511918       HONOLULU OBSERVATORY 702.2, HI US            1979\n",
       "7  USC00517948                       PEARL CITY, HI US            1372\n",
       "8  USC00518838              UPPER WAHIAWA 874.3, HI US             511"
      ]
     },
     "execution_count": 8,
     "metadata": {},
     "output_type": "execute_result"
    },
    {
     "data": {
      "text/plain": [
       "'The station with the most activity is Station ID: USC00519281,'"
      ]
     },
     "execution_count": 8,
     "metadata": {},
     "output_type": "execute_result"
    },
    {
     "data": {
      "text/plain": [
       "'at WAIHEE 837.5, HI US with 2772 datapoints in the dataset.'"
      ]
     },
     "execution_count": 8,
     "metadata": {},
     "output_type": "execute_result"
    }
   ],
   "source": [
    "# Listing stations in descending order of activity \n",
    "# in the whole dataset (via tobs count)\n",
    "# Putting it into a dataframe for readability\n",
    "StationActivity = session.query(Station.station.label('Station_ID'), \n",
    "                                Station.name.label('Station_Name'),\n",
    "                                func.count(Measurement.tobs).label('Activity_Count')).\\\n",
    "                                filter(Station.station == Measurement.station).\\\n",
    "                                group_by(Measurement.station).\\\n",
    "                                order_by(func.count(Measurement.tobs).desc())\n",
    "StationActivity_df = pd.read_sql(StationActivity.statement, StationActivity.session.bind)\n",
    "StationActivity_df\n",
    "\n",
    "f\"The station with the most activity is Station ID: {StationActivity_df.at[0,'Station_ID']},\"\n",
    "f\"at {StationActivity_df.at[0,'Station_Name']} with {StationActivity_df.at[0,'Activity_Count']} datapoints in the dataset.\""
   ]
  },
  {
   "cell_type": "code",
   "execution_count": 9,
   "metadata": {},
   "outputs": [
    {
     "data": {
      "text/plain": [
       "'Lowest temperature recorded at Waihee: 53 degrees'"
      ]
     },
     "execution_count": 9,
     "metadata": {},
     "output_type": "execute_result"
    },
    {
     "data": {
      "text/plain": [
       "'Lowest temperature recorded at Waihee: 87 degrees'"
      ]
     },
     "execution_count": 9,
     "metadata": {},
     "output_type": "execute_result"
    },
    {
     "data": {
      "text/plain": [
       "'Average temperature recorded at Waihee: 73 degrees'"
      ]
     },
     "execution_count": 9,
     "metadata": {},
     "output_type": "execute_result"
    }
   ],
   "source": [
    "# Calculating the lowest temperature recorded, highest temperature recorded, \n",
    "# and average temperature from WAIHEE 837.5 in the whole dataset\n",
    "\n",
    "Lowest_tobs_calc = session.query(func.min(Measurement.tobs)).\\\n",
    "            filter(Station.station == 'USC00519281').all()\n",
    "Lowest_tobs_format = str(Lowest_tobs_calc[0])\n",
    "Lowest_tobs = Lowest_tobs_format[1:3]\n",
    "f\"Lowest temperature recorded at Waihee: {Lowest_tobs} degrees\"\n",
    "\n",
    "Highest_tobs_calc = session.query(func.max(Measurement.tobs)).\\\n",
    "            filter(Station.station == 'USC00519281').all()\n",
    "Highest_tobs_format = str(Highest_tobs_calc[0])\n",
    "Highest_tobs = Highest_tobs_format[1:3]\n",
    "f\"Lowest temperature recorded at Waihee: {Highest_tobs} degrees\"\n",
    "\n",
    "Avg_tobs_calc = session.query(func.avg(Measurement.tobs)).\\\n",
    "            filter(Station.station == 'USC00519281').all()\n",
    "Avg_tobs_format = str(Avg_tobs_calc[0])\n",
    "Avg_tobs = Avg_tobs_format[1:3]\n",
    "f\"Average temperature recorded at Waihee: {Avg_tobs} degrees\""
   ]
  },
  {
   "cell_type": "code",
   "execution_count": 10,
   "metadata": {},
   "outputs": [
    {
     "data": {
      "text/html": [
       "<div>\n",
       "<style scoped>\n",
       "    .dataframe tbody tr th:only-of-type {\n",
       "        vertical-align: middle;\n",
       "    }\n",
       "\n",
       "    .dataframe tbody tr th {\n",
       "        vertical-align: top;\n",
       "    }\n",
       "\n",
       "    .dataframe thead th {\n",
       "        text-align: right;\n",
       "    }\n",
       "</style>\n",
       "<table border=\"1\" class=\"dataframe\">\n",
       "  <thead>\n",
       "    <tr style=\"text-align: right;\">\n",
       "      <th></th>\n",
       "      <th>Station_ID</th>\n",
       "      <th>Observed Temp</th>\n",
       "    </tr>\n",
       "    <tr>\n",
       "      <th>Date</th>\n",
       "      <th></th>\n",
       "      <th></th>\n",
       "    </tr>\n",
       "  </thead>\n",
       "  <tbody>\n",
       "    <tr>\n",
       "      <th>2016-08-23</th>\n",
       "      <td>USC00519397</td>\n",
       "      <td>81.0</td>\n",
       "    </tr>\n",
       "    <tr>\n",
       "      <th>2016-08-23</th>\n",
       "      <td>USC00513117</td>\n",
       "      <td>76.0</td>\n",
       "    </tr>\n",
       "    <tr>\n",
       "      <th>2016-08-23</th>\n",
       "      <td>USC00514830</td>\n",
       "      <td>80.0</td>\n",
       "    </tr>\n",
       "    <tr>\n",
       "      <th>2016-08-23</th>\n",
       "      <td>USC00517948</td>\n",
       "      <td>80.0</td>\n",
       "    </tr>\n",
       "    <tr>\n",
       "      <th>2016-08-23</th>\n",
       "      <td>USC00519523</td>\n",
       "      <td>80.0</td>\n",
       "    </tr>\n",
       "    <tr>\n",
       "      <th>2016-08-23</th>\n",
       "      <td>USC00519281</td>\n",
       "      <td>77.0</td>\n",
       "    </tr>\n",
       "    <tr>\n",
       "      <th>2016-08-23</th>\n",
       "      <td>USC00516128</td>\n",
       "      <td>74.0</td>\n",
       "    </tr>\n",
       "    <tr>\n",
       "      <th>2016-08-24</th>\n",
       "      <td>USC00516128</td>\n",
       "      <td>74.0</td>\n",
       "    </tr>\n",
       "    <tr>\n",
       "      <th>2016-08-24</th>\n",
       "      <td>USC00519281</td>\n",
       "      <td>77.0</td>\n",
       "    </tr>\n",
       "    <tr>\n",
       "      <th>2016-08-24</th>\n",
       "      <td>USC00519523</td>\n",
       "      <td>79.0</td>\n",
       "    </tr>\n",
       "  </tbody>\n",
       "</table>\n",
       "</div>"
      ],
      "text/plain": [
       "             Station_ID  Observed Temp\n",
       "Date                                  \n",
       "2016-08-23  USC00519397           81.0\n",
       "2016-08-23  USC00513117           76.0\n",
       "2016-08-23  USC00514830           80.0\n",
       "2016-08-23  USC00517948           80.0\n",
       "2016-08-23  USC00519523           80.0\n",
       "2016-08-23  USC00519281           77.0\n",
       "2016-08-23  USC00516128           74.0\n",
       "2016-08-24  USC00516128           74.0\n",
       "2016-08-24  USC00519281           77.0\n",
       "2016-08-24  USC00519523           79.0"
      ]
     },
     "execution_count": 10,
     "metadata": {},
     "output_type": "execute_result"
    }
   ],
   "source": [
    "# Retrieving last 12 months of tobs data from all stations\n",
    "tobs_raw_points = session.query(Measurement.date.label('Date'),\n",
    "                    Measurement.station.label('Station_ID'),\n",
    "                    Measurement.tobs.label('Observed Temp')).\\\n",
    "                    filter(Measurement.date.between(year_before_latest_date,latest_date)).\\\n",
    "                    order_by(Measurement.date)\n",
    "\n",
    "tobs_df = pd.read_sql(tobs_raw_points.statement, tobs_raw_points.session.bind)\n",
    "\n",
    "# Setting Date as the index\n",
    "tobs_df.set_index('Date', inplace=True)\n",
    "\n",
    "# Sorting by Date\n",
    "tobs_df.sort_values(by='Date', ascending=True).head(10)\n",
    "# tobs_df.tail(10)"
   ]
  },
  {
   "cell_type": "code",
   "execution_count": 11,
   "metadata": {},
   "outputs": [
    {
     "data": {
      "text/plain": [
       "(352, 2)"
      ]
     },
     "execution_count": 11,
     "metadata": {},
     "output_type": "execute_result"
    },
    {
     "data": {
      "text/html": [
       "<div>\n",
       "<style scoped>\n",
       "    .dataframe tbody tr th:only-of-type {\n",
       "        vertical-align: middle;\n",
       "    }\n",
       "\n",
       "    .dataframe tbody tr th {\n",
       "        vertical-align: top;\n",
       "    }\n",
       "\n",
       "    .dataframe thead th {\n",
       "        text-align: right;\n",
       "    }\n",
       "</style>\n",
       "<table border=\"1\" class=\"dataframe\">\n",
       "  <thead>\n",
       "    <tr style=\"text-align: right;\">\n",
       "      <th></th>\n",
       "      <th>Date</th>\n",
       "      <th>Observed Temp</th>\n",
       "    </tr>\n",
       "  </thead>\n",
       "  <tbody>\n",
       "    <tr>\n",
       "      <th>0</th>\n",
       "      <td>2016-08-23</td>\n",
       "      <td>77.0</td>\n",
       "    </tr>\n",
       "    <tr>\n",
       "      <th>1</th>\n",
       "      <td>2016-08-24</td>\n",
       "      <td>77.0</td>\n",
       "    </tr>\n",
       "    <tr>\n",
       "      <th>2</th>\n",
       "      <td>2016-08-25</td>\n",
       "      <td>80.0</td>\n",
       "    </tr>\n",
       "    <tr>\n",
       "      <th>3</th>\n",
       "      <td>2016-08-26</td>\n",
       "      <td>80.0</td>\n",
       "    </tr>\n",
       "    <tr>\n",
       "      <th>4</th>\n",
       "      <td>2016-08-27</td>\n",
       "      <td>75.0</td>\n",
       "    </tr>\n",
       "  </tbody>\n",
       "</table>\n",
       "</div>"
      ],
      "text/plain": [
       "         Date  Observed Temp\n",
       "0  2016-08-23           77.0\n",
       "1  2016-08-24           77.0\n",
       "2  2016-08-25           80.0\n",
       "3  2016-08-26           80.0\n",
       "4  2016-08-27           75.0"
      ]
     },
     "execution_count": 11,
     "metadata": {},
     "output_type": "execute_result"
    }
   ],
   "source": [
    "# Retrieving last 12 months of tobs data from Waihee\n",
    "Waihee_raw_points = session.query(Measurement.date.label('Date'),\n",
    "                    Measurement.tobs.label('Observed Temp')).\\\n",
    "                    filter(Measurement.date.between(year_before_latest_date,latest_date)).\\\n",
    "                    filter(Measurement.station == 'USC00519281').\\\n",
    "                    order_by(Measurement.date)\n",
    "\n",
    "# Making a dataframe and finding its shape to confirm there\n",
    "# is around a year's worth of data\n",
    "Waihee_df = pd.read_sql(Waihee_raw_points.statement, Waihee_raw_points.session.bind)\n",
    "Waihee_df.shape \n",
    "Waihee_df.head(5)"
   ]
  },
  {
   "cell_type": "code",
   "execution_count": 12,
   "metadata": {},
   "outputs": [
    {
     "data": {
      "text/plain": [
       "(array([ 5.,  7.,  7., 12., 27., 41., 40., 57., 66., 53., 29.,  8.]),\n",
       " array([59., 61., 63., 65., 67., 69., 71., 73., 75., 77., 79., 81., 83.]),\n",
       " <a list of 12 Patch objects>)"
      ]
     },
     "execution_count": 12,
     "metadata": {},
     "output_type": "execute_result"
    },
    {
     "data": {
      "text/plain": [
       "Text(0, 0.5, 'Frequency')"
      ]
     },
     "execution_count": 12,
     "metadata": {},
     "output_type": "execute_result"
    },
    {
     "data": {
      "text/plain": [
       "Text(0.5, 0, 'Observed Temperature')"
      ]
     },
     "execution_count": 12,
     "metadata": {},
     "output_type": "execute_result"
    },
    {
     "data": {
      "text/plain": [
       "Text(0.5, 1.0, 'Observed Temperatures at Waihee 08/23/2016 - 08/23/2017')"
      ]
     },
     "execution_count": 12,
     "metadata": {},
     "output_type": "execute_result"
    },
    {
     "data": {
      "image/png": "[encoded data removed]",
      "text/plain": [
       "<Figure size 432x288 with 1 Axes>"
      ]
     },
     "metadata": {
      "needs_background": "light"
     },
     "output_type": "display_data"
    }
   ],
   "source": [
    "# Plotting a histogram for the last 12 months of tobs data from WAIHEE 837.5\n",
    "tobs = [x[1] for x in Waihee_raw_points]\n",
    "plt.hist(tobs, bins=12)\n",
    "plt.ylabel(\"Frequency\")\n",
    "plt.xlabel(\"Observed Temperature\")\n",
    "plt.title(\"Observed Temperatures at Waihee 08/23/2016 - 08/23/2017\")\n",
    "#plt.savefig()\n",
    "plt.show()"
   ]
  },
  {
   "cell_type": "code",
   "execution_count": 13,
   "metadata": {},
   "outputs": [
    {
     "data": {
      "text/plain": [
       "'For the duration of 3/5/17 to 3/17/17:'"
      ]
     },
     "execution_count": 13,
     "metadata": {},
     "output_type": "execute_result"
    },
    {
     "data": {
      "text/plain": [
       "'Min temp: 62.0'"
      ]
     },
     "execution_count": 13,
     "metadata": {},
     "output_type": "execute_result"
    },
    {
     "data": {
      "text/plain": [
       "'Max temp: 82.0'"
      ]
     },
     "execution_count": 13,
     "metadata": {},
     "output_type": "execute_result"
    },
    {
     "data": {
      "text/plain": [
       "'Average temp: 70.7375'"
      ]
     },
     "execution_count": 13,
     "metadata": {},
     "output_type": "execute_result"
    }
   ],
   "source": [
    "# Using provided `calc_temps` to calculate the tmin, tavg, and tmax \n",
    "# for your trip using the previous year's data for those same dates.\n",
    "\n",
    "def calc_temps(start_date, end_date):\n",
    "    \"\"\"TMIN, TAVG, and TMAX for a list of dates.\n",
    "    Args:\n",
    "        start_date (string): A date string in the format %Y-%m-%d\n",
    "        end_date (string): A date string in the format %Y-%m-%d\n",
    "    Returns:\n",
    "        TMIN, TAVE, and TMAX\n",
    "    \"\"\"\n",
    "    return session.query(func.min(Measurement.tobs), func.avg(Measurement.tobs), func.max(Measurement.tobs)).\\\n",
    "        filter(Measurement.date >= start_date).filter(Measurement.date <= end_date).all()\n",
    "\n",
    "# Using the date range 2017-03-05 to 2017-03-17\n",
    "trip = calc_temps('2017-03-05', '2017-03-17')[0]\n",
    "f\"For the duration of 3/5/17 to 3/17/17:\"\n",
    "f\"Min temp: {trip[0]}\"\n",
    "f\"Max temp: {trip[2]}\"\n",
    "f\"Average temp: {trip[1]}\""
   ]
  },
  {
   "cell_type": "code",
   "execution_count": 14,
   "metadata": {},
   "outputs": [
    {
     "data": {
      "text/plain": [
       "<Figure size 144x432 with 0 Axes>"
      ]
     },
     "execution_count": 14,
     "metadata": {},
     "output_type": "execute_result"
    },
    {
     "data": {
      "text/plain": [
       "Text(0.5, 1.0, 'Trip Average Temp')"
      ]
     },
     "execution_count": 14,
     "metadata": {},
     "output_type": "execute_result"
    },
    {
     "data": {
      "text/plain": [
       "Text(0, 0.5, 'Temperature (F)')"
      ]
     },
     "execution_count": 14,
     "metadata": {},
     "output_type": "execute_result"
    },
    {
     "data": {
      "text/plain": [
       "<BarContainer object of 1 artists>"
      ]
     },
     "execution_count": 14,
     "metadata": {},
     "output_type": "execute_result"
    },
    {
     "data": {
      "image/png": "[encoded data removed]",
      "text/plain": [
       "<Figure size 144x432 with 1 Axes>"
      ]
     },
     "metadata": {
      "needs_background": "light"
     },
     "output_type": "display_data"
    }
   ],
   "source": [
    "# Plotting a bar chart for the average temp calculated above\n",
    "# with the \"peak-to-peak\" (tmax-tmin) value as an error barr\n",
    "\n",
    "plt.figure(figsize=(2,6))\n",
    "plt.title(\"Trip Average Temp\")\n",
    "plt.ylabel(\"Temperature (F)\")\n",
    "plt.bar(1, trip[1], yerr = (trip[2] - trip[0]), tick_label = \"\")\n",
    "# plt.savefig(\"Outputs/Temperature Analysis.png\")\n",
    "plt.show()"
   ]
  },
  {
   "cell_type": "code",
   "execution_count": 15,
   "metadata": {},
   "outputs": [
    {
     "data": {
      "text/html": [
       "<div>\n",
       "<style scoped>\n",
       "    .dataframe tbody tr th:only-of-type {\n",
       "        vertical-align: middle;\n",
       "    }\n",
       "\n",
       "    .dataframe tbody tr th {\n",
       "        vertical-align: top;\n",
       "    }\n",
       "\n",
       "    .dataframe thead th {\n",
       "        text-align: right;\n",
       "    }\n",
       "</style>\n",
       "<table border=\"1\" class=\"dataframe\">\n",
       "  <thead>\n",
       "    <tr style=\"text-align: right;\">\n",
       "      <th></th>\n",
       "      <th>Station_ID</th>\n",
       "      <th>Station_Name</th>\n",
       "      <th>Latitude</th>\n",
       "      <th>Longitude</th>\n",
       "      <th>Elevation</th>\n",
       "      <th>Precipitation Total</th>\n",
       "    </tr>\n",
       "  </thead>\n",
       "  <tbody>\n",
       "    <tr>\n",
       "      <th>0</th>\n",
       "      <td>USC00513117</td>\n",
       "      <td>KANEOHE 838.1, HI US</td>\n",
       "      <td>21.42340</td>\n",
       "      <td>-157.80150</td>\n",
       "      <td>14.6</td>\n",
       "      <td>1.76</td>\n",
       "    </tr>\n",
       "    <tr>\n",
       "      <th>1</th>\n",
       "      <td>USC00519281</td>\n",
       "      <td>WAIHEE 837.5, HI US</td>\n",
       "      <td>21.45167</td>\n",
       "      <td>-157.84889</td>\n",
       "      <td>32.9</td>\n",
       "      <td>1.31</td>\n",
       "    </tr>\n",
       "    <tr>\n",
       "      <th>2</th>\n",
       "      <td>USC00514830</td>\n",
       "      <td>KUALOA RANCH HEADQUARTERS 886.9, HI US</td>\n",
       "      <td>21.52130</td>\n",
       "      <td>-157.83740</td>\n",
       "      <td>7.0</td>\n",
       "      <td>0.69</td>\n",
       "    </tr>\n",
       "    <tr>\n",
       "      <th>3</th>\n",
       "      <td>USC00516128</td>\n",
       "      <td>MANOA LYON ARBO 785.2, HI US</td>\n",
       "      <td>21.33310</td>\n",
       "      <td>-157.80250</td>\n",
       "      <td>152.4</td>\n",
       "      <td>0.36</td>\n",
       "    </tr>\n",
       "    <tr>\n",
       "      <th>4</th>\n",
       "      <td>USC00519397</td>\n",
       "      <td>WAIKIKI 717.2, HI US</td>\n",
       "      <td>21.27160</td>\n",
       "      <td>-157.81680</td>\n",
       "      <td>3.0</td>\n",
       "      <td>0.35</td>\n",
       "    </tr>\n",
       "    <tr>\n",
       "      <th>5</th>\n",
       "      <td>USC00519523</td>\n",
       "      <td>WAIMANALO EXPERIMENTAL FARM, HI US</td>\n",
       "      <td>21.33556</td>\n",
       "      <td>-157.71139</td>\n",
       "      <td>19.5</td>\n",
       "      <td>0.35</td>\n",
       "    </tr>\n",
       "    <tr>\n",
       "      <th>6</th>\n",
       "      <td>USC00517948</td>\n",
       "      <td>PEARL CITY, HI US</td>\n",
       "      <td>21.39340</td>\n",
       "      <td>-157.97510</td>\n",
       "      <td>11.9</td>\n",
       "      <td>0.06</td>\n",
       "    </tr>\n",
       "  </tbody>\n",
       "</table>\n",
       "</div>"
      ],
      "text/plain": [
       "    Station_ID                            Station_Name  Latitude  Longitude  \\\n",
       "0  USC00513117                    KANEOHE 838.1, HI US  21.42340 -157.80150   \n",
       "1  USC00519281                     WAIHEE 837.5, HI US  21.45167 -157.84889   \n",
       "2  USC00514830  KUALOA RANCH HEADQUARTERS 886.9, HI US  21.52130 -157.83740   \n",
       "3  USC00516128            MANOA LYON ARBO 785.2, HI US  21.33310 -157.80250   \n",
       "4  USC00519397                    WAIKIKI 717.2, HI US  21.27160 -157.81680   \n",
       "5  USC00519523      WAIMANALO EXPERIMENTAL FARM, HI US  21.33556 -157.71139   \n",
       "6  USC00517948                       PEARL CITY, HI US  21.39340 -157.97510   \n",
       "\n",
       "   Elevation  Precipitation Total  \n",
       "0       14.6                 1.76  \n",
       "1       32.9                 1.31  \n",
       "2        7.0                 0.69  \n",
       "3      152.4                 0.36  \n",
       "4        3.0                 0.35  \n",
       "5       19.5                 0.35  \n",
       "6       11.9                 0.06  "
      ]
     },
     "execution_count": 15,
     "metadata": {},
     "output_type": "execute_result"
    }
   ],
   "source": [
    "# Calculating rainfall per weather station for the dates used above\n",
    "# Sorted in descending order\n",
    "\n",
    "AllStationRainfall_During_Trip = session.query(Station.station.label('Station_ID'), \n",
    "                                Station.name.label('Station_Name'),\n",
    "                                Station.latitude.label('Latitude'),\n",
    "                                Station.longitude.label('Longitude'),\n",
    "                                Station.elevation.label('Elevation'),\n",
    "                                func.sum(Measurement.prcp).label('Precipitation Total')).\\\n",
    "                                filter(Station.station == Measurement.station).\\\n",
    "                                filter(Measurement.date.between('2017-03-05', '2017-03-17')).\\\n",
    "                                group_by(Measurement.station).\\\n",
    "                                order_by(func.sum(Measurement.prcp).desc())\n",
    "AllStationRainfall_During_Trip_df = pd.read_sql(AllStationRainfall_During_Trip.statement, \n",
    "                                                AllStationRainfall_During_Trip.session.bind)\n",
    "AllStationRainfall_During_Trip_df"
   ]
  },
  {
   "cell_type": "code",
   "execution_count": 16,
   "metadata": {},
   "outputs": [],
   "source": [
    "# Using provided query to calculate the daily normals for the date range\n",
    "# (daily normals = averages for tmin, tmax, and tavg for all historic \n",
    "# data matching a specific month and day)\n",
    "def daily_normals(date):\n",
    "    \"\"\"Daily Normals. \n",
    "    Args:\n",
    "        date (str): A date string in the format '%m-%d'       \n",
    "    Returns:\n",
    "        A list of tuples containing the daily normals, tmin, tmax, and tavg   \n",
    "    \"\"\"   \n",
    "    sel = [func.min(Measurement.tobs),func.max(Measurement.tobs),func.avg(Measurement.tobs)]\n",
    "    return session.query(*sel).filter(func.strftime(\"%m-%d\", Measurement.date) == date)\n",
    "\n",
    "# Using the date range 2017-03-05 to 2017-03-17\n",
    "# Making a list of dates, based on\n",
    "# https://stackoverflow.com/a/24637447\n",
    "trip_dates = []\n",
    "trip_daily_normals = []\n",
    "\n",
    "start = dt.datetime.strptime(\"03-05\", \"%m-%d\")\n",
    "end = dt.datetime.strptime(\"03-17\", \"%m-%d\")\n",
    "date_generated = [start + dt.timedelta(days=x) for x in range(0, (end-start).days + 1)]\n",
    "\n",
    "for date in date_generated:\n",
    "    trip_dates.append(date.strftime(\"%m-%d\"))\n",
    "\n",
    "# Making a list of daily normals from the dates generated above\n",
    "for date in trip_dates:\n",
    "    trip_daily_normals.append(daily_normals(date)[0])\n",
    "\n",
    "# Unpacking the tuples from the above list\n",
    "trip_tmins = [trip_daily_normal[0] for trip_daily_normal in trip_daily_normals]\n",
    "trip_tmaxs = [trip_daily_normal[1] for trip_daily_normal in trip_daily_normals]\n",
    "trip_tavgs = [trip_daily_normal[2] for trip_daily_normal in trip_daily_normals]\n",
    "\n",
    "# Making a dataframe with these results, making trip_dates the index\n",
    "dailynorms_df = pd.DataFrame(\n",
    "    {'Trip Dates': trip_dates,\n",
    "     'Min Temp': trip_tmins,\n",
    "     'Max Temp': trip_tmaxs,\n",
    "     'Avg Temp': trip_tavgs})\n",
    "\n",
    "# # Setting Date as the index\n",
    "# dailynorms_df.set_index('Trip Dates', inplace=True)\n",
    "\n",
    "# # Sorting by Date\n",
    "# dailynorms_df.sort_values(by='Trip Dates', ascending=True)"
   ]
  },
  {
   "cell_type": "code",
   "execution_count": 21,
   "metadata": {},
   "outputs": [
    {
     "data": {
      "text/plain": [
       "<matplotlib.axes._subplots.AxesSubplot at 0xba4e3f1320>"
      ]
     },
     "execution_count": 21,
     "metadata": {},
     "output_type": "execute_result"
    },
    {
     "data": {
      "text/plain": [
       "<matplotlib.legend.Legend at 0xba4e3e9da0>"
      ]
     },
     "execution_count": 21,
     "metadata": {},
     "output_type": "execute_result"
    },
    {
     "data": {
      "text/plain": [
       "([<matplotlib.axis.XTick at 0xba4e425128>,\n",
       "  <matplotlib.axis.XTick at 0xba4e43d2e8>,\n",
       "  <matplotlib.axis.XTick at 0xba4e3e9c50>,\n",
       "  <matplotlib.axis.XTick at 0xba4e473d30>,\n",
       "  <matplotlib.axis.XTick at 0xba4e47f518>,\n",
       "  <matplotlib.axis.XTick at 0xba4e473c88>,\n",
       "  <matplotlib.axis.XTick at 0xba4e47fba8>,\n",
       "  <matplotlib.axis.XTick at 0xba4e47fdd8>,\n",
       "  <matplotlib.axis.XTick at 0xba4e485668>,\n",
       "  <matplotlib.axis.XTick at 0xba4e43d9b0>,\n",
       "  <matplotlib.axis.XTick at 0xba4e494eb8>,\n",
       "  <matplotlib.axis.XTick at 0xba4e49b3c8>,\n",
       "  <matplotlib.axis.XTick at 0xba4e49b898>],\n",
       " <a list of 13 Text xticklabel objects>)"
      ]
     },
     "execution_count": 21,
     "metadata": {},
     "output_type": "execute_result"
    },
    {
     "data": {
      "image/png": "[encoded data removed]",
      "text/plain": [
       "<Figure size 432x288 with 1 Axes>"
      ]
     },
     "metadata": {
      "needs_background": "light"
     },
     "output_type": "display_data"
    }
   ],
   "source": [
    "# Plotting daily normals as an area plot with `stacked=False`\n",
    "# Reference: https://stackoverflow.com/questions/34421434/pandas-dataframe-area-plot-stacked-false-not-working\n",
    "x = np.arange(0,len(trip_dates))\n",
    "dailynorms_df.plot(kind='area', stacked=False, alpha=0.5, colormap='Oranges', grid=True, \n",
    "                   title='Daily Normals 03-05 to 03-17')\n",
    "plt.legend(loc='lower right')\n",
    "plt.rc('grid', linestyle=\":\", linewidth=1, color='gray')\n",
    "plt.xticks(x, trip_dates, rotation = 45)\n",
    "plt.show()\n",
    "\n",
    "# get the xaxis dates \n",
    "\n",
    "# trying to get this to work: \n",
    "# https://stackoverflow.com/questions/50805666/showing-index-as-xticks-for-pandas-plot"
   ]
  },
  {
   "cell_type": "markdown",
   "metadata": {},
   "source": [
    "## See Step 2 for Flask API.py [hyperlink here when done]\n"
   ]
  }
 ],
 "metadata": {
  "kernel_info": {
   "name": "python3"
  },
  "kernelspec": {
   "display_name": "Python 3",
   "language": "python",
   "name": "python3"
  },
  "language_info": {
   "codemirror_mode": {
    "name": "ipython",
    "version": 3
   },
   "file_extension": ".py",
   "mimetype": "text/x-python",
   "name": "python",
   "nbconvert_exporter": "python",
   "pygments_lexer": "ipython3",
   "version": "3.7.1"
  },
  "nteract": {
   "version": "0.9.1"
  },
  "varInspector": {
   "cols": {
    "lenName": 16,
    "lenType": 16,
    "lenVar": 40
   },
   "kernels_config": {
    "python": {
     "delete_cmd_postfix": "",
     "delete_cmd_prefix": "del ",
     "library": "var_list.py",
     "varRefreshCmd": "print(var_dic_list())"
    },
    "r": {
     "delete_cmd_postfix": ") ",
     "delete_cmd_prefix": "rm(",
     "library": "var_list.r",
     "varRefreshCmd": "cat(var_dic_list()) "
    }
   },
   "types_to_exclude": [
    "module",
    "function",
    "builtin_function_or_method",
    "instance",
    "_Feature"
   ],
   "window_display": false
  }
 },
 "nbformat": 4,
 "nbformat_minor": 2
}
